{
 "cells": [
  {
   "cell_type": "markdown",
   "id": "58bb75cd",
   "metadata": {
    "id": "58bb75cd"
   },
   "source": [
    "# Importing Basic Dependencies"
   ]
  },
  {
   "cell_type": "code",
   "execution_count": 1,
   "id": "c776a692",
   "metadata": {
    "id": "c776a692"
   },
   "outputs": [],
   "source": [
    "import pandas as pd\n",
    "import numpy as np\n",
    "import seaborn as sn\n",
    "import matplotlib.pyplot as plt\n",
    "import warnings\n",
    "warnings.filterwarnings(\"ignore\")\n",
    "%matplotlib inline"
   ]
  },
  {
   "cell_type": "code",
   "execution_count": 2,
   "id": "0739b14c",
   "metadata": {
    "colab": {
     "base_uri": "https://localhost:8080/",
     "height": 206
    },
    "id": "0739b14c",
    "outputId": "d693f559-5a54-4233-d478-e6d51d42d91c"
   },
   "outputs": [
    {
     "data": {
      "text/html": [
       "\n",
       "  <div id=\"df-d1b360e6-8f4a-45d1-aeac-fde4d5c4eafa\">\n",
       "    <div class=\"colab-df-container\">\n",
       "      <div>\n",
       "<style scoped>\n",
       "    .dataframe tbody tr th:only-of-type {\n",
       "        vertical-align: middle;\n",
       "    }\n",
       "\n",
       "    .dataframe tbody tr th {\n",
       "        vertical-align: top;\n",
       "    }\n",
       "\n",
       "    .dataframe thead th {\n",
       "        text-align: right;\n",
       "    }\n",
       "</style>\n",
       "<table border=\"1\" class=\"dataframe\">\n",
       "  <thead>\n",
       "    <tr style=\"text-align: right;\">\n",
       "      <th></th>\n",
       "      <th>area_type</th>\n",
       "      <th>availability</th>\n",
       "      <th>location</th>\n",
       "      <th>size</th>\n",
       "      <th>society</th>\n",
       "      <th>total_sqft</th>\n",
       "      <th>bath</th>\n",
       "      <th>balcony</th>\n",
       "      <th>price</th>\n",
       "    </tr>\n",
       "  </thead>\n",
       "  <tbody>\n",
       "    <tr>\n",
       "      <th>0</th>\n",
       "      <td>Super built-up  Area</td>\n",
       "      <td>19-Dec</td>\n",
       "      <td>Electronic City Phase II</td>\n",
       "      <td>2 BHK</td>\n",
       "      <td>Coomee</td>\n",
       "      <td>1056</td>\n",
       "      <td>2.0</td>\n",
       "      <td>1.0</td>\n",
       "      <td>39.07</td>\n",
       "    </tr>\n",
       "    <tr>\n",
       "      <th>1</th>\n",
       "      <td>Plot  Area</td>\n",
       "      <td>Ready To Move</td>\n",
       "      <td>Chikka Tirupathi</td>\n",
       "      <td>4 Bedroom</td>\n",
       "      <td>Theanmp</td>\n",
       "      <td>2600</td>\n",
       "      <td>5.0</td>\n",
       "      <td>3.0</td>\n",
       "      <td>120.00</td>\n",
       "    </tr>\n",
       "    <tr>\n",
       "      <th>2</th>\n",
       "      <td>Built-up  Area</td>\n",
       "      <td>Ready To Move</td>\n",
       "      <td>Uttarahalli</td>\n",
       "      <td>3 BHK</td>\n",
       "      <td>NaN</td>\n",
       "      <td>1440</td>\n",
       "      <td>2.0</td>\n",
       "      <td>3.0</td>\n",
       "      <td>62.00</td>\n",
       "    </tr>\n",
       "    <tr>\n",
       "      <th>3</th>\n",
       "      <td>Super built-up  Area</td>\n",
       "      <td>Ready To Move</td>\n",
       "      <td>Lingadheeranahalli</td>\n",
       "      <td>3 BHK</td>\n",
       "      <td>Soiewre</td>\n",
       "      <td>1521</td>\n",
       "      <td>3.0</td>\n",
       "      <td>1.0</td>\n",
       "      <td>95.00</td>\n",
       "    </tr>\n",
       "    <tr>\n",
       "      <th>4</th>\n",
       "      <td>Super built-up  Area</td>\n",
       "      <td>Ready To Move</td>\n",
       "      <td>Kothanur</td>\n",
       "      <td>2 BHK</td>\n",
       "      <td>NaN</td>\n",
       "      <td>1200</td>\n",
       "      <td>2.0</td>\n",
       "      <td>1.0</td>\n",
       "      <td>51.00</td>\n",
       "    </tr>\n",
       "  </tbody>\n",
       "</table>\n",
       "</div>\n",
       "      <button class=\"colab-df-convert\" onclick=\"convertToInteractive('df-d1b360e6-8f4a-45d1-aeac-fde4d5c4eafa')\"\n",
       "              title=\"Convert this dataframe to an interactive table.\"\n",
       "              style=\"display:none;\">\n",
       "        \n",
       "  <svg xmlns=\"http://www.w3.org/2000/svg\" height=\"24px\"viewBox=\"0 0 24 24\"\n",
       "       width=\"24px\">\n",
       "    <path d=\"M0 0h24v24H0V0z\" fill=\"none\"/>\n",
       "    <path d=\"M18.56 5.44l.94 2.06.94-2.06 2.06-.94-2.06-.94-.94-2.06-.94 2.06-2.06.94zm-11 1L8.5 8.5l.94-2.06 2.06-.94-2.06-.94L8.5 2.5l-.94 2.06-2.06.94zm10 10l.94 2.06.94-2.06 2.06-.94-2.06-.94-.94-2.06-.94 2.06-2.06.94z\"/><path d=\"M17.41 7.96l-1.37-1.37c-.4-.4-.92-.59-1.43-.59-.52 0-1.04.2-1.43.59L10.3 9.45l-7.72 7.72c-.78.78-.78 2.05 0 2.83L4 21.41c.39.39.9.59 1.41.59.51 0 1.02-.2 1.41-.59l7.78-7.78 2.81-2.81c.8-.78.8-2.07 0-2.86zM5.41 20L4 18.59l7.72-7.72 1.47 1.35L5.41 20z\"/>\n",
       "  </svg>\n",
       "      </button>\n",
       "      \n",
       "  <style>\n",
       "    .colab-df-container {\n",
       "      display:flex;\n",
       "      flex-wrap:wrap;\n",
       "      gap: 12px;\n",
       "    }\n",
       "\n",
       "    .colab-df-convert {\n",
       "      background-color: #E8F0FE;\n",
       "      border: none;\n",
       "      border-radius: 50%;\n",
       "      cursor: pointer;\n",
       "      display: none;\n",
       "      fill: #1967D2;\n",
       "      height: 32px;\n",
       "      padding: 0 0 0 0;\n",
       "      width: 32px;\n",
       "    }\n",
       "\n",
       "    .colab-df-convert:hover {\n",
       "      background-color: #E2EBFA;\n",
       "      box-shadow: 0px 1px 2px rgba(60, 64, 67, 0.3), 0px 1px 3px 1px rgba(60, 64, 67, 0.15);\n",
       "      fill: #174EA6;\n",
       "    }\n",
       "\n",
       "    [theme=dark] .colab-df-convert {\n",
       "      background-color: #3B4455;\n",
       "      fill: #D2E3FC;\n",
       "    }\n",
       "\n",
       "    [theme=dark] .colab-df-convert:hover {\n",
       "      background-color: #434B5C;\n",
       "      box-shadow: 0px 1px 3px 1px rgba(0, 0, 0, 0.15);\n",
       "      filter: drop-shadow(0px 1px 2px rgba(0, 0, 0, 0.3));\n",
       "      fill: #FFFFFF;\n",
       "    }\n",
       "  </style>\n",
       "\n",
       "      <script>\n",
       "        const buttonEl =\n",
       "          document.querySelector('#df-d1b360e6-8f4a-45d1-aeac-fde4d5c4eafa button.colab-df-convert');\n",
       "        buttonEl.style.display =\n",
       "          google.colab.kernel.accessAllowed ? 'block' : 'none';\n",
       "\n",
       "        async function convertToInteractive(key) {\n",
       "          const element = document.querySelector('#df-d1b360e6-8f4a-45d1-aeac-fde4d5c4eafa');\n",
       "          const dataTable =\n",
       "            await google.colab.kernel.invokeFunction('convertToInteractive',\n",
       "                                                     [key], {});\n",
       "          if (!dataTable) return;\n",
       "\n",
       "          const docLinkHtml = 'Like what you see? Visit the ' +\n",
       "            '<a target=\"_blank\" href=https://colab.research.google.com/notebooks/data_table.ipynb>data table notebook</a>'\n",
       "            + ' to learn more about interactive tables.';\n",
       "          element.innerHTML = '';\n",
       "          dataTable['output_type'] = 'display_data';\n",
       "          await google.colab.output.renderOutput(dataTable, element);\n",
       "          const docLink = document.createElement('div');\n",
       "          docLink.innerHTML = docLinkHtml;\n",
       "          element.appendChild(docLink);\n",
       "        }\n",
       "      </script>\n",
       "    </div>\n",
       "  </div>\n",
       "  "
      ],
      "text/plain": [
       "              area_type   availability                  location       size  \\\n",
       "0  Super built-up  Area         19-Dec  Electronic City Phase II      2 BHK   \n",
       "1            Plot  Area  Ready To Move          Chikka Tirupathi  4 Bedroom   \n",
       "2        Built-up  Area  Ready To Move               Uttarahalli      3 BHK   \n",
       "3  Super built-up  Area  Ready To Move        Lingadheeranahalli      3 BHK   \n",
       "4  Super built-up  Area  Ready To Move                  Kothanur      2 BHK   \n",
       "\n",
       "   society total_sqft  bath  balcony   price  \n",
       "0  Coomee        1056   2.0      1.0   39.07  \n",
       "1  Theanmp       2600   5.0      3.0  120.00  \n",
       "2      NaN       1440   2.0      3.0   62.00  \n",
       "3  Soiewre       1521   3.0      1.0   95.00  \n",
       "4      NaN       1200   2.0      1.0   51.00  "
      ]
     },
     "execution_count": 2,
     "metadata": {},
     "output_type": "execute_result"
    }
   ],
   "source": [
    "df = pd.read_csv('bengaluru_house_prices.csv')\n",
    "df.head()"
   ]
  },
  {
   "cell_type": "code",
   "execution_count": 3,
   "id": "0b15db5c",
   "metadata": {
    "colab": {
     "base_uri": "https://localhost:8080/"
    },
    "id": "0b15db5c",
    "outputId": "ca949634-dbb1-4e47-9641-1b119cba712b"
   },
   "outputs": [
    {
     "data": {
      "text/plain": [
       "Index(['area_type', 'availability', 'location', 'size', 'society',\n",
       "       'total_sqft', 'bath', 'balcony', 'price'],\n",
       "      dtype='object')"
      ]
     },
     "execution_count": 3,
     "metadata": {},
     "output_type": "execute_result"
    }
   ],
   "source": [
    "df.columns"
   ]
  },
  {
   "cell_type": "code",
   "execution_count": 4,
   "id": "ecab64e7",
   "metadata": {
    "colab": {
     "base_uri": "https://localhost:8080/"
    },
    "id": "ecab64e7",
    "outputId": "68a1121e-4098-4214-e7e8-0e929a81af7c"
   },
   "outputs": [
    {
     "data": {
      "text/plain": [
       "(13320, 9)"
      ]
     },
     "execution_count": 4,
     "metadata": {},
     "output_type": "execute_result"
    }
   ],
   "source": [
    "df.shape"
   ]
  },
  {
   "cell_type": "code",
   "execution_count": 5,
   "id": "6849e4cd",
   "metadata": {
    "colab": {
     "base_uri": "https://localhost:8080/"
    },
    "id": "6849e4cd",
    "outputId": "a58b2a72-6eff-4d3a-8f9a-ea9cca5b1ada"
   },
   "outputs": [
    {
     "data": {
      "text/plain": [
       "area_type          0\n",
       "availability       0\n",
       "location           1\n",
       "size              16\n",
       "society         5502\n",
       "total_sqft         0\n",
       "bath              73\n",
       "balcony          609\n",
       "price              0\n",
       "dtype: int64"
      ]
     },
     "execution_count": 5,
     "metadata": {},
     "output_type": "execute_result"
    }
   ],
   "source": [
    "df.isnull().sum()"
   ]
  },
  {
   "cell_type": "code",
   "execution_count": 6,
   "id": "62d9ba76",
   "metadata": {
    "id": "62d9ba76"
   },
   "outputs": [],
   "source": [
    "# removing area,availability,society,balcony columns.society,balcony columns having so many missing values.by seeing area_type,availability\n",
    "#columns it does not look like add any value in price prediction\n",
    "\n",
    "df.drop(columns = ['area_type','availability','society','balcony'],inplace=True)"
   ]
  },
  {
   "cell_type": "code",
   "execution_count": 7,
   "id": "2362973e",
   "metadata": {
    "colab": {
     "base_uri": "https://localhost:8080/",
     "height": 206
    },
    "id": "2362973e",
    "outputId": "5faa55a9-8496-4a2b-d615-2e20675058e1"
   },
   "outputs": [
    {
     "data": {
      "text/html": [
       "\n",
       "  <div id=\"df-41e2540b-1386-4955-96e2-509cc63f8996\">\n",
       "    <div class=\"colab-df-container\">\n",
       "      <div>\n",
       "<style scoped>\n",
       "    .dataframe tbody tr th:only-of-type {\n",
       "        vertical-align: middle;\n",
       "    }\n",
       "\n",
       "    .dataframe tbody tr th {\n",
       "        vertical-align: top;\n",
       "    }\n",
       "\n",
       "    .dataframe thead th {\n",
       "        text-align: right;\n",
       "    }\n",
       "</style>\n",
       "<table border=\"1\" class=\"dataframe\">\n",
       "  <thead>\n",
       "    <tr style=\"text-align: right;\">\n",
       "      <th></th>\n",
       "      <th>location</th>\n",
       "      <th>size</th>\n",
       "      <th>total_sqft</th>\n",
       "      <th>bath</th>\n",
       "      <th>price</th>\n",
       "    </tr>\n",
       "  </thead>\n",
       "  <tbody>\n",
       "    <tr>\n",
       "      <th>0</th>\n",
       "      <td>Electronic City Phase II</td>\n",
       "      <td>2 BHK</td>\n",
       "      <td>1056</td>\n",
       "      <td>2.0</td>\n",
       "      <td>39.07</td>\n",
       "    </tr>\n",
       "    <tr>\n",
       "      <th>1</th>\n",
       "      <td>Chikka Tirupathi</td>\n",
       "      <td>4 Bedroom</td>\n",
       "      <td>2600</td>\n",
       "      <td>5.0</td>\n",
       "      <td>120.00</td>\n",
       "    </tr>\n",
       "    <tr>\n",
       "      <th>2</th>\n",
       "      <td>Uttarahalli</td>\n",
       "      <td>3 BHK</td>\n",
       "      <td>1440</td>\n",
       "      <td>2.0</td>\n",
       "      <td>62.00</td>\n",
       "    </tr>\n",
       "    <tr>\n",
       "      <th>3</th>\n",
       "      <td>Lingadheeranahalli</td>\n",
       "      <td>3 BHK</td>\n",
       "      <td>1521</td>\n",
       "      <td>3.0</td>\n",
       "      <td>95.00</td>\n",
       "    </tr>\n",
       "    <tr>\n",
       "      <th>4</th>\n",
       "      <td>Kothanur</td>\n",
       "      <td>2 BHK</td>\n",
       "      <td>1200</td>\n",
       "      <td>2.0</td>\n",
       "      <td>51.00</td>\n",
       "    </tr>\n",
       "  </tbody>\n",
       "</table>\n",
       "</div>\n",
       "      <button class=\"colab-df-convert\" onclick=\"convertToInteractive('df-41e2540b-1386-4955-96e2-509cc63f8996')\"\n",
       "              title=\"Convert this dataframe to an interactive table.\"\n",
       "              style=\"display:none;\">\n",
       "        \n",
       "  <svg xmlns=\"http://www.w3.org/2000/svg\" height=\"24px\"viewBox=\"0 0 24 24\"\n",
       "       width=\"24px\">\n",
       "    <path d=\"M0 0h24v24H0V0z\" fill=\"none\"/>\n",
       "    <path d=\"M18.56 5.44l.94 2.06.94-2.06 2.06-.94-2.06-.94-.94-2.06-.94 2.06-2.06.94zm-11 1L8.5 8.5l.94-2.06 2.06-.94-2.06-.94L8.5 2.5l-.94 2.06-2.06.94zm10 10l.94 2.06.94-2.06 2.06-.94-2.06-.94-.94-2.06-.94 2.06-2.06.94z\"/><path d=\"M17.41 7.96l-1.37-1.37c-.4-.4-.92-.59-1.43-.59-.52 0-1.04.2-1.43.59L10.3 9.45l-7.72 7.72c-.78.78-.78 2.05 0 2.83L4 21.41c.39.39.9.59 1.41.59.51 0 1.02-.2 1.41-.59l7.78-7.78 2.81-2.81c.8-.78.8-2.07 0-2.86zM5.41 20L4 18.59l7.72-7.72 1.47 1.35L5.41 20z\"/>\n",
       "  </svg>\n",
       "      </button>\n",
       "      \n",
       "  <style>\n",
       "    .colab-df-container {\n",
       "      display:flex;\n",
       "      flex-wrap:wrap;\n",
       "      gap: 12px;\n",
       "    }\n",
       "\n",
       "    .colab-df-convert {\n",
       "      background-color: #E8F0FE;\n",
       "      border: none;\n",
       "      border-radius: 50%;\n",
       "      cursor: pointer;\n",
       "      display: none;\n",
       "      fill: #1967D2;\n",
       "      height: 32px;\n",
       "      padding: 0 0 0 0;\n",
       "      width: 32px;\n",
       "    }\n",
       "\n",
       "    .colab-df-convert:hover {\n",
       "      background-color: #E2EBFA;\n",
       "      box-shadow: 0px 1px 2px rgba(60, 64, 67, 0.3), 0px 1px 3px 1px rgba(60, 64, 67, 0.15);\n",
       "      fill: #174EA6;\n",
       "    }\n",
       "\n",
       "    [theme=dark] .colab-df-convert {\n",
       "      background-color: #3B4455;\n",
       "      fill: #D2E3FC;\n",
       "    }\n",
       "\n",
       "    [theme=dark] .colab-df-convert:hover {\n",
       "      background-color: #434B5C;\n",
       "      box-shadow: 0px 1px 3px 1px rgba(0, 0, 0, 0.15);\n",
       "      filter: drop-shadow(0px 1px 2px rgba(0, 0, 0, 0.3));\n",
       "      fill: #FFFFFF;\n",
       "    }\n",
       "  </style>\n",
       "\n",
       "      <script>\n",
       "        const buttonEl =\n",
       "          document.querySelector('#df-41e2540b-1386-4955-96e2-509cc63f8996 button.colab-df-convert');\n",
       "        buttonEl.style.display =\n",
       "          google.colab.kernel.accessAllowed ? 'block' : 'none';\n",
       "\n",
       "        async function convertToInteractive(key) {\n",
       "          const element = document.querySelector('#df-41e2540b-1386-4955-96e2-509cc63f8996');\n",
       "          const dataTable =\n",
       "            await google.colab.kernel.invokeFunction('convertToInteractive',\n",
       "                                                     [key], {});\n",
       "          if (!dataTable) return;\n",
       "\n",
       "          const docLinkHtml = 'Like what you see? Visit the ' +\n",
       "            '<a target=\"_blank\" href=https://colab.research.google.com/notebooks/data_table.ipynb>data table notebook</a>'\n",
       "            + ' to learn more about interactive tables.';\n",
       "          element.innerHTML = '';\n",
       "          dataTable['output_type'] = 'display_data';\n",
       "          await google.colab.output.renderOutput(dataTable, element);\n",
       "          const docLink = document.createElement('div');\n",
       "          docLink.innerHTML = docLinkHtml;\n",
       "          element.appendChild(docLink);\n",
       "        }\n",
       "      </script>\n",
       "    </div>\n",
       "  </div>\n",
       "  "
      ],
      "text/plain": [
       "                   location       size total_sqft  bath   price\n",
       "0  Electronic City Phase II      2 BHK       1056   2.0   39.07\n",
       "1          Chikka Tirupathi  4 Bedroom       2600   5.0  120.00\n",
       "2               Uttarahalli      3 BHK       1440   2.0   62.00\n",
       "3        Lingadheeranahalli      3 BHK       1521   3.0   95.00\n",
       "4                  Kothanur      2 BHK       1200   2.0   51.00"
      ]
     },
     "execution_count": 7,
     "metadata": {},
     "output_type": "execute_result"
    }
   ],
   "source": [
    "df.head()"
   ]
  },
  {
   "cell_type": "code",
   "execution_count": 8,
   "id": "b7c8a983",
   "metadata": {
    "colab": {
     "base_uri": "https://localhost:8080/"
    },
    "id": "b7c8a983",
    "outputId": "101d1681-9e0c-4b3d-df5d-34843dde5964"
   },
   "outputs": [
    {
     "data": {
      "text/plain": [
       "882"
      ]
     },
     "execution_count": 8,
     "metadata": {},
     "output_type": "execute_result"
    }
   ],
   "source": [
    "# checking for duplicated rows\n",
    "\n",
    "df.duplicated().sum()"
   ]
  },
  {
   "cell_type": "code",
   "execution_count": 9,
   "id": "ea8220eb",
   "metadata": {
    "id": "ea8220eb"
   },
   "outputs": [],
   "source": [
    "# droping duplicated values\n",
    "\n",
    "df.drop_duplicates(inplace=True)"
   ]
  },
  {
   "cell_type": "code",
   "execution_count": 10,
   "id": "93cc6dab",
   "metadata": {
    "colab": {
     "base_uri": "https://localhost:8080/"
    },
    "id": "93cc6dab",
    "outputId": "cf11126e-8a60-42d0-dd72-ebc9ab3fa3e8"
   },
   "outputs": [
    {
     "data": {
      "text/plain": [
       "(12438, 5)"
      ]
     },
     "execution_count": 10,
     "metadata": {},
     "output_type": "execute_result"
    }
   ],
   "source": [
    "df.shape"
   ]
  },
  {
   "cell_type": "code",
   "execution_count": 11,
   "id": "0bdd8c46",
   "metadata": {
    "colab": {
     "base_uri": "https://localhost:8080/"
    },
    "id": "0bdd8c46",
    "outputId": "d088c080-c8a5-4c75-baa6-839f0fa739a8"
   },
   "outputs": [
    {
     "name": "stdout",
     "output_type": "stream",
     "text": [
      "<class 'pandas.core.frame.DataFrame'>\n",
      "Int64Index: 12438 entries, 0 to 13318\n",
      "Data columns (total 5 columns):\n",
      " #   Column      Non-Null Count  Dtype  \n",
      "---  ------      --------------  -----  \n",
      " 0   location    12437 non-null  object \n",
      " 1   size        12422 non-null  object \n",
      " 2   total_sqft  12438 non-null  object \n",
      " 3   bath        12366 non-null  float64\n",
      " 4   price       12438 non-null  float64\n",
      "dtypes: float64(2), object(3)\n",
      "memory usage: 583.0+ KB\n"
     ]
    }
   ],
   "source": [
    "df.info()"
   ]
  },
  {
   "cell_type": "markdown",
   "id": "94033769",
   "metadata": {
    "id": "94033769"
   },
   "source": [
    "### handling NA values"
   ]
  },
  {
   "cell_type": "code",
   "execution_count": 12,
   "id": "0dcc3979",
   "metadata": {
    "colab": {
     "base_uri": "https://localhost:8080/",
     "height": 206
    },
    "id": "0dcc3979",
    "outputId": "6f39531b-f639-45e3-b1a5-5a4d91c29eb8"
   },
   "outputs": [
    {
     "data": {
      "text/html": [
       "\n",
       "  <div id=\"df-9a98c5eb-3289-4a4b-933c-cf240f76661d\">\n",
       "    <div class=\"colab-df-container\">\n",
       "      <div>\n",
       "<style scoped>\n",
       "    .dataframe tbody tr th:only-of-type {\n",
       "        vertical-align: middle;\n",
       "    }\n",
       "\n",
       "    .dataframe tbody tr th {\n",
       "        vertical-align: top;\n",
       "    }\n",
       "\n",
       "    .dataframe thead th {\n",
       "        text-align: right;\n",
       "    }\n",
       "</style>\n",
       "<table border=\"1\" class=\"dataframe\">\n",
       "  <thead>\n",
       "    <tr style=\"text-align: right;\">\n",
       "      <th></th>\n",
       "      <th>location</th>\n",
       "      <th>size</th>\n",
       "      <th>total_sqft</th>\n",
       "      <th>bath</th>\n",
       "      <th>price</th>\n",
       "    </tr>\n",
       "  </thead>\n",
       "  <tbody>\n",
       "    <tr>\n",
       "      <th>0</th>\n",
       "      <td>Electronic City Phase II</td>\n",
       "      <td>2 BHK</td>\n",
       "      <td>1056</td>\n",
       "      <td>2.0</td>\n",
       "      <td>39.07</td>\n",
       "    </tr>\n",
       "    <tr>\n",
       "      <th>1</th>\n",
       "      <td>Chikka Tirupathi</td>\n",
       "      <td>4 Bedroom</td>\n",
       "      <td>2600</td>\n",
       "      <td>5.0</td>\n",
       "      <td>120.00</td>\n",
       "    </tr>\n",
       "    <tr>\n",
       "      <th>2</th>\n",
       "      <td>Uttarahalli</td>\n",
       "      <td>3 BHK</td>\n",
       "      <td>1440</td>\n",
       "      <td>2.0</td>\n",
       "      <td>62.00</td>\n",
       "    </tr>\n",
       "    <tr>\n",
       "      <th>3</th>\n",
       "      <td>Lingadheeranahalli</td>\n",
       "      <td>3 BHK</td>\n",
       "      <td>1521</td>\n",
       "      <td>3.0</td>\n",
       "      <td>95.00</td>\n",
       "    </tr>\n",
       "    <tr>\n",
       "      <th>4</th>\n",
       "      <td>Kothanur</td>\n",
       "      <td>2 BHK</td>\n",
       "      <td>1200</td>\n",
       "      <td>2.0</td>\n",
       "      <td>51.00</td>\n",
       "    </tr>\n",
       "  </tbody>\n",
       "</table>\n",
       "</div>\n",
       "      <button class=\"colab-df-convert\" onclick=\"convertToInteractive('df-9a98c5eb-3289-4a4b-933c-cf240f76661d')\"\n",
       "              title=\"Convert this dataframe to an interactive table.\"\n",
       "              style=\"display:none;\">\n",
       "        \n",
       "  <svg xmlns=\"http://www.w3.org/2000/svg\" height=\"24px\"viewBox=\"0 0 24 24\"\n",
       "       width=\"24px\">\n",
       "    <path d=\"M0 0h24v24H0V0z\" fill=\"none\"/>\n",
       "    <path d=\"M18.56 5.44l.94 2.06.94-2.06 2.06-.94-2.06-.94-.94-2.06-.94 2.06-2.06.94zm-11 1L8.5 8.5l.94-2.06 2.06-.94-2.06-.94L8.5 2.5l-.94 2.06-2.06.94zm10 10l.94 2.06.94-2.06 2.06-.94-2.06-.94-.94-2.06-.94 2.06-2.06.94z\"/><path d=\"M17.41 7.96l-1.37-1.37c-.4-.4-.92-.59-1.43-.59-.52 0-1.04.2-1.43.59L10.3 9.45l-7.72 7.72c-.78.78-.78 2.05 0 2.83L4 21.41c.39.39.9.59 1.41.59.51 0 1.02-.2 1.41-.59l7.78-7.78 2.81-2.81c.8-.78.8-2.07 0-2.86zM5.41 20L4 18.59l7.72-7.72 1.47 1.35L5.41 20z\"/>\n",
       "  </svg>\n",
       "      </button>\n",
       "      \n",
       "  <style>\n",
       "    .colab-df-container {\n",
       "      display:flex;\n",
       "      flex-wrap:wrap;\n",
       "      gap: 12px;\n",
       "    }\n",
       "\n",
       "    .colab-df-convert {\n",
       "      background-color: #E8F0FE;\n",
       "      border: none;\n",
       "      border-radius: 50%;\n",
       "      cursor: pointer;\n",
       "      display: none;\n",
       "      fill: #1967D2;\n",
       "      height: 32px;\n",
       "      padding: 0 0 0 0;\n",
       "      width: 32px;\n",
       "    }\n",
       "\n",
       "    .colab-df-convert:hover {\n",
       "      background-color: #E2EBFA;\n",
       "      box-shadow: 0px 1px 2px rgba(60, 64, 67, 0.3), 0px 1px 3px 1px rgba(60, 64, 67, 0.15);\n",
       "      fill: #174EA6;\n",
       "    }\n",
       "\n",
       "    [theme=dark] .colab-df-convert {\n",
       "      background-color: #3B4455;\n",
       "      fill: #D2E3FC;\n",
       "    }\n",
       "\n",
       "    [theme=dark] .colab-df-convert:hover {\n",
       "      background-color: #434B5C;\n",
       "      box-shadow: 0px 1px 3px 1px rgba(0, 0, 0, 0.15);\n",
       "      filter: drop-shadow(0px 1px 2px rgba(0, 0, 0, 0.3));\n",
       "      fill: #FFFFFF;\n",
       "    }\n",
       "  </style>\n",
       "\n",
       "      <script>\n",
       "        const buttonEl =\n",
       "          document.querySelector('#df-9a98c5eb-3289-4a4b-933c-cf240f76661d button.colab-df-convert');\n",
       "        buttonEl.style.display =\n",
       "          google.colab.kernel.accessAllowed ? 'block' : 'none';\n",
       "\n",
       "        async function convertToInteractive(key) {\n",
       "          const element = document.querySelector('#df-9a98c5eb-3289-4a4b-933c-cf240f76661d');\n",
       "          const dataTable =\n",
       "            await google.colab.kernel.invokeFunction('convertToInteractive',\n",
       "                                                     [key], {});\n",
       "          if (!dataTable) return;\n",
       "\n",
       "          const docLinkHtml = 'Like what you see? Visit the ' +\n",
       "            '<a target=\"_blank\" href=https://colab.research.google.com/notebooks/data_table.ipynb>data table notebook</a>'\n",
       "            + ' to learn more about interactive tables.';\n",
       "          element.innerHTML = '';\n",
       "          dataTable['output_type'] = 'display_data';\n",
       "          await google.colab.output.renderOutput(dataTable, element);\n",
       "          const docLink = document.createElement('div');\n",
       "          docLink.innerHTML = docLinkHtml;\n",
       "          element.appendChild(docLink);\n",
       "        }\n",
       "      </script>\n",
       "    </div>\n",
       "  </div>\n",
       "  "
      ],
      "text/plain": [
       "                   location       size total_sqft  bath   price\n",
       "0  Electronic City Phase II      2 BHK       1056   2.0   39.07\n",
       "1          Chikka Tirupathi  4 Bedroom       2600   5.0  120.00\n",
       "2               Uttarahalli      3 BHK       1440   2.0   62.00\n",
       "3        Lingadheeranahalli      3 BHK       1521   3.0   95.00\n",
       "4                  Kothanur      2 BHK       1200   2.0   51.00"
      ]
     },
     "execution_count": 12,
     "metadata": {},
     "output_type": "execute_result"
    }
   ],
   "source": [
    "df.head()"
   ]
  },
  {
   "cell_type": "code",
   "execution_count": 13,
   "id": "6218ca76",
   "metadata": {
    "id": "6218ca76"
   },
   "outputs": [],
   "source": [
    "catvars = df.select_dtypes(include=['object']).columns\n",
    "numvars = df.select_dtypes(include = ['int32','int64','float32','float64']).columns"
   ]
  },
  {
   "cell_type": "code",
   "execution_count": 14,
   "id": "c7566d7d",
   "metadata": {
    "colab": {
     "base_uri": "https://localhost:8080/"
    },
    "id": "c7566d7d",
    "outputId": "e896b325-a20a-455b-9873-e53e76a62880"
   },
   "outputs": [
    {
     "data": {
      "text/plain": [
       "Index(['location', 'size', 'total_sqft'], dtype='object')"
      ]
     },
     "execution_count": 14,
     "metadata": {},
     "output_type": "execute_result"
    }
   ],
   "source": [
    "catvars"
   ]
  },
  {
   "cell_type": "code",
   "execution_count": 15,
   "id": "e613b233",
   "metadata": {
    "colab": {
     "base_uri": "https://localhost:8080/"
    },
    "id": "e613b233",
    "outputId": "52dc520b-080d-4b2c-c99d-be6f8a72e6b7"
   },
   "outputs": [
    {
     "data": {
      "text/plain": [
       "Index(['bath', 'price'], dtype='object')"
      ]
     },
     "execution_count": 15,
     "metadata": {},
     "output_type": "execute_result"
    }
   ],
   "source": [
    "numvars"
   ]
  },
  {
   "cell_type": "code",
   "execution_count": 16,
   "id": "1c3969c6",
   "metadata": {
    "colab": {
     "base_uri": "https://localhost:8080/"
    },
    "id": "1c3969c6",
    "outputId": "be3f851f-dca2-4303-8024-c518955ec967"
   },
   "outputs": [
    {
     "name": "stdout",
     "output_type": "stream",
     "text": [
      "Details of the particular col location is : ['Electronic City Phase II' 'Chikka Tirupathi' 'Uttarahalli' ...\n",
      " '12th cross srinivas nagar banshankari 3rd stage' 'Havanur extension'\n",
      " 'Abshot Layout']\n",
      "Valuecounts of the particular col location is : Whitefield                        507\n",
      "Sarjapur  Road                    364\n",
      "Electronic City                   273\n",
      "Thanisandra                       224\n",
      "Kanakpura Road                    223\n",
      "                                 ... \n",
      "1st Stage Radha Krishna Layout      1\n",
      "BEML Layout 5th stage               1\n",
      "singapura paradise                  1\n",
      "Uvce Layout                         1\n",
      "Abshot Layout                       1\n",
      "Name: location, Length: 1305, dtype: int64\n",
      "---------------------------------------------------------------------------\n",
      "Details of the particular col size is : ['2 BHK' '4 Bedroom' '3 BHK' '4 BHK' '6 Bedroom' '3 Bedroom' '1 BHK'\n",
      " '1 RK' '1 Bedroom' '8 Bedroom' '2 Bedroom' '7 Bedroom' '5 BHK' '7 BHK'\n",
      " '6 BHK' '5 Bedroom' '11 BHK' '9 BHK' nan '9 Bedroom' '27 BHK'\n",
      " '10 Bedroom' '11 Bedroom' '10 BHK' '19 BHK' '16 BHK' '43 Bedroom'\n",
      " '14 BHK' '8 BHK' '12 Bedroom' '13 BHK' '18 Bedroom']\n",
      "Valuecounts of the particular col size is : 2 BHK         4768\n",
      "3 BHK         3988\n",
      "4 Bedroom      819\n",
      "4 BHK          562\n",
      "3 Bedroom      527\n",
      "1 BHK          507\n",
      "2 Bedroom      303\n",
      "5 Bedroom      288\n",
      "6 Bedroom      191\n",
      "1 Bedroom      100\n",
      "8 Bedroom       84\n",
      "7 Bedroom       82\n",
      "5 BHK           59\n",
      "9 Bedroom       46\n",
      "6 BHK           30\n",
      "7 BHK           17\n",
      "1 RK            12\n",
      "10 Bedroom      12\n",
      "9 BHK            8\n",
      "8 BHK            5\n",
      "11 BHK           2\n",
      "11 Bedroom       2\n",
      "10 BHK           2\n",
      "14 BHK           1\n",
      "13 BHK           1\n",
      "12 Bedroom       1\n",
      "27 BHK           1\n",
      "43 Bedroom       1\n",
      "16 BHK           1\n",
      "19 BHK           1\n",
      "18 Bedroom       1\n",
      "Name: size, dtype: int64\n",
      "---------------------------------------------------------------------------\n",
      "Details of the particular col total_sqft is : ['1056' '2600' '1440' ... '1133 - 1384' '774' '4689']\n",
      "Valuecounts of the particular col total_sqft is : 1200           774\n",
      "1100           203\n",
      "1500           201\n",
      "2400           194\n",
      "600            177\n",
      "              ... \n",
      "2493             1\n",
      "2466 - 2856      1\n",
      "3580             1\n",
      "2461             1\n",
      "4689             1\n",
      "Name: total_sqft, Length: 2117, dtype: int64\n",
      "---------------------------------------------------------------------------\n"
     ]
    }
   ],
   "source": [
    "def uniquevals(col):\n",
    "    print(f'Details of the particular col {col} is : {df[col].unique()}')\n",
    "\n",
    "def valuecounts(col):\n",
    "    print(f'Valuecounts of the particular col {col} is : {df[col].value_counts()}')\n",
    "\n",
    "\n",
    "for col in catvars:\n",
    "    uniquevals(col)\n",
    "    valuecounts(col)\n",
    "    print(\"-\"*75)"
   ]
  },
  {
   "cell_type": "code",
   "execution_count": 17,
   "id": "ae442f2f",
   "metadata": {
    "colab": {
     "base_uri": "https://localhost:8080/",
     "height": 300
    },
    "id": "ae442f2f",
    "outputId": "4aab7600-a3de-44a8-df3c-46cc6f06db3a"
   },
   "outputs": [
    {
     "data": {
      "text/html": [
       "\n",
       "  <div id=\"df-b01784df-5810-45f4-be15-a740aac225fe\">\n",
       "    <div class=\"colab-df-container\">\n",
       "      <div>\n",
       "<style scoped>\n",
       "    .dataframe tbody tr th:only-of-type {\n",
       "        vertical-align: middle;\n",
       "    }\n",
       "\n",
       "    .dataframe tbody tr th {\n",
       "        vertical-align: top;\n",
       "    }\n",
       "\n",
       "    .dataframe thead th {\n",
       "        text-align: right;\n",
       "    }\n",
       "</style>\n",
       "<table border=\"1\" class=\"dataframe\">\n",
       "  <thead>\n",
       "    <tr style=\"text-align: right;\">\n",
       "      <th></th>\n",
       "      <th>bath</th>\n",
       "      <th>price</th>\n",
       "    </tr>\n",
       "  </thead>\n",
       "  <tbody>\n",
       "    <tr>\n",
       "      <th>count</th>\n",
       "      <td>12366.000000</td>\n",
       "      <td>12438.000000</td>\n",
       "    </tr>\n",
       "    <tr>\n",
       "      <th>mean</th>\n",
       "      <td>2.719715</td>\n",
       "      <td>115.408159</td>\n",
       "    </tr>\n",
       "    <tr>\n",
       "      <th>std</th>\n",
       "      <td>1.369902</td>\n",
       "      <td>153.069125</td>\n",
       "    </tr>\n",
       "    <tr>\n",
       "      <th>min</th>\n",
       "      <td>1.000000</td>\n",
       "      <td>8.000000</td>\n",
       "    </tr>\n",
       "    <tr>\n",
       "      <th>25%</th>\n",
       "      <td>2.000000</td>\n",
       "      <td>50.000000</td>\n",
       "    </tr>\n",
       "    <tr>\n",
       "      <th>50%</th>\n",
       "      <td>2.000000</td>\n",
       "      <td>74.000000</td>\n",
       "    </tr>\n",
       "    <tr>\n",
       "      <th>75%</th>\n",
       "      <td>3.000000</td>\n",
       "      <td>125.000000</td>\n",
       "    </tr>\n",
       "    <tr>\n",
       "      <th>max</th>\n",
       "      <td>40.000000</td>\n",
       "      <td>3600.000000</td>\n",
       "    </tr>\n",
       "  </tbody>\n",
       "</table>\n",
       "</div>\n",
       "      <button class=\"colab-df-convert\" onclick=\"convertToInteractive('df-b01784df-5810-45f4-be15-a740aac225fe')\"\n",
       "              title=\"Convert this dataframe to an interactive table.\"\n",
       "              style=\"display:none;\">\n",
       "        \n",
       "  <svg xmlns=\"http://www.w3.org/2000/svg\" height=\"24px\"viewBox=\"0 0 24 24\"\n",
       "       width=\"24px\">\n",
       "    <path d=\"M0 0h24v24H0V0z\" fill=\"none\"/>\n",
       "    <path d=\"M18.56 5.44l.94 2.06.94-2.06 2.06-.94-2.06-.94-.94-2.06-.94 2.06-2.06.94zm-11 1L8.5 8.5l.94-2.06 2.06-.94-2.06-.94L8.5 2.5l-.94 2.06-2.06.94zm10 10l.94 2.06.94-2.06 2.06-.94-2.06-.94-.94-2.06-.94 2.06-2.06.94z\"/><path d=\"M17.41 7.96l-1.37-1.37c-.4-.4-.92-.59-1.43-.59-.52 0-1.04.2-1.43.59L10.3 9.45l-7.72 7.72c-.78.78-.78 2.05 0 2.83L4 21.41c.39.39.9.59 1.41.59.51 0 1.02-.2 1.41-.59l7.78-7.78 2.81-2.81c.8-.78.8-2.07 0-2.86zM5.41 20L4 18.59l7.72-7.72 1.47 1.35L5.41 20z\"/>\n",
       "  </svg>\n",
       "      </button>\n",
       "      \n",
       "  <style>\n",
       "    .colab-df-container {\n",
       "      display:flex;\n",
       "      flex-wrap:wrap;\n",
       "      gap: 12px;\n",
       "    }\n",
       "\n",
       "    .colab-df-convert {\n",
       "      background-color: #E8F0FE;\n",
       "      border: none;\n",
       "      border-radius: 50%;\n",
       "      cursor: pointer;\n",
       "      display: none;\n",
       "      fill: #1967D2;\n",
       "      height: 32px;\n",
       "      padding: 0 0 0 0;\n",
       "      width: 32px;\n",
       "    }\n",
       "\n",
       "    .colab-df-convert:hover {\n",
       "      background-color: #E2EBFA;\n",
       "      box-shadow: 0px 1px 2px rgba(60, 64, 67, 0.3), 0px 1px 3px 1px rgba(60, 64, 67, 0.15);\n",
       "      fill: #174EA6;\n",
       "    }\n",
       "\n",
       "    [theme=dark] .colab-df-convert {\n",
       "      background-color: #3B4455;\n",
       "      fill: #D2E3FC;\n",
       "    }\n",
       "\n",
       "    [theme=dark] .colab-df-convert:hover {\n",
       "      background-color: #434B5C;\n",
       "      box-shadow: 0px 1px 3px 1px rgba(0, 0, 0, 0.15);\n",
       "      filter: drop-shadow(0px 1px 2px rgba(0, 0, 0, 0.3));\n",
       "      fill: #FFFFFF;\n",
       "    }\n",
       "  </style>\n",
       "\n",
       "      <script>\n",
       "        const buttonEl =\n",
       "          document.querySelector('#df-b01784df-5810-45f4-be15-a740aac225fe button.colab-df-convert');\n",
       "        buttonEl.style.display =\n",
       "          google.colab.kernel.accessAllowed ? 'block' : 'none';\n",
       "\n",
       "        async function convertToInteractive(key) {\n",
       "          const element = document.querySelector('#df-b01784df-5810-45f4-be15-a740aac225fe');\n",
       "          const dataTable =\n",
       "            await google.colab.kernel.invokeFunction('convertToInteractive',\n",
       "                                                     [key], {});\n",
       "          if (!dataTable) return;\n",
       "\n",
       "          const docLinkHtml = 'Like what you see? Visit the ' +\n",
       "            '<a target=\"_blank\" href=https://colab.research.google.com/notebooks/data_table.ipynb>data table notebook</a>'\n",
       "            + ' to learn more about interactive tables.';\n",
       "          element.innerHTML = '';\n",
       "          dataTable['output_type'] = 'display_data';\n",
       "          await google.colab.output.renderOutput(dataTable, element);\n",
       "          const docLink = document.createElement('div');\n",
       "          docLink.innerHTML = docLinkHtml;\n",
       "          element.appendChild(docLink);\n",
       "        }\n",
       "      </script>\n",
       "    </div>\n",
       "  </div>\n",
       "  "
      ],
      "text/plain": [
       "               bath         price\n",
       "count  12366.000000  12438.000000\n",
       "mean       2.719715    115.408159\n",
       "std        1.369902    153.069125\n",
       "min        1.000000      8.000000\n",
       "25%        2.000000     50.000000\n",
       "50%        2.000000     74.000000\n",
       "75%        3.000000    125.000000\n",
       "max       40.000000   3600.000000"
      ]
     },
     "execution_count": 17,
     "metadata": {},
     "output_type": "execute_result"
    }
   ],
   "source": [
    "df.describe()"
   ]
  },
  {
   "cell_type": "code",
   "execution_count": 18,
   "id": "67fdc408",
   "metadata": {
    "colab": {
     "base_uri": "https://localhost:8080/",
     "height": 206
    },
    "id": "67fdc408",
    "outputId": "9e76c7f2-4543-4584-b6fc-7a6122477658"
   },
   "outputs": [
    {
     "data": {
      "text/html": [
       "\n",
       "  <div id=\"df-e0fd4467-5019-49a4-b598-ebdc06cf9108\">\n",
       "    <div class=\"colab-df-container\">\n",
       "      <div>\n",
       "<style scoped>\n",
       "    .dataframe tbody tr th:only-of-type {\n",
       "        vertical-align: middle;\n",
       "    }\n",
       "\n",
       "    .dataframe tbody tr th {\n",
       "        vertical-align: top;\n",
       "    }\n",
       "\n",
       "    .dataframe thead th {\n",
       "        text-align: right;\n",
       "    }\n",
       "</style>\n",
       "<table border=\"1\" class=\"dataframe\">\n",
       "  <thead>\n",
       "    <tr style=\"text-align: right;\">\n",
       "      <th></th>\n",
       "      <th>location</th>\n",
       "      <th>size</th>\n",
       "      <th>total_sqft</th>\n",
       "      <th>bath</th>\n",
       "      <th>price</th>\n",
       "    </tr>\n",
       "  </thead>\n",
       "  <tbody>\n",
       "    <tr>\n",
       "      <th>0</th>\n",
       "      <td>Electronic City Phase II</td>\n",
       "      <td>2</td>\n",
       "      <td>1056</td>\n",
       "      <td>2.0</td>\n",
       "      <td>39.07</td>\n",
       "    </tr>\n",
       "    <tr>\n",
       "      <th>1</th>\n",
       "      <td>Chikka Tirupathi</td>\n",
       "      <td>4</td>\n",
       "      <td>2600</td>\n",
       "      <td>5.0</td>\n",
       "      <td>120.00</td>\n",
       "    </tr>\n",
       "    <tr>\n",
       "      <th>2</th>\n",
       "      <td>Uttarahalli</td>\n",
       "      <td>3</td>\n",
       "      <td>1440</td>\n",
       "      <td>2.0</td>\n",
       "      <td>62.00</td>\n",
       "    </tr>\n",
       "    <tr>\n",
       "      <th>3</th>\n",
       "      <td>Lingadheeranahalli</td>\n",
       "      <td>3</td>\n",
       "      <td>1521</td>\n",
       "      <td>3.0</td>\n",
       "      <td>95.00</td>\n",
       "    </tr>\n",
       "    <tr>\n",
       "      <th>4</th>\n",
       "      <td>Kothanur</td>\n",
       "      <td>2</td>\n",
       "      <td>1200</td>\n",
       "      <td>2.0</td>\n",
       "      <td>51.00</td>\n",
       "    </tr>\n",
       "  </tbody>\n",
       "</table>\n",
       "</div>\n",
       "      <button class=\"colab-df-convert\" onclick=\"convertToInteractive('df-e0fd4467-5019-49a4-b598-ebdc06cf9108')\"\n",
       "              title=\"Convert this dataframe to an interactive table.\"\n",
       "              style=\"display:none;\">\n",
       "        \n",
       "  <svg xmlns=\"http://www.w3.org/2000/svg\" height=\"24px\"viewBox=\"0 0 24 24\"\n",
       "       width=\"24px\">\n",
       "    <path d=\"M0 0h24v24H0V0z\" fill=\"none\"/>\n",
       "    <path d=\"M18.56 5.44l.94 2.06.94-2.06 2.06-.94-2.06-.94-.94-2.06-.94 2.06-2.06.94zm-11 1L8.5 8.5l.94-2.06 2.06-.94-2.06-.94L8.5 2.5l-.94 2.06-2.06.94zm10 10l.94 2.06.94-2.06 2.06-.94-2.06-.94-.94-2.06-.94 2.06-2.06.94z\"/><path d=\"M17.41 7.96l-1.37-1.37c-.4-.4-.92-.59-1.43-.59-.52 0-1.04.2-1.43.59L10.3 9.45l-7.72 7.72c-.78.78-.78 2.05 0 2.83L4 21.41c.39.39.9.59 1.41.59.51 0 1.02-.2 1.41-.59l7.78-7.78 2.81-2.81c.8-.78.8-2.07 0-2.86zM5.41 20L4 18.59l7.72-7.72 1.47 1.35L5.41 20z\"/>\n",
       "  </svg>\n",
       "      </button>\n",
       "      \n",
       "  <style>\n",
       "    .colab-df-container {\n",
       "      display:flex;\n",
       "      flex-wrap:wrap;\n",
       "      gap: 12px;\n",
       "    }\n",
       "\n",
       "    .colab-df-convert {\n",
       "      background-color: #E8F0FE;\n",
       "      border: none;\n",
       "      border-radius: 50%;\n",
       "      cursor: pointer;\n",
       "      display: none;\n",
       "      fill: #1967D2;\n",
       "      height: 32px;\n",
       "      padding: 0 0 0 0;\n",
       "      width: 32px;\n",
       "    }\n",
       "\n",
       "    .colab-df-convert:hover {\n",
       "      background-color: #E2EBFA;\n",
       "      box-shadow: 0px 1px 2px rgba(60, 64, 67, 0.3), 0px 1px 3px 1px rgba(60, 64, 67, 0.15);\n",
       "      fill: #174EA6;\n",
       "    }\n",
       "\n",
       "    [theme=dark] .colab-df-convert {\n",
       "      background-color: #3B4455;\n",
       "      fill: #D2E3FC;\n",
       "    }\n",
       "\n",
       "    [theme=dark] .colab-df-convert:hover {\n",
       "      background-color: #434B5C;\n",
       "      box-shadow: 0px 1px 3px 1px rgba(0, 0, 0, 0.15);\n",
       "      filter: drop-shadow(0px 1px 2px rgba(0, 0, 0, 0.3));\n",
       "      fill: #FFFFFF;\n",
       "    }\n",
       "  </style>\n",
       "\n",
       "      <script>\n",
       "        const buttonEl =\n",
       "          document.querySelector('#df-e0fd4467-5019-49a4-b598-ebdc06cf9108 button.colab-df-convert');\n",
       "        buttonEl.style.display =\n",
       "          google.colab.kernel.accessAllowed ? 'block' : 'none';\n",
       "\n",
       "        async function convertToInteractive(key) {\n",
       "          const element = document.querySelector('#df-e0fd4467-5019-49a4-b598-ebdc06cf9108');\n",
       "          const dataTable =\n",
       "            await google.colab.kernel.invokeFunction('convertToInteractive',\n",
       "                                                     [key], {});\n",
       "          if (!dataTable) return;\n",
       "\n",
       "          const docLinkHtml = 'Like what you see? Visit the ' +\n",
       "            '<a target=\"_blank\" href=https://colab.research.google.com/notebooks/data_table.ipynb>data table notebook</a>'\n",
       "            + ' to learn more about interactive tables.';\n",
       "          element.innerHTML = '';\n",
       "          dataTable['output_type'] = 'display_data';\n",
       "          await google.colab.output.renderOutput(dataTable, element);\n",
       "          const docLink = document.createElement('div');\n",
       "          docLink.innerHTML = docLinkHtml;\n",
       "          element.appendChild(docLink);\n",
       "        }\n",
       "      </script>\n",
       "    </div>\n",
       "  </div>\n",
       "  "
      ],
      "text/plain": [
       "                   location size total_sqft  bath   price\n",
       "0  Electronic City Phase II    2       1056   2.0   39.07\n",
       "1          Chikka Tirupathi    4       2600   5.0  120.00\n",
       "2               Uttarahalli    3       1440   2.0   62.00\n",
       "3        Lingadheeranahalli    3       1521   3.0   95.00\n",
       "4                  Kothanur    2       1200   2.0   51.00"
      ]
     },
     "execution_count": 18,
     "metadata": {},
     "output_type": "execute_result"
    }
   ],
   "source": [
    "'''\n",
    "so on observation we can see that if we remove \"bedroom\" or 'BHK' from size,i can\n",
    "make it as an integer value then after\n",
    "'''\n",
    "df['size'] = df['size'].str.replace(r'\\D','')\n",
    "\n",
    "df.head()"
   ]
  },
  {
   "cell_type": "code",
   "execution_count": 19,
   "id": "f8847a21",
   "metadata": {
    "colab": {
     "base_uri": "https://localhost:8080/"
    },
    "id": "f8847a21",
    "outputId": "269f9613-c18c-4f13-9942-48126a083a6a"
   },
   "outputs": [
    {
     "name": "stdout",
     "output_type": "stream",
     "text": [
      "<class 'pandas.core.frame.DataFrame'>\n",
      "Int64Index: 12438 entries, 0 to 13318\n",
      "Data columns (total 5 columns):\n",
      " #   Column      Non-Null Count  Dtype  \n",
      "---  ------      --------------  -----  \n",
      " 0   location    12437 non-null  object \n",
      " 1   size        12422 non-null  object \n",
      " 2   total_sqft  12438 non-null  object \n",
      " 3   bath        12366 non-null  float64\n",
      " 4   price       12438 non-null  float64\n",
      "dtypes: float64(2), object(3)\n",
      "memory usage: 583.0+ KB\n"
     ]
    }
   ],
   "source": [
    "df.info()"
   ]
  },
  {
   "cell_type": "code",
   "execution_count": 20,
   "id": "28358217",
   "metadata": {
    "id": "28358217"
   },
   "outputs": [],
   "source": [
    "df['size'] = df['size'].fillna(df['size'].mode()[0])"
   ]
  },
  {
   "cell_type": "code",
   "execution_count": 21,
   "id": "75f56d98",
   "metadata": {
    "colab": {
     "base_uri": "https://localhost:8080/"
    },
    "id": "75f56d98",
    "outputId": "456ce556-1c89-4ebb-f251-6d8ec9c25ba0"
   },
   "outputs": [
    {
     "name": "stdout",
     "output_type": "stream",
     "text": [
      "<class 'pandas.core.frame.DataFrame'>\n",
      "Int64Index: 12438 entries, 0 to 13318\n",
      "Data columns (total 5 columns):\n",
      " #   Column      Non-Null Count  Dtype  \n",
      "---  ------      --------------  -----  \n",
      " 0   location    12437 non-null  object \n",
      " 1   size        12438 non-null  object \n",
      " 2   total_sqft  12438 non-null  object \n",
      " 3   bath        12366 non-null  float64\n",
      " 4   price       12438 non-null  float64\n",
      "dtypes: float64(2), object(3)\n",
      "memory usage: 583.0+ KB\n"
     ]
    }
   ],
   "source": [
    "df.info()"
   ]
  },
  {
   "cell_type": "code",
   "execution_count": 22,
   "id": "f717eae8",
   "metadata": {
    "id": "f717eae8"
   },
   "outputs": [],
   "source": [
    "df.dropna(inplace=True)"
   ]
  },
  {
   "cell_type": "code",
   "execution_count": 23,
   "id": "ed4f7525",
   "metadata": {
    "id": "ed4f7525"
   },
   "outputs": [],
   "source": [
    "df['size'] = df['size'].astype('int32')"
   ]
  },
  {
   "cell_type": "code",
   "execution_count": 24,
   "id": "f92e2ba5",
   "metadata": {
    "id": "f92e2ba5"
   },
   "outputs": [],
   "source": [
    "df['bath'] = df['bath'].astype('int32')"
   ]
  },
  {
   "cell_type": "code",
   "execution_count": 25,
   "id": "3225a5b9",
   "metadata": {
    "colab": {
     "base_uri": "https://localhost:8080/"
    },
    "id": "3225a5b9",
    "outputId": "acf056d4-36e4-46c6-c2d5-7d2f64a58efe"
   },
   "outputs": [
    {
     "name": "stdout",
     "output_type": "stream",
     "text": [
      "<class 'pandas.core.frame.DataFrame'>\n",
      "Int64Index: 12365 entries, 0 to 13318\n",
      "Data columns (total 5 columns):\n",
      " #   Column      Non-Null Count  Dtype  \n",
      "---  ------      --------------  -----  \n",
      " 0   location    12365 non-null  object \n",
      " 1   size        12365 non-null  int32  \n",
      " 2   total_sqft  12365 non-null  object \n",
      " 3   bath        12365 non-null  int32  \n",
      " 4   price       12365 non-null  float64\n",
      "dtypes: float64(1), int32(2), object(2)\n",
      "memory usage: 483.0+ KB\n"
     ]
    }
   ],
   "source": [
    "df.info()"
   ]
  },
  {
   "cell_type": "markdown",
   "id": "887a5d23",
   "metadata": {
    "id": "887a5d23"
   },
   "source": [
    "# Exploratory Data Analysis"
   ]
  },
  {
   "cell_type": "code",
   "execution_count": 26,
   "id": "117a68a7",
   "metadata": {
    "colab": {
     "base_uri": "https://localhost:8080/",
     "height": 411
    },
    "id": "117a68a7",
    "outputId": "a6280370-2830-4615-e68c-990bed5bfaa3"
   },
   "outputs": [
    {
     "data": {
      "image/png": "[encoded data removed]",
      "text/plain": [
       "<Figure size 1800x600 with 1 Axes>"
      ]
     },
     "metadata": {},
     "output_type": "display_data"
    }
   ],
   "source": [
    "# viewing the distribution of the price column\n",
    "\n",
    "plt1 = plt.figure(figsize = (18,6))\n",
    "sn.distplot(df['price'],color='red')\n",
    "plt.show()"
   ]
  },
  {
   "cell_type": "markdown",
   "id": "8312919b",
   "metadata": {
    "id": "8312919b"
   },
   "source": [
    "From above it is clearly seen that output data is rightly skewed"
   ]
  },
  {
   "cell_type": "code",
   "execution_count": 27,
   "id": "e0587f42",
   "metadata": {
    "colab": {
     "base_uri": "https://localhost:8080/",
     "height": 863
    },
    "id": "e0587f42",
    "outputId": "eeffc4cc-bdeb-4d79-d6a9-7d7191e594a6"
   },
   "outputs": [
    {
     "data": {
      "image/png": "[encoded data removed]",
      "text/plain": [
       "<Figure size 1000x500 with 1 Axes>"
      ]
     },
     "metadata": {},
     "output_type": "display_data"
    },
    {
     "data": {
      "image/png": "[encoded data removed]",
      "text/plain": [
       "<Figure size 1000x500 with 1 Axes>"
      ]
     },
     "metadata": {},
     "output_type": "display_data"
    }
   ],
   "source": [
    "## plotting countplots for the categorical variables\n",
    "\n",
    "def drawplot(col):\n",
    "    plt.figure(figsize=(10,5))\n",
    "    sn.countplot(df[col],palette='plasma')\n",
    "    plt.xticks(rotation='vertical')\n",
    "\n",
    "toview = ['size','bath']\n",
    "for col in toview:\n",
    "    drawplot(col)"
   ]
  },
  {
   "cell_type": "markdown",
   "id": "dae7f42b",
   "metadata": {
    "id": "dae7f42b"
   },
   "source": [
    "From above we can clearly seen that size above 10 and bath above 8 has very rare values"
   ]
  },
  {
   "cell_type": "code",
   "execution_count": 28,
   "id": "2fff6b65",
   "metadata": {
    "colab": {
     "base_uri": "https://localhost:8080/",
     "height": 415
    },
    "id": "2fff6b65",
    "outputId": "66447a21-0b51-4ea8-c8f1-9351a718df03"
   },
   "outputs": [
    {
     "data": {
      "image/png": "[encoded data removed]",
      "text/plain": [
       "<Figure size 1800x600 with 1 Axes>"
      ]
     },
     "metadata": {},
     "output_type": "display_data"
    }
   ],
   "source": [
    "# average price for size\n",
    "\n",
    "plt.figure(figsize=(18,6))\n",
    "sn.barplot(x = df['size'],y = df['price'])\n",
    "plt.xticks(rotation = 'vertical')\n",
    "plt.show()"
   ]
  },
  {
   "cell_type": "code",
   "execution_count": 29,
   "id": "2ff6391d",
   "metadata": {
    "colab": {
     "base_uri": "https://localhost:8080/",
     "height": 415
    },
    "id": "2ff6391d",
    "outputId": "7185cd59-300c-4497-9cfe-5cb237a60253"
   },
   "outputs": [
    {
     "data": {
      "image/png": "[encoded data removed]",
      "text/plain": [
       "<Figure size 1800x600 with 1 Axes>"
      ]
     },
     "metadata": {},
     "output_type": "display_data"
    }
   ],
   "source": [
    "# average price for bath\n",
    "\n",
    "plt.figure(figsize=(18,6))\n",
    "sn.barplot(x = df['bath'],y = df['price'])\n",
    "plt.xticks(rotation = 'vertical')\n",
    "plt.show()"
   ]
  },
  {
   "cell_type": "code",
   "execution_count": 30,
   "id": "38294492",
   "metadata": {
    "colab": {
     "base_uri": "https://localhost:8080/",
     "height": 465
    },
    "id": "38294492",
    "outputId": "59b9eaf6-ef76-4eb2-94ab-752fe22028bd"
   },
   "outputs": [
    {
     "data": {
      "image/png": "[encoded data removed]",
      "text/plain": [
       "<Figure size 1000x500 with 1 Axes>"
      ]
     },
     "metadata": {},
     "output_type": "display_data"
    }
   ],
   "source": [
    "# variation of size towards the price\n",
    "plt1 = plt.figure(figsize = (10,5))\n",
    "sn.scatterplot(x = df['size'],y = df['price'])\n",
    "plt.show()"
   ]
  },
  {
   "cell_type": "code",
   "execution_count": 31,
   "id": "1a853509",
   "metadata": {
    "colab": {
     "base_uri": "https://localhost:8080/",
     "height": 465
    },
    "id": "1a853509",
    "outputId": "8ecae7f0-5687-4444-c519-933e23e73157"
   },
   "outputs": [
    {
     "data": {
      "image/png": "[encoded data removed]",
      "text/plain": [
       "<Figure size 1000x500 with 1 Axes>"
      ]
     },
     "metadata": {},
     "output_type": "display_data"
    }
   ],
   "source": [
    "# variation of bath towards the price\n",
    "plt1 = plt.figure(figsize = (10,5))\n",
    "sn.scatterplot(x = df['bath'],y = df['price'])\n",
    "plt.show()"
   ]
  },
  {
   "cell_type": "code",
   "execution_count": 32,
   "id": "fb0c484c",
   "metadata": {
    "colab": {
     "base_uri": "https://localhost:8080/"
    },
    "id": "fb0c484c",
    "outputId": "d8c38ef2-257f-43c9-cf81-cdb957e80c2f"
   },
   "outputs": [
    {
     "data": {
      "text/plain": [
       "2067"
      ]
     },
     "execution_count": 32,
     "metadata": {},
     "output_type": "execute_result"
    }
   ],
   "source": [
    "df['total_sqft'].nunique()"
   ]
  },
  {
   "cell_type": "markdown",
   "id": "2c2843fc",
   "metadata": {
    "id": "2c2843fc"
   },
   "source": [
    "we will convert total_sqft into integer"
   ]
  },
  {
   "cell_type": "code",
   "execution_count": 33,
   "id": "f22be4fb",
   "metadata": {
    "id": "f22be4fb"
   },
   "outputs": [],
   "source": [
    "def convert_sqft_to_num(x):\n",
    "    tokens = x.split('-')\n",
    "    if len(tokens) == 2:\n",
    "        return (float(tokens[0])+float(tokens[1]))/2\n",
    "    try:\n",
    "        return float(x)\n",
    "    except:\n",
    "        return None"
   ]
  },
  {
   "cell_type": "code",
   "execution_count": 34,
   "id": "81755f22",
   "metadata": {
    "id": "81755f22"
   },
   "outputs": [],
   "source": [
    "df['total_sqft'] = df['total_sqft'].apply(convert_sqft_to_num)"
   ]
  },
  {
   "cell_type": "code",
   "execution_count": 35,
   "id": "4cff14a6",
   "metadata": {
    "id": "4cff14a6"
   },
   "outputs": [],
   "source": [
    "df['total_sqft'] = df['total_sqft'].astype('float32')"
   ]
  },
  {
   "cell_type": "code",
   "execution_count": 36,
   "id": "7309d001",
   "metadata": {
    "colab": {
     "base_uri": "https://localhost:8080/"
    },
    "id": "7309d001",
    "outputId": "a8742bd3-f2dd-4078-bee9-3897782cea4f"
   },
   "outputs": [
    {
     "name": "stdout",
     "output_type": "stream",
     "text": [
      "<class 'pandas.core.frame.DataFrame'>\n",
      "Int64Index: 12365 entries, 0 to 13318\n",
      "Data columns (total 5 columns):\n",
      " #   Column      Non-Null Count  Dtype  \n",
      "---  ------      --------------  -----  \n",
      " 0   location    12365 non-null  object \n",
      " 1   size        12365 non-null  int32  \n",
      " 2   total_sqft  12319 non-null  float32\n",
      " 3   bath        12365 non-null  int32  \n",
      " 4   price       12365 non-null  float64\n",
      "dtypes: float32(1), float64(1), int32(2), object(1)\n",
      "memory usage: 692.7+ KB\n"
     ]
    }
   ],
   "source": [
    "df.info()"
   ]
  },
  {
   "cell_type": "code",
   "execution_count": 37,
   "id": "a92eb32f",
   "metadata": {
    "colab": {
     "base_uri": "https://localhost:8080/",
     "height": 206
    },
    "id": "a92eb32f",
    "outputId": "52f59abc-e942-4098-e80b-b6b10395f73a"
   },
   "outputs": [
    {
     "data": {
      "text/html": [
       "\n",
       "  <div id=\"df-c4e6fe1a-c35e-4f86-8e55-613c8e01c6aa\">\n",
       "    <div class=\"colab-df-container\">\n",
       "      <div>\n",
       "<style scoped>\n",
       "    .dataframe tbody tr th:only-of-type {\n",
       "        vertical-align: middle;\n",
       "    }\n",
       "\n",
       "    .dataframe tbody tr th {\n",
       "        vertical-align: top;\n",
       "    }\n",
       "\n",
       "    .dataframe thead th {\n",
       "        text-align: right;\n",
       "    }\n",
       "</style>\n",
       "<table border=\"1\" class=\"dataframe\">\n",
       "  <thead>\n",
       "    <tr style=\"text-align: right;\">\n",
       "      <th></th>\n",
       "      <th>location</th>\n",
       "      <th>size</th>\n",
       "      <th>total_sqft</th>\n",
       "      <th>bath</th>\n",
       "      <th>price</th>\n",
       "    </tr>\n",
       "  </thead>\n",
       "  <tbody>\n",
       "    <tr>\n",
       "      <th>0</th>\n",
       "      <td>Electronic City Phase II</td>\n",
       "      <td>2</td>\n",
       "      <td>1056.0</td>\n",
       "      <td>2</td>\n",
       "      <td>39.07</td>\n",
       "    </tr>\n",
       "    <tr>\n",
       "      <th>1</th>\n",
       "      <td>Chikka Tirupathi</td>\n",
       "      <td>4</td>\n",
       "      <td>2600.0</td>\n",
       "      <td>5</td>\n",
       "      <td>120.00</td>\n",
       "    </tr>\n",
       "    <tr>\n",
       "      <th>2</th>\n",
       "      <td>Uttarahalli</td>\n",
       "      <td>3</td>\n",
       "      <td>1440.0</td>\n",
       "      <td>2</td>\n",
       "      <td>62.00</td>\n",
       "    </tr>\n",
       "    <tr>\n",
       "      <th>3</th>\n",
       "      <td>Lingadheeranahalli</td>\n",
       "      <td>3</td>\n",
       "      <td>1521.0</td>\n",
       "      <td>3</td>\n",
       "      <td>95.00</td>\n",
       "    </tr>\n",
       "    <tr>\n",
       "      <th>4</th>\n",
       "      <td>Kothanur</td>\n",
       "      <td>2</td>\n",
       "      <td>1200.0</td>\n",
       "      <td>2</td>\n",
       "      <td>51.00</td>\n",
       "    </tr>\n",
       "  </tbody>\n",
       "</table>\n",
       "</div>\n",
       "      <button class=\"colab-df-convert\" onclick=\"convertToInteractive('df-c4e6fe1a-c35e-4f86-8e55-613c8e01c6aa')\"\n",
       "              title=\"Convert this dataframe to an interactive table.\"\n",
       "              style=\"display:none;\">\n",
       "        \n",
       "  <svg xmlns=\"http://www.w3.org/2000/svg\" height=\"24px\"viewBox=\"0 0 24 24\"\n",
       "       width=\"24px\">\n",
       "    <path d=\"M0 0h24v24H0V0z\" fill=\"none\"/>\n",
       "    <path d=\"M18.56 5.44l.94 2.06.94-2.06 2.06-.94-2.06-.94-.94-2.06-.94 2.06-2.06.94zm-11 1L8.5 8.5l.94-2.06 2.06-.94-2.06-.94L8.5 2.5l-.94 2.06-2.06.94zm10 10l.94 2.06.94-2.06 2.06-.94-2.06-.94-.94-2.06-.94 2.06-2.06.94z\"/><path d=\"M17.41 7.96l-1.37-1.37c-.4-.4-.92-.59-1.43-.59-.52 0-1.04.2-1.43.59L10.3 9.45l-7.72 7.72c-.78.78-.78 2.05 0 2.83L4 21.41c.39.39.9.59 1.41.59.51 0 1.02-.2 1.41-.59l7.78-7.78 2.81-2.81c.8-.78.8-2.07 0-2.86zM5.41 20L4 18.59l7.72-7.72 1.47 1.35L5.41 20z\"/>\n",
       "  </svg>\n",
       "      </button>\n",
       "      \n",
       "  <style>\n",
       "    .colab-df-container {\n",
       "      display:flex;\n",
       "      flex-wrap:wrap;\n",
       "      gap: 12px;\n",
       "    }\n",
       "\n",
       "    .colab-df-convert {\n",
       "      background-color: #E8F0FE;\n",
       "      border: none;\n",
       "      border-radius: 50%;\n",
       "      cursor: pointer;\n",
       "      display: none;\n",
       "      fill: #1967D2;\n",
       "      height: 32px;\n",
       "      padding: 0 0 0 0;\n",
       "      width: 32px;\n",
       "    }\n",
       "\n",
       "    .colab-df-convert:hover {\n",
       "      background-color: #E2EBFA;\n",
       "      box-shadow: 0px 1px 2px rgba(60, 64, 67, 0.3), 0px 1px 3px 1px rgba(60, 64, 67, 0.15);\n",
       "      fill: #174EA6;\n",
       "    }\n",
       "\n",
       "    [theme=dark] .colab-df-convert {\n",
       "      background-color: #3B4455;\n",
       "      fill: #D2E3FC;\n",
       "    }\n",
       "\n",
       "    [theme=dark] .colab-df-convert:hover {\n",
       "      background-color: #434B5C;\n",
       "      box-shadow: 0px 1px 3px 1px rgba(0, 0, 0, 0.15);\n",
       "      filter: drop-shadow(0px 1px 2px rgba(0, 0, 0, 0.3));\n",
       "      fill: #FFFFFF;\n",
       "    }\n",
       "  </style>\n",
       "\n",
       "      <script>\n",
       "        const buttonEl =\n",
       "          document.querySelector('#df-c4e6fe1a-c35e-4f86-8e55-613c8e01c6aa button.colab-df-convert');\n",
       "        buttonEl.style.display =\n",
       "          google.colab.kernel.accessAllowed ? 'block' : 'none';\n",
       "\n",
       "        async function convertToInteractive(key) {\n",
       "          const element = document.querySelector('#df-c4e6fe1a-c35e-4f86-8e55-613c8e01c6aa');\n",
       "          const dataTable =\n",
       "            await google.colab.kernel.invokeFunction('convertToInteractive',\n",
       "                                                     [key], {});\n",
       "          if (!dataTable) return;\n",
       "\n",
       "          const docLinkHtml = 'Like what you see? Visit the ' +\n",
       "            '<a target=\"_blank\" href=https://colab.research.google.com/notebooks/data_table.ipynb>data table notebook</a>'\n",
       "            + ' to learn more about interactive tables.';\n",
       "          element.innerHTML = '';\n",
       "          dataTable['output_type'] = 'display_data';\n",
       "          await google.colab.output.renderOutput(dataTable, element);\n",
       "          const docLink = document.createElement('div');\n",
       "          docLink.innerHTML = docLinkHtml;\n",
       "          element.appendChild(docLink);\n",
       "        }\n",
       "      </script>\n",
       "    </div>\n",
       "  </div>\n",
       "  "
      ],
      "text/plain": [
       "                   location  size  total_sqft  bath   price\n",
       "0  Electronic City Phase II     2      1056.0     2   39.07\n",
       "1          Chikka Tirupathi     4      2600.0     5  120.00\n",
       "2               Uttarahalli     3      1440.0     2   62.00\n",
       "3        Lingadheeranahalli     3      1521.0     3   95.00\n",
       "4                  Kothanur     2      1200.0     2   51.00"
      ]
     },
     "execution_count": 37,
     "metadata": {},
     "output_type": "execute_result"
    }
   ],
   "source": [
    "df.head()"
   ]
  },
  {
   "cell_type": "markdown",
   "id": "69d29a45",
   "metadata": {
    "id": "69d29a45"
   },
   "source": [
    "Any location having less than 10 data points will be tagged as \"other\" location. This way number of categories can be reduced by huge amount. It will help us with having fewer dummy columns"
   ]
  },
  {
   "cell_type": "code",
   "execution_count": 38,
   "id": "a12fe5fe",
   "metadata": {
    "colab": {
     "base_uri": "https://localhost:8080/"
    },
    "id": "a12fe5fe",
    "outputId": "32138adb-0224-4fcb-83d5-f0d8e9b77b42"
   },
   "outputs": [
    {
     "data": {
      "text/plain": [
       "Whitefield               501\n",
       "Sarjapur  Road           357\n",
       "Electronic City          273\n",
       "Thanisandra              223\n",
       "Kanakpura Road           217\n",
       "                        ... \n",
       "Maruthi Extension          1\n",
       "Okalipura                  1\n",
       "Old Town                   1\n",
       "Vasantapura main road      1\n",
       "Abshot Layout              1\n",
       "Name: location, Length: 1304, dtype: int64"
      ]
     },
     "execution_count": 38,
     "metadata": {},
     "output_type": "execute_result"
    }
   ],
   "source": [
    "df['location'].value_counts(ascending=False)"
   ]
  },
  {
   "cell_type": "code",
   "execution_count": 39,
   "id": "434c8cb8",
   "metadata": {
    "colab": {
     "base_uri": "https://localhost:8080/"
    },
    "id": "434c8cb8",
    "outputId": "4b51088e-6a92-439a-926a-ba2c4062e286"
   },
   "outputs": [
    {
     "data": {
      "text/plain": [
       "1304"
      ]
     },
     "execution_count": 39,
     "metadata": {},
     "output_type": "execute_result"
    }
   ],
   "source": [
    "df['location'].nunique()"
   ]
  },
  {
   "cell_type": "code",
   "execution_count": 40,
   "id": "ae7dced2",
   "metadata": {
    "colab": {
     "base_uri": "https://localhost:8080/"
    },
    "id": "ae7dced2",
    "outputId": "dcf081ca-8786-4652-c1b8-e412512d0f78"
   },
   "outputs": [
    {
     "data": {
      "text/plain": [
       "Whitefield                502\n",
       "Sarjapur  Road            357\n",
       "Electronic City           275\n",
       "Thanisandra               225\n",
       "Kanakpura Road            217\n",
       "                         ... \n",
       "1Channasandra               1\n",
       "Ring Road Nagarbhavi        1\n",
       "Mango Garden Layout         1\n",
       "Vijayabank bank layout      1\n",
       "Abshot Layout               1\n",
       "Name: location, Length: 1293, dtype: int64"
      ]
     },
     "execution_count": 40,
     "metadata": {},
     "output_type": "execute_result"
    }
   ],
   "source": [
    "df['location'] = df['location'].apply(lambda x: x.strip())\n",
    "location_stats = df['location'].value_counts(ascending=False)\n",
    "location_stats"
   ]
  },
  {
   "cell_type": "code",
   "execution_count": 41,
   "id": "a92bee29",
   "metadata": {
    "colab": {
     "base_uri": "https://localhost:8080/"
    },
    "id": "a92bee29",
    "outputId": "67a900e1-cb74-4abe-ca72-43ece74c3473"
   },
   "outputs": [
    {
     "data": {
      "text/plain": [
       "231"
      ]
     },
     "execution_count": 41,
     "metadata": {},
     "output_type": "execute_result"
    }
   ],
   "source": [
    "len(location_stats[location_stats>10])"
   ]
  },
  {
   "cell_type": "code",
   "execution_count": 42,
   "id": "01da5827",
   "metadata": {
    "colab": {
     "base_uri": "https://localhost:8080/"
    },
    "id": "01da5827",
    "outputId": "95992bcb-ec41-4522-c34f-f189ff412708"
   },
   "outputs": [
    {
     "data": {
      "text/plain": [
       "1293"
      ]
     },
     "execution_count": 42,
     "metadata": {},
     "output_type": "execute_result"
    }
   ],
   "source": [
    "len(location_stats)"
   ]
  },
  {
   "cell_type": "code",
   "execution_count": 43,
   "id": "9c36523a",
   "metadata": {
    "id": "9c36523a"
   },
   "outputs": [],
   "source": [
    "location_stats_less_than_10 = location_stats[location_stats<=10]"
   ]
  },
  {
   "cell_type": "code",
   "execution_count": 44,
   "id": "a11d62cb",
   "metadata": {
    "colab": {
     "base_uri": "https://localhost:8080/"
    },
    "id": "a11d62cb",
    "outputId": "3b2e54c9-725b-4aa4-c0a6-ba55fb4ee0f1"
   },
   "outputs": [
    {
     "data": {
      "text/plain": [
       "BEML Layout               10\n",
       "Poorna Pragna Layout      10\n",
       "BTM 1st Stage             10\n",
       "Nagappa Reddy Layout      10\n",
       "Dairy Circle              10\n",
       "                          ..\n",
       "1Channasandra              1\n",
       "Ring Road Nagarbhavi       1\n",
       "Mango Garden Layout        1\n",
       "Vijayabank bank layout     1\n",
       "Abshot Layout              1\n",
       "Name: location, Length: 1062, dtype: int64"
      ]
     },
     "execution_count": 44,
     "metadata": {},
     "output_type": "execute_result"
    }
   ],
   "source": [
    "location_stats_less_than_10"
   ]
  },
  {
   "cell_type": "code",
   "execution_count": 45,
   "id": "c0c5ed0d",
   "metadata": {
    "colab": {
     "base_uri": "https://localhost:8080/"
    },
    "id": "c0c5ed0d",
    "outputId": "badf7b6d-b588-4ae4-b8ea-99321eb8cbfe"
   },
   "outputs": [
    {
     "data": {
      "text/plain": [
       "232"
      ]
     },
     "execution_count": 45,
     "metadata": {},
     "output_type": "execute_result"
    }
   ],
   "source": [
    "df['location'] = df['location'].apply(lambda x: 'other' if x in location_stats_less_than_10 else x)\n",
    "len(df['location'].unique())"
   ]
  },
  {
   "cell_type": "code",
   "execution_count": 46,
   "id": "28503045",
   "metadata": {
    "colab": {
     "base_uri": "https://localhost:8080/",
     "height": 411
    },
    "id": "28503045",
    "outputId": "6da80f5d-fd84-4853-d3bd-cda06944c030"
   },
   "outputs": [
    {
     "data": {
      "image/png": "[encoded data removed]",
      "text/plain": [
       "<Figure size 1800x600 with 1 Axes>"
      ]
     },
     "metadata": {},
     "output_type": "display_data"
    }
   ],
   "source": [
    "# viewing the distribution of the price column\n",
    "\n",
    "plt1 = plt.figure(figsize = (18,6))\n",
    "sn.distplot(df['price'],color='red')\n",
    "plt.show()"
   ]
  },
  {
   "cell_type": "markdown",
   "id": "7c739eae",
   "metadata": {
    "id": "7c739eae"
   },
   "source": [
    "### boxplot to see outliers"
   ]
  },
  {
   "cell_type": "code",
   "execution_count": 47,
   "id": "63164d9e",
   "metadata": {
    "colab": {
     "base_uri": "https://localhost:8080/",
     "height": 1000
    },
    "id": "63164d9e",
    "outputId": "a5ad1eb7-78fa-4179-88fc-ee87893b2db9"
   },
   "outputs": [
    {
     "data": {
      "image/png": "[encoded data removed]",
      "text/plain": [
       "<Figure size 1800x500 with 1 Axes>"
      ]
     },
     "metadata": {},
     "output_type": "display_data"
    },
    {
     "data": {
      "image/png": "[encoded data removed]",
      "text/plain": [
       "<Figure size 1800x500 with 1 Axes>"
      ]
     },
     "metadata": {},
     "output_type": "display_data"
    },
    {
     "data": {
      "image/png": "[encoded data removed]",
      "text/plain": [
       "<Figure size 1800x500 with 1 Axes>"
      ]
     },
     "metadata": {},
     "output_type": "display_data"
    }
   ],
   "source": [
    "def drawplot(col):\n",
    "    plt.figure(figsize=(18,5))\n",
    "    sn.boxplot(df[col],palette='plasma')\n",
    "\n",
    "toview = ['price','size','bath']\n",
    "for col in toview:\n",
    "    drawplot(col)"
   ]
  },
  {
   "cell_type": "markdown",
   "id": "74ba2af3",
   "metadata": {
    "id": "74ba2af3"
   },
   "source": [
    "first we will remove outliers from size and bath column using Interquartile range(IQR).then we will look for price column"
   ]
  },
  {
   "cell_type": "code",
   "execution_count": 48,
   "id": "48100374",
   "metadata": {
    "id": "48100374"
   },
   "outputs": [],
   "source": [
    "def remove_outlier(df,col):\n",
    "    q1 = df[col].quantile(0.25)\n",
    "    q3 = df[col].quantile(0.75)\n",
    "    iqr = q3 - q1\n",
    "    lower_band = q1 - (1.5*iqr)\n",
    "    upper_band = q3 + (1.5*iqr)\n",
    "    df = df[(df[col]>lower_band) & (df[col]<upper_band)]\n",
    "    return df"
   ]
  },
  {
   "cell_type": "code",
   "execution_count": 49,
   "id": "1c668d86",
   "metadata": {
    "id": "1c668d86"
   },
   "outputs": [],
   "source": [
    "df = remove_outlier(df,'size')"
   ]
  },
  {
   "cell_type": "code",
   "execution_count": 50,
   "id": "542ebdeb",
   "metadata": {
    "colab": {
     "base_uri": "https://localhost:8080/"
    },
    "id": "542ebdeb",
    "outputId": "78fe028a-ffcc-428d-b276-910811a7037e"
   },
   "outputs": [
    {
     "data": {
      "text/plain": [
       "(11532, 5)"
      ]
     },
     "execution_count": 50,
     "metadata": {},
     "output_type": "execute_result"
    }
   ],
   "source": [
    "df.shape"
   ]
  },
  {
   "cell_type": "code",
   "execution_count": 51,
   "id": "c310e95b",
   "metadata": {
    "id": "c310e95b"
   },
   "outputs": [],
   "source": [
    "df = remove_outlier(df,'bath')"
   ]
  },
  {
   "cell_type": "code",
   "execution_count": 52,
   "id": "6122ebef",
   "metadata": {
    "colab": {
     "base_uri": "https://localhost:8080/"
    },
    "id": "6122ebef",
    "outputId": "f1646ad0-831c-4c67-e08f-14122eb6c91b"
   },
   "outputs": [
    {
     "data": {
      "text/plain": [
       "(11150, 5)"
      ]
     },
     "execution_count": 52,
     "metadata": {},
     "output_type": "execute_result"
    }
   ],
   "source": [
    "df.shape"
   ]
  },
  {
   "cell_type": "code",
   "execution_count": 53,
   "id": "763e60e7",
   "metadata": {
    "colab": {
     "base_uri": "https://localhost:8080/",
     "height": 206
    },
    "id": "763e60e7",
    "outputId": "f99e9800-b0f8-4f66-a309-32db3aa1c712"
   },
   "outputs": [
    {
     "data": {
      "text/html": [
       "\n",
       "  <div id=\"df-61dee6f9-af4f-4374-8155-0c3d33ba08b7\">\n",
       "    <div class=\"colab-df-container\">\n",
       "      <div>\n",
       "<style scoped>\n",
       "    .dataframe tbody tr th:only-of-type {\n",
       "        vertical-align: middle;\n",
       "    }\n",
       "\n",
       "    .dataframe tbody tr th {\n",
       "        vertical-align: top;\n",
       "    }\n",
       "\n",
       "    .dataframe thead th {\n",
       "        text-align: right;\n",
       "    }\n",
       "</style>\n",
       "<table border=\"1\" class=\"dataframe\">\n",
       "  <thead>\n",
       "    <tr style=\"text-align: right;\">\n",
       "      <th></th>\n",
       "      <th>location</th>\n",
       "      <th>size</th>\n",
       "      <th>total_sqft</th>\n",
       "      <th>bath</th>\n",
       "      <th>price</th>\n",
       "    </tr>\n",
       "  </thead>\n",
       "  <tbody>\n",
       "    <tr>\n",
       "      <th>0</th>\n",
       "      <td>Electronic City Phase II</td>\n",
       "      <td>2</td>\n",
       "      <td>1056.0</td>\n",
       "      <td>2</td>\n",
       "      <td>39.07</td>\n",
       "    </tr>\n",
       "    <tr>\n",
       "      <th>2</th>\n",
       "      <td>Uttarahalli</td>\n",
       "      <td>3</td>\n",
       "      <td>1440.0</td>\n",
       "      <td>2</td>\n",
       "      <td>62.00</td>\n",
       "    </tr>\n",
       "    <tr>\n",
       "      <th>3</th>\n",
       "      <td>Lingadheeranahalli</td>\n",
       "      <td>3</td>\n",
       "      <td>1521.0</td>\n",
       "      <td>3</td>\n",
       "      <td>95.00</td>\n",
       "    </tr>\n",
       "    <tr>\n",
       "      <th>4</th>\n",
       "      <td>Kothanur</td>\n",
       "      <td>2</td>\n",
       "      <td>1200.0</td>\n",
       "      <td>2</td>\n",
       "      <td>51.00</td>\n",
       "    </tr>\n",
       "    <tr>\n",
       "      <th>5</th>\n",
       "      <td>Whitefield</td>\n",
       "      <td>2</td>\n",
       "      <td>1170.0</td>\n",
       "      <td>2</td>\n",
       "      <td>38.00</td>\n",
       "    </tr>\n",
       "  </tbody>\n",
       "</table>\n",
       "</div>\n",
       "      <button class=\"colab-df-convert\" onclick=\"convertToInteractive('df-61dee6f9-af4f-4374-8155-0c3d33ba08b7')\"\n",
       "              title=\"Convert this dataframe to an interactive table.\"\n",
       "              style=\"display:none;\">\n",
       "        \n",
       "  <svg xmlns=\"http://www.w3.org/2000/svg\" height=\"24px\"viewBox=\"0 0 24 24\"\n",
       "       width=\"24px\">\n",
       "    <path d=\"M0 0h24v24H0V0z\" fill=\"none\"/>\n",
       "    <path d=\"M18.56 5.44l.94 2.06.94-2.06 2.06-.94-2.06-.94-.94-2.06-.94 2.06-2.06.94zm-11 1L8.5 8.5l.94-2.06 2.06-.94-2.06-.94L8.5 2.5l-.94 2.06-2.06.94zm10 10l.94 2.06.94-2.06 2.06-.94-2.06-.94-.94-2.06-.94 2.06-2.06.94z\"/><path d=\"M17.41 7.96l-1.37-1.37c-.4-.4-.92-.59-1.43-.59-.52 0-1.04.2-1.43.59L10.3 9.45l-7.72 7.72c-.78.78-.78 2.05 0 2.83L4 21.41c.39.39.9.59 1.41.59.51 0 1.02-.2 1.41-.59l7.78-7.78 2.81-2.81c.8-.78.8-2.07 0-2.86zM5.41 20L4 18.59l7.72-7.72 1.47 1.35L5.41 20z\"/>\n",
       "  </svg>\n",
       "      </button>\n",
       "      \n",
       "  <style>\n",
       "    .colab-df-container {\n",
       "      display:flex;\n",
       "      flex-wrap:wrap;\n",
       "      gap: 12px;\n",
       "    }\n",
       "\n",
       "    .colab-df-convert {\n",
       "      background-color: #E8F0FE;\n",
       "      border: none;\n",
       "      border-radius: 50%;\n",
       "      cursor: pointer;\n",
       "      display: none;\n",
       "      fill: #1967D2;\n",
       "      height: 32px;\n",
       "      padding: 0 0 0 0;\n",
       "      width: 32px;\n",
       "    }\n",
       "\n",
       "    .colab-df-convert:hover {\n",
       "      background-color: #E2EBFA;\n",
       "      box-shadow: 0px 1px 2px rgba(60, 64, 67, 0.3), 0px 1px 3px 1px rgba(60, 64, 67, 0.15);\n",
       "      fill: #174EA6;\n",
       "    }\n",
       "\n",
       "    [theme=dark] .colab-df-convert {\n",
       "      background-color: #3B4455;\n",
       "      fill: #D2E3FC;\n",
       "    }\n",
       "\n",
       "    [theme=dark] .colab-df-convert:hover {\n",
       "      background-color: #434B5C;\n",
       "      box-shadow: 0px 1px 3px 1px rgba(0, 0, 0, 0.15);\n",
       "      filter: drop-shadow(0px 1px 2px rgba(0, 0, 0, 0.3));\n",
       "      fill: #FFFFFF;\n",
       "    }\n",
       "  </style>\n",
       "\n",
       "      <script>\n",
       "        const buttonEl =\n",
       "          document.querySelector('#df-61dee6f9-af4f-4374-8155-0c3d33ba08b7 button.colab-df-convert');\n",
       "        buttonEl.style.display =\n",
       "          google.colab.kernel.accessAllowed ? 'block' : 'none';\n",
       "\n",
       "        async function convertToInteractive(key) {\n",
       "          const element = document.querySelector('#df-61dee6f9-af4f-4374-8155-0c3d33ba08b7');\n",
       "          const dataTable =\n",
       "            await google.colab.kernel.invokeFunction('convertToInteractive',\n",
       "                                                     [key], {});\n",
       "          if (!dataTable) return;\n",
       "\n",
       "          const docLinkHtml = 'Like what you see? Visit the ' +\n",
       "            '<a target=\"_blank\" href=https://colab.research.google.com/notebooks/data_table.ipynb>data table notebook</a>'\n",
       "            + ' to learn more about interactive tables.';\n",
       "          element.innerHTML = '';\n",
       "          dataTable['output_type'] = 'display_data';\n",
       "          await google.colab.output.renderOutput(dataTable, element);\n",
       "          const docLink = document.createElement('div');\n",
       "          docLink.innerHTML = docLinkHtml;\n",
       "          element.appendChild(docLink);\n",
       "        }\n",
       "      </script>\n",
       "    </div>\n",
       "  </div>\n",
       "  "
      ],
      "text/plain": [
       "                   location  size  total_sqft  bath  price\n",
       "0  Electronic City Phase II     2      1056.0     2  39.07\n",
       "2               Uttarahalli     3      1440.0     2  62.00\n",
       "3        Lingadheeranahalli     3      1521.0     3  95.00\n",
       "4                  Kothanur     2      1200.0     2  51.00\n",
       "5                Whitefield     2      1170.0     2  38.00"
      ]
     },
     "execution_count": 53,
     "metadata": {},
     "output_type": "execute_result"
    }
   ],
   "source": [
    "df.head()"
   ]
  },
  {
   "cell_type": "code",
   "execution_count": 54,
   "id": "361f77ff",
   "metadata": {
    "colab": {
     "base_uri": "https://localhost:8080/",
     "height": 676
    },
    "id": "361f77ff",
    "outputId": "6df814af-1ba9-4162-83f6-c4bea1f274c2"
   },
   "outputs": [
    {
     "data": {
      "image/png": "[encoded data removed]",
      "text/plain": [
       "<Figure size 1800x500 with 1 Axes>"
      ]
     },
     "metadata": {},
     "output_type": "display_data"
    },
    {
     "data": {
      "image/png": "[encoded data removed]",
      "text/plain": [
       "<Figure size 1800x500 with 1 Axes>"
      ]
     },
     "metadata": {},
     "output_type": "display_data"
    }
   ],
   "source": [
    "def drawplot(col):\n",
    "    plt.figure(figsize=(18,5))\n",
    "    sn.boxplot(df[col],palette='plasma')\n",
    "\n",
    "toview = ['size','bath']\n",
    "for col in toview:\n",
    "    drawplot(col)"
   ]
  },
  {
   "cell_type": "code",
   "execution_count": 55,
   "id": "9c0c5c1c",
   "metadata": {
    "colab": {
     "base_uri": "https://localhost:8080/",
     "height": 411
    },
    "id": "9c0c5c1c",
    "outputId": "bf617b5d-4082-4c55-a898-c1be32ad1dd0"
   },
   "outputs": [
    {
     "data": {
      "image/png": "[encoded data removed]",
      "text/plain": [
       "<Figure size 1800x600 with 1 Axes>"
      ]
     },
     "metadata": {},
     "output_type": "display_data"
    }
   ],
   "source": [
    "# viewing the distribution of the price column\n",
    "\n",
    "plt1 = plt.figure(figsize = (18,6))\n",
    "sn.distplot(df['price'],color='red')\n",
    "plt.show()"
   ]
  },
  {
   "cell_type": "code",
   "execution_count": 56,
   "id": "319b9ae1",
   "metadata": {
    "id": "319b9ae1"
   },
   "outputs": [],
   "source": [
    "df = remove_outlier(df,'price')"
   ]
  },
  {
   "cell_type": "code",
   "execution_count": 57,
   "id": "17d73d35",
   "metadata": {
    "colab": {
     "base_uri": "https://localhost:8080/",
     "height": 345
    },
    "id": "17d73d35",
    "outputId": "5bac634a-f13e-476a-9bd0-3f2990fdfbb8"
   },
   "outputs": [
    {
     "data": {
      "image/png": "[encoded data removed]",
      "text/plain": [
       "<Figure size 1800x500 with 1 Axes>"
      ]
     },
     "metadata": {},
     "output_type": "display_data"
    }
   ],
   "source": [
    "plt.figure(figsize=(18,5))\n",
    "sn.boxplot(df['price'],palette='plasma')\n",
    "plt.show()"
   ]
  },
  {
   "cell_type": "code",
   "execution_count": 58,
   "id": "143e2cd4",
   "metadata": {
    "colab": {
     "base_uri": "https://localhost:8080/",
     "height": 411
    },
    "id": "143e2cd4",
    "outputId": "31fc9b7f-b26b-41ed-f2d7-c2ebb18b3e1f"
   },
   "outputs": [
    {
     "data": {
      "image/png": "[encoded data removed]",
      "text/plain": [
       "<Figure size 1800x600 with 1 Axes>"
      ]
     },
     "metadata": {},
     "output_type": "display_data"
    }
   ],
   "source": [
    "plt1 = plt.figure(figsize = (18,6))\n",
    "sn.distplot(df['price'],color='red')\n",
    "plt.show()"
   ]
  },
  {
   "cell_type": "code",
   "execution_count": 59,
   "id": "5af87d56",
   "metadata": {
    "colab": {
     "base_uri": "https://localhost:8080/"
    },
    "id": "5af87d56",
    "outputId": "b6d8008d-3b00-4ab0-beee-d63a7a8792c9"
   },
   "outputs": [
    {
     "data": {
      "text/plain": [
       "(10173, 5)"
      ]
     },
     "execution_count": 59,
     "metadata": {},
     "output_type": "execute_result"
    }
   ],
   "source": [
    "df.shape"
   ]
  },
  {
   "cell_type": "code",
   "execution_count": 60,
   "id": "e33e2fdd",
   "metadata": {
    "colab": {
     "base_uri": "https://localhost:8080/",
     "height": 175
    },
    "id": "e33e2fdd",
    "outputId": "363b317c-a8e5-4561-bce6-680f9214678b"
   },
   "outputs": [
    {
     "data": {
      "text/html": [
       "\n",
       "  <div id=\"df-94f0b1ac-f4b6-4eb3-9088-92da099cffe2\">\n",
       "    <div class=\"colab-df-container\">\n",
       "      <div>\n",
       "<style scoped>\n",
       "    .dataframe tbody tr th:only-of-type {\n",
       "        vertical-align: middle;\n",
       "    }\n",
       "\n",
       "    .dataframe tbody tr th {\n",
       "        vertical-align: top;\n",
       "    }\n",
       "\n",
       "    .dataframe thead th {\n",
       "        text-align: right;\n",
       "    }\n",
       "</style>\n",
       "<table border=\"1\" class=\"dataframe\">\n",
       "  <thead>\n",
       "    <tr style=\"text-align: right;\">\n",
       "      <th></th>\n",
       "      <th>size</th>\n",
       "      <th>total_sqft</th>\n",
       "      <th>bath</th>\n",
       "      <th>price</th>\n",
       "    </tr>\n",
       "  </thead>\n",
       "  <tbody>\n",
       "    <tr>\n",
       "      <th>size</th>\n",
       "      <td>1.000000</td>\n",
       "      <td>0.328299</td>\n",
       "      <td>0.793727</td>\n",
       "      <td>0.553443</td>\n",
       "    </tr>\n",
       "    <tr>\n",
       "      <th>total_sqft</th>\n",
       "      <td>0.328299</td>\n",
       "      <td>1.000000</td>\n",
       "      <td>0.325862</td>\n",
       "      <td>0.376016</td>\n",
       "    </tr>\n",
       "    <tr>\n",
       "      <th>bath</th>\n",
       "      <td>0.793727</td>\n",
       "      <td>0.325862</td>\n",
       "      <td>1.000000</td>\n",
       "      <td>0.600913</td>\n",
       "    </tr>\n",
       "    <tr>\n",
       "      <th>price</th>\n",
       "      <td>0.553443</td>\n",
       "      <td>0.376016</td>\n",
       "      <td>0.600913</td>\n",
       "      <td>1.000000</td>\n",
       "    </tr>\n",
       "  </tbody>\n",
       "</table>\n",
       "</div>\n",
       "      <button class=\"colab-df-convert\" onclick=\"convertToInteractive('df-94f0b1ac-f4b6-4eb3-9088-92da099cffe2')\"\n",
       "              title=\"Convert this dataframe to an interactive table.\"\n",
       "              style=\"display:none;\">\n",
       "        \n",
       "  <svg xmlns=\"http://www.w3.org/2000/svg\" height=\"24px\"viewBox=\"0 0 24 24\"\n",
       "       width=\"24px\">\n",
       "    <path d=\"M0 0h24v24H0V0z\" fill=\"none\"/>\n",
       "    <path d=\"M18.56 5.44l.94 2.06.94-2.06 2.06-.94-2.06-.94-.94-2.06-.94 2.06-2.06.94zm-11 1L8.5 8.5l.94-2.06 2.06-.94-2.06-.94L8.5 2.5l-.94 2.06-2.06.94zm10 10l.94 2.06.94-2.06 2.06-.94-2.06-.94-.94-2.06-.94 2.06-2.06.94z\"/><path d=\"M17.41 7.96l-1.37-1.37c-.4-.4-.92-.59-1.43-.59-.52 0-1.04.2-1.43.59L10.3 9.45l-7.72 7.72c-.78.78-.78 2.05 0 2.83L4 21.41c.39.39.9.59 1.41.59.51 0 1.02-.2 1.41-.59l7.78-7.78 2.81-2.81c.8-.78.8-2.07 0-2.86zM5.41 20L4 18.59l7.72-7.72 1.47 1.35L5.41 20z\"/>\n",
       "  </svg>\n",
       "      </button>\n",
       "      \n",
       "  <style>\n",
       "    .colab-df-container {\n",
       "      display:flex;\n",
       "      flex-wrap:wrap;\n",
       "      gap: 12px;\n",
       "    }\n",
       "\n",
       "    .colab-df-convert {\n",
       "      background-color: #E8F0FE;\n",
       "      border: none;\n",
       "      border-radius: 50%;\n",
       "      cursor: pointer;\n",
       "      display: none;\n",
       "      fill: #1967D2;\n",
       "      height: 32px;\n",
       "      padding: 0 0 0 0;\n",
       "      width: 32px;\n",
       "    }\n",
       "\n",
       "    .colab-df-convert:hover {\n",
       "      background-color: #E2EBFA;\n",
       "      box-shadow: 0px 1px 2px rgba(60, 64, 67, 0.3), 0px 1px 3px 1px rgba(60, 64, 67, 0.15);\n",
       "      fill: #174EA6;\n",
       "    }\n",
       "\n",
       "    [theme=dark] .colab-df-convert {\n",
       "      background-color: #3B4455;\n",
       "      fill: #D2E3FC;\n",
       "    }\n",
       "\n",
       "    [theme=dark] .colab-df-convert:hover {\n",
       "      background-color: #434B5C;\n",
       "      box-shadow: 0px 1px 3px 1px rgba(0, 0, 0, 0.15);\n",
       "      filter: drop-shadow(0px 1px 2px rgba(0, 0, 0, 0.3));\n",
       "      fill: #FFFFFF;\n",
       "    }\n",
       "  </style>\n",
       "\n",
       "      <script>\n",
       "        const buttonEl =\n",
       "          document.querySelector('#df-94f0b1ac-f4b6-4eb3-9088-92da099cffe2 button.colab-df-convert');\n",
       "        buttonEl.style.display =\n",
       "          google.colab.kernel.accessAllowed ? 'block' : 'none';\n",
       "\n",
       "        async function convertToInteractive(key) {\n",
       "          const element = document.querySelector('#df-94f0b1ac-f4b6-4eb3-9088-92da099cffe2');\n",
       "          const dataTable =\n",
       "            await google.colab.kernel.invokeFunction('convertToInteractive',\n",
       "                                                     [key], {});\n",
       "          if (!dataTable) return;\n",
       "\n",
       "          const docLinkHtml = 'Like what you see? Visit the ' +\n",
       "            '<a target=\"_blank\" href=https://colab.research.google.com/notebooks/data_table.ipynb>data table notebook</a>'\n",
       "            + ' to learn more about interactive tables.';\n",
       "          element.innerHTML = '';\n",
       "          dataTable['output_type'] = 'display_data';\n",
       "          await google.colab.output.renderOutput(dataTable, element);\n",
       "          const docLink = document.createElement('div');\n",
       "          docLink.innerHTML = docLinkHtml;\n",
       "          element.appendChild(docLink);\n",
       "        }\n",
       "      </script>\n",
       "    </div>\n",
       "  </div>\n",
       "  "
      ],
      "text/plain": [
       "                size  total_sqft      bath     price\n",
       "size        1.000000    0.328299  0.793727  0.553443\n",
       "total_sqft  0.328299    1.000000  0.325862  0.376016\n",
       "bath        0.793727    0.325862  1.000000  0.600913\n",
       "price       0.553443    0.376016  0.600913  1.000000"
      ]
     },
     "execution_count": 60,
     "metadata": {},
     "output_type": "execute_result"
    }
   ],
   "source": [
    "df.corr()"
   ]
  },
  {
   "cell_type": "markdown",
   "id": "bbae2d94",
   "metadata": {
    "id": "bbae2d94"
   },
   "source": [
    "Now we will see corelation between columns"
   ]
  },
  {
   "cell_type": "code",
   "execution_count": 61,
   "id": "9b4747c1",
   "metadata": {
    "colab": {
     "base_uri": "https://localhost:8080/",
     "height": 451
    },
    "id": "9b4747c1",
    "outputId": "6fe3ec6a-74e6-478d-d809-d4fd0426893d"
   },
   "outputs": [
    {
     "data": {
      "image/png": "[encoded data removed]",
      "text/plain": [
       "<Figure size 1000x500 with 2 Axes>"
      ]
     },
     "metadata": {},
     "output_type": "display_data"
    }
   ],
   "source": [
    "plt.figure(figsize=(10,5))\n",
    "sn.heatmap(df.corr(),annot=True,cmap='plasma')\n",
    "plt.show()"
   ]
  },
  {
   "cell_type": "code",
   "execution_count": 62,
   "id": "a5744cad",
   "metadata": {
    "id": "a5744cad"
   },
   "outputs": [],
   "source": [
    "from statsmodels.stats.outliers_influence import variance_inflation_factor\n",
    "col_list = []\n",
    "for col in df.columns:\n",
    "    if ((df[col].dtype != 'object') & (col != 'price') ):#only num cols except for the price column\n",
    "        col_list.append(col)"
   ]
  },
  {
   "cell_type": "code",
   "execution_count": 63,
   "id": "2304bba4",
   "metadata": {
    "colab": {
     "base_uri": "https://localhost:8080/"
    },
    "id": "2304bba4",
    "outputId": "6ba6a184-27ed-4885-b588-2b3cedc8042c"
   },
   "outputs": [
    {
     "data": {
      "text/plain": [
       "['size', 'total_sqft', 'bath']"
      ]
     },
     "execution_count": 63,
     "metadata": {},
     "output_type": "execute_result"
    }
   ],
   "source": [
    "col_list"
   ]
  },
  {
   "cell_type": "code",
   "execution_count": 64,
   "id": "8f6a20a2",
   "metadata": {
    "colab": {
     "base_uri": "https://localhost:8080/",
     "height": 423
    },
    "id": "8f6a20a2",
    "outputId": "3e141ce5-7250-42ae-e8c4-527ce2a5824d"
   },
   "outputs": [
    {
     "data": {
      "text/html": [
       "\n",
       "  <div id=\"df-d6a34da1-99fd-4ea8-9f42-25679c37bc83\">\n",
       "    <div class=\"colab-df-container\">\n",
       "      <div>\n",
       "<style scoped>\n",
       "    .dataframe tbody tr th:only-of-type {\n",
       "        vertical-align: middle;\n",
       "    }\n",
       "\n",
       "    .dataframe tbody tr th {\n",
       "        vertical-align: top;\n",
       "    }\n",
       "\n",
       "    .dataframe thead th {\n",
       "        text-align: right;\n",
       "    }\n",
       "</style>\n",
       "<table border=\"1\" class=\"dataframe\">\n",
       "  <thead>\n",
       "    <tr style=\"text-align: right;\">\n",
       "      <th></th>\n",
       "      <th>size</th>\n",
       "      <th>total_sqft</th>\n",
       "      <th>bath</th>\n",
       "    </tr>\n",
       "  </thead>\n",
       "  <tbody>\n",
       "    <tr>\n",
       "      <th>0</th>\n",
       "      <td>2</td>\n",
       "      <td>1056.0</td>\n",
       "      <td>2</td>\n",
       "    </tr>\n",
       "    <tr>\n",
       "      <th>2</th>\n",
       "      <td>3</td>\n",
       "      <td>1440.0</td>\n",
       "      <td>2</td>\n",
       "    </tr>\n",
       "    <tr>\n",
       "      <th>3</th>\n",
       "      <td>3</td>\n",
       "      <td>1521.0</td>\n",
       "      <td>3</td>\n",
       "    </tr>\n",
       "    <tr>\n",
       "      <th>4</th>\n",
       "      <td>2</td>\n",
       "      <td>1200.0</td>\n",
       "      <td>2</td>\n",
       "    </tr>\n",
       "    <tr>\n",
       "      <th>5</th>\n",
       "      <td>2</td>\n",
       "      <td>1170.0</td>\n",
       "      <td>2</td>\n",
       "    </tr>\n",
       "    <tr>\n",
       "      <th>...</th>\n",
       "      <td>...</td>\n",
       "      <td>...</td>\n",
       "      <td>...</td>\n",
       "    </tr>\n",
       "    <tr>\n",
       "      <th>13309</th>\n",
       "      <td>3</td>\n",
       "      <td>1675.0</td>\n",
       "      <td>3</td>\n",
       "    </tr>\n",
       "    <tr>\n",
       "      <th>13310</th>\n",
       "      <td>2</td>\n",
       "      <td>1050.0</td>\n",
       "      <td>2</td>\n",
       "    </tr>\n",
       "    <tr>\n",
       "      <th>13312</th>\n",
       "      <td>2</td>\n",
       "      <td>1262.0</td>\n",
       "      <td>2</td>\n",
       "    </tr>\n",
       "    <tr>\n",
       "      <th>13314</th>\n",
       "      <td>3</td>\n",
       "      <td>1715.0</td>\n",
       "      <td>3</td>\n",
       "    </tr>\n",
       "    <tr>\n",
       "      <th>13317</th>\n",
       "      <td>2</td>\n",
       "      <td>1141.0</td>\n",
       "      <td>2</td>\n",
       "    </tr>\n",
       "  </tbody>\n",
       "</table>\n",
       "<p>10173 rows × 3 columns</p>\n",
       "</div>\n",
       "      <button class=\"colab-df-convert\" onclick=\"convertToInteractive('df-d6a34da1-99fd-4ea8-9f42-25679c37bc83')\"\n",
       "              title=\"Convert this dataframe to an interactive table.\"\n",
       "              style=\"display:none;\">\n",
       "        \n",
       "  <svg xmlns=\"http://www.w3.org/2000/svg\" height=\"24px\"viewBox=\"0 0 24 24\"\n",
       "       width=\"24px\">\n",
       "    <path d=\"M0 0h24v24H0V0z\" fill=\"none\"/>\n",
       "    <path d=\"M18.56 5.44l.94 2.06.94-2.06 2.06-.94-2.06-.94-.94-2.06-.94 2.06-2.06.94zm-11 1L8.5 8.5l.94-2.06 2.06-.94-2.06-.94L8.5 2.5l-.94 2.06-2.06.94zm10 10l.94 2.06.94-2.06 2.06-.94-2.06-.94-.94-2.06-.94 2.06-2.06.94z\"/><path d=\"M17.41 7.96l-1.37-1.37c-.4-.4-.92-.59-1.43-.59-.52 0-1.04.2-1.43.59L10.3 9.45l-7.72 7.72c-.78.78-.78 2.05 0 2.83L4 21.41c.39.39.9.59 1.41.59.51 0 1.02-.2 1.41-.59l7.78-7.78 2.81-2.81c.8-.78.8-2.07 0-2.86zM5.41 20L4 18.59l7.72-7.72 1.47 1.35L5.41 20z\"/>\n",
       "  </svg>\n",
       "      </button>\n",
       "      \n",
       "  <style>\n",
       "    .colab-df-container {\n",
       "      display:flex;\n",
       "      flex-wrap:wrap;\n",
       "      gap: 12px;\n",
       "    }\n",
       "\n",
       "    .colab-df-convert {\n",
       "      background-color: #E8F0FE;\n",
       "      border: none;\n",
       "      border-radius: 50%;\n",
       "      cursor: pointer;\n",
       "      display: none;\n",
       "      fill: #1967D2;\n",
       "      height: 32px;\n",
       "      padding: 0 0 0 0;\n",
       "      width: 32px;\n",
       "    }\n",
       "\n",
       "    .colab-df-convert:hover {\n",
       "      background-color: #E2EBFA;\n",
       "      box-shadow: 0px 1px 2px rgba(60, 64, 67, 0.3), 0px 1px 3px 1px rgba(60, 64, 67, 0.15);\n",
       "      fill: #174EA6;\n",
       "    }\n",
       "\n",
       "    [theme=dark] .colab-df-convert {\n",
       "      background-color: #3B4455;\n",
       "      fill: #D2E3FC;\n",
       "    }\n",
       "\n",
       "    [theme=dark] .colab-df-convert:hover {\n",
       "      background-color: #434B5C;\n",
       "      box-shadow: 0px 1px 3px 1px rgba(0, 0, 0, 0.15);\n",
       "      filter: drop-shadow(0px 1px 2px rgba(0, 0, 0, 0.3));\n",
       "      fill: #FFFFFF;\n",
       "    }\n",
       "  </style>\n",
       "\n",
       "      <script>\n",
       "        const buttonEl =\n",
       "          document.querySelector('#df-d6a34da1-99fd-4ea8-9f42-25679c37bc83 button.colab-df-convert');\n",
       "        buttonEl.style.display =\n",
       "          google.colab.kernel.accessAllowed ? 'block' : 'none';\n",
       "\n",
       "        async function convertToInteractive(key) {\n",
       "          const element = document.querySelector('#df-d6a34da1-99fd-4ea8-9f42-25679c37bc83');\n",
       "          const dataTable =\n",
       "            await google.colab.kernel.invokeFunction('convertToInteractive',\n",
       "                                                     [key], {});\n",
       "          if (!dataTable) return;\n",
       "\n",
       "          const docLinkHtml = 'Like what you see? Visit the ' +\n",
       "            '<a target=\"_blank\" href=https://colab.research.google.com/notebooks/data_table.ipynb>data table notebook</a>'\n",
       "            + ' to learn more about interactive tables.';\n",
       "          element.innerHTML = '';\n",
       "          dataTable['output_type'] = 'display_data';\n",
       "          await google.colab.output.renderOutput(dataTable, element);\n",
       "          const docLink = document.createElement('div');\n",
       "          docLink.innerHTML = docLinkHtml;\n",
       "          element.appendChild(docLink);\n",
       "        }\n",
       "      </script>\n",
       "    </div>\n",
       "  </div>\n",
       "  "
      ],
      "text/plain": [
       "       size  total_sqft  bath\n",
       "0         2      1056.0     2\n",
       "2         3      1440.0     2\n",
       "3         3      1521.0     3\n",
       "4         2      1200.0     2\n",
       "5         2      1170.0     2\n",
       "...     ...         ...   ...\n",
       "13309     3      1675.0     3\n",
       "13310     2      1050.0     2\n",
       "13312     2      1262.0     2\n",
       "13314     3      1715.0     3\n",
       "13317     2      1141.0     2\n",
       "\n",
       "[10173 rows x 3 columns]"
      ]
     },
     "execution_count": 64,
     "metadata": {},
     "output_type": "execute_result"
    }
   ],
   "source": [
    "X = df[col_list]\n",
    "X"
   ]
  },
  {
   "cell_type": "code",
   "execution_count": 65,
   "id": "5c86d95b",
   "metadata": {
    "colab": {
     "base_uri": "https://localhost:8080/"
    },
    "id": "5c86d95b",
    "outputId": "a97ea9fe-8db0-45b8-9ce3-52f2843d9fce"
   },
   "outputs": [
    {
     "name": "stdout",
     "output_type": "stream",
     "text": [
      "0\n",
      "1\n",
      "2\n"
     ]
    }
   ],
   "source": [
    "for i in range(len(X.columns)):\n",
    "    print(i)"
   ]
  },
  {
   "cell_type": "code",
   "execution_count": 66,
   "id": "51d43576",
   "metadata": {
    "colab": {
     "base_uri": "https://localhost:8080/"
    },
    "id": "51d43576",
    "outputId": "39f260f1-1289-415b-c654-3bfc00fe5666"
   },
   "outputs": [
    {
     "data": {
      "text/plain": [
       "location       0\n",
       "size           0\n",
       "total_sqft    30\n",
       "bath           0\n",
       "price          0\n",
       "dtype: int64"
      ]
     },
     "execution_count": 66,
     "metadata": {},
     "output_type": "execute_result"
    }
   ],
   "source": [
    "df.isna().sum()"
   ]
  },
  {
   "cell_type": "code",
   "execution_count": 67,
   "id": "61af65a8",
   "metadata": {
    "id": "61af65a8"
   },
   "outputs": [],
   "source": [
    "df.dropna(inplace=True)"
   ]
  },
  {
   "cell_type": "code",
   "execution_count": 68,
   "id": "b473eb89",
   "metadata": {
    "colab": {
     "base_uri": "https://localhost:8080/"
    },
    "id": "b473eb89",
    "outputId": "b06162e8-ed83-443a-ff63-ff9429fbf3cb"
   },
   "outputs": [
    {
     "name": "stdout",
     "output_type": "stream",
     "text": [
      "      feature        VIF\n",
      "0        size  32.857358\n",
      "1  total_sqft   3.978759\n",
      "2        bath  32.591579\n"
     ]
    }
   ],
   "source": [
    "from statsmodels.stats.outliers_influence import variance_inflation_factor\n",
    "col_list = []\n",
    "for col in df.columns:\n",
    "    if ((df[col].dtype != 'object') & (col != 'price') ):\n",
    "        col_list.append(col)\n",
    "\n",
    "X = df[col_list]\n",
    "vif_data = pd.DataFrame()\n",
    "vif_data[\"feature\"] = X.columns\n",
    "vif_data[\"VIF\"] = [variance_inflation_factor(X.values, i) for i in range(len(X.columns))]\n",
    "print(vif_data)"
   ]
  },
  {
   "cell_type": "markdown",
   "id": "d5899ba7",
   "metadata": {
    "id": "d5899ba7"
   },
   "source": [
    "Since,size and bath are highly correlated with each other,it will impact model performance due to multicollinearity.\n",
    "so,its better to remove one of the column to avoid further issues.since size of the room is important while taking home.we will remove bath"
   ]
  },
  {
   "cell_type": "code",
   "execution_count": 69,
   "id": "30800cca",
   "metadata": {
    "id": "30800cca"
   },
   "outputs": [],
   "source": [
    "df.drop(columns='bath',inplace=True)"
   ]
  },
  {
   "cell_type": "code",
   "execution_count": 70,
   "id": "abd152f6",
   "metadata": {
    "colab": {
     "base_uri": "https://localhost:8080/",
     "height": 451
    },
    "id": "abd152f6",
    "outputId": "e0572c18-7c2f-4f71-c455-c33ec3283350"
   },
   "outputs": [
    {
     "data": {
      "image/png": "[encoded data removed]",
      "text/plain": [
       "<Figure size 1000x500 with 2 Axes>"
      ]
     },
     "metadata": {},
     "output_type": "display_data"
    }
   ],
   "source": [
    "plt.figure(figsize=(10,5))\n",
    "sn.heatmap(df.corr(),annot=True,cmap='plasma')\n",
    "plt.show()"
   ]
  },
  {
   "cell_type": "code",
   "execution_count": 71,
   "id": "afbb0b23",
   "metadata": {
    "colab": {
     "base_uri": "https://localhost:8080/"
    },
    "id": "afbb0b23",
    "outputId": "768ef821-b84b-4abb-cc0c-33570117a2f9"
   },
   "outputs": [
    {
     "name": "stdout",
     "output_type": "stream",
     "text": [
      "      feature       VIF\n",
      "0        size  3.902636\n",
      "1  total_sqft  3.902636\n"
     ]
    }
   ],
   "source": [
    "from statsmodels.stats.outliers_influence import variance_inflation_factor\n",
    "col_list = []\n",
    "for col in df.columns:\n",
    "    if ((df[col].dtype != 'object') & (col != 'price') ):\n",
    "        col_list.append(col)\n",
    "\n",
    "X = df[col_list]\n",
    "vif_data = pd.DataFrame()\n",
    "vif_data[\"feature\"] = X.columns\n",
    "vif_data[\"VIF\"] = [variance_inflation_factor(X.values, i) for i in range(len(X.columns))]\n",
    "print(vif_data)"
   ]
  },
  {
   "cell_type": "code",
   "execution_count": 72,
   "id": "df01210b",
   "metadata": {
    "colab": {
     "base_uri": "https://localhost:8080/",
     "height": 206
    },
    "id": "df01210b",
    "outputId": "713d8a78-7c53-4466-86bd-5abd93e14c30"
   },
   "outputs": [
    {
     "data": {
      "text/html": [
       "\n",
       "  <div id=\"df-8667a5db-eef7-4f8a-91e2-491997f136a6\">\n",
       "    <div class=\"colab-df-container\">\n",
       "      <div>\n",
       "<style scoped>\n",
       "    .dataframe tbody tr th:only-of-type {\n",
       "        vertical-align: middle;\n",
       "    }\n",
       "\n",
       "    .dataframe tbody tr th {\n",
       "        vertical-align: top;\n",
       "    }\n",
       "\n",
       "    .dataframe thead th {\n",
       "        text-align: right;\n",
       "    }\n",
       "</style>\n",
       "<table border=\"1\" class=\"dataframe\">\n",
       "  <thead>\n",
       "    <tr style=\"text-align: right;\">\n",
       "      <th></th>\n",
       "      <th>location</th>\n",
       "      <th>size</th>\n",
       "      <th>total_sqft</th>\n",
       "      <th>price</th>\n",
       "    </tr>\n",
       "  </thead>\n",
       "  <tbody>\n",
       "    <tr>\n",
       "      <th>0</th>\n",
       "      <td>Electronic City Phase II</td>\n",
       "      <td>2</td>\n",
       "      <td>1056.0</td>\n",
       "      <td>39.07</td>\n",
       "    </tr>\n",
       "    <tr>\n",
       "      <th>2</th>\n",
       "      <td>Uttarahalli</td>\n",
       "      <td>3</td>\n",
       "      <td>1440.0</td>\n",
       "      <td>62.00</td>\n",
       "    </tr>\n",
       "    <tr>\n",
       "      <th>3</th>\n",
       "      <td>Lingadheeranahalli</td>\n",
       "      <td>3</td>\n",
       "      <td>1521.0</td>\n",
       "      <td>95.00</td>\n",
       "    </tr>\n",
       "    <tr>\n",
       "      <th>4</th>\n",
       "      <td>Kothanur</td>\n",
       "      <td>2</td>\n",
       "      <td>1200.0</td>\n",
       "      <td>51.00</td>\n",
       "    </tr>\n",
       "    <tr>\n",
       "      <th>5</th>\n",
       "      <td>Whitefield</td>\n",
       "      <td>2</td>\n",
       "      <td>1170.0</td>\n",
       "      <td>38.00</td>\n",
       "    </tr>\n",
       "  </tbody>\n",
       "</table>\n",
       "</div>\n",
       "      <button class=\"colab-df-convert\" onclick=\"convertToInteractive('df-8667a5db-eef7-4f8a-91e2-491997f136a6')\"\n",
       "              title=\"Convert this dataframe to an interactive table.\"\n",
       "              style=\"display:none;\">\n",
       "        \n",
       "  <svg xmlns=\"http://www.w3.org/2000/svg\" height=\"24px\"viewBox=\"0 0 24 24\"\n",
       "       width=\"24px\">\n",
       "    <path d=\"M0 0h24v24H0V0z\" fill=\"none\"/>\n",
       "    <path d=\"M18.56 5.44l.94 2.06.94-2.06 2.06-.94-2.06-.94-.94-2.06-.94 2.06-2.06.94zm-11 1L8.5 8.5l.94-2.06 2.06-.94-2.06-.94L8.5 2.5l-.94 2.06-2.06.94zm10 10l.94 2.06.94-2.06 2.06-.94-2.06-.94-.94-2.06-.94 2.06-2.06.94z\"/><path d=\"M17.41 7.96l-1.37-1.37c-.4-.4-.92-.59-1.43-.59-.52 0-1.04.2-1.43.59L10.3 9.45l-7.72 7.72c-.78.78-.78 2.05 0 2.83L4 21.41c.39.39.9.59 1.41.59.51 0 1.02-.2 1.41-.59l7.78-7.78 2.81-2.81c.8-.78.8-2.07 0-2.86zM5.41 20L4 18.59l7.72-7.72 1.47 1.35L5.41 20z\"/>\n",
       "  </svg>\n",
       "      </button>\n",
       "      \n",
       "  <style>\n",
       "    .colab-df-container {\n",
       "      display:flex;\n",
       "      flex-wrap:wrap;\n",
       "      gap: 12px;\n",
       "    }\n",
       "\n",
       "    .colab-df-convert {\n",
       "      background-color: #E8F0FE;\n",
       "      border: none;\n",
       "      border-radius: 50%;\n",
       "      cursor: pointer;\n",
       "      display: none;\n",
       "      fill: #1967D2;\n",
       "      height: 32px;\n",
       "      padding: 0 0 0 0;\n",
       "      width: 32px;\n",
       "    }\n",
       "\n",
       "    .colab-df-convert:hover {\n",
       "      background-color: #E2EBFA;\n",
       "      box-shadow: 0px 1px 2px rgba(60, 64, 67, 0.3), 0px 1px 3px 1px rgba(60, 64, 67, 0.15);\n",
       "      fill: #174EA6;\n",
       "    }\n",
       "\n",
       "    [theme=dark] .colab-df-convert {\n",
       "      background-color: #3B4455;\n",
       "      fill: #D2E3FC;\n",
       "    }\n",
       "\n",
       "    [theme=dark] .colab-df-convert:hover {\n",
       "      background-color: #434B5C;\n",
       "      box-shadow: 0px 1px 3px 1px rgba(0, 0, 0, 0.15);\n",
       "      filter: drop-shadow(0px 1px 2px rgba(0, 0, 0, 0.3));\n",
       "      fill: #FFFFFF;\n",
       "    }\n",
       "  </style>\n",
       "\n",
       "      <script>\n",
       "        const buttonEl =\n",
       "          document.querySelector('#df-8667a5db-eef7-4f8a-91e2-491997f136a6 button.colab-df-convert');\n",
       "        buttonEl.style.display =\n",
       "          google.colab.kernel.accessAllowed ? 'block' : 'none';\n",
       "\n",
       "        async function convertToInteractive(key) {\n",
       "          const element = document.querySelector('#df-8667a5db-eef7-4f8a-91e2-491997f136a6');\n",
       "          const dataTable =\n",
       "            await google.colab.kernel.invokeFunction('convertToInteractive',\n",
       "                                                     [key], {});\n",
       "          if (!dataTable) return;\n",
       "\n",
       "          const docLinkHtml = 'Like what you see? Visit the ' +\n",
       "            '<a target=\"_blank\" href=https://colab.research.google.com/notebooks/data_table.ipynb>data table notebook</a>'\n",
       "            + ' to learn more about interactive tables.';\n",
       "          element.innerHTML = '';\n",
       "          dataTable['output_type'] = 'display_data';\n",
       "          await google.colab.output.renderOutput(dataTable, element);\n",
       "          const docLink = document.createElement('div');\n",
       "          docLink.innerHTML = docLinkHtml;\n",
       "          element.appendChild(docLink);\n",
       "        }\n",
       "      </script>\n",
       "    </div>\n",
       "  </div>\n",
       "  "
      ],
      "text/plain": [
       "                   location  size  total_sqft  price\n",
       "0  Electronic City Phase II     2      1056.0  39.07\n",
       "2               Uttarahalli     3      1440.0  62.00\n",
       "3        Lingadheeranahalli     3      1521.0  95.00\n",
       "4                  Kothanur     2      1200.0  51.00\n",
       "5                Whitefield     2      1170.0  38.00"
      ]
     },
     "execution_count": 72,
     "metadata": {},
     "output_type": "execute_result"
    }
   ],
   "source": [
    "df.head()"
   ]
  },
  {
   "cell_type": "code",
   "execution_count": 73,
   "id": "197e2ca6",
   "metadata": {
    "id": "197e2ca6"
   },
   "outputs": [],
   "source": [
    "df.to_csv('Banglore house price prediction.csv',index=None)"
   ]
  },
  {
   "cell_type": "markdown",
   "id": "57a2959c",
   "metadata": {
    "id": "57a2959c"
   },
   "source": [
    "# Model buliding"
   ]
  },
  {
   "cell_type": "code",
   "execution_count": 74,
   "id": "ee045aea",
   "metadata": {
    "id": "ee045aea"
   },
   "outputs": [],
   "source": [
    "test = df['price']\n",
    "train = df.drop(['price'],axis = 1)"
   ]
  },
  {
   "cell_type": "code",
   "execution_count": 75,
   "id": "a026d083",
   "metadata": {
    "id": "a026d083"
   },
   "outputs": [],
   "source": [
    "from sklearn.model_selection import train_test_split\n",
    "from sklearn.preprocessing import MinMaxScaler,StandardScaler\n",
    "from sklearn.pipeline import Pipeline\n",
    "from sklearn.compose import ColumnTransformer\n",
    "from sklearn.preprocessing import LabelEncoder,OneHotEncoder\n",
    "from sklearn import metrics\n",
    "from sklearn.model_selection import GridSearchCV,RandomizedSearchCV\n",
    "from sklearn.linear_model import LinearRegression,Lasso,Ridge\n",
    "from sklearn.tree import DecisionTreeRegressor\n",
    "from sklearn.ensemble import RandomForestRegressor,GradientBoostingRegressor,AdaBoostRegressor\n",
    "from xgboost import XGBRegressor\n",
    "from sklearn.svm import SVR\n",
    "from sklearn.neighbors import KNeighborsRegressor\n",
    "from sklearn import tree"
   ]
  },
  {
   "cell_type": "code",
   "execution_count": 76,
   "id": "e90de685",
   "metadata": {
    "colab": {
     "base_uri": "https://localhost:8080/"
    },
    "id": "e90de685",
    "outputId": "b4725379-4386-4924-e2ca-32536623133f"
   },
   "outputs": [
    {
     "data": {
      "text/plain": [
       "((8621, 3), (1522, 3))"
      ]
     },
     "execution_count": 76,
     "metadata": {},
     "output_type": "execute_result"
    }
   ],
   "source": [
    "X_train, X_test, y_train, y_test = train_test_split(train,test,\n",
    "                                                   test_size=0.15,random_state=2)\n",
    "\n",
    "X_train.shape,X_test.shape"
   ]
  },
  {
   "cell_type": "markdown",
   "id": "58da55e7",
   "metadata": {
    "id": "58da55e7"
   },
   "source": [
    "There's a Class which we imported named as Column Trasnformer we use this widely while building our models using Pipelines,so for this we have to get the index numbers of the columns which are having categorical variables"
   ]
  },
  {
   "cell_type": "code",
   "execution_count": 77,
   "id": "bf15cae6",
   "metadata": {
    "colab": {
     "base_uri": "https://localhost:8080/"
    },
    "id": "bf15cae6",
    "outputId": "5a2db6d4-7c32-40f3-f6ce-aab6d5b6c5b2"
   },
   "outputs": [
    {
     "data": {
      "text/plain": [
       "{0: 'location', 1: 'size', 2: 'total_sqft'}"
      ]
     },
     "execution_count": 77,
     "metadata": {},
     "output_type": "execute_result"
    }
   ],
   "source": [
    "mapper = {i:value for i,value in enumerate(X_train.columns)}\n",
    "mapper"
   ]
  },
  {
   "cell_type": "markdown",
   "id": "87bfb0bd",
   "metadata": {
    "id": "87bfb0bd"
   },
   "source": [
    "### Linear Regression"
   ]
  },
  {
   "cell_type": "code",
   "execution_count": 78,
   "id": "cc15c248",
   "metadata": {
    "colab": {
     "base_uri": "https://localhost:8080/"
    },
    "id": "cc15c248",
    "outputId": "262a1700-609e-400c-fe97-9091d546b198"
   },
   "outputs": [
    {
     "name": "stdout",
     "output_type": "stream",
     "text": [
      "R2 score 0.44595274452591116\n",
      "MAE 18.641642802894722\n"
     ]
    }
   ],
   "source": [
    "step1 = ColumnTransformer(transformers=[\n",
    "    ('col_tnf1',OneHotEncoder(sparse=False,drop='first'),[0]),\n",
    "    ('col_tnf2',MinMaxScaler(feature_range=(0, 1)),[1,2])\n",
    "],remainder='passthrough')\n",
    "\n",
    "step2 = LinearRegression()\n",
    "\n",
    "pipe = Pipeline([\n",
    "    ('step1',step1),\n",
    "    ('step2',step2)\n",
    "])\n",
    "\n",
    "pipe.fit(X_train,y_train)\n",
    "\n",
    "y_pred = pipe.predict(X_test)\n",
    "\n",
    "print('R2 score',metrics.r2_score(y_test,y_pred))\n",
    "print('MAE',metrics.mean_absolute_error(y_test,y_pred))"
   ]
  },
  {
   "cell_type": "code",
   "execution_count": 78,
   "id": "75f8ab93",
   "metadata": {
    "id": "75f8ab93"
   },
   "outputs": [],
   "source": []
  },
  {
   "cell_type": "markdown",
   "id": "7085801a",
   "metadata": {
    "id": "7085801a"
   },
   "source": [
    "### Ridge Regression"
   ]
  },
  {
   "cell_type": "code",
   "execution_count": 79,
   "id": "00a1b0c6",
   "metadata": {
    "colab": {
     "base_uri": "https://localhost:8080/"
    },
    "id": "00a1b0c6",
    "outputId": "cece21c1-8b3a-486f-dc55-efb3f7fd3c8a"
   },
   "outputs": [
    {
     "name": "stdout",
     "output_type": "stream",
     "text": [
      "R2 score 0.44331980543479665\n",
      "MAE 19.237882597935716\n"
     ]
    }
   ],
   "source": [
    "step1 = ColumnTransformer(transformers=[\n",
    "    ('col_tnf',OneHotEncoder(sparse=False,drop='first'),[0]),\n",
    "    ('col_tnf2',MinMaxScaler(feature_range=(0, 1)),[1,2])\n",
    "],remainder='passthrough')\n",
    "\n",
    "step2 = Ridge(alpha=10)\n",
    "\n",
    "pipe = Pipeline([\n",
    "    ('step1',step1),\n",
    "    ('step2',step2)\n",
    "])\n",
    "\n",
    "pipe.fit(X_train,y_train)\n",
    "\n",
    "y_pred = pipe.predict(X_test)\n",
    "\n",
    "print('R2 score',metrics.r2_score(y_test,y_pred))\n",
    "print('MAE',metrics.mean_absolute_error(y_test,y_pred))"
   ]
  },
  {
   "cell_type": "markdown",
   "id": "472c4b40",
   "metadata": {
    "id": "472c4b40"
   },
   "source": [
    "### Lasso regression"
   ]
  },
  {
   "cell_type": "code",
   "execution_count": 80,
   "id": "824013ef",
   "metadata": {
    "colab": {
     "base_uri": "https://localhost:8080/"
    },
    "id": "824013ef",
    "outputId": "3dc23f58-4b04-4933-943a-9b1db924f26b"
   },
   "outputs": [
    {
     "name": "stdout",
     "output_type": "stream",
     "text": [
      "R2 score 0.44974299376281646\n",
      "MAE 18.58071527150165\n"
     ]
    }
   ],
   "source": [
    "step1 = ColumnTransformer(transformers=[\n",
    "    ('col_tnf',OneHotEncoder(sparse=False,drop='first'),[0]),\n",
    "    ('col_tnf2',MinMaxScaler(feature_range=(0, 1)),[1,2])\n",
    "],remainder='passthrough')\n",
    "\n",
    "step2 = Lasso(alpha=0.001)\n",
    "\n",
    "pipe = Pipeline([\n",
    "    ('step1',step1),\n",
    "    ('step2',step2)\n",
    "])\n",
    "\n",
    "pipe.fit(X_train,y_train)\n",
    "\n",
    "y_pred = pipe.predict(X_test)\n",
    "\n",
    "print('R2 score',metrics.r2_score(y_test,y_pred))\n",
    "print('MAE',metrics.mean_absolute_error(y_test,y_pred))"
   ]
  },
  {
   "cell_type": "markdown",
   "id": "8a1db88a",
   "metadata": {
    "id": "8a1db88a"
   },
   "source": [
    "### Decision Tree"
   ]
  },
  {
   "cell_type": "code",
   "execution_count": 81,
   "id": "09bc0692",
   "metadata": {
    "colab": {
     "base_uri": "https://localhost:8080/"
    },
    "id": "09bc0692",
    "outputId": "5758efd5-0b14-490c-f3bc-a177b80b74d5"
   },
   "outputs": [
    {
     "name": "stdout",
     "output_type": "stream",
     "text": [
      "R2 score 0.49664635352287834\n",
      "MAE 16.350287437980963\n"
     ]
    }
   ],
   "source": [
    "step1 = ColumnTransformer(transformers=[\n",
    "    ('col_tnf',OneHotEncoder(sparse=False,drop='first'),[0]),\n",
    "    ('col_tnf2',MinMaxScaler(feature_range=(0, 1)),[1,2])\n",
    "],remainder='passthrough')\n",
    "\n",
    "step2 = DecisionTreeRegressor()\n",
    "\n",
    "pipe = Pipeline([\n",
    "    ('step1',step1),\n",
    "    ('step2',step2)\n",
    "])\n",
    "\n",
    "pipe.fit(X_train,y_train)\n",
    "\n",
    "y_pred = pipe.predict(X_test)\n",
    "\n",
    "print('R2 score',metrics.r2_score(y_test,y_pred))\n",
    "print('MAE',metrics.mean_absolute_error(y_test,y_pred))"
   ]
  },
  {
   "cell_type": "markdown",
   "id": "aae7e4c5",
   "metadata": {
    "id": "aae7e4c5"
   },
   "source": [
    "### Random Forest"
   ]
  },
  {
   "cell_type": "code",
   "execution_count": 82,
   "id": "815e04ff",
   "metadata": {
    "colab": {
     "base_uri": "https://localhost:8080/"
    },
    "id": "815e04ff",
    "outputId": "cc39362d-ce6d-417f-d865-0ade4f154eb3"
   },
   "outputs": [
    {
     "name": "stdout",
     "output_type": "stream",
     "text": [
      "R2 score 0.6046383017722989\n",
      "MAE 14.706643775216676\n"
     ]
    }
   ],
   "source": [
    "step1 = ColumnTransformer(transformers=[\n",
    "    ('col_tnf',OneHotEncoder(sparse=False,drop='first'),[0]),\n",
    "    ('col_tnf2',MinMaxScaler(feature_range=(0, 1)),[1,2])\n",
    "],remainder='passthrough')\n",
    "\n",
    "step2 = RandomForestRegressor()\n",
    "\n",
    "pipe = Pipeline([\n",
    "    ('step1',step1),\n",
    "    ('step2',step2)\n",
    "])\n",
    "\n",
    "pipe.fit(X_train,y_train)\n",
    "\n",
    "y_pred = pipe.predict(X_test)\n",
    "\n",
    "print('R2 score',metrics.r2_score(y_test,y_pred))\n",
    "print('MAE',metrics.mean_absolute_error(y_test,y_pred))"
   ]
  },
  {
   "cell_type": "markdown",
   "id": "3e60e2aa",
   "metadata": {
    "id": "3e60e2aa"
   },
   "source": [
    "### Adaboost"
   ]
  },
  {
   "cell_type": "code",
   "execution_count": 83,
   "id": "05256fe5",
   "metadata": {
    "colab": {
     "base_uri": "https://localhost:8080/"
    },
    "id": "05256fe5",
    "outputId": "d231caef-38a8-4881-a7ca-8eb8d42a3aca"
   },
   "outputs": [
    {
     "name": "stdout",
     "output_type": "stream",
     "text": [
      "R2 score 0.4666986875441549\n",
      "MAE 20.50211273912232\n"
     ]
    }
   ],
   "source": [
    "step1 = ColumnTransformer(transformers=[\n",
    "    ('col_tnf',OneHotEncoder(sparse=False,drop='first'),[0]),\n",
    "    ('col_tnf2',MinMaxScaler(feature_range=(0, 1)),[1,2])\n",
    "],remainder='passthrough')\n",
    "\n",
    "step2 = AdaBoostRegressor()\n",
    "\n",
    "pipe = Pipeline([\n",
    "    ('step1',step1),\n",
    "    ('step2',step2)\n",
    "])\n",
    "\n",
    "pipe.fit(X_train,y_train)\n",
    "\n",
    "y_pred = pipe.predict(X_test)\n",
    "\n",
    "print('R2 score',metrics.r2_score(y_test,y_pred))\n",
    "print('MAE',metrics.mean_absolute_error(y_test,y_pred))"
   ]
  },
  {
   "cell_type": "markdown",
   "id": "ddcf16a9",
   "metadata": {
    "id": "ddcf16a9"
   },
   "source": [
    "### Gradient boost"
   ]
  },
  {
   "cell_type": "code",
   "execution_count": 84,
   "id": "34b13c79",
   "metadata": {
    "colab": {
     "base_uri": "https://localhost:8080/"
    },
    "id": "34b13c79",
    "outputId": "1ba69946-c13a-4ed2-ce18-912bfd7ff5ca"
   },
   "outputs": [
    {
     "name": "stdout",
     "output_type": "stream",
     "text": [
      "R2 score 0.6120473759865728\n",
      "MAE 15.881857847551366\n"
     ]
    }
   ],
   "source": [
    "step1 = ColumnTransformer(transformers=[\n",
    "    ('col_tnf',OneHotEncoder(sparse=False,drop='first'),[0]),\n",
    "    ('col_tnf2',MinMaxScaler(feature_range=(0, 1)),[1,2])\n",
    "],remainder='passthrough')\n",
    "\n",
    "step2 = GradientBoostingRegressor()\n",
    "\n",
    "pipe = Pipeline([\n",
    "    ('step1',step1),\n",
    "    ('step2',step2)\n",
    "])\n",
    "\n",
    "pipe.fit(X_train,y_train)\n",
    "\n",
    "y_pred = pipe.predict(X_test)\n",
    "\n",
    "print('R2 score',metrics.r2_score(y_test,y_pred))\n",
    "print('MAE',metrics.mean_absolute_error(y_test,y_pred))"
   ]
  },
  {
   "cell_type": "markdown",
   "id": "9f8de1bd",
   "metadata": {
    "id": "9f8de1bd"
   },
   "source": [
    "### XgbRegressor"
   ]
  },
  {
   "cell_type": "code",
   "execution_count": 85,
   "id": "a832fdab",
   "metadata": {
    "colab": {
     "base_uri": "https://localhost:8080/"
    },
    "id": "a832fdab",
    "outputId": "dda17966-e029-4c9e-d363-1e6923d4476b"
   },
   "outputs": [
    {
     "name": "stdout",
     "output_type": "stream",
     "text": [
      "R2 score 0.6415737739540558\n",
      "MAE 14.581753863110338\n"
     ]
    }
   ],
   "source": [
    "step1 = ColumnTransformer(transformers=[\n",
    "    ('col_tnf',OneHotEncoder(sparse=False,drop='first'),[0]),\n",
    "    ('col_tnf2',MinMaxScaler(feature_range=(0, 1)),[1,2])\n",
    "],remainder='passthrough')\n",
    "\n",
    "step2 = XGBRegressor()\n",
    "\n",
    "pipe = Pipeline([\n",
    "    ('step1',step1),\n",
    "    ('step2',step2)\n",
    "])\n",
    "\n",
    "pipe.fit(X_train,y_train)\n",
    "\n",
    "y_pred = pipe.predict(X_test)\n",
    "\n",
    "print('R2 score',metrics.r2_score(y_test,y_pred))\n",
    "print('MAE',metrics.mean_absolute_error(y_test,y_pred))"
   ]
  },
  {
   "cell_type": "markdown",
   "id": "c10d4b09",
   "metadata": {
    "id": "c10d4b09"
   },
   "source": [
    "### SVM"
   ]
  },
  {
   "cell_type": "code",
   "execution_count": 86,
   "id": "c38170b4",
   "metadata": {
    "colab": {
     "base_uri": "https://localhost:8080/"
    },
    "id": "c38170b4",
    "outputId": "f0d747aa-aeb6-42a7-fe05-5b4bb2a54e86"
   },
   "outputs": [
    {
     "name": "stdout",
     "output_type": "stream",
     "text": [
      "R2 score -0.8667780508940783\n",
      "MAE 17.258792887503702\n"
     ]
    }
   ],
   "source": [
    "step1 = ColumnTransformer(transformers=[\n",
    "    ('col_tnf',OneHotEncoder(sparse=False,drop='first'),[0]),\n",
    "    ('col_tnf2',MinMaxScaler(feature_range=(0, 1)),[1,2])\n",
    "],remainder='passthrough')\n",
    "\n",
    "step2 = SVR(kernel='rbf',C=10000,epsilon=0.1)\n",
    "\n",
    "pipe = Pipeline([\n",
    "    ('step1',step1),\n",
    "    ('step2',step2)\n",
    "])\n",
    "\n",
    "pipe.fit(X_train,y_train)\n",
    "\n",
    "y_pred = pipe.predict(X_test)\n",
    "\n",
    "print('R2 score',metrics.r2_score(y_test,y_pred))\n",
    "print('MAE',metrics.mean_absolute_error(y_test,y_pred))"
   ]
  },
  {
   "cell_type": "markdown",
   "id": "39637ba7",
   "metadata": {
    "id": "39637ba7"
   },
   "source": [
    "### Hyperparameter Tuning"
   ]
  },
  {
   "cell_type": "code",
   "execution_count": 87,
   "id": "65c49194",
   "metadata": {
    "colab": {
     "base_uri": "https://localhost:8080/"
    },
    "id": "65c49194",
    "outputId": "00f89e89-0aa2-4ddb-d01f-034662aa6018"
   },
   "outputs": [
    {
     "data": {
      "text/plain": [
       "['location']"
      ]
     },
     "execution_count": 87,
     "metadata": {},
     "output_type": "execute_result"
    }
   ],
   "source": [
    "indexlist = [0]\n",
    "transformlist = []\n",
    "for key,value in mapper.items():\n",
    "    if key in indexlist:\n",
    "        transformlist.append(value)\n",
    "\n",
    "transformlist"
   ]
  },
  {
   "cell_type": "code",
   "execution_count": 88,
   "id": "ed7fb841",
   "metadata": {
    "colab": {
     "base_uri": "https://localhost:8080/",
     "height": 334
    },
    "id": "ed7fb841",
    "outputId": "e16f059d-42f8-4239-a34a-0c619d9954b6"
   },
   "outputs": [
    {
     "data": {
      "text/html": [
       "\n",
       "  <div id=\"df-ad1f3625-1a84-4196-b014-2d2e227b7975\">\n",
       "    <div class=\"colab-df-container\">\n",
       "      <div>\n",
       "<style scoped>\n",
       "    .dataframe tbody tr th:only-of-type {\n",
       "        vertical-align: middle;\n",
       "    }\n",
       "\n",
       "    .dataframe tbody tr th {\n",
       "        vertical-align: top;\n",
       "    }\n",
       "\n",
       "    .dataframe thead th {\n",
       "        text-align: right;\n",
       "    }\n",
       "</style>\n",
       "<table border=\"1\" class=\"dataframe\">\n",
       "  <thead>\n",
       "    <tr style=\"text-align: right;\">\n",
       "      <th></th>\n",
       "      <th>size</th>\n",
       "      <th>total_sqft</th>\n",
       "      <th>location_1st Phase JP Nagar</th>\n",
       "      <th>location_2nd Stage Nagarbhavi</th>\n",
       "      <th>location_5th Block Hbr Layout</th>\n",
       "      <th>location_5th Phase JP Nagar</th>\n",
       "      <th>location_6th Phase JP Nagar</th>\n",
       "      <th>location_7th Phase JP Nagar</th>\n",
       "      <th>location_8th Phase JP Nagar</th>\n",
       "      <th>location_9th Phase JP Nagar</th>\n",
       "      <th>...</th>\n",
       "      <th>location_Vishveshwarya Layout</th>\n",
       "      <th>location_Vishwapriya Layout</th>\n",
       "      <th>location_Vittasandra</th>\n",
       "      <th>location_Whitefield</th>\n",
       "      <th>location_Yelachenahalli</th>\n",
       "      <th>location_Yelahanka</th>\n",
       "      <th>location_Yelahanka New Town</th>\n",
       "      <th>location_Yelenahalli</th>\n",
       "      <th>location_Yeshwanthpur</th>\n",
       "      <th>location_other</th>\n",
       "    </tr>\n",
       "  </thead>\n",
       "  <tbody>\n",
       "    <tr>\n",
       "      <th>0</th>\n",
       "      <td>2</td>\n",
       "      <td>1056.0</td>\n",
       "      <td>0</td>\n",
       "      <td>0</td>\n",
       "      <td>0</td>\n",
       "      <td>0</td>\n",
       "      <td>0</td>\n",
       "      <td>0</td>\n",
       "      <td>0</td>\n",
       "      <td>0</td>\n",
       "      <td>...</td>\n",
       "      <td>0</td>\n",
       "      <td>0</td>\n",
       "      <td>0</td>\n",
       "      <td>0</td>\n",
       "      <td>0</td>\n",
       "      <td>0</td>\n",
       "      <td>0</td>\n",
       "      <td>0</td>\n",
       "      <td>0</td>\n",
       "      <td>0</td>\n",
       "    </tr>\n",
       "    <tr>\n",
       "      <th>2</th>\n",
       "      <td>3</td>\n",
       "      <td>1440.0</td>\n",
       "      <td>0</td>\n",
       "      <td>0</td>\n",
       "      <td>0</td>\n",
       "      <td>0</td>\n",
       "      <td>0</td>\n",
       "      <td>0</td>\n",
       "      <td>0</td>\n",
       "      <td>0</td>\n",
       "      <td>...</td>\n",
       "      <td>0</td>\n",
       "      <td>0</td>\n",
       "      <td>0</td>\n",
       "      <td>0</td>\n",
       "      <td>0</td>\n",
       "      <td>0</td>\n",
       "      <td>0</td>\n",
       "      <td>0</td>\n",
       "      <td>0</td>\n",
       "      <td>0</td>\n",
       "    </tr>\n",
       "    <tr>\n",
       "      <th>3</th>\n",
       "      <td>3</td>\n",
       "      <td>1521.0</td>\n",
       "      <td>0</td>\n",
       "      <td>0</td>\n",
       "      <td>0</td>\n",
       "      <td>0</td>\n",
       "      <td>0</td>\n",
       "      <td>0</td>\n",
       "      <td>0</td>\n",
       "      <td>0</td>\n",
       "      <td>...</td>\n",
       "      <td>0</td>\n",
       "      <td>0</td>\n",
       "      <td>0</td>\n",
       "      <td>0</td>\n",
       "      <td>0</td>\n",
       "      <td>0</td>\n",
       "      <td>0</td>\n",
       "      <td>0</td>\n",
       "      <td>0</td>\n",
       "      <td>0</td>\n",
       "    </tr>\n",
       "    <tr>\n",
       "      <th>4</th>\n",
       "      <td>2</td>\n",
       "      <td>1200.0</td>\n",
       "      <td>0</td>\n",
       "      <td>0</td>\n",
       "      <td>0</td>\n",
       "      <td>0</td>\n",
       "      <td>0</td>\n",
       "      <td>0</td>\n",
       "      <td>0</td>\n",
       "      <td>0</td>\n",
       "      <td>...</td>\n",
       "      <td>0</td>\n",
       "      <td>0</td>\n",
       "      <td>0</td>\n",
       "      <td>0</td>\n",
       "      <td>0</td>\n",
       "      <td>0</td>\n",
       "      <td>0</td>\n",
       "      <td>0</td>\n",
       "      <td>0</td>\n",
       "      <td>0</td>\n",
       "    </tr>\n",
       "    <tr>\n",
       "      <th>5</th>\n",
       "      <td>2</td>\n",
       "      <td>1170.0</td>\n",
       "      <td>0</td>\n",
       "      <td>0</td>\n",
       "      <td>0</td>\n",
       "      <td>0</td>\n",
       "      <td>0</td>\n",
       "      <td>0</td>\n",
       "      <td>0</td>\n",
       "      <td>0</td>\n",
       "      <td>...</td>\n",
       "      <td>0</td>\n",
       "      <td>0</td>\n",
       "      <td>0</td>\n",
       "      <td>1</td>\n",
       "      <td>0</td>\n",
       "      <td>0</td>\n",
       "      <td>0</td>\n",
       "      <td>0</td>\n",
       "      <td>0</td>\n",
       "      <td>0</td>\n",
       "    </tr>\n",
       "  </tbody>\n",
       "</table>\n",
       "<p>5 rows × 232 columns</p>\n",
       "</div>\n",
       "      <button class=\"colab-df-convert\" onclick=\"convertToInteractive('df-ad1f3625-1a84-4196-b014-2d2e227b7975')\"\n",
       "              title=\"Convert this dataframe to an interactive table.\"\n",
       "              style=\"display:none;\">\n",
       "        \n",
       "  <svg xmlns=\"http://www.w3.org/2000/svg\" height=\"24px\"viewBox=\"0 0 24 24\"\n",
       "       width=\"24px\">\n",
       "    <path d=\"M0 0h24v24H0V0z\" fill=\"none\"/>\n",
       "    <path d=\"M18.56 5.44l.94 2.06.94-2.06 2.06-.94-2.06-.94-.94-2.06-.94 2.06-2.06.94zm-11 1L8.5 8.5l.94-2.06 2.06-.94-2.06-.94L8.5 2.5l-.94 2.06-2.06.94zm10 10l.94 2.06.94-2.06 2.06-.94-2.06-.94-.94-2.06-.94 2.06-2.06.94z\"/><path d=\"M17.41 7.96l-1.37-1.37c-.4-.4-.92-.59-1.43-.59-.52 0-1.04.2-1.43.59L10.3 9.45l-7.72 7.72c-.78.78-.78 2.05 0 2.83L4 21.41c.39.39.9.59 1.41.59.51 0 1.02-.2 1.41-.59l7.78-7.78 2.81-2.81c.8-.78.8-2.07 0-2.86zM5.41 20L4 18.59l7.72-7.72 1.47 1.35L5.41 20z\"/>\n",
       "  </svg>\n",
       "      </button>\n",
       "      \n",
       "  <style>\n",
       "    .colab-df-container {\n",
       "      display:flex;\n",
       "      flex-wrap:wrap;\n",
       "      gap: 12px;\n",
       "    }\n",
       "\n",
       "    .colab-df-convert {\n",
       "      background-color: #E8F0FE;\n",
       "      border: none;\n",
       "      border-radius: 50%;\n",
       "      cursor: pointer;\n",
       "      display: none;\n",
       "      fill: #1967D2;\n",
       "      height: 32px;\n",
       "      padding: 0 0 0 0;\n",
       "      width: 32px;\n",
       "    }\n",
       "\n",
       "    .colab-df-convert:hover {\n",
       "      background-color: #E2EBFA;\n",
       "      box-shadow: 0px 1px 2px rgba(60, 64, 67, 0.3), 0px 1px 3px 1px rgba(60, 64, 67, 0.15);\n",
       "      fill: #174EA6;\n",
       "    }\n",
       "\n",
       "    [theme=dark] .colab-df-convert {\n",
       "      background-color: #3B4455;\n",
       "      fill: #D2E3FC;\n",
       "    }\n",
       "\n",
       "    [theme=dark] .colab-df-convert:hover {\n",
       "      background-color: #434B5C;\n",
       "      box-shadow: 0px 1px 3px 1px rgba(0, 0, 0, 0.15);\n",
       "      filter: drop-shadow(0px 1px 2px rgba(0, 0, 0, 0.3));\n",
       "      fill: #FFFFFF;\n",
       "    }\n",
       "  </style>\n",
       "\n",
       "      <script>\n",
       "        const buttonEl =\n",
       "          document.querySelector('#df-ad1f3625-1a84-4196-b014-2d2e227b7975 button.colab-df-convert');\n",
       "        buttonEl.style.display =\n",
       "          google.colab.kernel.accessAllowed ? 'block' : 'none';\n",
       "\n",
       "        async function convertToInteractive(key) {\n",
       "          const element = document.querySelector('#df-ad1f3625-1a84-4196-b014-2d2e227b7975');\n",
       "          const dataTable =\n",
       "            await google.colab.kernel.invokeFunction('convertToInteractive',\n",
       "                                                     [key], {});\n",
       "          if (!dataTable) return;\n",
       "\n",
       "          const docLinkHtml = 'Like what you see? Visit the ' +\n",
       "            '<a target=\"_blank\" href=https://colab.research.google.com/notebooks/data_table.ipynb>data table notebook</a>'\n",
       "            + ' to learn more about interactive tables.';\n",
       "          element.innerHTML = '';\n",
       "          dataTable['output_type'] = 'display_data';\n",
       "          await google.colab.output.renderOutput(dataTable, element);\n",
       "          const docLink = document.createElement('div');\n",
       "          docLink.innerHTML = docLinkHtml;\n",
       "          element.appendChild(docLink);\n",
       "        }\n",
       "      </script>\n",
       "    </div>\n",
       "  </div>\n",
       "  "
      ],
      "text/plain": [
       "   size  total_sqft  location_1st Phase JP Nagar  \\\n",
       "0     2      1056.0                            0   \n",
       "2     3      1440.0                            0   \n",
       "3     3      1521.0                            0   \n",
       "4     2      1200.0                            0   \n",
       "5     2      1170.0                            0   \n",
       "\n",
       "   location_2nd Stage Nagarbhavi  location_5th Block Hbr Layout  \\\n",
       "0                              0                              0   \n",
       "2                              0                              0   \n",
       "3                              0                              0   \n",
       "4                              0                              0   \n",
       "5                              0                              0   \n",
       "\n",
       "   location_5th Phase JP Nagar  location_6th Phase JP Nagar  \\\n",
       "0                            0                            0   \n",
       "2                            0                            0   \n",
       "3                            0                            0   \n",
       "4                            0                            0   \n",
       "5                            0                            0   \n",
       "\n",
       "   location_7th Phase JP Nagar  location_8th Phase JP Nagar  \\\n",
       "0                            0                            0   \n",
       "2                            0                            0   \n",
       "3                            0                            0   \n",
       "4                            0                            0   \n",
       "5                            0                            0   \n",
       "\n",
       "   location_9th Phase JP Nagar  ...  location_Vishveshwarya Layout  \\\n",
       "0                            0  ...                              0   \n",
       "2                            0  ...                              0   \n",
       "3                            0  ...                              0   \n",
       "4                            0  ...                              0   \n",
       "5                            0  ...                              0   \n",
       "\n",
       "   location_Vishwapriya Layout  location_Vittasandra  location_Whitefield  \\\n",
       "0                            0                     0                    0   \n",
       "2                            0                     0                    0   \n",
       "3                            0                     0                    0   \n",
       "4                            0                     0                    0   \n",
       "5                            0                     0                    1   \n",
       "\n",
       "   location_Yelachenahalli  location_Yelahanka  location_Yelahanka New Town  \\\n",
       "0                        0                   0                            0   \n",
       "2                        0                   0                            0   \n",
       "3                        0                   0                            0   \n",
       "4                        0                   0                            0   \n",
       "5                        0                   0                            0   \n",
       "\n",
       "   location_Yelenahalli  location_Yeshwanthpur  location_other  \n",
       "0                     0                      0               0  \n",
       "2                     0                      0               0  \n",
       "3                     0                      0               0  \n",
       "4                     0                      0               0  \n",
       "5                     0                      0               0  \n",
       "\n",
       "[5 rows x 232 columns]"
      ]
     },
     "execution_count": 88,
     "metadata": {},
     "output_type": "execute_result"
    }
   ],
   "source": [
    "train_new = pd.get_dummies(train,columns=transformlist,drop_first=True)\n",
    "train_new.head()"
   ]
  },
  {
   "cell_type": "code",
   "execution_count": 89,
   "id": "218790be",
   "metadata": {
    "colab": {
     "base_uri": "https://localhost:8080/"
    },
    "id": "218790be",
    "outputId": "9165b633-a825-468d-e1c6-ece0e271a854"
   },
   "outputs": [
    {
     "data": {
      "text/plain": [
       "((8621, 232), (1522, 232))"
      ]
     },
     "execution_count": 89,
     "metadata": {},
     "output_type": "execute_result"
    }
   ],
   "source": [
    "X_train, X_test, y_train, y_test = train_test_split(train_new,test,\n",
    "                                                   test_size=0.15,random_state=2)\n",
    "\n",
    "X_train.shape,X_test.shape"
   ]
  },
  {
   "cell_type": "markdown",
   "id": "69e47854",
   "metadata": {
    "id": "69e47854"
   },
   "source": [
    "### Random Forest"
   ]
  },
  {
   "cell_type": "code",
   "execution_count": 90,
   "id": "cfbb9d10",
   "metadata": {
    "id": "cfbb9d10"
   },
   "outputs": [],
   "source": [
    "params=  {\n",
    "\n",
    "    'RandomForest':{\n",
    "        'model' : RandomForestRegressor(),\n",
    "        'params':{\n",
    "            'n_estimators':[100,150,200,250],\n",
    "            'max_depth':[2,4,8,10],\n",
    "        }\n",
    "    }\n",
    "}"
   ]
  },
  {
   "cell_type": "code",
   "execution_count": 91,
   "id": "da8fb7cf",
   "metadata": {
    "colab": {
     "base_uri": "https://localhost:8080/"
    },
    "id": "da8fb7cf",
    "outputId": "6dbfe537-a936-4ffc-a6e4-ccb759e7cf8a"
   },
   "outputs": [
    {
     "name": "stdout",
     "output_type": "stream",
     "text": [
      "Fitting 5 folds for each of 16 candidates, totalling 80 fits\n",
      "[CV] END ......................max_depth=2, n_estimators=100; total time=   0.8s\n",
      "[CV] END ......................max_depth=2, n_estimators=100; total time=   1.3s\n",
      "[CV] END ......................max_depth=2, n_estimators=100; total time=   1.3s\n",
      "[CV] END ......................max_depth=2, n_estimators=100; total time=   0.8s\n",
      "[CV] END ......................max_depth=2, n_estimators=100; total time=   0.8s\n",
      "[CV] END ......................max_depth=2, n_estimators=150; total time=   1.2s\n",
      "[CV] END ......................max_depth=2, n_estimators=150; total time=   1.7s\n",
      "[CV] END ......................max_depth=2, n_estimators=150; total time=   2.5s\n",
      "[CV] END ......................max_depth=2, n_estimators=150; total time=   2.8s\n",
      "[CV] END ......................max_depth=2, n_estimators=150; total time=   3.4s\n",
      "[CV] END ......................max_depth=2, n_estimators=200; total time=   1.6s\n",
      "[CV] END ......................max_depth=2, n_estimators=200; total time=   1.6s\n",
      "[CV] END ......................max_depth=2, n_estimators=200; total time=   1.7s\n",
      "[CV] END ......................max_depth=2, n_estimators=200; total time=   1.6s\n",
      "[CV] END ......................max_depth=2, n_estimators=200; total time=   1.6s\n",
      "[CV] END ......................max_depth=2, n_estimators=250; total time=   2.6s\n",
      "[CV] END ......................max_depth=2, n_estimators=250; total time=   2.4s\n",
      "[CV] END ......................max_depth=2, n_estimators=250; total time=   2.1s\n",
      "[CV] END ......................max_depth=2, n_estimators=250; total time=   2.0s\n",
      "[CV] END ......................max_depth=2, n_estimators=250; total time=   2.1s\n",
      "[CV] END ......................max_depth=4, n_estimators=100; total time=   2.0s\n",
      "[CV] END ......................max_depth=4, n_estimators=100; total time=   2.2s\n",
      "[CV] END ......................max_depth=4, n_estimators=100; total time=   1.7s\n",
      "[CV] END ......................max_depth=4, n_estimators=100; total time=   1.4s\n",
      "[CV] END ......................max_depth=4, n_estimators=100; total time=   1.4s\n",
      "[CV] END ......................max_depth=4, n_estimators=150; total time=   2.2s\n",
      "[CV] END ......................max_depth=4, n_estimators=150; total time=   2.2s\n",
      "[CV] END ......................max_depth=4, n_estimators=150; total time=   2.3s\n",
      "[CV] END ......................max_depth=4, n_estimators=150; total time=   3.5s\n",
      "[CV] END ......................max_depth=4, n_estimators=150; total time=   2.7s\n",
      "[CV] END ......................max_depth=4, n_estimators=200; total time=   2.9s\n",
      "[CV] END ......................max_depth=4, n_estimators=200; total time=   2.9s\n",
      "[CV] END ......................max_depth=4, n_estimators=200; total time=   3.8s\n",
      "[CV] END ......................max_depth=4, n_estimators=200; total time=   2.9s\n",
      "[CV] END ......................max_depth=4, n_estimators=200; total time=   2.9s\n",
      "[CV] END ......................max_depth=4, n_estimators=250; total time=   4.5s\n",
      "[CV] END ......................max_depth=4, n_estimators=250; total time=   3.8s\n",
      "[CV] END ......................max_depth=4, n_estimators=250; total time=   3.7s\n",
      "[CV] END ......................max_depth=4, n_estimators=250; total time=   4.0s\n",
      "[CV] END ......................max_depth=4, n_estimators=250; total time=   4.2s\n",
      "[CV] END ......................max_depth=8, n_estimators=100; total time=   2.5s\n",
      "[CV] END ......................max_depth=8, n_estimators=100; total time=   2.5s\n",
      "[CV] END ......................max_depth=8, n_estimators=100; total time=   2.6s\n",
      "[CV] END ......................max_depth=8, n_estimators=100; total time=   3.3s\n",
      "[CV] END ......................max_depth=8, n_estimators=100; total time=   2.5s\n",
      "[CV] END ......................max_depth=8, n_estimators=150; total time=   3.7s\n",
      "[CV] END ......................max_depth=8, n_estimators=150; total time=   5.2s\n",
      "[CV] END ......................max_depth=8, n_estimators=150; total time=   3.7s\n",
      "[CV] END ......................max_depth=8, n_estimators=150; total time=   3.7s\n",
      "[CV] END ......................max_depth=8, n_estimators=150; total time=   4.6s\n",
      "[CV] END ......................max_depth=8, n_estimators=200; total time=   5.1s\n",
      "[CV] END ......................max_depth=8, n_estimators=200; total time=   4.9s\n",
      "[CV] END ......................max_depth=8, n_estimators=200; total time=   6.0s\n",
      "[CV] END ......................max_depth=8, n_estimators=200; total time=   5.6s\n",
      "[CV] END ......................max_depth=8, n_estimators=200; total time=   5.9s\n",
      "[CV] END ......................max_depth=8, n_estimators=250; total time=   6.2s\n",
      "[CV] END ......................max_depth=8, n_estimators=250; total time=   7.1s\n",
      "[CV] END ......................max_depth=8, n_estimators=250; total time=   6.3s\n",
      "[CV] END ......................max_depth=8, n_estimators=250; total time=   7.3s\n",
      "[CV] END ......................max_depth=8, n_estimators=250; total time=   7.0s\n",
      "[CV] END .....................max_depth=10, n_estimators=100; total time=   3.4s\n",
      "[CV] END .....................max_depth=10, n_estimators=100; total time=   3.0s\n",
      "[CV] END .....................max_depth=10, n_estimators=100; total time=   2.9s\n",
      "[CV] END .....................max_depth=10, n_estimators=100; total time=   3.9s\n",
      "[CV] END .....................max_depth=10, n_estimators=100; total time=   3.2s\n",
      "[CV] END .....................max_depth=10, n_estimators=150; total time=   4.5s\n",
      "[CV] END .....................max_depth=10, n_estimators=150; total time=   5.5s\n",
      "[CV] END .....................max_depth=10, n_estimators=150; total time=   4.5s\n",
      "[CV] END .....................max_depth=10, n_estimators=150; total time=   4.5s\n",
      "[CV] END .....................max_depth=10, n_estimators=150; total time=   5.5s\n",
      "[CV] END .....................max_depth=10, n_estimators=200; total time=   6.1s\n",
      "[CV] END .....................max_depth=10, n_estimators=200; total time=   6.8s\n",
      "[CV] END .....................max_depth=10, n_estimators=200; total time=   5.9s\n",
      "[CV] END .....................max_depth=10, n_estimators=200; total time=   6.9s\n",
      "[CV] END .....................max_depth=10, n_estimators=200; total time=   5.9s\n",
      "[CV] END .....................max_depth=10, n_estimators=250; total time=   8.5s\n",
      "[CV] END .....................max_depth=10, n_estimators=250; total time=   8.5s\n",
      "[CV] END .....................max_depth=10, n_estimators=250; total time=   7.4s\n",
      "[CV] END .....................max_depth=10, n_estimators=250; total time=   8.4s\n",
      "[CV] END .....................max_depth=10, n_estimators=250; total time=   8.4s\n"
     ]
    }
   ],
   "source": [
    "scores = []\n",
    "for modelname,mp in params.items():\n",
    "    clf = GridSearchCV(mp['model'],param_grid=mp['params'],verbose=2)\n",
    "    clf.fit(X_train,y_train)\n",
    "    scores.append({\n",
    "        'model_name':modelname,\n",
    "        'best_score':clf.best_score_,\n",
    "        'best_estimator':clf.best_estimator_,\n",
    "    })"
   ]
  },
  {
   "cell_type": "code",
   "execution_count": 92,
   "id": "7StJjN9dkehQ",
   "metadata": {
    "colab": {
     "base_uri": "https://localhost:8080/"
    },
    "id": "7StJjN9dkehQ",
    "outputId": "8bb96b9a-7625-4a46-ca0b-3780337b1248"
   },
   "outputs": [
    {
     "data": {
      "text/plain": [
       "[{'model_name': 'RandomForest',\n",
       "  'best_score': 0.5843394759023511,\n",
       "  'best_estimator': RandomForestRegressor(max_depth=10, n_estimators=200)}]"
      ]
     },
     "execution_count": 92,
     "metadata": {},
     "output_type": "execute_result"
    }
   ],
   "source": [
    "scores"
   ]
  },
  {
   "cell_type": "markdown",
   "id": "b86bdb23",
   "metadata": {
    "id": "b86bdb23"
   },
   "source": [
    "### XGBRegressor"
   ]
  },
  {
   "cell_type": "code",
   "execution_count": 93,
   "id": "a56a30b1",
   "metadata": {
    "id": "a56a30b1"
   },
   "outputs": [],
   "source": [
    "params=  {\n",
    "\n",
    "    'Xg boost':{\n",
    "        'model':XGBRegressor(),\n",
    "        'params':{\n",
    "            'n_estimators':[100,150,200,250],\n",
    "            'max_depth':[3,8,10],\n",
    "            #'learning_rate':[0.1, 1.0],\n",
    "            #'reg_alpha':[0.25,0.5,0.75,1.0],\n",
    "            #'reg_lambda':[0.25,0.5,0.75,1.0],\n",
    "        }\n",
    "    }\n",
    "}"
   ]
  },
  {
   "cell_type": "code",
   "execution_count": 94,
   "id": "00702c91",
   "metadata": {
    "colab": {
     "base_uri": "https://localhost:8080/"
    },
    "id": "00702c91",
    "outputId": "3b72aa80-ea41-4f43-8f8f-971831beebcb"
   },
   "outputs": [
    {
     "name": "stdout",
     "output_type": "stream",
     "text": [
      "Fitting 5 folds for each of 12 candidates, totalling 60 fits\n",
      "[CV] END ......................max_depth=3, n_estimators=100; total time=   4.5s\n",
      "[CV] END ......................max_depth=3, n_estimators=100; total time=   3.0s\n",
      "[CV] END ......................max_depth=3, n_estimators=100; total time=   2.9s\n",
      "[CV] END ......................max_depth=3, n_estimators=100; total time=   3.1s\n",
      "[CV] END ......................max_depth=3, n_estimators=100; total time=   4.3s\n",
      "[CV] END ......................max_depth=3, n_estimators=150; total time=   4.4s\n",
      "[CV] END ......................max_depth=3, n_estimators=150; total time=   5.8s\n",
      "[CV] END ......................max_depth=3, n_estimators=150; total time=   4.4s\n",
      "[CV] END ......................max_depth=3, n_estimators=150; total time=   4.4s\n",
      "[CV] END ......................max_depth=3, n_estimators=150; total time=   5.8s\n",
      "[CV] END ......................max_depth=3, n_estimators=200; total time=   5.8s\n",
      "[CV] END ......................max_depth=3, n_estimators=200; total time=   7.1s\n",
      "[CV] END ......................max_depth=3, n_estimators=200; total time=   5.7s\n",
      "[CV] END ......................max_depth=3, n_estimators=200; total time=   7.1s\n",
      "[CV] END ......................max_depth=3, n_estimators=200; total time=   7.2s\n",
      "[CV] END ......................max_depth=3, n_estimators=250; total time=   7.2s\n",
      "[CV] END ......................max_depth=3, n_estimators=250; total time=   8.6s\n",
      "[CV] END ......................max_depth=3, n_estimators=250; total time=   8.6s\n",
      "[CV] END ......................max_depth=3, n_estimators=250; total time=   7.2s\n",
      "[CV] END ......................max_depth=3, n_estimators=250; total time=   8.5s\n",
      "[CV] END ......................max_depth=8, n_estimators=100; total time=   8.5s\n",
      "[CV] END ......................max_depth=8, n_estimators=100; total time=   7.0s\n",
      "[CV] END ......................max_depth=8, n_estimators=100; total time=   8.5s\n",
      "[CV] END ......................max_depth=8, n_estimators=100; total time=   8.5s\n",
      "[CV] END ......................max_depth=8, n_estimators=100; total time=   7.1s\n",
      "[CV] END ......................max_depth=8, n_estimators=150; total time=  12.0s\n",
      "[CV] END ......................max_depth=8, n_estimators=150; total time=  11.9s\n",
      "[CV] END ......................max_depth=8, n_estimators=150; total time=  12.2s\n",
      "[CV] END ......................max_depth=8, n_estimators=150; total time=  12.2s\n",
      "[CV] END ......................max_depth=8, n_estimators=150; total time=  12.2s\n",
      "[CV] END ......................max_depth=8, n_estimators=200; total time=  17.0s\n",
      "[CV] END ......................max_depth=8, n_estimators=200; total time=  15.5s\n",
      "[CV] END ......................max_depth=8, n_estimators=200; total time=  15.4s\n",
      "[CV] END ......................max_depth=8, n_estimators=200; total time=  16.8s\n",
      "[CV] END ......................max_depth=8, n_estimators=200; total time=  15.6s\n",
      "[CV] END ......................max_depth=8, n_estimators=250; total time=  20.4s\n",
      "[CV] END ......................max_depth=8, n_estimators=250; total time=  18.9s\n",
      "[CV] END ......................max_depth=8, n_estimators=250; total time=  20.3s\n",
      "[CV] END ......................max_depth=8, n_estimators=250; total time=  20.6s\n",
      "[CV] END ......................max_depth=8, n_estimators=250; total time=  19.2s\n",
      "[CV] END .....................max_depth=10, n_estimators=100; total time=  10.3s\n",
      "[CV] END .....................max_depth=10, n_estimators=100; total time=  10.3s\n",
      "[CV] END .....................max_depth=10, n_estimators=100; total time=  10.3s\n",
      "[CV] END .....................max_depth=10, n_estimators=100; total time=  10.3s\n",
      "[CV] END .....................max_depth=10, n_estimators=100; total time=  10.3s\n",
      "[CV] END .....................max_depth=10, n_estimators=150; total time=  14.5s\n",
      "[CV] END .....................max_depth=10, n_estimators=150; total time=  14.5s\n",
      "[CV] END .....................max_depth=10, n_estimators=150; total time=  14.5s\n",
      "[CV] END .....................max_depth=10, n_estimators=150; total time=  15.8s\n",
      "[CV] END .....................max_depth=10, n_estimators=150; total time=  14.5s\n",
      "[CV] END .....................max_depth=10, n_estimators=200; total time=  20.4s\n",
      "[CV] END .....................max_depth=10, n_estimators=200; total time=  18.9s\n",
      "[CV] END .....................max_depth=10, n_estimators=200; total time=  20.4s\n",
      "[CV] END .....................max_depth=10, n_estimators=200; total time=  18.8s\n",
      "[CV] END .....................max_depth=10, n_estimators=200; total time=  20.1s\n",
      "[CV] END .....................max_depth=10, n_estimators=250; total time=  24.7s\n",
      "[CV] END .....................max_depth=10, n_estimators=250; total time=  25.1s\n",
      "[CV] END .....................max_depth=10, n_estimators=250; total time=  24.8s\n",
      "[CV] END .....................max_depth=10, n_estimators=250; total time=  25.9s\n",
      "[CV] END .....................max_depth=10, n_estimators=250; total time=  24.6s\n"
     ]
    }
   ],
   "source": [
    "scores = []\n",
    "for modelname,mp in params.items():\n",
    "    clf = GridSearchCV(mp['model'],param_grid=mp['params'],verbose=2)\n",
    "    clf.fit(X_train,y_train)\n",
    "    scores.append({\n",
    "        'model_name':modelname,\n",
    "        'best_score':clf.best_score_,\n",
    "        'best_estimator':clf.best_estimator_,\n",
    "    })"
   ]
  },
  {
   "cell_type": "code",
   "execution_count": 95,
   "id": "21e344d0",
   "metadata": {
    "colab": {
     "base_uri": "https://localhost:8080/"
    },
    "id": "21e344d0",
    "outputId": "733f986c-0d07-4521-e28b-f41e572da18b"
   },
   "outputs": [
    {
     "data": {
      "text/plain": [
       "[{'model_name': 'Xg boost',\n",
       "  'best_score': 0.6458564704121352,\n",
       "  'best_estimator': XGBRegressor(base_score=None, booster=None, callbacks=None,\n",
       "               colsample_bylevel=None, colsample_bynode=None,\n",
       "               colsample_bytree=None, early_stopping_rounds=None,\n",
       "               enable_categorical=False, eval_metric=None, feature_types=None,\n",
       "               gamma=None, gpu_id=None, grow_policy=None, importance_type=None,\n",
       "               interaction_constraints=None, learning_rate=None, max_bin=None,\n",
       "               max_cat_threshold=None, max_cat_to_onehot=None,\n",
       "               max_delta_step=None, max_depth=8, max_leaves=None,\n",
       "               min_child_weight=None, missing=nan, monotone_constraints=None,\n",
       "               n_estimators=100, n_jobs=None, num_parallel_tree=None,\n",
       "               predictor=None, random_state=None, ...)}]"
      ]
     },
     "execution_count": 95,
     "metadata": {},
     "output_type": "execute_result"
    }
   ],
   "source": [
    "scores"
   ]
  },
  {
   "cell_type": "code",
   "execution_count": 96,
   "id": "31d16aa1",
   "metadata": {
    "id": "31d16aa1"
   },
   "outputs": [],
   "source": [
    "temp_df = pd.DataFrame(clf.cv_results_)"
   ]
  },
  {
   "cell_type": "code",
   "execution_count": 97,
   "id": "b2d15ca8",
   "metadata": {
    "colab": {
     "base_uri": "https://localhost:8080/",
     "height": 530
    },
    "id": "b2d15ca8",
    "outputId": "524fa8a8-a667-42ec-bff6-a6a022ca2a16"
   },
   "outputs": [
    {
     "data": {
      "text/html": [
       "\n",
       "  <div id=\"df-65411066-2832-437a-bd32-8113b40c6411\">\n",
       "    <div class=\"colab-df-container\">\n",
       "      <div>\n",
       "<style scoped>\n",
       "    .dataframe tbody tr th:only-of-type {\n",
       "        vertical-align: middle;\n",
       "    }\n",
       "\n",
       "    .dataframe tbody tr th {\n",
       "        vertical-align: top;\n",
       "    }\n",
       "\n",
       "    .dataframe thead th {\n",
       "        text-align: right;\n",
       "    }\n",
       "</style>\n",
       "<table border=\"1\" class=\"dataframe\">\n",
       "  <thead>\n",
       "    <tr style=\"text-align: right;\">\n",
       "      <th></th>\n",
       "      <th>mean_fit_time</th>\n",
       "      <th>std_fit_time</th>\n",
       "      <th>mean_score_time</th>\n",
       "      <th>std_score_time</th>\n",
       "      <th>param_max_depth</th>\n",
       "      <th>param_n_estimators</th>\n",
       "      <th>params</th>\n",
       "      <th>split0_test_score</th>\n",
       "      <th>split1_test_score</th>\n",
       "      <th>split2_test_score</th>\n",
       "      <th>split3_test_score</th>\n",
       "      <th>split4_test_score</th>\n",
       "      <th>mean_test_score</th>\n",
       "      <th>std_test_score</th>\n",
       "      <th>rank_test_score</th>\n",
       "    </tr>\n",
       "  </thead>\n",
       "  <tbody>\n",
       "    <tr>\n",
       "      <th>0</th>\n",
       "      <td>3.546979</td>\n",
       "      <td>0.707429</td>\n",
       "      <td>0.018984</td>\n",
       "      <td>0.005436</td>\n",
       "      <td>3</td>\n",
       "      <td>100</td>\n",
       "      <td>{'max_depth': 3, 'n_estimators': 100}</td>\n",
       "      <td>0.628681</td>\n",
       "      <td>0.632908</td>\n",
       "      <td>0.644816</td>\n",
       "      <td>0.626565</td>\n",
       "      <td>0.600628</td>\n",
       "      <td>0.626720</td>\n",
       "      <td>0.014494</td>\n",
       "      <td>10</td>\n",
       "    </tr>\n",
       "    <tr>\n",
       "      <th>1</th>\n",
       "      <td>4.918556</td>\n",
       "      <td>0.692928</td>\n",
       "      <td>0.017549</td>\n",
       "      <td>0.005136</td>\n",
       "      <td>3</td>\n",
       "      <td>150</td>\n",
       "      <td>{'max_depth': 3, 'n_estimators': 150}</td>\n",
       "      <td>0.635506</td>\n",
       "      <td>0.637051</td>\n",
       "      <td>0.652935</td>\n",
       "      <td>0.639104</td>\n",
       "      <td>0.609060</td>\n",
       "      <td>0.634731</td>\n",
       "      <td>0.014251</td>\n",
       "      <td>8</td>\n",
       "    </tr>\n",
       "    <tr>\n",
       "      <th>2</th>\n",
       "      <td>6.579222</td>\n",
       "      <td>0.697246</td>\n",
       "      <td>0.016270</td>\n",
       "      <td>0.001013</td>\n",
       "      <td>3</td>\n",
       "      <td>200</td>\n",
       "      <td>{'max_depth': 3, 'n_estimators': 200}</td>\n",
       "      <td>0.637014</td>\n",
       "      <td>0.640814</td>\n",
       "      <td>0.657660</td>\n",
       "      <td>0.644050</td>\n",
       "      <td>0.614497</td>\n",
       "      <td>0.638807</td>\n",
       "      <td>0.014008</td>\n",
       "      <td>5</td>\n",
       "    </tr>\n",
       "    <tr>\n",
       "      <th>3</th>\n",
       "      <td>7.975360</td>\n",
       "      <td>0.650346</td>\n",
       "      <td>0.018603</td>\n",
       "      <td>0.004735</td>\n",
       "      <td>3</td>\n",
       "      <td>250</td>\n",
       "      <td>{'max_depth': 3, 'n_estimators': 250}</td>\n",
       "      <td>0.641470</td>\n",
       "      <td>0.642398</td>\n",
       "      <td>0.661285</td>\n",
       "      <td>0.649784</td>\n",
       "      <td>0.621170</td>\n",
       "      <td>0.643221</td>\n",
       "      <td>0.013110</td>\n",
       "      <td>2</td>\n",
       "    </tr>\n",
       "    <tr>\n",
       "      <th>4</th>\n",
       "      <td>7.917861</td>\n",
       "      <td>0.694566</td>\n",
       "      <td>0.018067</td>\n",
       "      <td>0.000452</td>\n",
       "      <td>8</td>\n",
       "      <td>100</td>\n",
       "      <td>{'max_depth': 8, 'n_estimators': 100}</td>\n",
       "      <td>0.651312</td>\n",
       "      <td>0.642286</td>\n",
       "      <td>0.655387</td>\n",
       "      <td>0.658746</td>\n",
       "      <td>0.621551</td>\n",
       "      <td>0.645856</td>\n",
       "      <td>0.013343</td>\n",
       "      <td>1</td>\n",
       "    </tr>\n",
       "  </tbody>\n",
       "</table>\n",
       "</div>\n",
       "      <button class=\"colab-df-convert\" onclick=\"convertToInteractive('df-65411066-2832-437a-bd32-8113b40c6411')\"\n",
       "              title=\"Convert this dataframe to an interactive table.\"\n",
       "              style=\"display:none;\">\n",
       "        \n",
       "  <svg xmlns=\"http://www.w3.org/2000/svg\" height=\"24px\"viewBox=\"0 0 24 24\"\n",
       "       width=\"24px\">\n",
       "    <path d=\"M0 0h24v24H0V0z\" fill=\"none\"/>\n",
       "    <path d=\"M18.56 5.44l.94 2.06.94-2.06 2.06-.94-2.06-.94-.94-2.06-.94 2.06-2.06.94zm-11 1L8.5 8.5l.94-2.06 2.06-.94-2.06-.94L8.5 2.5l-.94 2.06-2.06.94zm10 10l.94 2.06.94-2.06 2.06-.94-2.06-.94-.94-2.06-.94 2.06-2.06.94z\"/><path d=\"M17.41 7.96l-1.37-1.37c-.4-.4-.92-.59-1.43-.59-.52 0-1.04.2-1.43.59L10.3 9.45l-7.72 7.72c-.78.78-.78 2.05 0 2.83L4 21.41c.39.39.9.59 1.41.59.51 0 1.02-.2 1.41-.59l7.78-7.78 2.81-2.81c.8-.78.8-2.07 0-2.86zM5.41 20L4 18.59l7.72-7.72 1.47 1.35L5.41 20z\"/>\n",
       "  </svg>\n",
       "      </button>\n",
       "      \n",
       "  <style>\n",
       "    .colab-df-container {\n",
       "      display:flex;\n",
       "      flex-wrap:wrap;\n",
       "      gap: 12px;\n",
       "    }\n",
       "\n",
       "    .colab-df-convert {\n",
       "      background-color: #E8F0FE;\n",
       "      border: none;\n",
       "      border-radius: 50%;\n",
       "      cursor: pointer;\n",
       "      display: none;\n",
       "      fill: #1967D2;\n",
       "      height: 32px;\n",
       "      padding: 0 0 0 0;\n",
       "      width: 32px;\n",
       "    }\n",
       "\n",
       "    .colab-df-convert:hover {\n",
       "      background-color: #E2EBFA;\n",
       "      box-shadow: 0px 1px 2px rgba(60, 64, 67, 0.3), 0px 1px 3px 1px rgba(60, 64, 67, 0.15);\n",
       "      fill: #174EA6;\n",
       "    }\n",
       "\n",
       "    [theme=dark] .colab-df-convert {\n",
       "      background-color: #3B4455;\n",
       "      fill: #D2E3FC;\n",
       "    }\n",
       "\n",
       "    [theme=dark] .colab-df-convert:hover {\n",
       "      background-color: #434B5C;\n",
       "      box-shadow: 0px 1px 3px 1px rgba(0, 0, 0, 0.15);\n",
       "      filter: drop-shadow(0px 1px 2px rgba(0, 0, 0, 0.3));\n",
       "      fill: #FFFFFF;\n",
       "    }\n",
       "  </style>\n",
       "\n",
       "      <script>\n",
       "        const buttonEl =\n",
       "          document.querySelector('#df-65411066-2832-437a-bd32-8113b40c6411 button.colab-df-convert');\n",
       "        buttonEl.style.display =\n",
       "          google.colab.kernel.accessAllowed ? 'block' : 'none';\n",
       "\n",
       "        async function convertToInteractive(key) {\n",
       "          const element = document.querySelector('#df-65411066-2832-437a-bd32-8113b40c6411');\n",
       "          const dataTable =\n",
       "            await google.colab.kernel.invokeFunction('convertToInteractive',\n",
       "                                                     [key], {});\n",
       "          if (!dataTable) return;\n",
       "\n",
       "          const docLinkHtml = 'Like what you see? Visit the ' +\n",
       "            '<a target=\"_blank\" href=https://colab.research.google.com/notebooks/data_table.ipynb>data table notebook</a>'\n",
       "            + ' to learn more about interactive tables.';\n",
       "          element.innerHTML = '';\n",
       "          dataTable['output_type'] = 'display_data';\n",
       "          await google.colab.output.renderOutput(dataTable, element);\n",
       "          const docLink = document.createElement('div');\n",
       "          docLink.innerHTML = docLinkHtml;\n",
       "          element.appendChild(docLink);\n",
       "        }\n",
       "      </script>\n",
       "    </div>\n",
       "  </div>\n",
       "  "
      ],
      "text/plain": [
       "   mean_fit_time  std_fit_time  mean_score_time  std_score_time  \\\n",
       "0       3.546979      0.707429         0.018984        0.005436   \n",
       "1       4.918556      0.692928         0.017549        0.005136   \n",
       "2       6.579222      0.697246         0.016270        0.001013   \n",
       "3       7.975360      0.650346         0.018603        0.004735   \n",
       "4       7.917861      0.694566         0.018067        0.000452   \n",
       "\n",
       "  param_max_depth param_n_estimators                                 params  \\\n",
       "0               3                100  {'max_depth': 3, 'n_estimators': 100}   \n",
       "1               3                150  {'max_depth': 3, 'n_estimators': 150}   \n",
       "2               3                200  {'max_depth': 3, 'n_estimators': 200}   \n",
       "3               3                250  {'max_depth': 3, 'n_estimators': 250}   \n",
       "4               8                100  {'max_depth': 8, 'n_estimators': 100}   \n",
       "\n",
       "   split0_test_score  split1_test_score  split2_test_score  split3_test_score  \\\n",
       "0           0.628681           0.632908           0.644816           0.626565   \n",
       "1           0.635506           0.637051           0.652935           0.639104   \n",
       "2           0.637014           0.640814           0.657660           0.644050   \n",
       "3           0.641470           0.642398           0.661285           0.649784   \n",
       "4           0.651312           0.642286           0.655387           0.658746   \n",
       "\n",
       "   split4_test_score  mean_test_score  std_test_score  rank_test_score  \n",
       "0           0.600628         0.626720        0.014494               10  \n",
       "1           0.609060         0.634731        0.014251                8  \n",
       "2           0.614497         0.638807        0.014008                5  \n",
       "3           0.621170         0.643221        0.013110                2  \n",
       "4           0.621551         0.645856        0.013343                1  "
      ]
     },
     "execution_count": 97,
     "metadata": {},
     "output_type": "execute_result"
    }
   ],
   "source": [
    "temp_df.head()"
   ]
  },
  {
   "cell_type": "code",
   "execution_count": 98,
   "id": "e17faaca",
   "metadata": {
    "colab": {
     "base_uri": "https://localhost:8080/",
     "height": 197
    },
    "id": "e17faaca",
    "outputId": "cf6e5348-a1ce-45ff-a0f1-4f62b553be72"
   },
   "outputs": [
    {
     "data": {
      "text/html": [
       "\n",
       "  <div id=\"df-c12848a7-c033-44c7-b563-5b80868c3b63\">\n",
       "    <div class=\"colab-df-container\">\n",
       "      <div>\n",
       "<style scoped>\n",
       "    .dataframe tbody tr th:only-of-type {\n",
       "        vertical-align: middle;\n",
       "    }\n",
       "\n",
       "    .dataframe tbody tr th {\n",
       "        vertical-align: top;\n",
       "    }\n",
       "\n",
       "    .dataframe thead th {\n",
       "        text-align: right;\n",
       "    }\n",
       "</style>\n",
       "<table border=\"1\" class=\"dataframe\">\n",
       "  <thead>\n",
       "    <tr style=\"text-align: right;\">\n",
       "      <th></th>\n",
       "      <th>mean_fit_time</th>\n",
       "      <th>std_fit_time</th>\n",
       "      <th>mean_score_time</th>\n",
       "      <th>std_score_time</th>\n",
       "      <th>param_max_depth</th>\n",
       "      <th>param_n_estimators</th>\n",
       "      <th>params</th>\n",
       "      <th>split0_test_score</th>\n",
       "      <th>split1_test_score</th>\n",
       "      <th>split2_test_score</th>\n",
       "      <th>split3_test_score</th>\n",
       "      <th>split4_test_score</th>\n",
       "      <th>mean_test_score</th>\n",
       "      <th>std_test_score</th>\n",
       "      <th>rank_test_score</th>\n",
       "    </tr>\n",
       "  </thead>\n",
       "  <tbody>\n",
       "    <tr>\n",
       "      <th>4</th>\n",
       "      <td>7.917861</td>\n",
       "      <td>0.694566</td>\n",
       "      <td>0.018067</td>\n",
       "      <td>0.000452</td>\n",
       "      <td>8</td>\n",
       "      <td>100</td>\n",
       "      <td>{'max_depth': 8, 'n_estimators': 100}</td>\n",
       "      <td>0.651312</td>\n",
       "      <td>0.642286</td>\n",
       "      <td>0.655387</td>\n",
       "      <td>0.658746</td>\n",
       "      <td>0.621551</td>\n",
       "      <td>0.645856</td>\n",
       "      <td>0.013343</td>\n",
       "      <td>1</td>\n",
       "    </tr>\n",
       "  </tbody>\n",
       "</table>\n",
       "</div>\n",
       "      <button class=\"colab-df-convert\" onclick=\"convertToInteractive('df-c12848a7-c033-44c7-b563-5b80868c3b63')\"\n",
       "              title=\"Convert this dataframe to an interactive table.\"\n",
       "              style=\"display:none;\">\n",
       "        \n",
       "  <svg xmlns=\"http://www.w3.org/2000/svg\" height=\"24px\"viewBox=\"0 0 24 24\"\n",
       "       width=\"24px\">\n",
       "    <path d=\"M0 0h24v24H0V0z\" fill=\"none\"/>\n",
       "    <path d=\"M18.56 5.44l.94 2.06.94-2.06 2.06-.94-2.06-.94-.94-2.06-.94 2.06-2.06.94zm-11 1L8.5 8.5l.94-2.06 2.06-.94-2.06-.94L8.5 2.5l-.94 2.06-2.06.94zm10 10l.94 2.06.94-2.06 2.06-.94-2.06-.94-.94-2.06-.94 2.06-2.06.94z\"/><path d=\"M17.41 7.96l-1.37-1.37c-.4-.4-.92-.59-1.43-.59-.52 0-1.04.2-1.43.59L10.3 9.45l-7.72 7.72c-.78.78-.78 2.05 0 2.83L4 21.41c.39.39.9.59 1.41.59.51 0 1.02-.2 1.41-.59l7.78-7.78 2.81-2.81c.8-.78.8-2.07 0-2.86zM5.41 20L4 18.59l7.72-7.72 1.47 1.35L5.41 20z\"/>\n",
       "  </svg>\n",
       "      </button>\n",
       "      \n",
       "  <style>\n",
       "    .colab-df-container {\n",
       "      display:flex;\n",
       "      flex-wrap:wrap;\n",
       "      gap: 12px;\n",
       "    }\n",
       "\n",
       "    .colab-df-convert {\n",
       "      background-color: #E8F0FE;\n",
       "      border: none;\n",
       "      border-radius: 50%;\n",
       "      cursor: pointer;\n",
       "      display: none;\n",
       "      fill: #1967D2;\n",
       "      height: 32px;\n",
       "      padding: 0 0 0 0;\n",
       "      width: 32px;\n",
       "    }\n",
       "\n",
       "    .colab-df-convert:hover {\n",
       "      background-color: #E2EBFA;\n",
       "      box-shadow: 0px 1px 2px rgba(60, 64, 67, 0.3), 0px 1px 3px 1px rgba(60, 64, 67, 0.15);\n",
       "      fill: #174EA6;\n",
       "    }\n",
       "\n",
       "    [theme=dark] .colab-df-convert {\n",
       "      background-color: #3B4455;\n",
       "      fill: #D2E3FC;\n",
       "    }\n",
       "\n",
       "    [theme=dark] .colab-df-convert:hover {\n",
       "      background-color: #434B5C;\n",
       "      box-shadow: 0px 1px 3px 1px rgba(0, 0, 0, 0.15);\n",
       "      filter: drop-shadow(0px 1px 2px rgba(0, 0, 0, 0.3));\n",
       "      fill: #FFFFFF;\n",
       "    }\n",
       "  </style>\n",
       "\n",
       "      <script>\n",
       "        const buttonEl =\n",
       "          document.querySelector('#df-c12848a7-c033-44c7-b563-5b80868c3b63 button.colab-df-convert');\n",
       "        buttonEl.style.display =\n",
       "          google.colab.kernel.accessAllowed ? 'block' : 'none';\n",
       "\n",
       "        async function convertToInteractive(key) {\n",
       "          const element = document.querySelector('#df-c12848a7-c033-44c7-b563-5b80868c3b63');\n",
       "          const dataTable =\n",
       "            await google.colab.kernel.invokeFunction('convertToInteractive',\n",
       "                                                     [key], {});\n",
       "          if (!dataTable) return;\n",
       "\n",
       "          const docLinkHtml = 'Like what you see? Visit the ' +\n",
       "            '<a target=\"_blank\" href=https://colab.research.google.com/notebooks/data_table.ipynb>data table notebook</a>'\n",
       "            + ' to learn more about interactive tables.';\n",
       "          element.innerHTML = '';\n",
       "          dataTable['output_type'] = 'display_data';\n",
       "          await google.colab.output.renderOutput(dataTable, element);\n",
       "          const docLink = document.createElement('div');\n",
       "          docLink.innerHTML = docLinkHtml;\n",
       "          element.appendChild(docLink);\n",
       "        }\n",
       "      </script>\n",
       "    </div>\n",
       "  </div>\n",
       "  "
      ],
      "text/plain": [
       "   mean_fit_time  std_fit_time  mean_score_time  std_score_time  \\\n",
       "4       7.917861      0.694566         0.018067        0.000452   \n",
       "\n",
       "  param_max_depth param_n_estimators                                 params  \\\n",
       "4               8                100  {'max_depth': 8, 'n_estimators': 100}   \n",
       "\n",
       "   split0_test_score  split1_test_score  split2_test_score  split3_test_score  \\\n",
       "4           0.651312           0.642286           0.655387           0.658746   \n",
       "\n",
       "   split4_test_score  mean_test_score  std_test_score  rank_test_score  \n",
       "4           0.621551         0.645856        0.013343                1  "
      ]
     },
     "execution_count": 98,
     "metadata": {},
     "output_type": "execute_result"
    }
   ],
   "source": [
    "temp_df [temp_df['rank_test_score'] ==1]"
   ]
  },
  {
   "cell_type": "code",
   "execution_count": 99,
   "id": "7d306cb8",
   "metadata": {
    "colab": {
     "base_uri": "https://localhost:8080/"
    },
    "id": "7d306cb8",
    "outputId": "1205b2f2-1dbc-4b33-e5c6-5b0e492126ed"
   },
   "outputs": [
    {
     "name": "stdout",
     "output_type": "stream",
     "text": [
      "0.6024493959168198\n"
     ]
    }
   ],
   "source": [
    "rf = RandomForestRegressor(max_depth=10, n_estimators=250)\n",
    "\n",
    "rf.fit(X_train,y_train)\n",
    "ypred = rf.predict(X_test)\n",
    "print(metrics.r2_score(y_test,ypred))"
   ]
  },
  {
   "cell_type": "code",
   "execution_count": 100,
   "id": "lrATxBOt7lac",
   "metadata": {
    "id": "lrATxBOt7lac"
   },
   "outputs": [],
   "source": [
    "import pickle\n",
    "\n",
    "pickle.dump(rf,open('rf.pkl','wb'))"
   ]
  },
  {
   "cell_type": "markdown",
   "id": "d5eb7554",
   "metadata": {
    "id": "d5eb7554"
   },
   "source": [
    "### Prediction on the whole Dataset"
   ]
  },
  {
   "cell_type": "code",
   "execution_count": 101,
   "id": "3e87f052",
   "metadata": {
    "colab": {
     "base_uri": "https://localhost:8080/"
    },
    "id": "3e87f052",
    "outputId": "591a59d6-6f56-4444-9ef1-74d5c95ca335"
   },
   "outputs": [
    {
     "data": {
      "text/plain": [
       "[array([47.68032159]),\n",
       " array([68.84205145]),\n",
       " array([81.97281435]),\n",
       " array([66.38786098]),\n",
       " array([55.07741709]),\n",
       " array([66.49689721]),\n",
       " array([107.73584141]),\n",
       " array([48.5753026]),\n",
       " array([51.32839979]),\n",
       " array([147.05124276]),\n",
       " array([55.33785277]),\n",
       " array([51.79428844]),\n",
       " array([72.90952144]),\n",
       " array([51.39284184]),\n",
       " array([36.74519269]),\n",
       " array([110.38207235]),\n",
       " array([108.26865363]),\n",
       " array([24.41634814]),\n",
       " array([65.49106463]),\n",
       " array([36.04228029]),\n",
       " array([89.17608033]),\n",
       " array([54.77808226]),\n",
       " array([49.80853665]),\n",
       " array([143.71887375]),\n",
       " array([46.33719705]),\n",
       " array([111.07033244]),\n",
       " array([101.71036335]),\n",
       " array([119.24183318]),\n",
       " array([37.40444211]),\n",
       " array([48.39870224]),\n",
       " array([108.47320975]),\n",
       " array([66.39928417]),\n",
       " array([54.14805574]),\n",
       " array([70.5011846]),\n",
       " array([65.63732175]),\n",
       " array([39.6162973]),\n",
       " array([36.70375211]),\n",
       " array([75.00030463]),\n",
       " array([47.57798984]),\n",
       " array([79.43515549]),\n",
       " array([44.55305029]),\n",
       " array([43.89893111]),\n",
       " array([68.83109533]),\n",
       " array([98.65163515]),\n",
       " array([117.15028874]),\n",
       " array([59.34651106]),\n",
       " array([89.24522394]),\n",
       " array([66.10019854]),\n",
       " array([92.43994191]),\n",
       " array([43.90561778]),\n",
       " array([43.90561778]),\n",
       " array([54.77808226]),\n",
       " array([51.32839979]),\n",
       " array([53.72200311]),\n",
       " array([65.8348031]),\n",
       " array([48.19267437]),\n",
       " array([77.32224986]),\n",
       " array([75.46570095]),\n",
       " array([88.13444144]),\n",
       " array([65.86632496]),\n",
       " array([134.266715]),\n",
       " array([65.83765605]),\n",
       " array([54.77808226]),\n",
       " array([28.13163183]),\n",
       " array([98.95998733]),\n",
       " array([72.07466502]),\n",
       " array([66.40943825]),\n",
       " array([94.98600234]),\n",
       " array([38.16645018]),\n",
       " array([48.39870224]),\n",
       " array([48.34609589]),\n",
       " array([48.08677978]),\n",
       " array([68.94268059]),\n",
       " array([125.83853888]),\n",
       " array([70.5011846]),\n",
       " array([81.52644466]),\n",
       " array([67.07338769]),\n",
       " array([66.53582887]),\n",
       " array([71.37900348]),\n",
       " array([142.67171427]),\n",
       " array([34.18766436]),\n",
       " array([143.3960924]),\n",
       " array([48.49493482]),\n",
       " array([66.53582887]),\n",
       " array([47.86539502]),\n",
       " array([90.17938116]),\n",
       " array([43.33051799]),\n",
       " array([67.11554572]),\n",
       " array([106.46879227]),\n",
       " array([69.06068957]),\n",
       " array([51.47713741]),\n",
       " array([81.25011217]),\n",
       " array([147.39021114]),\n",
       " array([81.14062459]),\n",
       " array([68.85895224]),\n",
       " array([53.65815691]),\n",
       " array([27.73613313]),\n",
       " array([68.90600042]),\n",
       " array([143.80506143]),\n",
       " array([66.55231993]),\n",
       " array([48.41486455]),\n",
       " array([89.24522394]),\n",
       " array([47.70558809]),\n",
       " array([82.50974208]),\n",
       " array([118.7904974]),\n",
       " array([88.96586838]),\n",
       " array([41.38081803]),\n",
       " array([81.40341281]),\n",
       " array([47.38552946]),\n",
       " array([75.46570095]),\n",
       " array([48.39870224]),\n",
       " array([66.17512346]),\n",
       " array([65.95757745]),\n",
       " array([86.46666]),\n",
       " array([48.19267437]),\n",
       " array([55.02717871]),\n",
       " array([113.32194115]),\n",
       " array([42.0373959]),\n",
       " array([90.53847408]),\n",
       " array([105.92855798]),\n",
       " array([47.49462267]),\n",
       " array([66.07219013]),\n",
       " array([51.66974775]),\n",
       " array([47.41871867]),\n",
       " array([66.38786098]),\n",
       " array([106.84421201]),\n",
       " array([130.92011294]),\n",
       " array([68.37481512]),\n",
       " array([48.39870224]),\n",
       " array([119.59043809]),\n",
       " array([114.74570139]),\n",
       " array([65.86632496]),\n",
       " array([68.89535136]),\n",
       " array([82.04755097]),\n",
       " array([48.33480991]),\n",
       " array([81.3303552]),\n",
       " array([15.31255504]),\n",
       " array([54.77808226]),\n",
       " array([68.02246171]),\n",
       " array([81.0448613]),\n",
       " array([87.41898298]),\n",
       " array([23.09659992]),\n",
       " array([49.75314487]),\n",
       " array([38.99689171]),\n",
       " array([65.86632496]),\n",
       " array([151.83123198]),\n",
       " array([135.92239345]),\n",
       " array([106.22400056]),\n",
       " array([48.33480991]),\n",
       " array([74.95156061]),\n",
       " array([48.14803524]),\n",
       " array([69.29075332]),\n",
       " array([66.55991093]),\n",
       " array([140.30050117]),\n",
       " array([89.39974432]),\n",
       " array([66.55991093]),\n",
       " array([74.00838932]),\n",
       " array([55.18442604]),\n",
       " array([107.37887001]),\n",
       " array([67.95502756]),\n",
       " array([47.8245581]),\n",
       " array([69.34192596]),\n",
       " array([71.19015505]),\n",
       " array([65.8348031]),\n",
       " array([48.39870224]),\n",
       " array([65.83061775]),\n",
       " array([66.27709205]),\n",
       " array([118.83756844]),\n",
       " array([75.46570095]),\n",
       " array([65.89747403]),\n",
       " array([88.08242676]),\n",
       " array([106.58564193]),\n",
       " array([80.00663573]),\n",
       " array([95.26896718]),\n",
       " array([70.26172252]),\n",
       " array([35.34504818]),\n",
       " array([68.97047272]),\n",
       " array([108.35529487]),\n",
       " array([108.35529487]),\n",
       " array([87.7166757]),\n",
       " array([110.93783131]),\n",
       " array([48.25498141]),\n",
       " array([48.78133047]),\n",
       " array([92.43994191]),\n",
       " array([126.60952199]),\n",
       " array([41.42023134]),\n",
       " array([54.77808226]),\n",
       " array([54.87446289]),\n",
       " array([51.50543537]),\n",
       " array([51.30317224]),\n",
       " array([70.15869513]),\n",
       " array([87.41898298]),\n",
       " array([48.51619859]),\n",
       " array([119.24183318]),\n",
       " array([48.5823596]),\n",
       " array([32.40467633]),\n",
       " array([93.73162699]),\n",
       " array([69.47855178]),\n",
       " array([70.00828895]),\n",
       " array([47.02854814]),\n",
       " array([87.70494734]),\n",
       " array([144.02317349]),\n",
       " array([40.4048724]),\n",
       " array([48.5823596]),\n",
       " array([68.6299721]),\n",
       " array([47.98150484]),\n",
       " array([69.42737914]),\n",
       " array([123.23570132]),\n",
       " array([48.21192757]),\n",
       " array([51.45190986]),\n",
       " array([147.81909617]),\n",
       " array([82.22402032]),\n",
       " array([69.96963649]),\n",
       " array([54.93129547]),\n",
       " array([48.24654286]),\n",
       " array([92.22058089]),\n",
       " array([81.27695801]),\n",
       " array([117.7307967]),\n",
       " array([39.87630608]),\n",
       " array([128.91946082]),\n",
       " array([47.20686639]),\n",
       " array([118.73424271]),\n",
       " array([41.78455305]),\n",
       " array([47.98150484]),\n",
       " array([94.92644006]),\n",
       " array([125.93737012]),\n",
       " array([65.83765605]),\n",
       " array([108.50531315]),\n",
       " array([65.63732175]),\n",
       " array([41.43826353]),\n",
       " array([70.87076216]),\n",
       " array([81.57435774]),\n",
       " array([46.33719705]),\n",
       " array([68.90600042]),\n",
       " array([66.38786098]),\n",
       " array([66.27424139]),\n",
       " array([48.51619859]),\n",
       " array([47.97344163]),\n",
       " array([48.21192757]),\n",
       " array([48.37705451]),\n",
       " array([47.68787928]),\n",
       " array([81.4635594]),\n",
       " array([48.19267437]),\n",
       " array([76.64996317]),\n",
       " array([80.09015102]),\n",
       " array([47.70558809]),\n",
       " array([110.93783131]),\n",
       " array([104.81135207]),\n",
       " array([115.73956296]),\n",
       " array([48.21192757]),\n",
       " array([68.90600042]),\n",
       " array([68.95332965]),\n",
       " array([117.41653871]),\n",
       " array([51.32839979]),\n",
       " array([24.41634814]),\n",
       " array([94.75574641]),\n",
       " array([98.27443738]),\n",
       " array([118.09903194]),\n",
       " array([76.56988193]),\n",
       " array([98.13797415]),\n",
       " array([75.46570095]),\n",
       " array([80.66527389]),\n",
       " array([53.72200311]),\n",
       " array([43.86301578]),\n",
       " array([69.29075332]),\n",
       " array([55.07741709]),\n",
       " array([51.50543537]),\n",
       " array([75.46570095]),\n",
       " array([53.68759001]),\n",
       " array([66.55991093]),\n",
       " array([124.53732456]),\n",
       " array([77.43116025]),\n",
       " array([66.53582887]),\n",
       " array([66.38786098]),\n",
       " array([52.09292268]),\n",
       " array([96.2671706]),\n",
       " array([48.19267437]),\n",
       " array([61.64499026]),\n",
       " array([55.24304332]),\n",
       " array([48.21192757]),\n",
       " array([89.24522394]),\n",
       " array([66.53582887]),\n",
       " array([65.97111205]),\n",
       " array([66.46230829]),\n",
       " array([71.99565654]),\n",
       " array([118.77999546]),\n",
       " array([81.22956727]),\n",
       " array([68.37481512]),\n",
       " array([65.83061775]),\n",
       " array([106.46879227]),\n",
       " array([70.39500406]),\n",
       " array([51.32839979]),\n",
       " array([82.30590563]),\n",
       " array([92.54397462]),\n",
       " array([75.5933738]),\n",
       " array([36.36797718]),\n",
       " array([107.97882056]),\n",
       " array([47.70558809]),\n",
       " array([51.47713741]),\n",
       " array([70.70066931]),\n",
       " array([71.37900348]),\n",
       " array([24.34331587]),\n",
       " array([48.39870224]),\n",
       " array([23.13190726]),\n",
       " array([65.83765605]),\n",
       " array([48.39870224]),\n",
       " array([47.38552946]),\n",
       " array([75.46570095]),\n",
       " array([55.02717871]),\n",
       " array([48.41486455]),\n",
       " array([66.10019854]),\n",
       " array([110.57023264]),\n",
       " array([119.24183318]),\n",
       " array([23.76213176]),\n",
       " array([107.67226996]),\n",
       " array([67.95502756]),\n",
       " array([110.17700722]),\n",
       " array([76.60954967]),\n",
       " array([66.38786098]),\n",
       " array([54.77808226]),\n",
       " array([48.19267437]),\n",
       " array([47.38552946]),\n",
       " array([93.82863179]),\n",
       " array([89.14288565]),\n",
       " array([114.04230412]),\n",
       " array([65.89675642]),\n",
       " array([54.47419529]),\n",
       " array([41.35787146]),\n",
       " array([105.82001709]),\n",
       " array([51.47713741]),\n",
       " array([82.66590118]),\n",
       " array([48.41486455]),\n",
       " array([66.37644787]),\n",
       " array([98.35539093]),\n",
       " array([64.70251921]),\n",
       " array([119.52924724]),\n",
       " array([66.38786098]),\n",
       " array([124.53732456]),\n",
       " array([55.24304332]),\n",
       " array([48.47568162]),\n",
       " array([116.06907129]),\n",
       " array([39.87861746]),\n",
       " array([55.28080667]),\n",
       " array([38.7935375]),\n",
       " array([80.66527389]),\n",
       " array([108.97973254]),\n",
       " array([51.47713741]),\n",
       " array([74.26060958]),\n",
       " array([48.19267437]),\n",
       " array([48.39870224]),\n",
       " array([66.38786098]),\n",
       " array([115.65940832]),\n",
       " array([48.39870224]),\n",
       " array([51.32839979]),\n",
       " array([48.88980463]),\n",
       " array([89.0871099]),\n",
       " array([51.47713741]),\n",
       " array([48.51619859]),\n",
       " array([119.34777751]),\n",
       " array([56.07360918]),\n",
       " array([54.77808226]),\n",
       " array([65.86632496]),\n",
       " array([75.34383365]),\n",
       " array([68.94268059]),\n",
       " array([93.96787137]),\n",
       " array([38.16645018]),\n",
       " array([75.22221236]),\n",
       " array([65.89675642]),\n",
       " array([68.97000206]),\n",
       " array([98.88795343]),\n",
       " array([108.83842302]),\n",
       " array([75.66102363]),\n",
       " array([106.26849909]),\n",
       " array([35.9659222]),\n",
       " array([114.86371098]),\n",
       " array([94.9245926]),\n",
       " array([69.96963649]),\n",
       " array([75.23072112]),\n",
       " array([54.77808226]),\n",
       " array([51.35424257]),\n",
       " array([89.61427145]),\n",
       " array([47.38552946]),\n",
       " array([142.46212639]),\n",
       " array([62.60102742]),\n",
       " array([43.86301578]),\n",
       " array([48.32943472]),\n",
       " array([51.32839979]),\n",
       " array([54.87446289]),\n",
       " array([111.07033244]),\n",
       " array([107.67226996]),\n",
       " array([48.39870224]),\n",
       " array([76.60954967]),\n",
       " array([47.34752657]),\n",
       " array([53.68759001]),\n",
       " array([129.13232833]),\n",
       " array([68.6299721]),\n",
       " array([66.53582887]),\n",
       " array([66.53582887]),\n",
       " array([47.38552946]),\n",
       " array([144.68516391]),\n",
       " array([81.27695801]),\n",
       " array([110.93783131]),\n",
       " array([65.83765605]),\n",
       " array([53.68759001]),\n",
       " array([108.38303197]),\n",
       " array([78.54090965]),\n",
       " array([63.43266241]),\n",
       " array([54.77808226]),\n",
       " array([53.68759001]),\n",
       " array([48.47568162]),\n",
       " array([48.24654286]),\n",
       " array([47.38552946]),\n",
       " array([46.33719705]),\n",
       " array([48.32414461]),\n",
       " array([42.60271176]),\n",
       " array([82.0406126]),\n",
       " array([66.57055274]),\n",
       " array([81.0448613]),\n",
       " array([23.12496945]),\n",
       " array([48.39870224]),\n",
       " array([51.50543537]),\n",
       " array([48.19267437]),\n",
       " array([41.78455305]),\n",
       " array([58.40433309]),\n",
       " array([124.53732456]),\n",
       " array([38.44965447]),\n",
       " array([65.89675642]),\n",
       " array([77.27917509]),\n",
       " array([143.13145691]),\n",
       " array([125.5193544]),\n",
       " array([83.01573701]),\n",
       " array([52.09454333]),\n",
       " array([92.31204478]),\n",
       " array([75.42268631]),\n",
       " array([89.28516849]),\n",
       " array([54.77808226]),\n",
       " array([54.77808226]),\n",
       " array([66.46050366]),\n",
       " array([47.39946546]),\n",
       " array([142.37030325]),\n",
       " array([118.8276779]),\n",
       " array([65.94998438]),\n",
       " array([48.52955011]),\n",
       " array([65.8348031]),\n",
       " array([52.08071252]),\n",
       " array([68.01735527]),\n",
       " array([75.46570095]),\n",
       " array([66.27709205]),\n",
       " array([53.68759001]),\n",
       " array([108.33222508]),\n",
       " array([66.69027754]),\n",
       " array([89.28516849]),\n",
       " array([82.07421355]),\n",
       " array([69.34192596]),\n",
       " array([92.60130746]),\n",
       " array([71.70449298]),\n",
       " array([51.32839979]),\n",
       " array([75.46570095]),\n",
       " array([68.97737162]),\n",
       " array([104.8127327]),\n",
       " array([47.38552946]),\n",
       " array([24.41634814]),\n",
       " array([37.14137757]),\n",
       " array([116.73122769]),\n",
       " array([48.59852191]),\n",
       " array([36.43294939]),\n",
       " array([48.51619859]),\n",
       " array([146.64414097]),\n",
       " array([51.56596555]),\n",
       " array([81.57435774]),\n",
       " array([81.10223412]),\n",
       " array([54.87446289]),\n",
       " array([133.86242396]),\n",
       " array([75.66102363]),\n",
       " array([88.53741737]),\n",
       " array([66.49689721]),\n",
       " array([65.8348031]),\n",
       " array([66.53582887]),\n",
       " array([76.79408248]),\n",
       " array([47.57798984]),\n",
       " array([26.07081085]),\n",
       " array([38.11095282]),\n",
       " array([102.47870175]),\n",
       " array([48.21192757]),\n",
       " array([48.21192757]),\n",
       " array([109.02426624]),\n",
       " array([55.33942395]),\n",
       " array([47.49462267]),\n",
       " array([68.95116056]),\n",
       " array([107.9437375]),\n",
       " array([94.48507365]),\n",
       " array([25.99498853]),\n",
       " array([52.46310623]),\n",
       " array([68.85895224]),\n",
       " array([66.4078171]),\n",
       " array([93.96787137]),\n",
       " array([65.50663826]),\n",
       " array([68.95332965]),\n",
       " array([39.6162973]),\n",
       " array([45.71704501]),\n",
       " array([63.51637651]),\n",
       " array([139.27510605]),\n",
       " array([42.0373959]),\n",
       " array([53.46629103]),\n",
       " array([46.33719705]),\n",
       " array([66.38786098]),\n",
       " array([48.45239908]),\n",
       " array([53.72200311]),\n",
       " array([48.39870224]),\n",
       " array([153.63918522]),\n",
       " array([108.22794866]),\n",
       " array([126.92614646]),\n",
       " array([75.46570095]),\n",
       " array([68.95332965]),\n",
       " array([37.93697512]),\n",
       " array([82.07421355]),\n",
       " array([106.36323267]),\n",
       " array([68.0100872]),\n",
       " array([51.4946967]),\n",
       " array([66.38786098]),\n",
       " array([68.01735527]),\n",
       " array([48.41486455]),\n",
       " array([147.06825396]),\n",
       " array([48.19267437]),\n",
       " array([25.72482461]),\n",
       " array([41.78455305]),\n",
       " array([109.79990819]),\n",
       " array([68.95332965]),\n",
       " array([65.8348031]),\n",
       " array([41.668421]),\n",
       " array([38.82278313]),\n",
       " array([63.51912527]),\n",
       " array([56.07360918]),\n",
       " array([82.07421355]),\n",
       " array([54.87446289]),\n",
       " array([53.68759001]),\n",
       " array([90.45728835]),\n",
       " array([65.22840527]),\n",
       " array([65.81693519]),\n",
       " array([51.99679358]),\n",
       " array([68.97737162]),\n",
       " array([93.51449544]),\n",
       " array([66.38786098]),\n",
       " array([66.31186591]),\n",
       " array([106.29966122]),\n",
       " array([53.68759001]),\n",
       " array([65.83765605]),\n",
       " array([46.33719705]),\n",
       " array([106.78839775]),\n",
       " array([53.53358635]),\n",
       " array([129.41766504]),\n",
       " array([71.37900348]),\n",
       " array([68.37481512]),\n",
       " array([65.60192755]),\n",
       " array([144.37996324]),\n",
       " array([75.42268631]),\n",
       " array([39.6162973]),\n",
       " array([91.70629316]),\n",
       " array([52.09454333]),\n",
       " array([48.21192757]),\n",
       " array([118.7904974]),\n",
       " array([65.50663826]),\n",
       " array([70.64073417]),\n",
       " array([53.72200311]),\n",
       " array([105.77722768]),\n",
       " array([82.0406126]),\n",
       " array([117.63439382]),\n",
       " array([91.87541613]),\n",
       " array([48.39870224]),\n",
       " array([43.01244411]),\n",
       " array([126.94287518]),\n",
       " array([66.12469894]),\n",
       " array([108.04944223]),\n",
       " array([65.97111205]),\n",
       " array([88.46906158]),\n",
       " array([48.27141971]),\n",
       " array([82.07421355]),\n",
       " array([51.45190986]),\n",
       " array([47.70558809]),\n",
       " array([88.63212956]),\n",
       " array([79.98857124]),\n",
       " array([47.65367928]),\n",
       " array([147.85208371]),\n",
       " array([47.2901358]),\n",
       " array([41.42023134]),\n",
       " array([48.59852191]),\n",
       " array([81.07576703]),\n",
       " array([65.66102265]),\n",
       " array([126.88685732]),\n",
       " array([78.17156369]),\n",
       " array([91.70629316]),\n",
       " array([91.15459143]),\n",
       " array([79.54465917]),\n",
       " array([54.77808226]),\n",
       " array([48.79749278]),\n",
       " array([75.97344393]),\n",
       " array([110.34214024]),\n",
       " array([48.60279753]),\n",
       " array([54.77808226]),\n",
       " array([66.69027754]),\n",
       " array([124.53732456]),\n",
       " array([89.0871099]),\n",
       " array([65.9108216]),\n",
       " array([65.85100361]),\n",
       " array([66.53582887]),\n",
       " array([105.31273606]),\n",
       " array([48.21192757]),\n",
       " array([55.18442604]),\n",
       " array([65.86632496]),\n",
       " array([48.39870224]),\n",
       " array([68.88592803]),\n",
       " array([143.7827627]),\n",
       " array([41.42023134]),\n",
       " array([25.87377631]),\n",
       " array([54.77808226]),\n",
       " array([37.07443081]),\n",
       " array([51.39284184]),\n",
       " array([54.77808226]),\n",
       " array([39.6162973]),\n",
       " array([94.93757928]),\n",
       " array([147.35647107]),\n",
       " array([75.14571084]),\n",
       " array([69.29075332]),\n",
       " array([136.62462962]),\n",
       " array([55.18442604]),\n",
       " array([108.04944223]),\n",
       " array([54.77808226]),\n",
       " array([70.62701378]),\n",
       " array([145.3090703]),\n",
       " array([48.39870224]),\n",
       " array([51.32839979]),\n",
       " array([42.38201569]),\n",
       " array([36.75635363]),\n",
       " array([48.33480991]),\n",
       " array([119.20857269]),\n",
       " array([38.74348796]),\n",
       " array([108.83842302]),\n",
       " array([65.8348031]),\n",
       " array([41.35787146]),\n",
       " array([55.24304332]),\n",
       " array([108.26865363]),\n",
       " array([51.39284184]),\n",
       " array([94.99572698]),\n",
       " array([110.19770186]),\n",
       " array([119.90779321]),\n",
       " array([37.22065174]),\n",
       " array([55.18442604]),\n",
       " array([23.47507425]),\n",
       " array([80.00663573]),\n",
       " array([89.30551623]),\n",
       " array([74.47039145]),\n",
       " array([128.79178758]),\n",
       " array([130.01434916]),\n",
       " array([82.19611369]),\n",
       " array([55.24304332]),\n",
       " array([70.5011846]),\n",
       " array([68.68723982]),\n",
       " array([67.95502756]),\n",
       " array([65.8348031]),\n",
       " array([47.20721121]),\n",
       " array([55.18442604]),\n",
       " array([108.26865363]),\n",
       " array([82.05719784]),\n",
       " array([48.54537621]),\n",
       " array([51.65569995]),\n",
       " array([47.20686639]),\n",
       " array([94.5048741]),\n",
       " array([55.24304332]),\n",
       " array([90.51410737]),\n",
       " array([68.63891038]),\n",
       " array([106.37730317]),\n",
       " array([125.08366883]),\n",
       " array([118.51463478]),\n",
       " array([65.89675642]),\n",
       " array([53.72200311]),\n",
       " array([54.77808226]),\n",
       " array([47.97344163]),\n",
       " array([36.91319954]),\n",
       " array([81.4635594]),\n",
       " array([89.53799622]),\n",
       " array([66.39010099]),\n",
       " array([107.32287001]),\n",
       " array([48.39870224]),\n",
       " array([47.49734205]),\n",
       " array([131.52850106]),\n",
       " array([105.71461532]),\n",
       " array([104.85390398]),\n",
       " array([67.96229563]),\n",
       " array([24.41634814]),\n",
       " array([77.00226021]),\n",
       " array([51.53083425]),\n",
       " array([71.11732057]),\n",
       " array([29.00974386]),\n",
       " array([48.49493482]),\n",
       " array([48.19267437]),\n",
       " array([53.68759001]),\n",
       " array([55.24304332]),\n",
       " array([70.6998859]),\n",
       " array([74.99936287]),\n",
       " array([68.4521164]),\n",
       " array([48.70677284]),\n",
       " array([66.38786098]),\n",
       " array([124.53732456]),\n",
       " array([105.35188059]),\n",
       " array([46.33719705]),\n",
       " array([65.50663826]),\n",
       " array([51.47713741]),\n",
       " array([94.75574641]),\n",
       " array([138.37652937]),\n",
       " array([53.72200311]),\n",
       " array([119.79471567]),\n",
       " array([117.61041933]),\n",
       " array([88.39214923]),\n",
       " array([48.39870224]),\n",
       " array([55.24304332]),\n",
       " array([66.38786098]),\n",
       " array([48.14587086]),\n",
       " array([41.94901473]),\n",
       " array([55.14855154]),\n",
       " array([65.8348031]),\n",
       " array([75.1807981]),\n",
       " array([75.1807981]),\n",
       " array([66.39010099]),\n",
       " array([53.49748635]),\n",
       " array([70.62701378]),\n",
       " array([94.86092494]),\n",
       " array([143.57471468]),\n",
       " array([106.61779606]),\n",
       " array([67.928665]),\n",
       " array([52.06654808]),\n",
       " array([78.99775345]),\n",
       " array([69.35685358]),\n",
       " array([36.36797718]),\n",
       " array([51.99679358]),\n",
       " array([71.37900348]),\n",
       " array([30.58595191]),\n",
       " array([67.928665]),\n",
       " array([43.81080667]),\n",
       " array([68.97737162]),\n",
       " array([48.41486455]),\n",
       " array([55.33942395]),\n",
       " array([48.78133047]),\n",
       " array([75.46570095]),\n",
       " array([47.03220438]),\n",
       " array([118.5027859]),\n",
       " array([48.19267437]),\n",
       " array([88.5052771]),\n",
       " array([47.8245581]),\n",
       " array([119.79690719]),\n",
       " array([47.70931523]),\n",
       " array([38.38961343]),\n",
       " array([140.10529903]),\n",
       " array([152.33631992]),\n",
       " array([55.33033321]),\n",
       " array([145.06577278]),\n",
       " array([47.20686639]),\n",
       " array([65.89675642]),\n",
       " array([107.8166546]),\n",
       " array([55.07741709]),\n",
       " array([41.09620436]),\n",
       " array([107.23380198]),\n",
       " array([50.4510055]),\n",
       " array([48.47568162]),\n",
       " array([123.77631919]),\n",
       " array([89.0871099]),\n",
       " array([138.92231273]),\n",
       " array([81.86068926]),\n",
       " array([53.78090776]),\n",
       " array([41.94901473]),\n",
       " array([48.49017805]),\n",
       " array([48.21192757]),\n",
       " array([119.24183318]),\n",
       " array([52.0295886]),\n",
       " array([134.73365927]),\n",
       " array([108.62749951]),\n",
       " array([14.28751487]),\n",
       " array([52.90919409]),\n",
       " array([69.47855178]),\n",
       " array([48.21192757]),\n",
       " array([131.19835106]),\n",
       " array([82.16460304]),\n",
       " array([90.60927408]),\n",
       " array([87.41898298]),\n",
       " array([82.37918558]),\n",
       " array([78.99775345]),\n",
       " array([91.70629316]),\n",
       " array([90.87452109]),\n",
       " array([70.33492776]),\n",
       " array([98.79859423]),\n",
       " array([36.64359398]),\n",
       " array([65.67210713]),\n",
       " array([79.75572245]),\n",
       " array([70.70066931]),\n",
       " array([68.95332965]),\n",
       " array([47.17092788]),\n",
       " array([74.8484955]),\n",
       " array([48.5823596]),\n",
       " array([48.21192757]),\n",
       " array([81.40341281]),\n",
       " array([26.11202505]),\n",
       " array([75.42268631]),\n",
       " array([51.47713741]),\n",
       " array([55.24304332]),\n",
       " array([51.47713741]),\n",
       " array([54.4876685]),\n",
       " array([71.99565654]),\n",
       " array([47.38552946]),\n",
       " array([68.00677341]),\n",
       " array([48.41486455]),\n",
       " array([113.69549866]),\n",
       " array([55.22340417]),\n",
       " array([65.8348031]),\n",
       " array([86.46666]),\n",
       " array([118.69389369]),\n",
       " array([47.98150484]),\n",
       " array([54.82739765]),\n",
       " array([36.30519016]),\n",
       " array([77.35625231]),\n",
       " array([36.75635363]),\n",
       " array([76.56222045]),\n",
       " array([66.20653577]),\n",
       " array([71.37900348]),\n",
       " array([66.25024007]),\n",
       " array([134.75071771]),\n",
       " array([36.82570241]),\n",
       " array([109.58697268]),\n",
       " array([76.22594841]),\n",
       " array([48.24654286]),\n",
       " array([89.39974432]),\n",
       " array([89.17608033]),\n",
       " array([65.32962092]),\n",
       " array([81.5634093]),\n",
       " array([126.65837643]),\n",
       " array([48.49493482]),\n",
       " array([77.1390787]),\n",
       " array([65.97111205]),\n",
       " array([66.29340754]),\n",
       " array([143.52080626]),\n",
       " array([51.99679358]),\n",
       " array([53.83566179]),\n",
       " array([14.28751487]),\n",
       " array([75.31831327]),\n",
       " array([28.13637288]),\n",
       " array([55.33942395]),\n",
       " array([51.32839979]),\n",
       " array([114.39184691]),\n",
       " array([79.03472995]),\n",
       " array([81.39984141]),\n",
       " array([80.8746125]),\n",
       " array([47.10071306]),\n",
       " array([65.89675642]),\n",
       " array([37.93697512]),\n",
       " array([56.07360918]),\n",
       " array([67.928665]),\n",
       " array([76.73323627]),\n",
       " array([65.50663826]),\n",
       " array([69.29075332]),\n",
       " array([65.89747403]),\n",
       " array([66.45121376]),\n",
       " array([106.46879227]),\n",
       " array([89.24522394]),\n",
       " array([89.25980047]),\n",
       " array([86.36810723]),\n",
       " array([137.29008625]),\n",
       " array([48.41486455]),\n",
       " array([68.97737162]),\n",
       " array([53.72200311]),\n",
       " array([100.90447191]),\n",
       " array([86.36810723]),\n",
       " array([51.32839979]),\n",
       " array([65.83061775]),\n",
       " array([48.28877384]),\n",
       " array([95.46073226]),\n",
       " array([77.49046003]),\n",
       " array([65.86632496]),\n",
       " array([67.9434967]),\n",
       " array([102.62488751]),\n",
       " array([52.09292268]),\n",
       " array([47.38552946]),\n",
       " array([68.02246171]),\n",
       " array([53.80124869]),\n",
       " array([75.618009]),\n",
       " array([66.38786098]),\n",
       " array([145.31801498]),\n",
       " array([54.89853209]),\n",
       " array([70.24217676]),\n",
       " array([143.0172248]),\n",
       " array([86.91455046]),\n",
       " array([68.02246171]),\n",
       " array([88.63212956]),\n",
       " array([79.54465917]),\n",
       " array([24.34331587]),\n",
       " array([75.23072112]),\n",
       " array([92.60130746]),\n",
       " array([42.60271176]),\n",
       " array([124.53732456]),\n",
       " array([66.53582887]),\n",
       " array([67.23737645]),\n",
       " array([47.20686639]),\n",
       " array([87.41898298]),\n",
       " array([71.70449298]),\n",
       " array([68.00677341]),\n",
       " array([67.07338769]),\n",
       " array([112.32189425]),\n",
       " array([70.87076216]),\n",
       " array([41.17101737]),\n",
       " array([65.83061775]),\n",
       " array([86.36810723]),\n",
       " array([48.5823596]),\n",
       " array([65.8348031]),\n",
       " array([135.92239345]),\n",
       " array([41.38081803]),\n",
       " array([92.09260219]),\n",
       " array([65.50663826]),\n",
       " array([82.37848576]),\n",
       " array([65.86632496]),\n",
       " array([87.70494734]),\n",
       " array([50.4510055]),\n",
       " array([90.93935439]),\n",
       " array([94.98600234]),\n",
       " array([66.69649639]),\n",
       " array([105.32356232]),\n",
       " array([51.38209663]),\n",
       " array([87.41898298]),\n",
       " array([51.47713741]),\n",
       " array([48.39870224]),\n",
       " array([77.72840626]),\n",
       " array([54.93129547]),\n",
       " array([74.95156061]),\n",
       " array([55.98602745]),\n",
       " array([119.24183318]),\n",
       " array([66.25024007]),\n",
       " array([125.78956042]),\n",
       " array([92.60130746]),\n",
       " array([65.97111205]),\n",
       " array([87.62020501]),\n",
       " array([48.72038671]),\n",
       " array([118.40499334]),\n",
       " array([48.30964111]),\n",
       " array([119.44601281]),\n",
       " array([88.93519591]),\n",
       " array([39.52420652]),\n",
       " array([48.47568162]),\n",
       " array([154.32055577]),\n",
       " array([48.24654286]),\n",
       " array([82.00834274]),\n",
       " array([75.46570095]),\n",
       " array([51.47713741]),\n",
       " array([114.6063634]),\n",
       " array([74.66632753]),\n",
       " array([119.34777751]),\n",
       " array([53.68759001]),\n",
       " array([48.41486455]),\n",
       " array([66.38786098]),\n",
       " array([54.77808226]),\n",
       " array([91.47969803]),\n",
       " array([70.65532541]),\n",
       " array([98.83692638]),\n",
       " array([36.86015434]),\n",
       " array([55.07741709]),\n",
       " array([68.97737162]),\n",
       " array([138.92231273]),\n",
       " array([91.36711854]),\n",
       " array([118.60100726]),\n",
       " array([48.17804485]),\n",
       " array([118.87586513]),\n",
       " array([87.41898298]),\n",
       " array([102.59048694]),\n",
       " array([68.95332965]),\n",
       " array([36.86015434]),\n",
       " array([37.93697512]),\n",
       " array([47.57633925]),\n",
       " array([52.66912453]),\n",
       " array([48.19267437]),\n",
       " array([68.89300845]),\n",
       " array([47.63168668]),\n",
       " array([69.34192596]),\n",
       " array([30.68442428]),\n",
       " array([48.21192757]),\n",
       " array([89.61427145]),\n",
       " array([66.00596421]),\n",
       " array([66.49689721]),\n",
       " array([65.86632496]),\n",
       " array([66.46050366]),\n",
       " array([82.39715999]),\n",
       " array([47.38552946]),\n",
       " array([119.45277578]),\n",
       " array([48.21192757]),\n",
       " array([65.86422628]),\n",
       " array([66.65677927]),\n",
       " array([66.38786098]),\n",
       " array([67.9434967]),\n",
       " array([81.40341281]),\n",
       " array([87.41898298]),\n",
       " array([82.69258117]),\n",
       " array([68.00677341]),\n",
       " array([66.20965943]),\n",
       " array([53.80124869]),\n",
       " array([55.07741709]),\n",
       " array([105.88197691]),\n",
       " ...]"
      ]
     },
     "execution_count": 101,
     "metadata": {},
     "output_type": "execute_result"
    }
   ],
   "source": [
    "predicted = []\n",
    "testtrain = np.array(train_new)\n",
    "for i in range(len(testtrain)):\n",
    "    predicted.append(rf.predict([testtrain[i]]))\n",
    "\n",
    "predicted"
   ]
  },
  {
   "cell_type": "code",
   "execution_count": 102,
   "id": "edfee17e",
   "metadata": {
    "colab": {
     "base_uri": "https://localhost:8080/",
     "height": 423
    },
    "id": "edfee17e",
    "outputId": "f3ccb4e0-fab1-413c-9b20-b88336e347ca"
   },
   "outputs": [
    {
     "data": {
      "text/html": [
       "\n",
       "  <div id=\"df-3592682f-2f7f-482d-b519-5a4f19737149\">\n",
       "    <div class=\"colab-df-container\">\n",
       "      <div>\n",
       "<style scoped>\n",
       "    .dataframe tbody tr th:only-of-type {\n",
       "        vertical-align: middle;\n",
       "    }\n",
       "\n",
       "    .dataframe tbody tr th {\n",
       "        vertical-align: top;\n",
       "    }\n",
       "\n",
       "    .dataframe thead th {\n",
       "        text-align: right;\n",
       "    }\n",
       "</style>\n",
       "<table border=\"1\" class=\"dataframe\">\n",
       "  <thead>\n",
       "    <tr style=\"text-align: right;\">\n",
       "      <th></th>\n",
       "      <th>location</th>\n",
       "      <th>size</th>\n",
       "      <th>total_sqft</th>\n",
       "      <th>price</th>\n",
       "      <th>Predicted Price</th>\n",
       "    </tr>\n",
       "  </thead>\n",
       "  <tbody>\n",
       "    <tr>\n",
       "      <th>0</th>\n",
       "      <td>Electronic City Phase II</td>\n",
       "      <td>2</td>\n",
       "      <td>1056.0</td>\n",
       "      <td>39.07</td>\n",
       "      <td>47.680322</td>\n",
       "    </tr>\n",
       "    <tr>\n",
       "      <th>2</th>\n",
       "      <td>Uttarahalli</td>\n",
       "      <td>3</td>\n",
       "      <td>1440.0</td>\n",
       "      <td>62.00</td>\n",
       "      <td>68.842051</td>\n",
       "    </tr>\n",
       "    <tr>\n",
       "      <th>3</th>\n",
       "      <td>Lingadheeranahalli</td>\n",
       "      <td>3</td>\n",
       "      <td>1521.0</td>\n",
       "      <td>95.00</td>\n",
       "      <td>81.972814</td>\n",
       "    </tr>\n",
       "    <tr>\n",
       "      <th>4</th>\n",
       "      <td>Kothanur</td>\n",
       "      <td>2</td>\n",
       "      <td>1200.0</td>\n",
       "      <td>51.00</td>\n",
       "      <td>66.387861</td>\n",
       "    </tr>\n",
       "    <tr>\n",
       "      <th>5</th>\n",
       "      <td>Whitefield</td>\n",
       "      <td>2</td>\n",
       "      <td>1170.0</td>\n",
       "      <td>38.00</td>\n",
       "      <td>55.077417</td>\n",
       "    </tr>\n",
       "    <tr>\n",
       "      <th>...</th>\n",
       "      <td>...</td>\n",
       "      <td>...</td>\n",
       "      <td>...</td>\n",
       "      <td>...</td>\n",
       "      <td>...</td>\n",
       "    </tr>\n",
       "    <tr>\n",
       "      <th>13309</th>\n",
       "      <td>Yeshwanthpur</td>\n",
       "      <td>3</td>\n",
       "      <td>1675.0</td>\n",
       "      <td>92.13</td>\n",
       "      <td>98.698503</td>\n",
       "    </tr>\n",
       "    <tr>\n",
       "      <th>13310</th>\n",
       "      <td>Rachenahalli</td>\n",
       "      <td>2</td>\n",
       "      <td>1050.0</td>\n",
       "      <td>52.71</td>\n",
       "      <td>48.414865</td>\n",
       "    </tr>\n",
       "    <tr>\n",
       "      <th>13312</th>\n",
       "      <td>Bellandur</td>\n",
       "      <td>2</td>\n",
       "      <td>1262.0</td>\n",
       "      <td>47.00</td>\n",
       "      <td>66.476524</td>\n",
       "    </tr>\n",
       "    <tr>\n",
       "      <th>13314</th>\n",
       "      <td>Green Glen Layout</td>\n",
       "      <td>3</td>\n",
       "      <td>1715.0</td>\n",
       "      <td>112.00</td>\n",
       "      <td>106.268499</td>\n",
       "    </tr>\n",
       "    <tr>\n",
       "      <th>13317</th>\n",
       "      <td>Raja Rajeshwari Nagar</td>\n",
       "      <td>2</td>\n",
       "      <td>1141.0</td>\n",
       "      <td>60.00</td>\n",
       "      <td>53.533586</td>\n",
       "    </tr>\n",
       "  </tbody>\n",
       "</table>\n",
       "<p>10143 rows × 5 columns</p>\n",
       "</div>\n",
       "      <button class=\"colab-df-convert\" onclick=\"convertToInteractive('df-3592682f-2f7f-482d-b519-5a4f19737149')\"\n",
       "              title=\"Convert this dataframe to an interactive table.\"\n",
       "              style=\"display:none;\">\n",
       "        \n",
       "  <svg xmlns=\"http://www.w3.org/2000/svg\" height=\"24px\"viewBox=\"0 0 24 24\"\n",
       "       width=\"24px\">\n",
       "    <path d=\"M0 0h24v24H0V0z\" fill=\"none\"/>\n",
       "    <path d=\"M18.56 5.44l.94 2.06.94-2.06 2.06-.94-2.06-.94-.94-2.06-.94 2.06-2.06.94zm-11 1L8.5 8.5l.94-2.06 2.06-.94-2.06-.94L8.5 2.5l-.94 2.06-2.06.94zm10 10l.94 2.06.94-2.06 2.06-.94-2.06-.94-.94-2.06-.94 2.06-2.06.94z\"/><path d=\"M17.41 7.96l-1.37-1.37c-.4-.4-.92-.59-1.43-.59-.52 0-1.04.2-1.43.59L10.3 9.45l-7.72 7.72c-.78.78-.78 2.05 0 2.83L4 21.41c.39.39.9.59 1.41.59.51 0 1.02-.2 1.41-.59l7.78-7.78 2.81-2.81c.8-.78.8-2.07 0-2.86zM5.41 20L4 18.59l7.72-7.72 1.47 1.35L5.41 20z\"/>\n",
       "  </svg>\n",
       "      </button>\n",
       "      \n",
       "  <style>\n",
       "    .colab-df-container {\n",
       "      display:flex;\n",
       "      flex-wrap:wrap;\n",
       "      gap: 12px;\n",
       "    }\n",
       "\n",
       "    .colab-df-convert {\n",
       "      background-color: #E8F0FE;\n",
       "      border: none;\n",
       "      border-radius: 50%;\n",
       "      cursor: pointer;\n",
       "      display: none;\n",
       "      fill: #1967D2;\n",
       "      height: 32px;\n",
       "      padding: 0 0 0 0;\n",
       "      width: 32px;\n",
       "    }\n",
       "\n",
       "    .colab-df-convert:hover {\n",
       "      background-color: #E2EBFA;\n",
       "      box-shadow: 0px 1px 2px rgba(60, 64, 67, 0.3), 0px 1px 3px 1px rgba(60, 64, 67, 0.15);\n",
       "      fill: #174EA6;\n",
       "    }\n",
       "\n",
       "    [theme=dark] .colab-df-convert {\n",
       "      background-color: #3B4455;\n",
       "      fill: #D2E3FC;\n",
       "    }\n",
       "\n",
       "    [theme=dark] .colab-df-convert:hover {\n",
       "      background-color: #434B5C;\n",
       "      box-shadow: 0px 1px 3px 1px rgba(0, 0, 0, 0.15);\n",
       "      filter: drop-shadow(0px 1px 2px rgba(0, 0, 0, 0.3));\n",
       "      fill: #FFFFFF;\n",
       "    }\n",
       "  </style>\n",
       "\n",
       "      <script>\n",
       "        const buttonEl =\n",
       "          document.querySelector('#df-3592682f-2f7f-482d-b519-5a4f19737149 button.colab-df-convert');\n",
       "        buttonEl.style.display =\n",
       "          google.colab.kernel.accessAllowed ? 'block' : 'none';\n",
       "\n",
       "        async function convertToInteractive(key) {\n",
       "          const element = document.querySelector('#df-3592682f-2f7f-482d-b519-5a4f19737149');\n",
       "          const dataTable =\n",
       "            await google.colab.kernel.invokeFunction('convertToInteractive',\n",
       "                                                     [key], {});\n",
       "          if (!dataTable) return;\n",
       "\n",
       "          const docLinkHtml = 'Like what you see? Visit the ' +\n",
       "            '<a target=\"_blank\" href=https://colab.research.google.com/notebooks/data_table.ipynb>data table notebook</a>'\n",
       "            + ' to learn more about interactive tables.';\n",
       "          element.innerHTML = '';\n",
       "          dataTable['output_type'] = 'display_data';\n",
       "          await google.colab.output.renderOutput(dataTable, element);\n",
       "          const docLink = document.createElement('div');\n",
       "          docLink.innerHTML = docLinkHtml;\n",
       "          element.appendChild(docLink);\n",
       "        }\n",
       "      </script>\n",
       "    </div>\n",
       "  </div>\n",
       "  "
      ],
      "text/plain": [
       "                       location  size  total_sqft   price  Predicted Price\n",
       "0      Electronic City Phase II     2      1056.0   39.07        47.680322\n",
       "2                   Uttarahalli     3      1440.0   62.00        68.842051\n",
       "3            Lingadheeranahalli     3      1521.0   95.00        81.972814\n",
       "4                      Kothanur     2      1200.0   51.00        66.387861\n",
       "5                    Whitefield     2      1170.0   38.00        55.077417\n",
       "...                         ...   ...         ...     ...              ...\n",
       "13309              Yeshwanthpur     3      1675.0   92.13        98.698503\n",
       "13310              Rachenahalli     2      1050.0   52.71        48.414865\n",
       "13312                 Bellandur     2      1262.0   47.00        66.476524\n",
       "13314         Green Glen Layout     3      1715.0  112.00       106.268499\n",
       "13317     Raja Rajeshwari Nagar     2      1141.0   60.00        53.533586\n",
       "\n",
       "[10143 rows x 5 columns]"
      ]
     },
     "execution_count": 102,
     "metadata": {},
     "output_type": "execute_result"
    }
   ],
   "source": [
    "df['Predicted Price'] = np.array(predicted)\n",
    "df"
   ]
  },
  {
   "cell_type": "code",
   "execution_count": 103,
   "id": "fc3e5de2",
   "metadata": {
    "colab": {
     "base_uri": "https://localhost:8080/",
     "height": 469
    },
    "id": "fc3e5de2",
    "outputId": "55cced1a-eb2a-4f5a-ba4a-2abcfd4d3442"
   },
   "outputs": [
    {
     "data": {
      "image/png": "[encoded data removed]",
      "text/plain": [
       "<Figure size 1800x700 with 1 Axes>"
      ]
     },
     "metadata": {},
     "output_type": "display_data"
    }
   ],
   "source": [
    "plt1 = plt.figure(figsize = (18,7))\n",
    "sn.distplot(df['price'],hist=False,color='orange',label='Actual')\n",
    "sn.distplot(df['Predicted Price'],hist=False,color='blue',label='Predicted')\n",
    "plt.legend()\n",
    "plt.show()"
   ]
  },
  {
   "cell_type": "code",
   "execution_count": 103,
   "id": "38406e30",
   "metadata": {
    "id": "38406e30"
   },
   "outputs": [],
   "source": []
  }
 ],
 "metadata": {
  "accelerator": "GPU",
  "colab": {
   "gpuType": "T4",
   "provenance": []
  },
  "kernelspec": {
   "display_name": "Python 3 (ipykernel)",
   "language": "python",
   "name": "python3"
  },
  "language_info": {
   "codemirror_mode": {
    "name": "ipython",
    "version": 3
   },
   "file_extension": ".py",
   "mimetype": "text/x-python",
   "name": "python",
   "nbconvert_exporter": "python",
   "pygments_lexer": "ipython3",
   "version": "3.9.12"
  }
 },
 "nbformat": 4,
 "nbformat_minor": 5
}
