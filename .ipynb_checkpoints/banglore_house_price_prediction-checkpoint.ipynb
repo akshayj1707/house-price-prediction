{
 "cells": [
  {
   "cell_type": "markdown",
   "id": "58bb75cd",
   "metadata": {
    "id": "58bb75cd"
   },
   "source": [
    "# Importing Basic Dependencies"
   ]
  },
  {
   "cell_type": "code",
   "execution_count": 92,
   "id": "c776a692",
   "metadata": {
    "id": "c776a692"
   },
   "outputs": [],
   "source": [
    "import pandas as pd\n",
    "import numpy as np\n",
    "import seaborn as sn\n",
    "import matplotlib.pyplot as plt\n",
    "import warnings\n",
    "warnings.filterwarnings(\"ignore\")\n",
    "%matplotlib inline"
   ]
  },
  {
   "cell_type": "code",
   "execution_count": 93,
   "id": "0739b14c",
   "metadata": {
    "colab": {
     "base_uri": "https://localhost:8080/",
     "height": 206
    },
    "id": "0739b14c",
    "outputId": "6f3a5f36-bcd3-43cf-93f3-19e6e1214cdd"
   },
   "outputs": [
    {
     "data": {
      "text/html": [
       "\n",
       "  <div id=\"df-796652a5-f769-4edc-9d63-66f1aba077d0\">\n",
       "    <div class=\"colab-df-container\">\n",
       "      <div>\n",
       "<style scoped>\n",
       "    .dataframe tbody tr th:only-of-type {\n",
       "        vertical-align: middle;\n",
       "    }\n",
       "\n",
       "    .dataframe tbody tr th {\n",
       "        vertical-align: top;\n",
       "    }\n",
       "\n",
       "    .dataframe thead th {\n",
       "        text-align: right;\n",
       "    }\n",
       "</style>\n",
       "<table border=\"1\" class=\"dataframe\">\n",
       "  <thead>\n",
       "    <tr style=\"text-align: right;\">\n",
       "      <th></th>\n",
       "      <th>area_type</th>\n",
       "      <th>availability</th>\n",
       "      <th>location</th>\n",
       "      <th>size</th>\n",
       "      <th>society</th>\n",
       "      <th>total_sqft</th>\n",
       "      <th>bath</th>\n",
       "      <th>balcony</th>\n",
       "      <th>price</th>\n",
       "    </tr>\n",
       "  </thead>\n",
       "  <tbody>\n",
       "    <tr>\n",
       "      <th>0</th>\n",
       "      <td>Super built-up  Area</td>\n",
       "      <td>19-Dec</td>\n",
       "      <td>Electronic City Phase II</td>\n",
       "      <td>2 BHK</td>\n",
       "      <td>Coomee</td>\n",
       "      <td>1056</td>\n",
       "      <td>2.0</td>\n",
       "      <td>1.0</td>\n",
       "      <td>39.07</td>\n",
       "    </tr>\n",
       "    <tr>\n",
       "      <th>1</th>\n",
       "      <td>Plot  Area</td>\n",
       "      <td>Ready To Move</td>\n",
       "      <td>Chikka Tirupathi</td>\n",
       "      <td>4 Bedroom</td>\n",
       "      <td>Theanmp</td>\n",
       "      <td>2600</td>\n",
       "      <td>5.0</td>\n",
       "      <td>3.0</td>\n",
       "      <td>120.00</td>\n",
       "    </tr>\n",
       "    <tr>\n",
       "      <th>2</th>\n",
       "      <td>Built-up  Area</td>\n",
       "      <td>Ready To Move</td>\n",
       "      <td>Uttarahalli</td>\n",
       "      <td>3 BHK</td>\n",
       "      <td>NaN</td>\n",
       "      <td>1440</td>\n",
       "      <td>2.0</td>\n",
       "      <td>3.0</td>\n",
       "      <td>62.00</td>\n",
       "    </tr>\n",
       "    <tr>\n",
       "      <th>3</th>\n",
       "      <td>Super built-up  Area</td>\n",
       "      <td>Ready To Move</td>\n",
       "      <td>Lingadheeranahalli</td>\n",
       "      <td>3 BHK</td>\n",
       "      <td>Soiewre</td>\n",
       "      <td>1521</td>\n",
       "      <td>3.0</td>\n",
       "      <td>1.0</td>\n",
       "      <td>95.00</td>\n",
       "    </tr>\n",
       "    <tr>\n",
       "      <th>4</th>\n",
       "      <td>Super built-up  Area</td>\n",
       "      <td>Ready To Move</td>\n",
       "      <td>Kothanur</td>\n",
       "      <td>2 BHK</td>\n",
       "      <td>NaN</td>\n",
       "      <td>1200</td>\n",
       "      <td>2.0</td>\n",
       "      <td>1.0</td>\n",
       "      <td>51.00</td>\n",
       "    </tr>\n",
       "  </tbody>\n",
       "</table>\n",
       "</div>\n",
       "      <button class=\"colab-df-convert\" onclick=\"convertToInteractive('df-796652a5-f769-4edc-9d63-66f1aba077d0')\"\n",
       "              title=\"Convert this dataframe to an interactive table.\"\n",
       "              style=\"display:none;\">\n",
       "        \n",
       "  <svg xmlns=\"http://www.w3.org/2000/svg\" height=\"24px\"viewBox=\"0 0 24 24\"\n",
       "       width=\"24px\">\n",
       "    <path d=\"M0 0h24v24H0V0z\" fill=\"none\"/>\n",
       "    <path d=\"M18.56 5.44l.94 2.06.94-2.06 2.06-.94-2.06-.94-.94-2.06-.94 2.06-2.06.94zm-11 1L8.5 8.5l.94-2.06 2.06-.94-2.06-.94L8.5 2.5l-.94 2.06-2.06.94zm10 10l.94 2.06.94-2.06 2.06-.94-2.06-.94-.94-2.06-.94 2.06-2.06.94z\"/><path d=\"M17.41 7.96l-1.37-1.37c-.4-.4-.92-.59-1.43-.59-.52 0-1.04.2-1.43.59L10.3 9.45l-7.72 7.72c-.78.78-.78 2.05 0 2.83L4 21.41c.39.39.9.59 1.41.59.51 0 1.02-.2 1.41-.59l7.78-7.78 2.81-2.81c.8-.78.8-2.07 0-2.86zM5.41 20L4 18.59l7.72-7.72 1.47 1.35L5.41 20z\"/>\n",
       "  </svg>\n",
       "      </button>\n",
       "      \n",
       "  <style>\n",
       "    .colab-df-container {\n",
       "      display:flex;\n",
       "      flex-wrap:wrap;\n",
       "      gap: 12px;\n",
       "    }\n",
       "\n",
       "    .colab-df-convert {\n",
       "      background-color: #E8F0FE;\n",
       "      border: none;\n",
       "      border-radius: 50%;\n",
       "      cursor: pointer;\n",
       "      display: none;\n",
       "      fill: #1967D2;\n",
       "      height: 32px;\n",
       "      padding: 0 0 0 0;\n",
       "      width: 32px;\n",
       "    }\n",
       "\n",
       "    .colab-df-convert:hover {\n",
       "      background-color: #E2EBFA;\n",
       "      box-shadow: 0px 1px 2px rgba(60, 64, 67, 0.3), 0px 1px 3px 1px rgba(60, 64, 67, 0.15);\n",
       "      fill: #174EA6;\n",
       "    }\n",
       "\n",
       "    [theme=dark] .colab-df-convert {\n",
       "      background-color: #3B4455;\n",
       "      fill: #D2E3FC;\n",
       "    }\n",
       "\n",
       "    [theme=dark] .colab-df-convert:hover {\n",
       "      background-color: #434B5C;\n",
       "      box-shadow: 0px 1px 3px 1px rgba(0, 0, 0, 0.15);\n",
       "      filter: drop-shadow(0px 1px 2px rgba(0, 0, 0, 0.3));\n",
       "      fill: #FFFFFF;\n",
       "    }\n",
       "  </style>\n",
       "\n",
       "      <script>\n",
       "        const buttonEl =\n",
       "          document.querySelector('#df-796652a5-f769-4edc-9d63-66f1aba077d0 button.colab-df-convert');\n",
       "        buttonEl.style.display =\n",
       "          google.colab.kernel.accessAllowed ? 'block' : 'none';\n",
       "\n",
       "        async function convertToInteractive(key) {\n",
       "          const element = document.querySelector('#df-796652a5-f769-4edc-9d63-66f1aba077d0');\n",
       "          const dataTable =\n",
       "            await google.colab.kernel.invokeFunction('convertToInteractive',\n",
       "                                                     [key], {});\n",
       "          if (!dataTable) return;\n",
       "\n",
       "          const docLinkHtml = 'Like what you see? Visit the ' +\n",
       "            '<a target=\"_blank\" href=https://colab.research.google.com/notebooks/data_table.ipynb>data table notebook</a>'\n",
       "            + ' to learn more about interactive tables.';\n",
       "          element.innerHTML = '';\n",
       "          dataTable['output_type'] = 'display_data';\n",
       "          await google.colab.output.renderOutput(dataTable, element);\n",
       "          const docLink = document.createElement('div');\n",
       "          docLink.innerHTML = docLinkHtml;\n",
       "          element.appendChild(docLink);\n",
       "        }\n",
       "      </script>\n",
       "    </div>\n",
       "  </div>\n",
       "  "
      ],
      "text/plain": [
       "              area_type   availability                  location       size  \\\n",
       "0  Super built-up  Area         19-Dec  Electronic City Phase II      2 BHK   \n",
       "1            Plot  Area  Ready To Move          Chikka Tirupathi  4 Bedroom   \n",
       "2        Built-up  Area  Ready To Move               Uttarahalli      3 BHK   \n",
       "3  Super built-up  Area  Ready To Move        Lingadheeranahalli      3 BHK   \n",
       "4  Super built-up  Area  Ready To Move                  Kothanur      2 BHK   \n",
       "\n",
       "   society total_sqft  bath  balcony   price  \n",
       "0  Coomee        1056   2.0      1.0   39.07  \n",
       "1  Theanmp       2600   5.0      3.0  120.00  \n",
       "2      NaN       1440   2.0      3.0   62.00  \n",
       "3  Soiewre       1521   3.0      1.0   95.00  \n",
       "4      NaN       1200   2.0      1.0   51.00  "
      ]
     },
     "execution_count": 93,
     "metadata": {},
     "output_type": "execute_result"
    }
   ],
   "source": [
    "df = pd.read_csv('bengaluru_house_prices.csv')\n",
    "df.head()"
   ]
  },
  {
   "cell_type": "code",
   "execution_count": 94,
   "id": "0b15db5c",
   "metadata": {
    "colab": {
     "base_uri": "https://localhost:8080/"
    },
    "id": "0b15db5c",
    "outputId": "d915f033-31ac-434e-da84-2c34de1613a0"
   },
   "outputs": [
    {
     "data": {
      "text/plain": [
       "Index(['area_type', 'availability', 'location', 'size', 'society',\n",
       "       'total_sqft', 'bath', 'balcony', 'price'],\n",
       "      dtype='object')"
      ]
     },
     "execution_count": 94,
     "metadata": {},
     "output_type": "execute_result"
    }
   ],
   "source": [
    "df.columns"
   ]
  },
  {
   "cell_type": "code",
   "execution_count": 95,
   "id": "ecab64e7",
   "metadata": {
    "colab": {
     "base_uri": "https://localhost:8080/"
    },
    "id": "ecab64e7",
    "outputId": "7105e26d-e522-4e56-9fb2-8ef989684e5b"
   },
   "outputs": [
    {
     "data": {
      "text/plain": [
       "(13320, 9)"
      ]
     },
     "execution_count": 95,
     "metadata": {},
     "output_type": "execute_result"
    }
   ],
   "source": [
    "df.shape"
   ]
  },
  {
   "cell_type": "code",
   "execution_count": 96,
   "id": "6849e4cd",
   "metadata": {
    "colab": {
     "base_uri": "https://localhost:8080/"
    },
    "id": "6849e4cd",
    "outputId": "ef481131-f8fb-4df0-d2dd-dabc5170931e"
   },
   "outputs": [
    {
     "data": {
      "text/plain": [
       "area_type          0\n",
       "availability       0\n",
       "location           1\n",
       "size              16\n",
       "society         5502\n",
       "total_sqft         0\n",
       "bath              73\n",
       "balcony          609\n",
       "price              0\n",
       "dtype: int64"
      ]
     },
     "execution_count": 96,
     "metadata": {},
     "output_type": "execute_result"
    }
   ],
   "source": [
    "df.isnull().sum()"
   ]
  },
  {
   "cell_type": "code",
   "execution_count": 97,
   "id": "62d9ba76",
   "metadata": {
    "id": "62d9ba76"
   },
   "outputs": [],
   "source": [
    "# removing area,availability,society,balcony columns.society,balcony columns having so many missing values.by seeing area_type,availability\n",
    "#columns it does not look like add any value in price prediction\n",
    "\n",
    "df.drop(columns = ['area_type','availability','society','balcony'],inplace=True)"
   ]
  },
  {
   "cell_type": "code",
   "execution_count": 98,
   "id": "2362973e",
   "metadata": {
    "colab": {
     "base_uri": "https://localhost:8080/",
     "height": 206
    },
    "id": "2362973e",
    "outputId": "ee9ee7fa-b7e8-4990-a486-6ae3fcd90e14"
   },
   "outputs": [
    {
     "data": {
      "text/html": [
       "\n",
       "  <div id=\"df-d47fc496-c758-47c9-8c80-09290fe33073\">\n",
       "    <div class=\"colab-df-container\">\n",
       "      <div>\n",
       "<style scoped>\n",
       "    .dataframe tbody tr th:only-of-type {\n",
       "        vertical-align: middle;\n",
       "    }\n",
       "\n",
       "    .dataframe tbody tr th {\n",
       "        vertical-align: top;\n",
       "    }\n",
       "\n",
       "    .dataframe thead th {\n",
       "        text-align: right;\n",
       "    }\n",
       "</style>\n",
       "<table border=\"1\" class=\"dataframe\">\n",
       "  <thead>\n",
       "    <tr style=\"text-align: right;\">\n",
       "      <th></th>\n",
       "      <th>location</th>\n",
       "      <th>size</th>\n",
       "      <th>total_sqft</th>\n",
       "      <th>bath</th>\n",
       "      <th>price</th>\n",
       "    </tr>\n",
       "  </thead>\n",
       "  <tbody>\n",
       "    <tr>\n",
       "      <th>0</th>\n",
       "      <td>Electronic City Phase II</td>\n",
       "      <td>2 BHK</td>\n",
       "      <td>1056</td>\n",
       "      <td>2.0</td>\n",
       "      <td>39.07</td>\n",
       "    </tr>\n",
       "    <tr>\n",
       "      <th>1</th>\n",
       "      <td>Chikka Tirupathi</td>\n",
       "      <td>4 Bedroom</td>\n",
       "      <td>2600</td>\n",
       "      <td>5.0</td>\n",
       "      <td>120.00</td>\n",
       "    </tr>\n",
       "    <tr>\n",
       "      <th>2</th>\n",
       "      <td>Uttarahalli</td>\n",
       "      <td>3 BHK</td>\n",
       "      <td>1440</td>\n",
       "      <td>2.0</td>\n",
       "      <td>62.00</td>\n",
       "    </tr>\n",
       "    <tr>\n",
       "      <th>3</th>\n",
       "      <td>Lingadheeranahalli</td>\n",
       "      <td>3 BHK</td>\n",
       "      <td>1521</td>\n",
       "      <td>3.0</td>\n",
       "      <td>95.00</td>\n",
       "    </tr>\n",
       "    <tr>\n",
       "      <th>4</th>\n",
       "      <td>Kothanur</td>\n",
       "      <td>2 BHK</td>\n",
       "      <td>1200</td>\n",
       "      <td>2.0</td>\n",
       "      <td>51.00</td>\n",
       "    </tr>\n",
       "  </tbody>\n",
       "</table>\n",
       "</div>\n",
       "      <button class=\"colab-df-convert\" onclick=\"convertToInteractive('df-d47fc496-c758-47c9-8c80-09290fe33073')\"\n",
       "              title=\"Convert this dataframe to an interactive table.\"\n",
       "              style=\"display:none;\">\n",
       "        \n",
       "  <svg xmlns=\"http://www.w3.org/2000/svg\" height=\"24px\"viewBox=\"0 0 24 24\"\n",
       "       width=\"24px\">\n",
       "    <path d=\"M0 0h24v24H0V0z\" fill=\"none\"/>\n",
       "    <path d=\"M18.56 5.44l.94 2.06.94-2.06 2.06-.94-2.06-.94-.94-2.06-.94 2.06-2.06.94zm-11 1L8.5 8.5l.94-2.06 2.06-.94-2.06-.94L8.5 2.5l-.94 2.06-2.06.94zm10 10l.94 2.06.94-2.06 2.06-.94-2.06-.94-.94-2.06-.94 2.06-2.06.94z\"/><path d=\"M17.41 7.96l-1.37-1.37c-.4-.4-.92-.59-1.43-.59-.52 0-1.04.2-1.43.59L10.3 9.45l-7.72 7.72c-.78.78-.78 2.05 0 2.83L4 21.41c.39.39.9.59 1.41.59.51 0 1.02-.2 1.41-.59l7.78-7.78 2.81-2.81c.8-.78.8-2.07 0-2.86zM5.41 20L4 18.59l7.72-7.72 1.47 1.35L5.41 20z\"/>\n",
       "  </svg>\n",
       "      </button>\n",
       "      \n",
       "  <style>\n",
       "    .colab-df-container {\n",
       "      display:flex;\n",
       "      flex-wrap:wrap;\n",
       "      gap: 12px;\n",
       "    }\n",
       "\n",
       "    .colab-df-convert {\n",
       "      background-color: #E8F0FE;\n",
       "      border: none;\n",
       "      border-radius: 50%;\n",
       "      cursor: pointer;\n",
       "      display: none;\n",
       "      fill: #1967D2;\n",
       "      height: 32px;\n",
       "      padding: 0 0 0 0;\n",
       "      width: 32px;\n",
       "    }\n",
       "\n",
       "    .colab-df-convert:hover {\n",
       "      background-color: #E2EBFA;\n",
       "      box-shadow: 0px 1px 2px rgba(60, 64, 67, 0.3), 0px 1px 3px 1px rgba(60, 64, 67, 0.15);\n",
       "      fill: #174EA6;\n",
       "    }\n",
       "\n",
       "    [theme=dark] .colab-df-convert {\n",
       "      background-color: #3B4455;\n",
       "      fill: #D2E3FC;\n",
       "    }\n",
       "\n",
       "    [theme=dark] .colab-df-convert:hover {\n",
       "      background-color: #434B5C;\n",
       "      box-shadow: 0px 1px 3px 1px rgba(0, 0, 0, 0.15);\n",
       "      filter: drop-shadow(0px 1px 2px rgba(0, 0, 0, 0.3));\n",
       "      fill: #FFFFFF;\n",
       "    }\n",
       "  </style>\n",
       "\n",
       "      <script>\n",
       "        const buttonEl =\n",
       "          document.querySelector('#df-d47fc496-c758-47c9-8c80-09290fe33073 button.colab-df-convert');\n",
       "        buttonEl.style.display =\n",
       "          google.colab.kernel.accessAllowed ? 'block' : 'none';\n",
       "\n",
       "        async function convertToInteractive(key) {\n",
       "          const element = document.querySelector('#df-d47fc496-c758-47c9-8c80-09290fe33073');\n",
       "          const dataTable =\n",
       "            await google.colab.kernel.invokeFunction('convertToInteractive',\n",
       "                                                     [key], {});\n",
       "          if (!dataTable) return;\n",
       "\n",
       "          const docLinkHtml = 'Like what you see? Visit the ' +\n",
       "            '<a target=\"_blank\" href=https://colab.research.google.com/notebooks/data_table.ipynb>data table notebook</a>'\n",
       "            + ' to learn more about interactive tables.';\n",
       "          element.innerHTML = '';\n",
       "          dataTable['output_type'] = 'display_data';\n",
       "          await google.colab.output.renderOutput(dataTable, element);\n",
       "          const docLink = document.createElement('div');\n",
       "          docLink.innerHTML = docLinkHtml;\n",
       "          element.appendChild(docLink);\n",
       "        }\n",
       "      </script>\n",
       "    </div>\n",
       "  </div>\n",
       "  "
      ],
      "text/plain": [
       "                   location       size total_sqft  bath   price\n",
       "0  Electronic City Phase II      2 BHK       1056   2.0   39.07\n",
       "1          Chikka Tirupathi  4 Bedroom       2600   5.0  120.00\n",
       "2               Uttarahalli      3 BHK       1440   2.0   62.00\n",
       "3        Lingadheeranahalli      3 BHK       1521   3.0   95.00\n",
       "4                  Kothanur      2 BHK       1200   2.0   51.00"
      ]
     },
     "execution_count": 98,
     "metadata": {},
     "output_type": "execute_result"
    }
   ],
   "source": [
    "df.head()"
   ]
  },
  {
   "cell_type": "code",
   "execution_count": 99,
   "id": "b7c8a983",
   "metadata": {
    "colab": {
     "base_uri": "https://localhost:8080/"
    },
    "id": "b7c8a983",
    "outputId": "82773357-f7c0-480a-8b1e-9e6d1fe71c10"
   },
   "outputs": [
    {
     "data": {
      "text/plain": [
       "882"
      ]
     },
     "execution_count": 99,
     "metadata": {},
     "output_type": "execute_result"
    }
   ],
   "source": [
    "# checking for duplicated rows\n",
    "\n",
    "df.duplicated().sum()"
   ]
  },
  {
   "cell_type": "code",
   "execution_count": 100,
   "id": "ea8220eb",
   "metadata": {
    "id": "ea8220eb"
   },
   "outputs": [],
   "source": [
    "# droping duplicated values\n",
    "\n",
    "df.drop_duplicates(inplace=True)"
   ]
  },
  {
   "cell_type": "code",
   "execution_count": 101,
   "id": "93cc6dab",
   "metadata": {
    "colab": {
     "base_uri": "https://localhost:8080/"
    },
    "id": "93cc6dab",
    "outputId": "6a475531-ccaa-42b0-b00b-890c39724bf0"
   },
   "outputs": [
    {
     "data": {
      "text/plain": [
       "(12438, 5)"
      ]
     },
     "execution_count": 101,
     "metadata": {},
     "output_type": "execute_result"
    }
   ],
   "source": [
    "df.shape"
   ]
  },
  {
   "cell_type": "code",
   "execution_count": 102,
   "id": "0bdd8c46",
   "metadata": {
    "colab": {
     "base_uri": "https://localhost:8080/"
    },
    "id": "0bdd8c46",
    "outputId": "385efc25-eb5d-467f-fcaa-44fa3e9cf526"
   },
   "outputs": [
    {
     "name": "stdout",
     "output_type": "stream",
     "text": [
      "<class 'pandas.core.frame.DataFrame'>\n",
      "Int64Index: 12438 entries, 0 to 13318\n",
      "Data columns (total 5 columns):\n",
      " #   Column      Non-Null Count  Dtype  \n",
      "---  ------      --------------  -----  \n",
      " 0   location    12437 non-null  object \n",
      " 1   size        12422 non-null  object \n",
      " 2   total_sqft  12438 non-null  object \n",
      " 3   bath        12366 non-null  float64\n",
      " 4   price       12438 non-null  float64\n",
      "dtypes: float64(2), object(3)\n",
      "memory usage: 583.0+ KB\n"
     ]
    }
   ],
   "source": [
    "df.info()"
   ]
  },
  {
   "cell_type": "markdown",
   "id": "94033769",
   "metadata": {
    "id": "94033769"
   },
   "source": [
    "### handling NA values"
   ]
  },
  {
   "cell_type": "code",
   "execution_count": 103,
   "id": "0dcc3979",
   "metadata": {
    "colab": {
     "base_uri": "https://localhost:8080/",
     "height": 206
    },
    "id": "0dcc3979",
    "outputId": "3bf83a10-4cfa-4806-eddd-8d4a91948842"
   },
   "outputs": [
    {
     "data": {
      "text/html": [
       "\n",
       "  <div id=\"df-e4c8c1b0-5099-411c-b93c-aa7311982341\">\n",
       "    <div class=\"colab-df-container\">\n",
       "      <div>\n",
       "<style scoped>\n",
       "    .dataframe tbody tr th:only-of-type {\n",
       "        vertical-align: middle;\n",
       "    }\n",
       "\n",
       "    .dataframe tbody tr th {\n",
       "        vertical-align: top;\n",
       "    }\n",
       "\n",
       "    .dataframe thead th {\n",
       "        text-align: right;\n",
       "    }\n",
       "</style>\n",
       "<table border=\"1\" class=\"dataframe\">\n",
       "  <thead>\n",
       "    <tr style=\"text-align: right;\">\n",
       "      <th></th>\n",
       "      <th>location</th>\n",
       "      <th>size</th>\n",
       "      <th>total_sqft</th>\n",
       "      <th>bath</th>\n",
       "      <th>price</th>\n",
       "    </tr>\n",
       "  </thead>\n",
       "  <tbody>\n",
       "    <tr>\n",
       "      <th>0</th>\n",
       "      <td>Electronic City Phase II</td>\n",
       "      <td>2 BHK</td>\n",
       "      <td>1056</td>\n",
       "      <td>2.0</td>\n",
       "      <td>39.07</td>\n",
       "    </tr>\n",
       "    <tr>\n",
       "      <th>1</th>\n",
       "      <td>Chikka Tirupathi</td>\n",
       "      <td>4 Bedroom</td>\n",
       "      <td>2600</td>\n",
       "      <td>5.0</td>\n",
       "      <td>120.00</td>\n",
       "    </tr>\n",
       "    <tr>\n",
       "      <th>2</th>\n",
       "      <td>Uttarahalli</td>\n",
       "      <td>3 BHK</td>\n",
       "      <td>1440</td>\n",
       "      <td>2.0</td>\n",
       "      <td>62.00</td>\n",
       "    </tr>\n",
       "    <tr>\n",
       "      <th>3</th>\n",
       "      <td>Lingadheeranahalli</td>\n",
       "      <td>3 BHK</td>\n",
       "      <td>1521</td>\n",
       "      <td>3.0</td>\n",
       "      <td>95.00</td>\n",
       "    </tr>\n",
       "    <tr>\n",
       "      <th>4</th>\n",
       "      <td>Kothanur</td>\n",
       "      <td>2 BHK</td>\n",
       "      <td>1200</td>\n",
       "      <td>2.0</td>\n",
       "      <td>51.00</td>\n",
       "    </tr>\n",
       "  </tbody>\n",
       "</table>\n",
       "</div>\n",
       "      <button class=\"colab-df-convert\" onclick=\"convertToInteractive('df-e4c8c1b0-5099-411c-b93c-aa7311982341')\"\n",
       "              title=\"Convert this dataframe to an interactive table.\"\n",
       "              style=\"display:none;\">\n",
       "        \n",
       "  <svg xmlns=\"http://www.w3.org/2000/svg\" height=\"24px\"viewBox=\"0 0 24 24\"\n",
       "       width=\"24px\">\n",
       "    <path d=\"M0 0h24v24H0V0z\" fill=\"none\"/>\n",
       "    <path d=\"M18.56 5.44l.94 2.06.94-2.06 2.06-.94-2.06-.94-.94-2.06-.94 2.06-2.06.94zm-11 1L8.5 8.5l.94-2.06 2.06-.94-2.06-.94L8.5 2.5l-.94 2.06-2.06.94zm10 10l.94 2.06.94-2.06 2.06-.94-2.06-.94-.94-2.06-.94 2.06-2.06.94z\"/><path d=\"M17.41 7.96l-1.37-1.37c-.4-.4-.92-.59-1.43-.59-.52 0-1.04.2-1.43.59L10.3 9.45l-7.72 7.72c-.78.78-.78 2.05 0 2.83L4 21.41c.39.39.9.59 1.41.59.51 0 1.02-.2 1.41-.59l7.78-7.78 2.81-2.81c.8-.78.8-2.07 0-2.86zM5.41 20L4 18.59l7.72-7.72 1.47 1.35L5.41 20z\"/>\n",
       "  </svg>\n",
       "      </button>\n",
       "      \n",
       "  <style>\n",
       "    .colab-df-container {\n",
       "      display:flex;\n",
       "      flex-wrap:wrap;\n",
       "      gap: 12px;\n",
       "    }\n",
       "\n",
       "    .colab-df-convert {\n",
       "      background-color: #E8F0FE;\n",
       "      border: none;\n",
       "      border-radius: 50%;\n",
       "      cursor: pointer;\n",
       "      display: none;\n",
       "      fill: #1967D2;\n",
       "      height: 32px;\n",
       "      padding: 0 0 0 0;\n",
       "      width: 32px;\n",
       "    }\n",
       "\n",
       "    .colab-df-convert:hover {\n",
       "      background-color: #E2EBFA;\n",
       "      box-shadow: 0px 1px 2px rgba(60, 64, 67, 0.3), 0px 1px 3px 1px rgba(60, 64, 67, 0.15);\n",
       "      fill: #174EA6;\n",
       "    }\n",
       "\n",
       "    [theme=dark] .colab-df-convert {\n",
       "      background-color: #3B4455;\n",
       "      fill: #D2E3FC;\n",
       "    }\n",
       "\n",
       "    [theme=dark] .colab-df-convert:hover {\n",
       "      background-color: #434B5C;\n",
       "      box-shadow: 0px 1px 3px 1px rgba(0, 0, 0, 0.15);\n",
       "      filter: drop-shadow(0px 1px 2px rgba(0, 0, 0, 0.3));\n",
       "      fill: #FFFFFF;\n",
       "    }\n",
       "  </style>\n",
       "\n",
       "      <script>\n",
       "        const buttonEl =\n",
       "          document.querySelector('#df-e4c8c1b0-5099-411c-b93c-aa7311982341 button.colab-df-convert');\n",
       "        buttonEl.style.display =\n",
       "          google.colab.kernel.accessAllowed ? 'block' : 'none';\n",
       "\n",
       "        async function convertToInteractive(key) {\n",
       "          const element = document.querySelector('#df-e4c8c1b0-5099-411c-b93c-aa7311982341');\n",
       "          const dataTable =\n",
       "            await google.colab.kernel.invokeFunction('convertToInteractive',\n",
       "                                                     [key], {});\n",
       "          if (!dataTable) return;\n",
       "\n",
       "          const docLinkHtml = 'Like what you see? Visit the ' +\n",
       "            '<a target=\"_blank\" href=https://colab.research.google.com/notebooks/data_table.ipynb>data table notebook</a>'\n",
       "            + ' to learn more about interactive tables.';\n",
       "          element.innerHTML = '';\n",
       "          dataTable['output_type'] = 'display_data';\n",
       "          await google.colab.output.renderOutput(dataTable, element);\n",
       "          const docLink = document.createElement('div');\n",
       "          docLink.innerHTML = docLinkHtml;\n",
       "          element.appendChild(docLink);\n",
       "        }\n",
       "      </script>\n",
       "    </div>\n",
       "  </div>\n",
       "  "
      ],
      "text/plain": [
       "                   location       size total_sqft  bath   price\n",
       "0  Electronic City Phase II      2 BHK       1056   2.0   39.07\n",
       "1          Chikka Tirupathi  4 Bedroom       2600   5.0  120.00\n",
       "2               Uttarahalli      3 BHK       1440   2.0   62.00\n",
       "3        Lingadheeranahalli      3 BHK       1521   3.0   95.00\n",
       "4                  Kothanur      2 BHK       1200   2.0   51.00"
      ]
     },
     "execution_count": 103,
     "metadata": {},
     "output_type": "execute_result"
    }
   ],
   "source": [
    "df.head()"
   ]
  },
  {
   "cell_type": "code",
   "execution_count": 104,
   "id": "6218ca76",
   "metadata": {
    "id": "6218ca76"
   },
   "outputs": [],
   "source": [
    "catvars = df.select_dtypes(include=['object']).columns\n",
    "numvars = df.select_dtypes(include = ['int32','int64','float32','float64']).columns"
   ]
  },
  {
   "cell_type": "code",
   "execution_count": 105,
   "id": "c7566d7d",
   "metadata": {
    "colab": {
     "base_uri": "https://localhost:8080/"
    },
    "id": "c7566d7d",
    "outputId": "ab32743a-12b8-4a67-c951-0710beb596d4"
   },
   "outputs": [
    {
     "data": {
      "text/plain": [
       "Index(['location', 'size', 'total_sqft'], dtype='object')"
      ]
     },
     "execution_count": 105,
     "metadata": {},
     "output_type": "execute_result"
    }
   ],
   "source": [
    "catvars"
   ]
  },
  {
   "cell_type": "code",
   "execution_count": 106,
   "id": "e613b233",
   "metadata": {
    "colab": {
     "base_uri": "https://localhost:8080/"
    },
    "id": "e613b233",
    "outputId": "4f41a15c-6c2d-4541-d0ae-99c82636124f"
   },
   "outputs": [
    {
     "data": {
      "text/plain": [
       "Index(['bath', 'price'], dtype='object')"
      ]
     },
     "execution_count": 106,
     "metadata": {},
     "output_type": "execute_result"
    }
   ],
   "source": [
    "numvars"
   ]
  },
  {
   "cell_type": "code",
   "execution_count": 107,
   "id": "1c3969c6",
   "metadata": {
    "colab": {
     "base_uri": "https://localhost:8080/"
    },
    "id": "1c3969c6",
    "outputId": "d9430307-b935-4c7e-a9d0-4e924e2881e6"
   },
   "outputs": [
    {
     "name": "stdout",
     "output_type": "stream",
     "text": [
      "Details of the particular col location is : ['Electronic City Phase II' 'Chikka Tirupathi' 'Uttarahalli' ...\n",
      " '12th cross srinivas nagar banshankari 3rd stage' 'Havanur extension'\n",
      " 'Abshot Layout']\n",
      "Valuecounts of the particular col location is : Whitefield                        507\n",
      "Sarjapur  Road                    364\n",
      "Electronic City                   273\n",
      "Thanisandra                       224\n",
      "Kanakpura Road                    223\n",
      "                                 ... \n",
      "1st Stage Radha Krishna Layout      1\n",
      "BEML Layout 5th stage               1\n",
      "singapura paradise                  1\n",
      "Uvce Layout                         1\n",
      "Abshot Layout                       1\n",
      "Name: location, Length: 1305, dtype: int64\n",
      "---------------------------------------------------------------------------\n",
      "Details of the particular col size is : ['2 BHK' '4 Bedroom' '3 BHK' '4 BHK' '6 Bedroom' '3 Bedroom' '1 BHK'\n",
      " '1 RK' '1 Bedroom' '8 Bedroom' '2 Bedroom' '7 Bedroom' '5 BHK' '7 BHK'\n",
      " '6 BHK' '5 Bedroom' '11 BHK' '9 BHK' nan '9 Bedroom' '27 BHK'\n",
      " '10 Bedroom' '11 Bedroom' '10 BHK' '19 BHK' '16 BHK' '43 Bedroom'\n",
      " '14 BHK' '8 BHK' '12 Bedroom' '13 BHK' '18 Bedroom']\n",
      "Valuecounts of the particular col size is : 2 BHK         4768\n",
      "3 BHK         3988\n",
      "4 Bedroom      819\n",
      "4 BHK          562\n",
      "3 Bedroom      527\n",
      "1 BHK          507\n",
      "2 Bedroom      303\n",
      "5 Bedroom      288\n",
      "6 Bedroom      191\n",
      "1 Bedroom      100\n",
      "8 Bedroom       84\n",
      "7 Bedroom       82\n",
      "5 BHK           59\n",
      "9 Bedroom       46\n",
      "6 BHK           30\n",
      "7 BHK           17\n",
      "1 RK            12\n",
      "10 Bedroom      12\n",
      "9 BHK            8\n",
      "8 BHK            5\n",
      "11 BHK           2\n",
      "11 Bedroom       2\n",
      "10 BHK           2\n",
      "14 BHK           1\n",
      "13 BHK           1\n",
      "12 Bedroom       1\n",
      "27 BHK           1\n",
      "43 Bedroom       1\n",
      "16 BHK           1\n",
      "19 BHK           1\n",
      "18 Bedroom       1\n",
      "Name: size, dtype: int64\n",
      "---------------------------------------------------------------------------\n",
      "Details of the particular col total_sqft is : ['1056' '2600' '1440' ... '1133 - 1384' '774' '4689']\n",
      "Valuecounts of the particular col total_sqft is : 1200           774\n",
      "1100           203\n",
      "1500           201\n",
      "2400           194\n",
      "600            177\n",
      "              ... \n",
      "2493             1\n",
      "2466 - 2856      1\n",
      "3580             1\n",
      "2461             1\n",
      "4689             1\n",
      "Name: total_sqft, Length: 2117, dtype: int64\n",
      "---------------------------------------------------------------------------\n"
     ]
    }
   ],
   "source": [
    "def uniquevals(col):\n",
    "    print(f'Details of the particular col {col} is : {df[col].unique()}')\n",
    "\n",
    "def valuecounts(col):\n",
    "    print(f'Valuecounts of the particular col {col} is : {df[col].value_counts()}')\n",
    "\n",
    "\n",
    "for col in catvars:\n",
    "    uniquevals(col)\n",
    "    valuecounts(col)\n",
    "    print(\"-\"*75)"
   ]
  },
  {
   "cell_type": "code",
   "execution_count": 108,
   "id": "ae442f2f",
   "metadata": {
    "colab": {
     "base_uri": "https://localhost:8080/",
     "height": 300
    },
    "id": "ae442f2f",
    "outputId": "c2d769b6-5df8-4670-b332-9d3a2e2eb4cc"
   },
   "outputs": [
    {
     "data": {
      "text/html": [
       "\n",
       "  <div id=\"df-8dbf509f-35e2-410f-a559-f7be3f6cb020\">\n",
       "    <div class=\"colab-df-container\">\n",
       "      <div>\n",
       "<style scoped>\n",
       "    .dataframe tbody tr th:only-of-type {\n",
       "        vertical-align: middle;\n",
       "    }\n",
       "\n",
       "    .dataframe tbody tr th {\n",
       "        vertical-align: top;\n",
       "    }\n",
       "\n",
       "    .dataframe thead th {\n",
       "        text-align: right;\n",
       "    }\n",
       "</style>\n",
       "<table border=\"1\" class=\"dataframe\">\n",
       "  <thead>\n",
       "    <tr style=\"text-align: right;\">\n",
       "      <th></th>\n",
       "      <th>bath</th>\n",
       "      <th>price</th>\n",
       "    </tr>\n",
       "  </thead>\n",
       "  <tbody>\n",
       "    <tr>\n",
       "      <th>count</th>\n",
       "      <td>12366.000000</td>\n",
       "      <td>12438.000000</td>\n",
       "    </tr>\n",
       "    <tr>\n",
       "      <th>mean</th>\n",
       "      <td>2.719715</td>\n",
       "      <td>115.408159</td>\n",
       "    </tr>\n",
       "    <tr>\n",
       "      <th>std</th>\n",
       "      <td>1.369902</td>\n",
       "      <td>153.069125</td>\n",
       "    </tr>\n",
       "    <tr>\n",
       "      <th>min</th>\n",
       "      <td>1.000000</td>\n",
       "      <td>8.000000</td>\n",
       "    </tr>\n",
       "    <tr>\n",
       "      <th>25%</th>\n",
       "      <td>2.000000</td>\n",
       "      <td>50.000000</td>\n",
       "    </tr>\n",
       "    <tr>\n",
       "      <th>50%</th>\n",
       "      <td>2.000000</td>\n",
       "      <td>74.000000</td>\n",
       "    </tr>\n",
       "    <tr>\n",
       "      <th>75%</th>\n",
       "      <td>3.000000</td>\n",
       "      <td>125.000000</td>\n",
       "    </tr>\n",
       "    <tr>\n",
       "      <th>max</th>\n",
       "      <td>40.000000</td>\n",
       "      <td>3600.000000</td>\n",
       "    </tr>\n",
       "  </tbody>\n",
       "</table>\n",
       "</div>\n",
       "      <button class=\"colab-df-convert\" onclick=\"convertToInteractive('df-8dbf509f-35e2-410f-a559-f7be3f6cb020')\"\n",
       "              title=\"Convert this dataframe to an interactive table.\"\n",
       "              style=\"display:none;\">\n",
       "        \n",
       "  <svg xmlns=\"http://www.w3.org/2000/svg\" height=\"24px\"viewBox=\"0 0 24 24\"\n",
       "       width=\"24px\">\n",
       "    <path d=\"M0 0h24v24H0V0z\" fill=\"none\"/>\n",
       "    <path d=\"M18.56 5.44l.94 2.06.94-2.06 2.06-.94-2.06-.94-.94-2.06-.94 2.06-2.06.94zm-11 1L8.5 8.5l.94-2.06 2.06-.94-2.06-.94L8.5 2.5l-.94 2.06-2.06.94zm10 10l.94 2.06.94-2.06 2.06-.94-2.06-.94-.94-2.06-.94 2.06-2.06.94z\"/><path d=\"M17.41 7.96l-1.37-1.37c-.4-.4-.92-.59-1.43-.59-.52 0-1.04.2-1.43.59L10.3 9.45l-7.72 7.72c-.78.78-.78 2.05 0 2.83L4 21.41c.39.39.9.59 1.41.59.51 0 1.02-.2 1.41-.59l7.78-7.78 2.81-2.81c.8-.78.8-2.07 0-2.86zM5.41 20L4 18.59l7.72-7.72 1.47 1.35L5.41 20z\"/>\n",
       "  </svg>\n",
       "      </button>\n",
       "      \n",
       "  <style>\n",
       "    .colab-df-container {\n",
       "      display:flex;\n",
       "      flex-wrap:wrap;\n",
       "      gap: 12px;\n",
       "    }\n",
       "\n",
       "    .colab-df-convert {\n",
       "      background-color: #E8F0FE;\n",
       "      border: none;\n",
       "      border-radius: 50%;\n",
       "      cursor: pointer;\n",
       "      display: none;\n",
       "      fill: #1967D2;\n",
       "      height: 32px;\n",
       "      padding: 0 0 0 0;\n",
       "      width: 32px;\n",
       "    }\n",
       "\n",
       "    .colab-df-convert:hover {\n",
       "      background-color: #E2EBFA;\n",
       "      box-shadow: 0px 1px 2px rgba(60, 64, 67, 0.3), 0px 1px 3px 1px rgba(60, 64, 67, 0.15);\n",
       "      fill: #174EA6;\n",
       "    }\n",
       "\n",
       "    [theme=dark] .colab-df-convert {\n",
       "      background-color: #3B4455;\n",
       "      fill: #D2E3FC;\n",
       "    }\n",
       "\n",
       "    [theme=dark] .colab-df-convert:hover {\n",
       "      background-color: #434B5C;\n",
       "      box-shadow: 0px 1px 3px 1px rgba(0, 0, 0, 0.15);\n",
       "      filter: drop-shadow(0px 1px 2px rgba(0, 0, 0, 0.3));\n",
       "      fill: #FFFFFF;\n",
       "    }\n",
       "  </style>\n",
       "\n",
       "      <script>\n",
       "        const buttonEl =\n",
       "          document.querySelector('#df-8dbf509f-35e2-410f-a559-f7be3f6cb020 button.colab-df-convert');\n",
       "        buttonEl.style.display =\n",
       "          google.colab.kernel.accessAllowed ? 'block' : 'none';\n",
       "\n",
       "        async function convertToInteractive(key) {\n",
       "          const element = document.querySelector('#df-8dbf509f-35e2-410f-a559-f7be3f6cb020');\n",
       "          const dataTable =\n",
       "            await google.colab.kernel.invokeFunction('convertToInteractive',\n",
       "                                                     [key], {});\n",
       "          if (!dataTable) return;\n",
       "\n",
       "          const docLinkHtml = 'Like what you see? Visit the ' +\n",
       "            '<a target=\"_blank\" href=https://colab.research.google.com/notebooks/data_table.ipynb>data table notebook</a>'\n",
       "            + ' to learn more about interactive tables.';\n",
       "          element.innerHTML = '';\n",
       "          dataTable['output_type'] = 'display_data';\n",
       "          await google.colab.output.renderOutput(dataTable, element);\n",
       "          const docLink = document.createElement('div');\n",
       "          docLink.innerHTML = docLinkHtml;\n",
       "          element.appendChild(docLink);\n",
       "        }\n",
       "      </script>\n",
       "    </div>\n",
       "  </div>\n",
       "  "
      ],
      "text/plain": [
       "               bath         price\n",
       "count  12366.000000  12438.000000\n",
       "mean       2.719715    115.408159\n",
       "std        1.369902    153.069125\n",
       "min        1.000000      8.000000\n",
       "25%        2.000000     50.000000\n",
       "50%        2.000000     74.000000\n",
       "75%        3.000000    125.000000\n",
       "max       40.000000   3600.000000"
      ]
     },
     "execution_count": 108,
     "metadata": {},
     "output_type": "execute_result"
    }
   ],
   "source": [
    "df.describe()"
   ]
  },
  {
   "cell_type": "code",
   "execution_count": 109,
   "id": "67fdc408",
   "metadata": {
    "colab": {
     "base_uri": "https://localhost:8080/",
     "height": 206
    },
    "id": "67fdc408",
    "outputId": "bb757a49-263c-482e-dbc9-c31e731ba094"
   },
   "outputs": [
    {
     "data": {
      "text/html": [
       "\n",
       "  <div id=\"df-d45f6cc3-fda6-4746-9c2a-7460e53c1fa1\">\n",
       "    <div class=\"colab-df-container\">\n",
       "      <div>\n",
       "<style scoped>\n",
       "    .dataframe tbody tr th:only-of-type {\n",
       "        vertical-align: middle;\n",
       "    }\n",
       "\n",
       "    .dataframe tbody tr th {\n",
       "        vertical-align: top;\n",
       "    }\n",
       "\n",
       "    .dataframe thead th {\n",
       "        text-align: right;\n",
       "    }\n",
       "</style>\n",
       "<table border=\"1\" class=\"dataframe\">\n",
       "  <thead>\n",
       "    <tr style=\"text-align: right;\">\n",
       "      <th></th>\n",
       "      <th>location</th>\n",
       "      <th>size</th>\n",
       "      <th>total_sqft</th>\n",
       "      <th>bath</th>\n",
       "      <th>price</th>\n",
       "    </tr>\n",
       "  </thead>\n",
       "  <tbody>\n",
       "    <tr>\n",
       "      <th>0</th>\n",
       "      <td>Electronic City Phase II</td>\n",
       "      <td>2</td>\n",
       "      <td>1056</td>\n",
       "      <td>2.0</td>\n",
       "      <td>39.07</td>\n",
       "    </tr>\n",
       "    <tr>\n",
       "      <th>1</th>\n",
       "      <td>Chikka Tirupathi</td>\n",
       "      <td>4</td>\n",
       "      <td>2600</td>\n",
       "      <td>5.0</td>\n",
       "      <td>120.00</td>\n",
       "    </tr>\n",
       "    <tr>\n",
       "      <th>2</th>\n",
       "      <td>Uttarahalli</td>\n",
       "      <td>3</td>\n",
       "      <td>1440</td>\n",
       "      <td>2.0</td>\n",
       "      <td>62.00</td>\n",
       "    </tr>\n",
       "    <tr>\n",
       "      <th>3</th>\n",
       "      <td>Lingadheeranahalli</td>\n",
       "      <td>3</td>\n",
       "      <td>1521</td>\n",
       "      <td>3.0</td>\n",
       "      <td>95.00</td>\n",
       "    </tr>\n",
       "    <tr>\n",
       "      <th>4</th>\n",
       "      <td>Kothanur</td>\n",
       "      <td>2</td>\n",
       "      <td>1200</td>\n",
       "      <td>2.0</td>\n",
       "      <td>51.00</td>\n",
       "    </tr>\n",
       "  </tbody>\n",
       "</table>\n",
       "</div>\n",
       "      <button class=\"colab-df-convert\" onclick=\"convertToInteractive('df-d45f6cc3-fda6-4746-9c2a-7460e53c1fa1')\"\n",
       "              title=\"Convert this dataframe to an interactive table.\"\n",
       "              style=\"display:none;\">\n",
       "        \n",
       "  <svg xmlns=\"http://www.w3.org/2000/svg\" height=\"24px\"viewBox=\"0 0 24 24\"\n",
       "       width=\"24px\">\n",
       "    <path d=\"M0 0h24v24H0V0z\" fill=\"none\"/>\n",
       "    <path d=\"M18.56 5.44l.94 2.06.94-2.06 2.06-.94-2.06-.94-.94-2.06-.94 2.06-2.06.94zm-11 1L8.5 8.5l.94-2.06 2.06-.94-2.06-.94L8.5 2.5l-.94 2.06-2.06.94zm10 10l.94 2.06.94-2.06 2.06-.94-2.06-.94-.94-2.06-.94 2.06-2.06.94z\"/><path d=\"M17.41 7.96l-1.37-1.37c-.4-.4-.92-.59-1.43-.59-.52 0-1.04.2-1.43.59L10.3 9.45l-7.72 7.72c-.78.78-.78 2.05 0 2.83L4 21.41c.39.39.9.59 1.41.59.51 0 1.02-.2 1.41-.59l7.78-7.78 2.81-2.81c.8-.78.8-2.07 0-2.86zM5.41 20L4 18.59l7.72-7.72 1.47 1.35L5.41 20z\"/>\n",
       "  </svg>\n",
       "      </button>\n",
       "      \n",
       "  <style>\n",
       "    .colab-df-container {\n",
       "      display:flex;\n",
       "      flex-wrap:wrap;\n",
       "      gap: 12px;\n",
       "    }\n",
       "\n",
       "    .colab-df-convert {\n",
       "      background-color: #E8F0FE;\n",
       "      border: none;\n",
       "      border-radius: 50%;\n",
       "      cursor: pointer;\n",
       "      display: none;\n",
       "      fill: #1967D2;\n",
       "      height: 32px;\n",
       "      padding: 0 0 0 0;\n",
       "      width: 32px;\n",
       "    }\n",
       "\n",
       "    .colab-df-convert:hover {\n",
       "      background-color: #E2EBFA;\n",
       "      box-shadow: 0px 1px 2px rgba(60, 64, 67, 0.3), 0px 1px 3px 1px rgba(60, 64, 67, 0.15);\n",
       "      fill: #174EA6;\n",
       "    }\n",
       "\n",
       "    [theme=dark] .colab-df-convert {\n",
       "      background-color: #3B4455;\n",
       "      fill: #D2E3FC;\n",
       "    }\n",
       "\n",
       "    [theme=dark] .colab-df-convert:hover {\n",
       "      background-color: #434B5C;\n",
       "      box-shadow: 0px 1px 3px 1px rgba(0, 0, 0, 0.15);\n",
       "      filter: drop-shadow(0px 1px 2px rgba(0, 0, 0, 0.3));\n",
       "      fill: #FFFFFF;\n",
       "    }\n",
       "  </style>\n",
       "\n",
       "      <script>\n",
       "        const buttonEl =\n",
       "          document.querySelector('#df-d45f6cc3-fda6-4746-9c2a-7460e53c1fa1 button.colab-df-convert');\n",
       "        buttonEl.style.display =\n",
       "          google.colab.kernel.accessAllowed ? 'block' : 'none';\n",
       "\n",
       "        async function convertToInteractive(key) {\n",
       "          const element = document.querySelector('#df-d45f6cc3-fda6-4746-9c2a-7460e53c1fa1');\n",
       "          const dataTable =\n",
       "            await google.colab.kernel.invokeFunction('convertToInteractive',\n",
       "                                                     [key], {});\n",
       "          if (!dataTable) return;\n",
       "\n",
       "          const docLinkHtml = 'Like what you see? Visit the ' +\n",
       "            '<a target=\"_blank\" href=https://colab.research.google.com/notebooks/data_table.ipynb>data table notebook</a>'\n",
       "            + ' to learn more about interactive tables.';\n",
       "          element.innerHTML = '';\n",
       "          dataTable['output_type'] = 'display_data';\n",
       "          await google.colab.output.renderOutput(dataTable, element);\n",
       "          const docLink = document.createElement('div');\n",
       "          docLink.innerHTML = docLinkHtml;\n",
       "          element.appendChild(docLink);\n",
       "        }\n",
       "      </script>\n",
       "    </div>\n",
       "  </div>\n",
       "  "
      ],
      "text/plain": [
       "                   location size total_sqft  bath   price\n",
       "0  Electronic City Phase II    2       1056   2.0   39.07\n",
       "1          Chikka Tirupathi    4       2600   5.0  120.00\n",
       "2               Uttarahalli    3       1440   2.0   62.00\n",
       "3        Lingadheeranahalli    3       1521   3.0   95.00\n",
       "4                  Kothanur    2       1200   2.0   51.00"
      ]
     },
     "execution_count": 109,
     "metadata": {},
     "output_type": "execute_result"
    }
   ],
   "source": [
    "'''\n",
    "so on observation we can see that if we remove \"bedroom\" or 'BHK' from size,i can\n",
    "make it as an integer value then after\n",
    "'''\n",
    "df['size'] = df['size'].str.replace(r'\\D','')\n",
    "\n",
    "df.head()"
   ]
  },
  {
   "cell_type": "code",
   "execution_count": 110,
   "id": "f8847a21",
   "metadata": {
    "colab": {
     "base_uri": "https://localhost:8080/"
    },
    "id": "f8847a21",
    "outputId": "11012084-a427-494b-bb64-788c94c2844f"
   },
   "outputs": [
    {
     "name": "stdout",
     "output_type": "stream",
     "text": [
      "<class 'pandas.core.frame.DataFrame'>\n",
      "Int64Index: 12438 entries, 0 to 13318\n",
      "Data columns (total 5 columns):\n",
      " #   Column      Non-Null Count  Dtype  \n",
      "---  ------      --------------  -----  \n",
      " 0   location    12437 non-null  object \n",
      " 1   size        12422 non-null  object \n",
      " 2   total_sqft  12438 non-null  object \n",
      " 3   bath        12366 non-null  float64\n",
      " 4   price       12438 non-null  float64\n",
      "dtypes: float64(2), object(3)\n",
      "memory usage: 583.0+ KB\n"
     ]
    }
   ],
   "source": [
    "df.info()"
   ]
  },
  {
   "cell_type": "code",
   "execution_count": 111,
   "id": "28358217",
   "metadata": {
    "id": "28358217"
   },
   "outputs": [],
   "source": [
    "df['size'] = df['size'].fillna(df['size'].mode()[0])"
   ]
  },
  {
   "cell_type": "code",
   "execution_count": 112,
   "id": "75f56d98",
   "metadata": {
    "colab": {
     "base_uri": "https://localhost:8080/"
    },
    "id": "75f56d98",
    "outputId": "5b63930b-7107-4162-a42b-c67af5a3ea6d"
   },
   "outputs": [
    {
     "name": "stdout",
     "output_type": "stream",
     "text": [
      "<class 'pandas.core.frame.DataFrame'>\n",
      "Int64Index: 12438 entries, 0 to 13318\n",
      "Data columns (total 5 columns):\n",
      " #   Column      Non-Null Count  Dtype  \n",
      "---  ------      --------------  -----  \n",
      " 0   location    12437 non-null  object \n",
      " 1   size        12438 non-null  object \n",
      " 2   total_sqft  12438 non-null  object \n",
      " 3   bath        12366 non-null  float64\n",
      " 4   price       12438 non-null  float64\n",
      "dtypes: float64(2), object(3)\n",
      "memory usage: 583.0+ KB\n"
     ]
    }
   ],
   "source": [
    "df.info()"
   ]
  },
  {
   "cell_type": "code",
   "execution_count": 113,
   "id": "f717eae8",
   "metadata": {
    "id": "f717eae8"
   },
   "outputs": [],
   "source": [
    "df.dropna(inplace=True)"
   ]
  },
  {
   "cell_type": "code",
   "execution_count": 114,
   "id": "ed4f7525",
   "metadata": {
    "id": "ed4f7525"
   },
   "outputs": [],
   "source": [
    "df['size'] = df['size'].astype('int32')"
   ]
  },
  {
   "cell_type": "code",
   "execution_count": 115,
   "id": "f92e2ba5",
   "metadata": {
    "id": "f92e2ba5"
   },
   "outputs": [],
   "source": [
    "df['bath'] = df['bath'].astype('int32')"
   ]
  },
  {
   "cell_type": "code",
   "execution_count": 116,
   "id": "3225a5b9",
   "metadata": {
    "colab": {
     "base_uri": "https://localhost:8080/"
    },
    "id": "3225a5b9",
    "outputId": "229a240c-55f3-4cf6-fc5c-ccee585767c3"
   },
   "outputs": [
    {
     "name": "stdout",
     "output_type": "stream",
     "text": [
      "<class 'pandas.core.frame.DataFrame'>\n",
      "Int64Index: 12365 entries, 0 to 13318\n",
      "Data columns (total 5 columns):\n",
      " #   Column      Non-Null Count  Dtype  \n",
      "---  ------      --------------  -----  \n",
      " 0   location    12365 non-null  object \n",
      " 1   size        12365 non-null  int32  \n",
      " 2   total_sqft  12365 non-null  object \n",
      " 3   bath        12365 non-null  int32  \n",
      " 4   price       12365 non-null  float64\n",
      "dtypes: float64(1), int32(2), object(2)\n",
      "memory usage: 483.0+ KB\n"
     ]
    }
   ],
   "source": [
    "df.info()"
   ]
  },
  {
   "cell_type": "markdown",
   "id": "887a5d23",
   "metadata": {
    "id": "887a5d23"
   },
   "source": [
    "# Exploratory Data Analysis"
   ]
  },
  {
   "cell_type": "code",
   "execution_count": 117,
   "id": "117a68a7",
   "metadata": {
    "colab": {
     "base_uri": "https://localhost:8080/",
     "height": 411
    },
    "id": "117a68a7",
    "outputId": "d71f3a51-4f0f-4154-b12f-61518f405b24"
   },
   "outputs": [
    {
     "data": {
      "image/png": "[encoded data removed]",
      "text/plain": [
       "<Figure size 1800x600 with 1 Axes>"
      ]
     },
     "metadata": {},
     "output_type": "display_data"
    }
   ],
   "source": [
    "# viewing the distribution of the price column\n",
    "\n",
    "plt1 = plt.figure(figsize = (18,6))\n",
    "sn.distplot(df['price'],color='red')\n",
    "plt.show()"
   ]
  },
  {
   "cell_type": "markdown",
   "id": "8312919b",
   "metadata": {
    "id": "8312919b"
   },
   "source": [
    "From above it is clearly seen that output data is rightly skewed"
   ]
  },
  {
   "cell_type": "code",
   "execution_count": 118,
   "id": "e0587f42",
   "metadata": {
    "colab": {
     "base_uri": "https://localhost:8080/",
     "height": 863
    },
    "id": "e0587f42",
    "outputId": "fa8378a3-cc41-40d9-bd31-932f440509c4"
   },
   "outputs": [
    {
     "data": {
      "image/png": "[encoded data removed]",
      "text/plain": [
       "<Figure size 1000x500 with 1 Axes>"
      ]
     },
     "metadata": {},
     "output_type": "display_data"
    },
    {
     "data": {
      "image/png": "[encoded data removed]",
      "text/plain": [
       "<Figure size 1000x500 with 1 Axes>"
      ]
     },
     "metadata": {},
     "output_type": "display_data"
    }
   ],
   "source": [
    "## plotting countplots for the categorical variables\n",
    "\n",
    "def drawplot(col):\n",
    "    plt.figure(figsize=(10,5))\n",
    "    sn.countplot(df[col],palette='plasma')\n",
    "    plt.xticks(rotation='vertical')\n",
    "\n",
    "toview = ['size','bath']\n",
    "for col in toview:\n",
    "    drawplot(col)"
   ]
  },
  {
   "cell_type": "markdown",
   "id": "dae7f42b",
   "metadata": {
    "id": "dae7f42b"
   },
   "source": [
    "From above we can clearly seen that size above 10 and bath above 8 has very rare values"
   ]
  },
  {
   "cell_type": "code",
   "execution_count": 119,
   "id": "2fff6b65",
   "metadata": {
    "colab": {
     "base_uri": "https://localhost:8080/",
     "height": 415
    },
    "id": "2fff6b65",
    "outputId": "5be97ae2-3774-4beb-8ddc-bddf1c2e49a7"
   },
   "outputs": [
    {
     "data": {
      "image/png": "[encoded data removed]",
      "text/plain": [
       "<Figure size 1800x600 with 1 Axes>"
      ]
     },
     "metadata": {},
     "output_type": "display_data"
    }
   ],
   "source": [
    "# average price for size\n",
    "\n",
    "plt.figure(figsize=(18,6))\n",
    "sn.barplot(x = df['size'],y = df['price'])\n",
    "plt.xticks(rotation = 'vertical')\n",
    "plt.show()"
   ]
  },
  {
   "cell_type": "code",
   "execution_count": 120,
   "id": "2ff6391d",
   "metadata": {
    "colab": {
     "base_uri": "https://localhost:8080/",
     "height": 415
    },
    "id": "2ff6391d",
    "outputId": "8db1ba1d-34ca-4201-e685-f8fa25d5ae26"
   },
   "outputs": [
    {
     "data": {
      "image/png": "[encoded data removed]",
      "text/plain": [
       "<Figure size 1800x600 with 1 Axes>"
      ]
     },
     "metadata": {},
     "output_type": "display_data"
    }
   ],
   "source": [
    "# average price for bath\n",
    "\n",
    "plt.figure(figsize=(18,6))\n",
    "sn.barplot(x = df['bath'],y = df['price'])\n",
    "plt.xticks(rotation = 'vertical')\n",
    "plt.show()"
   ]
  },
  {
   "cell_type": "code",
   "execution_count": 121,
   "id": "38294492",
   "metadata": {
    "colab": {
     "base_uri": "https://localhost:8080/",
     "height": 465
    },
    "id": "38294492",
    "outputId": "cc0ae4ff-7a4f-4278-fa51-abf010917f86"
   },
   "outputs": [
    {
     "data": {
      "image/png": "[encoded data removed]",
      "text/plain": [
       "<Figure size 1000x500 with 1 Axes>"
      ]
     },
     "metadata": {},
     "output_type": "display_data"
    }
   ],
   "source": [
    "# variation of size towards the price\n",
    "plt1 = plt.figure(figsize = (10,5))\n",
    "sn.scatterplot(x = df['size'],y = df['price'])\n",
    "plt.show()"
   ]
  },
  {
   "cell_type": "code",
   "execution_count": 122,
   "id": "1a853509",
   "metadata": {
    "colab": {
     "base_uri": "https://localhost:8080/",
     "height": 465
    },
    "id": "1a853509",
    "outputId": "970b0185-902e-4e62-ef05-61d7baa89466"
   },
   "outputs": [
    {
     "data": {
      "image/png": "[encoded data removed]",
      "text/plain": [
       "<Figure size 1000x500 with 1 Axes>"
      ]
     },
     "metadata": {},
     "output_type": "display_data"
    }
   ],
   "source": [
    "# variation of bath towards the price\n",
    "plt1 = plt.figure(figsize = (10,5))\n",
    "sn.scatterplot(x = df['bath'],y = df['price'])\n",
    "plt.show()"
   ]
  },
  {
   "cell_type": "code",
   "execution_count": 123,
   "id": "fb0c484c",
   "metadata": {
    "colab": {
     "base_uri": "https://localhost:8080/"
    },
    "id": "fb0c484c",
    "outputId": "f4280378-273c-4097-b8eb-1cabef62586d"
   },
   "outputs": [
    {
     "data": {
      "text/plain": [
       "2067"
      ]
     },
     "execution_count": 123,
     "metadata": {},
     "output_type": "execute_result"
    }
   ],
   "source": [
    "df['total_sqft'].nunique()"
   ]
  },
  {
   "cell_type": "markdown",
   "id": "2c2843fc",
   "metadata": {
    "id": "2c2843fc"
   },
   "source": [
    "we will convert total_sqft into integer"
   ]
  },
  {
   "cell_type": "code",
   "execution_count": 124,
   "id": "f22be4fb",
   "metadata": {
    "id": "f22be4fb"
   },
   "outputs": [],
   "source": [
    "def convert_sqft_to_num(x):\n",
    "    tokens = x.split('-')\n",
    "    if len(tokens) == 2:\n",
    "        return (float(tokens[0])+float(tokens[1]))/2\n",
    "    try:\n",
    "        return float(x)\n",
    "    except:\n",
    "        return None"
   ]
  },
  {
   "cell_type": "code",
   "execution_count": 125,
   "id": "81755f22",
   "metadata": {
    "id": "81755f22"
   },
   "outputs": [],
   "source": [
    "df['total_sqft'] = df['total_sqft'].apply(convert_sqft_to_num)"
   ]
  },
  {
   "cell_type": "code",
   "execution_count": 126,
   "id": "4cff14a6",
   "metadata": {
    "id": "4cff14a6"
   },
   "outputs": [],
   "source": [
    "df['total_sqft'] = df['total_sqft'].astype('float32')"
   ]
  },
  {
   "cell_type": "code",
   "execution_count": 127,
   "id": "7309d001",
   "metadata": {
    "colab": {
     "base_uri": "https://localhost:8080/"
    },
    "id": "7309d001",
    "outputId": "30797980-ea94-4f77-f155-46974f99bb91"
   },
   "outputs": [
    {
     "name": "stdout",
     "output_type": "stream",
     "text": [
      "<class 'pandas.core.frame.DataFrame'>\n",
      "Int64Index: 12365 entries, 0 to 13318\n",
      "Data columns (total 5 columns):\n",
      " #   Column      Non-Null Count  Dtype  \n",
      "---  ------      --------------  -----  \n",
      " 0   location    12365 non-null  object \n",
      " 1   size        12365 non-null  int32  \n",
      " 2   total_sqft  12319 non-null  float32\n",
      " 3   bath        12365 non-null  int32  \n",
      " 4   price       12365 non-null  float64\n",
      "dtypes: float32(1), float64(1), int32(2), object(1)\n",
      "memory usage: 692.7+ KB\n"
     ]
    }
   ],
   "source": [
    "df.info()"
   ]
  },
  {
   "cell_type": "code",
   "execution_count": 128,
   "id": "a92eb32f",
   "metadata": {
    "colab": {
     "base_uri": "https://localhost:8080/",
     "height": 206
    },
    "id": "a92eb32f",
    "outputId": "4d57dded-1000-480f-ad2c-62e39338f401"
   },
   "outputs": [
    {
     "data": {
      "text/html": [
       "\n",
       "  <div id=\"df-ac948a64-6cd4-419c-9560-50214a2dc8ce\">\n",
       "    <div class=\"colab-df-container\">\n",
       "      <div>\n",
       "<style scoped>\n",
       "    .dataframe tbody tr th:only-of-type {\n",
       "        vertical-align: middle;\n",
       "    }\n",
       "\n",
       "    .dataframe tbody tr th {\n",
       "        vertical-align: top;\n",
       "    }\n",
       "\n",
       "    .dataframe thead th {\n",
       "        text-align: right;\n",
       "    }\n",
       "</style>\n",
       "<table border=\"1\" class=\"dataframe\">\n",
       "  <thead>\n",
       "    <tr style=\"text-align: right;\">\n",
       "      <th></th>\n",
       "      <th>location</th>\n",
       "      <th>size</th>\n",
       "      <th>total_sqft</th>\n",
       "      <th>bath</th>\n",
       "      <th>price</th>\n",
       "    </tr>\n",
       "  </thead>\n",
       "  <tbody>\n",
       "    <tr>\n",
       "      <th>0</th>\n",
       "      <td>Electronic City Phase II</td>\n",
       "      <td>2</td>\n",
       "      <td>1056.0</td>\n",
       "      <td>2</td>\n",
       "      <td>39.07</td>\n",
       "    </tr>\n",
       "    <tr>\n",
       "      <th>1</th>\n",
       "      <td>Chikka Tirupathi</td>\n",
       "      <td>4</td>\n",
       "      <td>2600.0</td>\n",
       "      <td>5</td>\n",
       "      <td>120.00</td>\n",
       "    </tr>\n",
       "    <tr>\n",
       "      <th>2</th>\n",
       "      <td>Uttarahalli</td>\n",
       "      <td>3</td>\n",
       "      <td>1440.0</td>\n",
       "      <td>2</td>\n",
       "      <td>62.00</td>\n",
       "    </tr>\n",
       "    <tr>\n",
       "      <th>3</th>\n",
       "      <td>Lingadheeranahalli</td>\n",
       "      <td>3</td>\n",
       "      <td>1521.0</td>\n",
       "      <td>3</td>\n",
       "      <td>95.00</td>\n",
       "    </tr>\n",
       "    <tr>\n",
       "      <th>4</th>\n",
       "      <td>Kothanur</td>\n",
       "      <td>2</td>\n",
       "      <td>1200.0</td>\n",
       "      <td>2</td>\n",
       "      <td>51.00</td>\n",
       "    </tr>\n",
       "  </tbody>\n",
       "</table>\n",
       "</div>\n",
       "      <button class=\"colab-df-convert\" onclick=\"convertToInteractive('df-ac948a64-6cd4-419c-9560-50214a2dc8ce')\"\n",
       "              title=\"Convert this dataframe to an interactive table.\"\n",
       "              style=\"display:none;\">\n",
       "        \n",
       "  <svg xmlns=\"http://www.w3.org/2000/svg\" height=\"24px\"viewBox=\"0 0 24 24\"\n",
       "       width=\"24px\">\n",
       "    <path d=\"M0 0h24v24H0V0z\" fill=\"none\"/>\n",
       "    <path d=\"M18.56 5.44l.94 2.06.94-2.06 2.06-.94-2.06-.94-.94-2.06-.94 2.06-2.06.94zm-11 1L8.5 8.5l.94-2.06 2.06-.94-2.06-.94L8.5 2.5l-.94 2.06-2.06.94zm10 10l.94 2.06.94-2.06 2.06-.94-2.06-.94-.94-2.06-.94 2.06-2.06.94z\"/><path d=\"M17.41 7.96l-1.37-1.37c-.4-.4-.92-.59-1.43-.59-.52 0-1.04.2-1.43.59L10.3 9.45l-7.72 7.72c-.78.78-.78 2.05 0 2.83L4 21.41c.39.39.9.59 1.41.59.51 0 1.02-.2 1.41-.59l7.78-7.78 2.81-2.81c.8-.78.8-2.07 0-2.86zM5.41 20L4 18.59l7.72-7.72 1.47 1.35L5.41 20z\"/>\n",
       "  </svg>\n",
       "      </button>\n",
       "      \n",
       "  <style>\n",
       "    .colab-df-container {\n",
       "      display:flex;\n",
       "      flex-wrap:wrap;\n",
       "      gap: 12px;\n",
       "    }\n",
       "\n",
       "    .colab-df-convert {\n",
       "      background-color: #E8F0FE;\n",
       "      border: none;\n",
       "      border-radius: 50%;\n",
       "      cursor: pointer;\n",
       "      display: none;\n",
       "      fill: #1967D2;\n",
       "      height: 32px;\n",
       "      padding: 0 0 0 0;\n",
       "      width: 32px;\n",
       "    }\n",
       "\n",
       "    .colab-df-convert:hover {\n",
       "      background-color: #E2EBFA;\n",
       "      box-shadow: 0px 1px 2px rgba(60, 64, 67, 0.3), 0px 1px 3px 1px rgba(60, 64, 67, 0.15);\n",
       "      fill: #174EA6;\n",
       "    }\n",
       "\n",
       "    [theme=dark] .colab-df-convert {\n",
       "      background-color: #3B4455;\n",
       "      fill: #D2E3FC;\n",
       "    }\n",
       "\n",
       "    [theme=dark] .colab-df-convert:hover {\n",
       "      background-color: #434B5C;\n",
       "      box-shadow: 0px 1px 3px 1px rgba(0, 0, 0, 0.15);\n",
       "      filter: drop-shadow(0px 1px 2px rgba(0, 0, 0, 0.3));\n",
       "      fill: #FFFFFF;\n",
       "    }\n",
       "  </style>\n",
       "\n",
       "      <script>\n",
       "        const buttonEl =\n",
       "          document.querySelector('#df-ac948a64-6cd4-419c-9560-50214a2dc8ce button.colab-df-convert');\n",
       "        buttonEl.style.display =\n",
       "          google.colab.kernel.accessAllowed ? 'block' : 'none';\n",
       "\n",
       "        async function convertToInteractive(key) {\n",
       "          const element = document.querySelector('#df-ac948a64-6cd4-419c-9560-50214a2dc8ce');\n",
       "          const dataTable =\n",
       "            await google.colab.kernel.invokeFunction('convertToInteractive',\n",
       "                                                     [key], {});\n",
       "          if (!dataTable) return;\n",
       "\n",
       "          const docLinkHtml = 'Like what you see? Visit the ' +\n",
       "            '<a target=\"_blank\" href=https://colab.research.google.com/notebooks/data_table.ipynb>data table notebook</a>'\n",
       "            + ' to learn more about interactive tables.';\n",
       "          element.innerHTML = '';\n",
       "          dataTable['output_type'] = 'display_data';\n",
       "          await google.colab.output.renderOutput(dataTable, element);\n",
       "          const docLink = document.createElement('div');\n",
       "          docLink.innerHTML = docLinkHtml;\n",
       "          element.appendChild(docLink);\n",
       "        }\n",
       "      </script>\n",
       "    </div>\n",
       "  </div>\n",
       "  "
      ],
      "text/plain": [
       "                   location  size  total_sqft  bath   price\n",
       "0  Electronic City Phase II     2      1056.0     2   39.07\n",
       "1          Chikka Tirupathi     4      2600.0     5  120.00\n",
       "2               Uttarahalli     3      1440.0     2   62.00\n",
       "3        Lingadheeranahalli     3      1521.0     3   95.00\n",
       "4                  Kothanur     2      1200.0     2   51.00"
      ]
     },
     "execution_count": 128,
     "metadata": {},
     "output_type": "execute_result"
    }
   ],
   "source": [
    "df.head()"
   ]
  },
  {
   "cell_type": "markdown",
   "id": "69d29a45",
   "metadata": {
    "id": "69d29a45"
   },
   "source": [
    "Any location having less than 10 data points will be tagged as \"other\" location. This way number of categories can be reduced by huge amount. It will help us with having fewer dummy columns"
   ]
  },
  {
   "cell_type": "code",
   "execution_count": 129,
   "id": "a12fe5fe",
   "metadata": {
    "colab": {
     "base_uri": "https://localhost:8080/"
    },
    "id": "a12fe5fe",
    "outputId": "1f21738d-2768-45ef-c4c4-9b660dc1d238"
   },
   "outputs": [
    {
     "data": {
      "text/plain": [
       "Whitefield               501\n",
       "Sarjapur  Road           357\n",
       "Electronic City          273\n",
       "Thanisandra              223\n",
       "Kanakpura Road           217\n",
       "                        ... \n",
       "Maruthi Extension          1\n",
       "Okalipura                  1\n",
       "Old Town                   1\n",
       "Vasantapura main road      1\n",
       "Abshot Layout              1\n",
       "Name: location, Length: 1304, dtype: int64"
      ]
     },
     "execution_count": 129,
     "metadata": {},
     "output_type": "execute_result"
    }
   ],
   "source": [
    "df['location'].value_counts(ascending=False)"
   ]
  },
  {
   "cell_type": "code",
   "execution_count": 130,
   "id": "434c8cb8",
   "metadata": {
    "colab": {
     "base_uri": "https://localhost:8080/"
    },
    "id": "434c8cb8",
    "outputId": "cbe194d2-f975-42f8-c605-b23f046aba2a"
   },
   "outputs": [
    {
     "data": {
      "text/plain": [
       "1304"
      ]
     },
     "execution_count": 130,
     "metadata": {},
     "output_type": "execute_result"
    }
   ],
   "source": [
    "df['location'].nunique()"
   ]
  },
  {
   "cell_type": "code",
   "execution_count": 131,
   "id": "ae7dced2",
   "metadata": {
    "colab": {
     "base_uri": "https://localhost:8080/"
    },
    "id": "ae7dced2",
    "outputId": "474f75a5-2114-4877-d10f-680dd925711a"
   },
   "outputs": [
    {
     "data": {
      "text/plain": [
       "Whitefield                502\n",
       "Sarjapur  Road            357\n",
       "Electronic City           275\n",
       "Thanisandra               225\n",
       "Kanakpura Road            217\n",
       "                         ... \n",
       "1Channasandra               1\n",
       "Ring Road Nagarbhavi        1\n",
       "Mango Garden Layout         1\n",
       "Vijayabank bank layout      1\n",
       "Abshot Layout               1\n",
       "Name: location, Length: 1293, dtype: int64"
      ]
     },
     "execution_count": 131,
     "metadata": {},
     "output_type": "execute_result"
    }
   ],
   "source": [
    "df['location'] = df['location'].apply(lambda x: x.strip())\n",
    "location_stats = df['location'].value_counts(ascending=False)\n",
    "location_stats"
   ]
  },
  {
   "cell_type": "code",
   "execution_count": 132,
   "id": "a92bee29",
   "metadata": {
    "colab": {
     "base_uri": "https://localhost:8080/"
    },
    "id": "a92bee29",
    "outputId": "f3b36976-a16c-4c77-ea91-70a2e90e6aab"
   },
   "outputs": [
    {
     "data": {
      "text/plain": [
       "231"
      ]
     },
     "execution_count": 132,
     "metadata": {},
     "output_type": "execute_result"
    }
   ],
   "source": [
    "len(location_stats[location_stats>10])"
   ]
  },
  {
   "cell_type": "code",
   "execution_count": 133,
   "id": "01da5827",
   "metadata": {
    "colab": {
     "base_uri": "https://localhost:8080/"
    },
    "id": "01da5827",
    "outputId": "a21591d5-7f14-4cad-db24-b6b747cff8c7"
   },
   "outputs": [
    {
     "data": {
      "text/plain": [
       "1293"
      ]
     },
     "execution_count": 133,
     "metadata": {},
     "output_type": "execute_result"
    }
   ],
   "source": [
    "len(location_stats)"
   ]
  },
  {
   "cell_type": "code",
   "execution_count": 134,
   "id": "9c36523a",
   "metadata": {
    "id": "9c36523a"
   },
   "outputs": [],
   "source": [
    "location_stats_less_than_10 = location_stats[location_stats<=10]"
   ]
  },
  {
   "cell_type": "code",
   "execution_count": 135,
   "id": "a11d62cb",
   "metadata": {
    "colab": {
     "base_uri": "https://localhost:8080/"
    },
    "id": "a11d62cb",
    "outputId": "dd8d0898-7255-4ba0-af9d-f437ed62be47"
   },
   "outputs": [
    {
     "data": {
      "text/plain": [
       "BEML Layout               10\n",
       "Poorna Pragna Layout      10\n",
       "BTM 1st Stage             10\n",
       "Nagappa Reddy Layout      10\n",
       "Dairy Circle              10\n",
       "                          ..\n",
       "1Channasandra              1\n",
       "Ring Road Nagarbhavi       1\n",
       "Mango Garden Layout        1\n",
       "Vijayabank bank layout     1\n",
       "Abshot Layout              1\n",
       "Name: location, Length: 1062, dtype: int64"
      ]
     },
     "execution_count": 135,
     "metadata": {},
     "output_type": "execute_result"
    }
   ],
   "source": [
    "location_stats_less_than_10"
   ]
  },
  {
   "cell_type": "code",
   "execution_count": 136,
   "id": "c0c5ed0d",
   "metadata": {
    "colab": {
     "base_uri": "https://localhost:8080/"
    },
    "id": "c0c5ed0d",
    "outputId": "a84816da-35c7-4980-8510-af186fe01178"
   },
   "outputs": [
    {
     "data": {
      "text/plain": [
       "232"
      ]
     },
     "execution_count": 136,
     "metadata": {},
     "output_type": "execute_result"
    }
   ],
   "source": [
    "df['location'] = df['location'].apply(lambda x: 'other' if x in location_stats_less_than_10 else x)\n",
    "len(df['location'].unique())"
   ]
  },
  {
   "cell_type": "code",
   "execution_count": 137,
   "id": "28503045",
   "metadata": {
    "colab": {
     "base_uri": "https://localhost:8080/",
     "height": 411
    },
    "id": "28503045",
    "outputId": "fad2e3cc-6f0a-4917-b25d-ea559bb82196"
   },
   "outputs": [
    {
     "data": {
      "image/png": "[encoded data removed]",
      "text/plain": [
       "<Figure size 1800x600 with 1 Axes>"
      ]
     },
     "metadata": {},
     "output_type": "display_data"
    }
   ],
   "source": [
    "# viewing the distribution of the price column\n",
    "\n",
    "plt1 = plt.figure(figsize = (18,6))\n",
    "sn.distplot(df['price'],color='red')\n",
    "plt.show()"
   ]
  },
  {
   "cell_type": "markdown",
   "id": "7c739eae",
   "metadata": {
    "id": "7c739eae"
   },
   "source": [
    "### boxplot to see outliers"
   ]
  },
  {
   "cell_type": "code",
   "execution_count": 138,
   "id": "63164d9e",
   "metadata": {
    "colab": {
     "base_uri": "https://localhost:8080/",
     "height": 1000
    },
    "id": "63164d9e",
    "outputId": "a176a26b-c7b0-463e-a9a9-7b17328927d7"
   },
   "outputs": [
    {
     "data": {
      "image/png": "[encoded data removed]",
      "text/plain": [
       "<Figure size 1800x500 with 1 Axes>"
      ]
     },
     "metadata": {},
     "output_type": "display_data"
    },
    {
     "data": {
      "image/png": "[encoded data removed]",
      "text/plain": [
       "<Figure size 1800x500 with 1 Axes>"
      ]
     },
     "metadata": {},
     "output_type": "display_data"
    },
    {
     "data": {
      "image/png": "[encoded data removed]",
      "text/plain": [
       "<Figure size 1800x500 with 1 Axes>"
      ]
     },
     "metadata": {},
     "output_type": "display_data"
    }
   ],
   "source": [
    "def drawplot(col):\n",
    "    plt.figure(figsize=(18,5))\n",
    "    sn.boxplot(df[col],palette='plasma')\n",
    "\n",
    "toview = ['price','size','bath']\n",
    "for col in toview:\n",
    "    drawplot(col)"
   ]
  },
  {
   "cell_type": "markdown",
   "id": "74ba2af3",
   "metadata": {
    "id": "74ba2af3"
   },
   "source": [
    "first we will remove outliers from size and bath column using Interquartile range(IQR).then we will look for price column"
   ]
  },
  {
   "cell_type": "code",
   "execution_count": 139,
   "id": "48100374",
   "metadata": {
    "id": "48100374"
   },
   "outputs": [],
   "source": [
    "def remove_outlier(df,col):\n",
    "    q1 = df[col].quantile(0.25)\n",
    "    q3 = df[col].quantile(0.75)\n",
    "    iqr = q3 - q1\n",
    "    lower_band = q1 - (1.5*iqr)\n",
    "    upper_band = q3 + (1.5*iqr)\n",
    "    df = df[(df[col]>lower_band) & (df[col]<upper_band)]\n",
    "    return df"
   ]
  },
  {
   "cell_type": "code",
   "execution_count": 140,
   "id": "1c668d86",
   "metadata": {
    "id": "1c668d86"
   },
   "outputs": [],
   "source": [
    "df = remove_outlier(df,'size')"
   ]
  },
  {
   "cell_type": "code",
   "execution_count": 141,
   "id": "542ebdeb",
   "metadata": {
    "colab": {
     "base_uri": "https://localhost:8080/"
    },
    "id": "542ebdeb",
    "outputId": "56bdca04-6676-4502-f494-21876a35e91c"
   },
   "outputs": [
    {
     "data": {
      "text/plain": [
       "(11532, 5)"
      ]
     },
     "execution_count": 141,
     "metadata": {},
     "output_type": "execute_result"
    }
   ],
   "source": [
    "df.shape"
   ]
  },
  {
   "cell_type": "code",
   "execution_count": 142,
   "id": "c310e95b",
   "metadata": {
    "id": "c310e95b"
   },
   "outputs": [],
   "source": [
    "df = remove_outlier(df,'bath')"
   ]
  },
  {
   "cell_type": "code",
   "execution_count": 143,
   "id": "6122ebef",
   "metadata": {
    "colab": {
     "base_uri": "https://localhost:8080/"
    },
    "id": "6122ebef",
    "outputId": "34697c9b-622f-4e96-9bb3-01aedefa9c2b"
   },
   "outputs": [
    {
     "data": {
      "text/plain": [
       "(11150, 5)"
      ]
     },
     "execution_count": 143,
     "metadata": {},
     "output_type": "execute_result"
    }
   ],
   "source": [
    "df.shape"
   ]
  },
  {
   "cell_type": "code",
   "execution_count": 144,
   "id": "763e60e7",
   "metadata": {
    "colab": {
     "base_uri": "https://localhost:8080/",
     "height": 206
    },
    "id": "763e60e7",
    "outputId": "77a88236-2516-42d5-e42d-326b8a351fdc"
   },
   "outputs": [
    {
     "data": {
      "text/html": [
       "\n",
       "  <div id=\"df-5f72b627-13bd-4db3-8a50-a92eae75fdee\">\n",
       "    <div class=\"colab-df-container\">\n",
       "      <div>\n",
       "<style scoped>\n",
       "    .dataframe tbody tr th:only-of-type {\n",
       "        vertical-align: middle;\n",
       "    }\n",
       "\n",
       "    .dataframe tbody tr th {\n",
       "        vertical-align: top;\n",
       "    }\n",
       "\n",
       "    .dataframe thead th {\n",
       "        text-align: right;\n",
       "    }\n",
       "</style>\n",
       "<table border=\"1\" class=\"dataframe\">\n",
       "  <thead>\n",
       "    <tr style=\"text-align: right;\">\n",
       "      <th></th>\n",
       "      <th>location</th>\n",
       "      <th>size</th>\n",
       "      <th>total_sqft</th>\n",
       "      <th>bath</th>\n",
       "      <th>price</th>\n",
       "    </tr>\n",
       "  </thead>\n",
       "  <tbody>\n",
       "    <tr>\n",
       "      <th>0</th>\n",
       "      <td>Electronic City Phase II</td>\n",
       "      <td>2</td>\n",
       "      <td>1056.0</td>\n",
       "      <td>2</td>\n",
       "      <td>39.07</td>\n",
       "    </tr>\n",
       "    <tr>\n",
       "      <th>2</th>\n",
       "      <td>Uttarahalli</td>\n",
       "      <td>3</td>\n",
       "      <td>1440.0</td>\n",
       "      <td>2</td>\n",
       "      <td>62.00</td>\n",
       "    </tr>\n",
       "    <tr>\n",
       "      <th>3</th>\n",
       "      <td>Lingadheeranahalli</td>\n",
       "      <td>3</td>\n",
       "      <td>1521.0</td>\n",
       "      <td>3</td>\n",
       "      <td>95.00</td>\n",
       "    </tr>\n",
       "    <tr>\n",
       "      <th>4</th>\n",
       "      <td>Kothanur</td>\n",
       "      <td>2</td>\n",
       "      <td>1200.0</td>\n",
       "      <td>2</td>\n",
       "      <td>51.00</td>\n",
       "    </tr>\n",
       "    <tr>\n",
       "      <th>5</th>\n",
       "      <td>Whitefield</td>\n",
       "      <td>2</td>\n",
       "      <td>1170.0</td>\n",
       "      <td>2</td>\n",
       "      <td>38.00</td>\n",
       "    </tr>\n",
       "  </tbody>\n",
       "</table>\n",
       "</div>\n",
       "      <button class=\"colab-df-convert\" onclick=\"convertToInteractive('df-5f72b627-13bd-4db3-8a50-a92eae75fdee')\"\n",
       "              title=\"Convert this dataframe to an interactive table.\"\n",
       "              style=\"display:none;\">\n",
       "        \n",
       "  <svg xmlns=\"http://www.w3.org/2000/svg\" height=\"24px\"viewBox=\"0 0 24 24\"\n",
       "       width=\"24px\">\n",
       "    <path d=\"M0 0h24v24H0V0z\" fill=\"none\"/>\n",
       "    <path d=\"M18.56 5.44l.94 2.06.94-2.06 2.06-.94-2.06-.94-.94-2.06-.94 2.06-2.06.94zm-11 1L8.5 8.5l.94-2.06 2.06-.94-2.06-.94L8.5 2.5l-.94 2.06-2.06.94zm10 10l.94 2.06.94-2.06 2.06-.94-2.06-.94-.94-2.06-.94 2.06-2.06.94z\"/><path d=\"M17.41 7.96l-1.37-1.37c-.4-.4-.92-.59-1.43-.59-.52 0-1.04.2-1.43.59L10.3 9.45l-7.72 7.72c-.78.78-.78 2.05 0 2.83L4 21.41c.39.39.9.59 1.41.59.51 0 1.02-.2 1.41-.59l7.78-7.78 2.81-2.81c.8-.78.8-2.07 0-2.86zM5.41 20L4 18.59l7.72-7.72 1.47 1.35L5.41 20z\"/>\n",
       "  </svg>\n",
       "      </button>\n",
       "      \n",
       "  <style>\n",
       "    .colab-df-container {\n",
       "      display:flex;\n",
       "      flex-wrap:wrap;\n",
       "      gap: 12px;\n",
       "    }\n",
       "\n",
       "    .colab-df-convert {\n",
       "      background-color: #E8F0FE;\n",
       "      border: none;\n",
       "      border-radius: 50%;\n",
       "      cursor: pointer;\n",
       "      display: none;\n",
       "      fill: #1967D2;\n",
       "      height: 32px;\n",
       "      padding: 0 0 0 0;\n",
       "      width: 32px;\n",
       "    }\n",
       "\n",
       "    .colab-df-convert:hover {\n",
       "      background-color: #E2EBFA;\n",
       "      box-shadow: 0px 1px 2px rgba(60, 64, 67, 0.3), 0px 1px 3px 1px rgba(60, 64, 67, 0.15);\n",
       "      fill: #174EA6;\n",
       "    }\n",
       "\n",
       "    [theme=dark] .colab-df-convert {\n",
       "      background-color: #3B4455;\n",
       "      fill: #D2E3FC;\n",
       "    }\n",
       "\n",
       "    [theme=dark] .colab-df-convert:hover {\n",
       "      background-color: #434B5C;\n",
       "      box-shadow: 0px 1px 3px 1px rgba(0, 0, 0, 0.15);\n",
       "      filter: drop-shadow(0px 1px 2px rgba(0, 0, 0, 0.3));\n",
       "      fill: #FFFFFF;\n",
       "    }\n",
       "  </style>\n",
       "\n",
       "      <script>\n",
       "        const buttonEl =\n",
       "          document.querySelector('#df-5f72b627-13bd-4db3-8a50-a92eae75fdee button.colab-df-convert');\n",
       "        buttonEl.style.display =\n",
       "          google.colab.kernel.accessAllowed ? 'block' : 'none';\n",
       "\n",
       "        async function convertToInteractive(key) {\n",
       "          const element = document.querySelector('#df-5f72b627-13bd-4db3-8a50-a92eae75fdee');\n",
       "          const dataTable =\n",
       "            await google.colab.kernel.invokeFunction('convertToInteractive',\n",
       "                                                     [key], {});\n",
       "          if (!dataTable) return;\n",
       "\n",
       "          const docLinkHtml = 'Like what you see? Visit the ' +\n",
       "            '<a target=\"_blank\" href=https://colab.research.google.com/notebooks/data_table.ipynb>data table notebook</a>'\n",
       "            + ' to learn more about interactive tables.';\n",
       "          element.innerHTML = '';\n",
       "          dataTable['output_type'] = 'display_data';\n",
       "          await google.colab.output.renderOutput(dataTable, element);\n",
       "          const docLink = document.createElement('div');\n",
       "          docLink.innerHTML = docLinkHtml;\n",
       "          element.appendChild(docLink);\n",
       "        }\n",
       "      </script>\n",
       "    </div>\n",
       "  </div>\n",
       "  "
      ],
      "text/plain": [
       "                   location  size  total_sqft  bath  price\n",
       "0  Electronic City Phase II     2      1056.0     2  39.07\n",
       "2               Uttarahalli     3      1440.0     2  62.00\n",
       "3        Lingadheeranahalli     3      1521.0     3  95.00\n",
       "4                  Kothanur     2      1200.0     2  51.00\n",
       "5                Whitefield     2      1170.0     2  38.00"
      ]
     },
     "execution_count": 144,
     "metadata": {},
     "output_type": "execute_result"
    }
   ],
   "source": [
    "df.head()"
   ]
  },
  {
   "cell_type": "code",
   "execution_count": 145,
   "id": "361f77ff",
   "metadata": {
    "colab": {
     "base_uri": "https://localhost:8080/",
     "height": 676
    },
    "id": "361f77ff",
    "outputId": "5c5d5f26-49d2-430a-d27d-e4b42be87f19"
   },
   "outputs": [
    {
     "data": {
      "image/png": "[encoded data removed]",
      "text/plain": [
       "<Figure size 1800x500 with 1 Axes>"
      ]
     },
     "metadata": {},
     "output_type": "display_data"
    },
    {
     "data": {
      "image/png": "[encoded data removed]",
      "text/plain": [
       "<Figure size 1800x500 with 1 Axes>"
      ]
     },
     "metadata": {},
     "output_type": "display_data"
    }
   ],
   "source": [
    "def drawplot(col):\n",
    "    plt.figure(figsize=(18,5))\n",
    "    sn.boxplot(df[col],palette='plasma')\n",
    "\n",
    "toview = ['size','bath']\n",
    "for col in toview:\n",
    "    drawplot(col)"
   ]
  },
  {
   "cell_type": "code",
   "execution_count": 146,
   "id": "9c0c5c1c",
   "metadata": {
    "colab": {
     "base_uri": "https://localhost:8080/",
     "height": 411
    },
    "id": "9c0c5c1c",
    "outputId": "22ee22d0-20f5-437b-9d94-49bbf0d328ba"
   },
   "outputs": [
    {
     "data": {
      "image/png": "[encoded data removed]",
      "text/plain": [
       "<Figure size 1800x600 with 1 Axes>"
      ]
     },
     "metadata": {},
     "output_type": "display_data"
    }
   ],
   "source": [
    "# viewing the distribution of the price column\n",
    "\n",
    "plt1 = plt.figure(figsize = (18,6))\n",
    "sn.distplot(df['price'],color='red')\n",
    "plt.show()"
   ]
  },
  {
   "cell_type": "code",
   "execution_count": 147,
   "id": "319b9ae1",
   "metadata": {
    "id": "319b9ae1"
   },
   "outputs": [],
   "source": [
    "df = remove_outlier(df,'price')"
   ]
  },
  {
   "cell_type": "code",
   "execution_count": 148,
   "id": "17d73d35",
   "metadata": {
    "colab": {
     "base_uri": "https://localhost:8080/",
     "height": 345
    },
    "id": "17d73d35",
    "outputId": "4631f230-c156-4cec-9d02-511b8bb1c151"
   },
   "outputs": [
    {
     "data": {
      "image/png": "[encoded data removed]",
      "text/plain": [
       "<Figure size 1800x500 with 1 Axes>"
      ]
     },
     "metadata": {},
     "output_type": "display_data"
    }
   ],
   "source": [
    "plt.figure(figsize=(18,5))\n",
    "sn.boxplot(df['price'],palette='plasma')\n",
    "plt.show()"
   ]
  },
  {
   "cell_type": "code",
   "execution_count": 149,
   "id": "143e2cd4",
   "metadata": {
    "colab": {
     "base_uri": "https://localhost:8080/",
     "height": 411
    },
    "id": "143e2cd4",
    "outputId": "ae55e784-f4f1-4617-faa6-7547844b6ba8"
   },
   "outputs": [
    {
     "data": {
      "image/png": "[encoded data removed]",
      "text/plain": [
       "<Figure size 1800x600 with 1 Axes>"
      ]
     },
     "metadata": {},
     "output_type": "display_data"
    }
   ],
   "source": [
    "plt1 = plt.figure(figsize = (18,6))\n",
    "sn.distplot(df['price'],color='red')\n",
    "plt.show()"
   ]
  },
  {
   "cell_type": "code",
   "execution_count": 150,
   "id": "5af87d56",
   "metadata": {
    "colab": {
     "base_uri": "https://localhost:8080/"
    },
    "id": "5af87d56",
    "outputId": "240f893e-a6ef-4488-d1af-57c1b7756de0"
   },
   "outputs": [
    {
     "data": {
      "text/plain": [
       "(10173, 5)"
      ]
     },
     "execution_count": 150,
     "metadata": {},
     "output_type": "execute_result"
    }
   ],
   "source": [
    "df.shape"
   ]
  },
  {
   "cell_type": "code",
   "execution_count": 151,
   "id": "e33e2fdd",
   "metadata": {
    "colab": {
     "base_uri": "https://localhost:8080/",
     "height": 175
    },
    "id": "e33e2fdd",
    "outputId": "f8ca1e7a-f66d-4866-d486-59b9f457722e"
   },
   "outputs": [
    {
     "data": {
      "text/html": [
       "\n",
       "  <div id=\"df-72b0eb1b-1110-4992-bc10-bc30f84bdcfc\">\n",
       "    <div class=\"colab-df-container\">\n",
       "      <div>\n",
       "<style scoped>\n",
       "    .dataframe tbody tr th:only-of-type {\n",
       "        vertical-align: middle;\n",
       "    }\n",
       "\n",
       "    .dataframe tbody tr th {\n",
       "        vertical-align: top;\n",
       "    }\n",
       "\n",
       "    .dataframe thead th {\n",
       "        text-align: right;\n",
       "    }\n",
       "</style>\n",
       "<table border=\"1\" class=\"dataframe\">\n",
       "  <thead>\n",
       "    <tr style=\"text-align: right;\">\n",
       "      <th></th>\n",
       "      <th>size</th>\n",
       "      <th>total_sqft</th>\n",
       "      <th>bath</th>\n",
       "      <th>price</th>\n",
       "    </tr>\n",
       "  </thead>\n",
       "  <tbody>\n",
       "    <tr>\n",
       "      <th>size</th>\n",
       "      <td>1.000000</td>\n",
       "      <td>0.328299</td>\n",
       "      <td>0.793727</td>\n",
       "      <td>0.553443</td>\n",
       "    </tr>\n",
       "    <tr>\n",
       "      <th>total_sqft</th>\n",
       "      <td>0.328299</td>\n",
       "      <td>1.000000</td>\n",
       "      <td>0.325862</td>\n",
       "      <td>0.376016</td>\n",
       "    </tr>\n",
       "    <tr>\n",
       "      <th>bath</th>\n",
       "      <td>0.793727</td>\n",
       "      <td>0.325862</td>\n",
       "      <td>1.000000</td>\n",
       "      <td>0.600913</td>\n",
       "    </tr>\n",
       "    <tr>\n",
       "      <th>price</th>\n",
       "      <td>0.553443</td>\n",
       "      <td>0.376016</td>\n",
       "      <td>0.600913</td>\n",
       "      <td>1.000000</td>\n",
       "    </tr>\n",
       "  </tbody>\n",
       "</table>\n",
       "</div>\n",
       "      <button class=\"colab-df-convert\" onclick=\"convertToInteractive('df-72b0eb1b-1110-4992-bc10-bc30f84bdcfc')\"\n",
       "              title=\"Convert this dataframe to an interactive table.\"\n",
       "              style=\"display:none;\">\n",
       "        \n",
       "  <svg xmlns=\"http://www.w3.org/2000/svg\" height=\"24px\"viewBox=\"0 0 24 24\"\n",
       "       width=\"24px\">\n",
       "    <path d=\"M0 0h24v24H0V0z\" fill=\"none\"/>\n",
       "    <path d=\"M18.56 5.44l.94 2.06.94-2.06 2.06-.94-2.06-.94-.94-2.06-.94 2.06-2.06.94zm-11 1L8.5 8.5l.94-2.06 2.06-.94-2.06-.94L8.5 2.5l-.94 2.06-2.06.94zm10 10l.94 2.06.94-2.06 2.06-.94-2.06-.94-.94-2.06-.94 2.06-2.06.94z\"/><path d=\"M17.41 7.96l-1.37-1.37c-.4-.4-.92-.59-1.43-.59-.52 0-1.04.2-1.43.59L10.3 9.45l-7.72 7.72c-.78.78-.78 2.05 0 2.83L4 21.41c.39.39.9.59 1.41.59.51 0 1.02-.2 1.41-.59l7.78-7.78 2.81-2.81c.8-.78.8-2.07 0-2.86zM5.41 20L4 18.59l7.72-7.72 1.47 1.35L5.41 20z\"/>\n",
       "  </svg>\n",
       "      </button>\n",
       "      \n",
       "  <style>\n",
       "    .colab-df-container {\n",
       "      display:flex;\n",
       "      flex-wrap:wrap;\n",
       "      gap: 12px;\n",
       "    }\n",
       "\n",
       "    .colab-df-convert {\n",
       "      background-color: #E8F0FE;\n",
       "      border: none;\n",
       "      border-radius: 50%;\n",
       "      cursor: pointer;\n",
       "      display: none;\n",
       "      fill: #1967D2;\n",
       "      height: 32px;\n",
       "      padding: 0 0 0 0;\n",
       "      width: 32px;\n",
       "    }\n",
       "\n",
       "    .colab-df-convert:hover {\n",
       "      background-color: #E2EBFA;\n",
       "      box-shadow: 0px 1px 2px rgba(60, 64, 67, 0.3), 0px 1px 3px 1px rgba(60, 64, 67, 0.15);\n",
       "      fill: #174EA6;\n",
       "    }\n",
       "\n",
       "    [theme=dark] .colab-df-convert {\n",
       "      background-color: #3B4455;\n",
       "      fill: #D2E3FC;\n",
       "    }\n",
       "\n",
       "    [theme=dark] .colab-df-convert:hover {\n",
       "      background-color: #434B5C;\n",
       "      box-shadow: 0px 1px 3px 1px rgba(0, 0, 0, 0.15);\n",
       "      filter: drop-shadow(0px 1px 2px rgba(0, 0, 0, 0.3));\n",
       "      fill: #FFFFFF;\n",
       "    }\n",
       "  </style>\n",
       "\n",
       "      <script>\n",
       "        const buttonEl =\n",
       "          document.querySelector('#df-72b0eb1b-1110-4992-bc10-bc30f84bdcfc button.colab-df-convert');\n",
       "        buttonEl.style.display =\n",
       "          google.colab.kernel.accessAllowed ? 'block' : 'none';\n",
       "\n",
       "        async function convertToInteractive(key) {\n",
       "          const element = document.querySelector('#df-72b0eb1b-1110-4992-bc10-bc30f84bdcfc');\n",
       "          const dataTable =\n",
       "            await google.colab.kernel.invokeFunction('convertToInteractive',\n",
       "                                                     [key], {});\n",
       "          if (!dataTable) return;\n",
       "\n",
       "          const docLinkHtml = 'Like what you see? Visit the ' +\n",
       "            '<a target=\"_blank\" href=https://colab.research.google.com/notebooks/data_table.ipynb>data table notebook</a>'\n",
       "            + ' to learn more about interactive tables.';\n",
       "          element.innerHTML = '';\n",
       "          dataTable['output_type'] = 'display_data';\n",
       "          await google.colab.output.renderOutput(dataTable, element);\n",
       "          const docLink = document.createElement('div');\n",
       "          docLink.innerHTML = docLinkHtml;\n",
       "          element.appendChild(docLink);\n",
       "        }\n",
       "      </script>\n",
       "    </div>\n",
       "  </div>\n",
       "  "
      ],
      "text/plain": [
       "                size  total_sqft      bath     price\n",
       "size        1.000000    0.328299  0.793727  0.553443\n",
       "total_sqft  0.328299    1.000000  0.325862  0.376016\n",
       "bath        0.793727    0.325862  1.000000  0.600913\n",
       "price       0.553443    0.376016  0.600913  1.000000"
      ]
     },
     "execution_count": 151,
     "metadata": {},
     "output_type": "execute_result"
    }
   ],
   "source": [
    "df.corr()"
   ]
  },
  {
   "cell_type": "markdown",
   "id": "bbae2d94",
   "metadata": {
    "id": "bbae2d94"
   },
   "source": [
    "Now we will see corelation between columns"
   ]
  },
  {
   "cell_type": "code",
   "execution_count": 152,
   "id": "9b4747c1",
   "metadata": {
    "colab": {
     "base_uri": "https://localhost:8080/",
     "height": 451
    },
    "id": "9b4747c1",
    "outputId": "800ec0f0-e964-457b-ff7c-3c540facb6d7"
   },
   "outputs": [
    {
     "data": {
      "image/png": "[encoded data removed]",
      "text/plain": [
       "<Figure size 1000x500 with 2 Axes>"
      ]
     },
     "metadata": {},
     "output_type": "display_data"
    }
   ],
   "source": [
    "plt.figure(figsize=(10,5))\n",
    "sn.heatmap(df.corr(),annot=True,cmap='plasma')\n",
    "plt.show()"
   ]
  },
  {
   "cell_type": "code",
   "execution_count": 153,
   "id": "a5744cad",
   "metadata": {
    "id": "a5744cad"
   },
   "outputs": [],
   "source": [
    "from statsmodels.stats.outliers_influence import variance_inflation_factor\n",
    "col_list = []\n",
    "for col in df.columns:\n",
    "    if ((df[col].dtype != 'object') & (col != 'price') ):#only num cols except for the price column\n",
    "        col_list.append(col)"
   ]
  },
  {
   "cell_type": "code",
   "execution_count": 154,
   "id": "2304bba4",
   "metadata": {
    "colab": {
     "base_uri": "https://localhost:8080/"
    },
    "id": "2304bba4",
    "outputId": "96ed97a3-e3aa-482a-ce9c-b0ffbdd68f4e"
   },
   "outputs": [
    {
     "data": {
      "text/plain": [
       "['size', 'total_sqft', 'bath']"
      ]
     },
     "execution_count": 154,
     "metadata": {},
     "output_type": "execute_result"
    }
   ],
   "source": [
    "col_list"
   ]
  },
  {
   "cell_type": "code",
   "execution_count": 155,
   "id": "8f6a20a2",
   "metadata": {
    "colab": {
     "base_uri": "https://localhost:8080/",
     "height": 423
    },
    "id": "8f6a20a2",
    "outputId": "5de2e449-6663-4921-fa24-b32e33fd8678"
   },
   "outputs": [
    {
     "data": {
      "text/html": [
       "\n",
       "  <div id=\"df-bee883f6-39c0-4eac-b999-a5f09491515e\">\n",
       "    <div class=\"colab-df-container\">\n",
       "      <div>\n",
       "<style scoped>\n",
       "    .dataframe tbody tr th:only-of-type {\n",
       "        vertical-align: middle;\n",
       "    }\n",
       "\n",
       "    .dataframe tbody tr th {\n",
       "        vertical-align: top;\n",
       "    }\n",
       "\n",
       "    .dataframe thead th {\n",
       "        text-align: right;\n",
       "    }\n",
       "</style>\n",
       "<table border=\"1\" class=\"dataframe\">\n",
       "  <thead>\n",
       "    <tr style=\"text-align: right;\">\n",
       "      <th></th>\n",
       "      <th>size</th>\n",
       "      <th>total_sqft</th>\n",
       "      <th>bath</th>\n",
       "    </tr>\n",
       "  </thead>\n",
       "  <tbody>\n",
       "    <tr>\n",
       "      <th>0</th>\n",
       "      <td>2</td>\n",
       "      <td>1056.0</td>\n",
       "      <td>2</td>\n",
       "    </tr>\n",
       "    <tr>\n",
       "      <th>2</th>\n",
       "      <td>3</td>\n",
       "      <td>1440.0</td>\n",
       "      <td>2</td>\n",
       "    </tr>\n",
       "    <tr>\n",
       "      <th>3</th>\n",
       "      <td>3</td>\n",
       "      <td>1521.0</td>\n",
       "      <td>3</td>\n",
       "    </tr>\n",
       "    <tr>\n",
       "      <th>4</th>\n",
       "      <td>2</td>\n",
       "      <td>1200.0</td>\n",
       "      <td>2</td>\n",
       "    </tr>\n",
       "    <tr>\n",
       "      <th>5</th>\n",
       "      <td>2</td>\n",
       "      <td>1170.0</td>\n",
       "      <td>2</td>\n",
       "    </tr>\n",
       "    <tr>\n",
       "      <th>...</th>\n",
       "      <td>...</td>\n",
       "      <td>...</td>\n",
       "      <td>...</td>\n",
       "    </tr>\n",
       "    <tr>\n",
       "      <th>13309</th>\n",
       "      <td>3</td>\n",
       "      <td>1675.0</td>\n",
       "      <td>3</td>\n",
       "    </tr>\n",
       "    <tr>\n",
       "      <th>13310</th>\n",
       "      <td>2</td>\n",
       "      <td>1050.0</td>\n",
       "      <td>2</td>\n",
       "    </tr>\n",
       "    <tr>\n",
       "      <th>13312</th>\n",
       "      <td>2</td>\n",
       "      <td>1262.0</td>\n",
       "      <td>2</td>\n",
       "    </tr>\n",
       "    <tr>\n",
       "      <th>13314</th>\n",
       "      <td>3</td>\n",
       "      <td>1715.0</td>\n",
       "      <td>3</td>\n",
       "    </tr>\n",
       "    <tr>\n",
       "      <th>13317</th>\n",
       "      <td>2</td>\n",
       "      <td>1141.0</td>\n",
       "      <td>2</td>\n",
       "    </tr>\n",
       "  </tbody>\n",
       "</table>\n",
       "<p>10173 rows × 3 columns</p>\n",
       "</div>\n",
       "      <button class=\"colab-df-convert\" onclick=\"convertToInteractive('df-bee883f6-39c0-4eac-b999-a5f09491515e')\"\n",
       "              title=\"Convert this dataframe to an interactive table.\"\n",
       "              style=\"display:none;\">\n",
       "        \n",
       "  <svg xmlns=\"http://www.w3.org/2000/svg\" height=\"24px\"viewBox=\"0 0 24 24\"\n",
       "       width=\"24px\">\n",
       "    <path d=\"M0 0h24v24H0V0z\" fill=\"none\"/>\n",
       "    <path d=\"M18.56 5.44l.94 2.06.94-2.06 2.06-.94-2.06-.94-.94-2.06-.94 2.06-2.06.94zm-11 1L8.5 8.5l.94-2.06 2.06-.94-2.06-.94L8.5 2.5l-.94 2.06-2.06.94zm10 10l.94 2.06.94-2.06 2.06-.94-2.06-.94-.94-2.06-.94 2.06-2.06.94z\"/><path d=\"M17.41 7.96l-1.37-1.37c-.4-.4-.92-.59-1.43-.59-.52 0-1.04.2-1.43.59L10.3 9.45l-7.72 7.72c-.78.78-.78 2.05 0 2.83L4 21.41c.39.39.9.59 1.41.59.51 0 1.02-.2 1.41-.59l7.78-7.78 2.81-2.81c.8-.78.8-2.07 0-2.86zM5.41 20L4 18.59l7.72-7.72 1.47 1.35L5.41 20z\"/>\n",
       "  </svg>\n",
       "      </button>\n",
       "      \n",
       "  <style>\n",
       "    .colab-df-container {\n",
       "      display:flex;\n",
       "      flex-wrap:wrap;\n",
       "      gap: 12px;\n",
       "    }\n",
       "\n",
       "    .colab-df-convert {\n",
       "      background-color: #E8F0FE;\n",
       "      border: none;\n",
       "      border-radius: 50%;\n",
       "      cursor: pointer;\n",
       "      display: none;\n",
       "      fill: #1967D2;\n",
       "      height: 32px;\n",
       "      padding: 0 0 0 0;\n",
       "      width: 32px;\n",
       "    }\n",
       "\n",
       "    .colab-df-convert:hover {\n",
       "      background-color: #E2EBFA;\n",
       "      box-shadow: 0px 1px 2px rgba(60, 64, 67, 0.3), 0px 1px 3px 1px rgba(60, 64, 67, 0.15);\n",
       "      fill: #174EA6;\n",
       "    }\n",
       "\n",
       "    [theme=dark] .colab-df-convert {\n",
       "      background-color: #3B4455;\n",
       "      fill: #D2E3FC;\n",
       "    }\n",
       "\n",
       "    [theme=dark] .colab-df-convert:hover {\n",
       "      background-color: #434B5C;\n",
       "      box-shadow: 0px 1px 3px 1px rgba(0, 0, 0, 0.15);\n",
       "      filter: drop-shadow(0px 1px 2px rgba(0, 0, 0, 0.3));\n",
       "      fill: #FFFFFF;\n",
       "    }\n",
       "  </style>\n",
       "\n",
       "      <script>\n",
       "        const buttonEl =\n",
       "          document.querySelector('#df-bee883f6-39c0-4eac-b999-a5f09491515e button.colab-df-convert');\n",
       "        buttonEl.style.display =\n",
       "          google.colab.kernel.accessAllowed ? 'block' : 'none';\n",
       "\n",
       "        async function convertToInteractive(key) {\n",
       "          const element = document.querySelector('#df-bee883f6-39c0-4eac-b999-a5f09491515e');\n",
       "          const dataTable =\n",
       "            await google.colab.kernel.invokeFunction('convertToInteractive',\n",
       "                                                     [key], {});\n",
       "          if (!dataTable) return;\n",
       "\n",
       "          const docLinkHtml = 'Like what you see? Visit the ' +\n",
       "            '<a target=\"_blank\" href=https://colab.research.google.com/notebooks/data_table.ipynb>data table notebook</a>'\n",
       "            + ' to learn more about interactive tables.';\n",
       "          element.innerHTML = '';\n",
       "          dataTable['output_type'] = 'display_data';\n",
       "          await google.colab.output.renderOutput(dataTable, element);\n",
       "          const docLink = document.createElement('div');\n",
       "          docLink.innerHTML = docLinkHtml;\n",
       "          element.appendChild(docLink);\n",
       "        }\n",
       "      </script>\n",
       "    </div>\n",
       "  </div>\n",
       "  "
      ],
      "text/plain": [
       "       size  total_sqft  bath\n",
       "0         2      1056.0     2\n",
       "2         3      1440.0     2\n",
       "3         3      1521.0     3\n",
       "4         2      1200.0     2\n",
       "5         2      1170.0     2\n",
       "...     ...         ...   ...\n",
       "13309     3      1675.0     3\n",
       "13310     2      1050.0     2\n",
       "13312     2      1262.0     2\n",
       "13314     3      1715.0     3\n",
       "13317     2      1141.0     2\n",
       "\n",
       "[10173 rows x 3 columns]"
      ]
     },
     "execution_count": 155,
     "metadata": {},
     "output_type": "execute_result"
    }
   ],
   "source": [
    "X = df[col_list]\n",
    "X"
   ]
  },
  {
   "cell_type": "code",
   "execution_count": 156,
   "id": "5c86d95b",
   "metadata": {
    "colab": {
     "base_uri": "https://localhost:8080/"
    },
    "id": "5c86d95b",
    "outputId": "6522f06f-2701-4072-972b-a6b8aba22fd1"
   },
   "outputs": [
    {
     "name": "stdout",
     "output_type": "stream",
     "text": [
      "0\n",
      "1\n",
      "2\n"
     ]
    }
   ],
   "source": [
    "for i in range(len(X.columns)):\n",
    "    print(i)"
   ]
  },
  {
   "cell_type": "code",
   "execution_count": 157,
   "id": "51d43576",
   "metadata": {
    "colab": {
     "base_uri": "https://localhost:8080/"
    },
    "id": "51d43576",
    "outputId": "de71b137-fe00-4a06-d960-a2926fdcff6b"
   },
   "outputs": [
    {
     "data": {
      "text/plain": [
       "location       0\n",
       "size           0\n",
       "total_sqft    30\n",
       "bath           0\n",
       "price          0\n",
       "dtype: int64"
      ]
     },
     "execution_count": 157,
     "metadata": {},
     "output_type": "execute_result"
    }
   ],
   "source": [
    "df.isna().sum()"
   ]
  },
  {
   "cell_type": "code",
   "execution_count": 158,
   "id": "61af65a8",
   "metadata": {
    "id": "61af65a8"
   },
   "outputs": [],
   "source": [
    "df.dropna(inplace=True)"
   ]
  },
  {
   "cell_type": "code",
   "execution_count": 159,
   "id": "b473eb89",
   "metadata": {
    "colab": {
     "base_uri": "https://localhost:8080/"
    },
    "id": "b473eb89",
    "outputId": "d1c7f805-28a2-45ad-9e48-9eb314e218ab"
   },
   "outputs": [
    {
     "name": "stdout",
     "output_type": "stream",
     "text": [
      "      feature        VIF\n",
      "0        size  32.857358\n",
      "1  total_sqft   3.978759\n",
      "2        bath  32.591579\n"
     ]
    }
   ],
   "source": [
    "from statsmodels.stats.outliers_influence import variance_inflation_factor\n",
    "col_list = []\n",
    "for col in df.columns:\n",
    "    if ((df[col].dtype != 'object') & (col != 'price') ):\n",
    "        col_list.append(col)\n",
    "\n",
    "X = df[col_list]\n",
    "vif_data = pd.DataFrame()\n",
    "vif_data[\"feature\"] = X.columns\n",
    "vif_data[\"VIF\"] = [variance_inflation_factor(X.values, i) for i in range(len(X.columns))]\n",
    "print(vif_data)"
   ]
  },
  {
   "cell_type": "markdown",
   "id": "d5899ba7",
   "metadata": {
    "id": "d5899ba7"
   },
   "source": [
    "Since,size and bath are highly correlated with each other,it will impact model performance due to multicollinearity.\n",
    "so,its better to remove one of the column to avoid further issues.since size of the room is important while taking home.we will remove bath"
   ]
  },
  {
   "cell_type": "code",
   "execution_count": 160,
   "id": "30800cca",
   "metadata": {
    "id": "30800cca"
   },
   "outputs": [],
   "source": [
    "df.drop(columns='bath',inplace=True)"
   ]
  },
  {
   "cell_type": "code",
   "execution_count": 161,
   "id": "abd152f6",
   "metadata": {
    "colab": {
     "base_uri": "https://localhost:8080/",
     "height": 451
    },
    "id": "abd152f6",
    "outputId": "42567a5d-1680-4275-f0bb-a694e3c29f7a"
   },
   "outputs": [
    {
     "data": {
      "image/png": "[encoded data removed]",
      "text/plain": [
       "<Figure size 1000x500 with 2 Axes>"
      ]
     },
     "metadata": {},
     "output_type": "display_data"
    }
   ],
   "source": [
    "plt.figure(figsize=(10,5))\n",
    "sn.heatmap(df.corr(),annot=True,cmap='plasma')\n",
    "plt.show()"
   ]
  },
  {
   "cell_type": "code",
   "execution_count": 162,
   "id": "afbb0b23",
   "metadata": {
    "colab": {
     "base_uri": "https://localhost:8080/"
    },
    "id": "afbb0b23",
    "outputId": "c4a7e8d1-aa22-45cd-d028-73e88a896006"
   },
   "outputs": [
    {
     "name": "stdout",
     "output_type": "stream",
     "text": [
      "      feature       VIF\n",
      "0        size  3.902636\n",
      "1  total_sqft  3.902636\n"
     ]
    }
   ],
   "source": [
    "from statsmodels.stats.outliers_influence import variance_inflation_factor\n",
    "col_list = []\n",
    "for col in df.columns:\n",
    "    if ((df[col].dtype != 'object') & (col != 'price') ):\n",
    "        col_list.append(col)\n",
    "\n",
    "X = df[col_list]\n",
    "vif_data = pd.DataFrame()\n",
    "vif_data[\"feature\"] = X.columns\n",
    "vif_data[\"VIF\"] = [variance_inflation_factor(X.values, i) for i in range(len(X.columns))]\n",
    "print(vif_data)"
   ]
  },
  {
   "cell_type": "code",
   "execution_count": 163,
   "id": "df01210b",
   "metadata": {
    "colab": {
     "base_uri": "https://localhost:8080/",
     "height": 206
    },
    "id": "df01210b",
    "outputId": "3959ecdb-a81d-4d80-f028-67d08d7f8870"
   },
   "outputs": [
    {
     "data": {
      "text/html": [
       "\n",
       "  <div id=\"df-4ee3503f-08a3-42e5-bf54-37b27c457799\">\n",
       "    <div class=\"colab-df-container\">\n",
       "      <div>\n",
       "<style scoped>\n",
       "    .dataframe tbody tr th:only-of-type {\n",
       "        vertical-align: middle;\n",
       "    }\n",
       "\n",
       "    .dataframe tbody tr th {\n",
       "        vertical-align: top;\n",
       "    }\n",
       "\n",
       "    .dataframe thead th {\n",
       "        text-align: right;\n",
       "    }\n",
       "</style>\n",
       "<table border=\"1\" class=\"dataframe\">\n",
       "  <thead>\n",
       "    <tr style=\"text-align: right;\">\n",
       "      <th></th>\n",
       "      <th>location</th>\n",
       "      <th>size</th>\n",
       "      <th>total_sqft</th>\n",
       "      <th>price</th>\n",
       "    </tr>\n",
       "  </thead>\n",
       "  <tbody>\n",
       "    <tr>\n",
       "      <th>0</th>\n",
       "      <td>Electronic City Phase II</td>\n",
       "      <td>2</td>\n",
       "      <td>1056.0</td>\n",
       "      <td>39.07</td>\n",
       "    </tr>\n",
       "    <tr>\n",
       "      <th>2</th>\n",
       "      <td>Uttarahalli</td>\n",
       "      <td>3</td>\n",
       "      <td>1440.0</td>\n",
       "      <td>62.00</td>\n",
       "    </tr>\n",
       "    <tr>\n",
       "      <th>3</th>\n",
       "      <td>Lingadheeranahalli</td>\n",
       "      <td>3</td>\n",
       "      <td>1521.0</td>\n",
       "      <td>95.00</td>\n",
       "    </tr>\n",
       "    <tr>\n",
       "      <th>4</th>\n",
       "      <td>Kothanur</td>\n",
       "      <td>2</td>\n",
       "      <td>1200.0</td>\n",
       "      <td>51.00</td>\n",
       "    </tr>\n",
       "    <tr>\n",
       "      <th>5</th>\n",
       "      <td>Whitefield</td>\n",
       "      <td>2</td>\n",
       "      <td>1170.0</td>\n",
       "      <td>38.00</td>\n",
       "    </tr>\n",
       "  </tbody>\n",
       "</table>\n",
       "</div>\n",
       "      <button class=\"colab-df-convert\" onclick=\"convertToInteractive('df-4ee3503f-08a3-42e5-bf54-37b27c457799')\"\n",
       "              title=\"Convert this dataframe to an interactive table.\"\n",
       "              style=\"display:none;\">\n",
       "        \n",
       "  <svg xmlns=\"http://www.w3.org/2000/svg\" height=\"24px\"viewBox=\"0 0 24 24\"\n",
       "       width=\"24px\">\n",
       "    <path d=\"M0 0h24v24H0V0z\" fill=\"none\"/>\n",
       "    <path d=\"M18.56 5.44l.94 2.06.94-2.06 2.06-.94-2.06-.94-.94-2.06-.94 2.06-2.06.94zm-11 1L8.5 8.5l.94-2.06 2.06-.94-2.06-.94L8.5 2.5l-.94 2.06-2.06.94zm10 10l.94 2.06.94-2.06 2.06-.94-2.06-.94-.94-2.06-.94 2.06-2.06.94z\"/><path d=\"M17.41 7.96l-1.37-1.37c-.4-.4-.92-.59-1.43-.59-.52 0-1.04.2-1.43.59L10.3 9.45l-7.72 7.72c-.78.78-.78 2.05 0 2.83L4 21.41c.39.39.9.59 1.41.59.51 0 1.02-.2 1.41-.59l7.78-7.78 2.81-2.81c.8-.78.8-2.07 0-2.86zM5.41 20L4 18.59l7.72-7.72 1.47 1.35L5.41 20z\"/>\n",
       "  </svg>\n",
       "      </button>\n",
       "      \n",
       "  <style>\n",
       "    .colab-df-container {\n",
       "      display:flex;\n",
       "      flex-wrap:wrap;\n",
       "      gap: 12px;\n",
       "    }\n",
       "\n",
       "    .colab-df-convert {\n",
       "      background-color: #E8F0FE;\n",
       "      border: none;\n",
       "      border-radius: 50%;\n",
       "      cursor: pointer;\n",
       "      display: none;\n",
       "      fill: #1967D2;\n",
       "      height: 32px;\n",
       "      padding: 0 0 0 0;\n",
       "      width: 32px;\n",
       "    }\n",
       "\n",
       "    .colab-df-convert:hover {\n",
       "      background-color: #E2EBFA;\n",
       "      box-shadow: 0px 1px 2px rgba(60, 64, 67, 0.3), 0px 1px 3px 1px rgba(60, 64, 67, 0.15);\n",
       "      fill: #174EA6;\n",
       "    }\n",
       "\n",
       "    [theme=dark] .colab-df-convert {\n",
       "      background-color: #3B4455;\n",
       "      fill: #D2E3FC;\n",
       "    }\n",
       "\n",
       "    [theme=dark] .colab-df-convert:hover {\n",
       "      background-color: #434B5C;\n",
       "      box-shadow: 0px 1px 3px 1px rgba(0, 0, 0, 0.15);\n",
       "      filter: drop-shadow(0px 1px 2px rgba(0, 0, 0, 0.3));\n",
       "      fill: #FFFFFF;\n",
       "    }\n",
       "  </style>\n",
       "\n",
       "      <script>\n",
       "        const buttonEl =\n",
       "          document.querySelector('#df-4ee3503f-08a3-42e5-bf54-37b27c457799 button.colab-df-convert');\n",
       "        buttonEl.style.display =\n",
       "          google.colab.kernel.accessAllowed ? 'block' : 'none';\n",
       "\n",
       "        async function convertToInteractive(key) {\n",
       "          const element = document.querySelector('#df-4ee3503f-08a3-42e5-bf54-37b27c457799');\n",
       "          const dataTable =\n",
       "            await google.colab.kernel.invokeFunction('convertToInteractive',\n",
       "                                                     [key], {});\n",
       "          if (!dataTable) return;\n",
       "\n",
       "          const docLinkHtml = 'Like what you see? Visit the ' +\n",
       "            '<a target=\"_blank\" href=https://colab.research.google.com/notebooks/data_table.ipynb>data table notebook</a>'\n",
       "            + ' to learn more about interactive tables.';\n",
       "          element.innerHTML = '';\n",
       "          dataTable['output_type'] = 'display_data';\n",
       "          await google.colab.output.renderOutput(dataTable, element);\n",
       "          const docLink = document.createElement('div');\n",
       "          docLink.innerHTML = docLinkHtml;\n",
       "          element.appendChild(docLink);\n",
       "        }\n",
       "      </script>\n",
       "    </div>\n",
       "  </div>\n",
       "  "
      ],
      "text/plain": [
       "                   location  size  total_sqft  price\n",
       "0  Electronic City Phase II     2      1056.0  39.07\n",
       "2               Uttarahalli     3      1440.0  62.00\n",
       "3        Lingadheeranahalli     3      1521.0  95.00\n",
       "4                  Kothanur     2      1200.0  51.00\n",
       "5                Whitefield     2      1170.0  38.00"
      ]
     },
     "execution_count": 163,
     "metadata": {},
     "output_type": "execute_result"
    }
   ],
   "source": [
    "df.head()"
   ]
  },
  {
   "cell_type": "code",
   "execution_count": 192,
   "id": "197e2ca6",
   "metadata": {
    "id": "197e2ca6"
   },
   "outputs": [],
   "source": [
    "df.to_csv('Banglore house price prediction.csv',index=None)"
   ]
  },
  {
   "cell_type": "markdown",
   "id": "57a2959c",
   "metadata": {
    "id": "57a2959c"
   },
   "source": [
    "# Model buliding"
   ]
  },
  {
   "cell_type": "code",
   "execution_count": 165,
   "id": "ee045aea",
   "metadata": {
    "id": "ee045aea"
   },
   "outputs": [],
   "source": [
    "test = df['price']\n",
    "train = df.drop(['price'],axis = 1)"
   ]
  },
  {
   "cell_type": "code",
   "execution_count": 166,
   "id": "a026d083",
   "metadata": {
    "id": "a026d083"
   },
   "outputs": [],
   "source": [
    "from sklearn.model_selection import train_test_split\n",
    "from sklearn.preprocessing import MinMaxScaler,StandardScaler\n",
    "from sklearn.pipeline import Pipeline\n",
    "from sklearn.compose import ColumnTransformer\n",
    "from sklearn.preprocessing import LabelEncoder,OneHotEncoder\n",
    "from sklearn import metrics\n",
    "from sklearn.model_selection import GridSearchCV,RandomizedSearchCV\n",
    "from sklearn.linear_model import LinearRegression,Lasso,Ridge\n",
    "from sklearn.tree import DecisionTreeRegressor\n",
    "from sklearn.ensemble import RandomForestRegressor,GradientBoostingRegressor,AdaBoostRegressor\n",
    "from xgboost import XGBRegressor\n",
    "from sklearn.svm import SVR\n",
    "from sklearn.neighbors import KNeighborsRegressor\n",
    "from sklearn import tree"
   ]
  },
  {
   "cell_type": "code",
   "execution_count": 167,
   "id": "e90de685",
   "metadata": {
    "colab": {
     "base_uri": "https://localhost:8080/"
    },
    "id": "e90de685",
    "outputId": "b6748788-b646-4601-f71b-749ba9b05e47"
   },
   "outputs": [
    {
     "data": {
      "text/plain": [
       "((8621, 3), (1522, 3))"
      ]
     },
     "execution_count": 167,
     "metadata": {},
     "output_type": "execute_result"
    }
   ],
   "source": [
    "X_train, X_test, y_train, y_test = train_test_split(train,test,\n",
    "                                                   test_size=0.15,random_state=2)\n",
    "\n",
    "X_train.shape,X_test.shape"
   ]
  },
  {
   "cell_type": "markdown",
   "id": "58da55e7",
   "metadata": {
    "id": "58da55e7"
   },
   "source": [
    "There's a Class which we imported named as Column Trasnformer we use this widely while building our models using Pipelines,so for this we have to get the index numbers of the columns which are having categorical variables"
   ]
  },
  {
   "cell_type": "code",
   "execution_count": 168,
   "id": "bf15cae6",
   "metadata": {
    "colab": {
     "base_uri": "https://localhost:8080/"
    },
    "id": "bf15cae6",
    "outputId": "7ca6bb69-027f-4754-8b54-0c0e8ace2e81"
   },
   "outputs": [
    {
     "data": {
      "text/plain": [
       "{0: 'location', 1: 'size', 2: 'total_sqft'}"
      ]
     },
     "execution_count": 168,
     "metadata": {},
     "output_type": "execute_result"
    }
   ],
   "source": [
    "mapper = {i:value for i,value in enumerate(X_train.columns)}\n",
    "mapper"
   ]
  },
  {
   "cell_type": "markdown",
   "id": "87bfb0bd",
   "metadata": {
    "id": "87bfb0bd"
   },
   "source": [
    "### Linear Regression"
   ]
  },
  {
   "cell_type": "code",
   "execution_count": 169,
   "id": "cc15c248",
   "metadata": {
    "colab": {
     "base_uri": "https://localhost:8080/"
    },
    "id": "cc15c248",
    "outputId": "82335f51-91a1-4b7c-fe0d-92e25c65afb1"
   },
   "outputs": [
    {
     "name": "stdout",
     "output_type": "stream",
     "text": [
      "R2 score 0.44595274452591116\n",
      "MAE 18.641642802894722\n"
     ]
    }
   ],
   "source": [
    "step1 = ColumnTransformer(transformers=[\n",
    "    ('col_tnf1',OneHotEncoder(sparse=False,drop='first'),[0]),\n",
    "    ('col_tnf2',MinMaxScaler(feature_range=(0, 1)),[1,2])\n",
    "],remainder='passthrough')\n",
    "\n",
    "step2 = LinearRegression()\n",
    "\n",
    "pipe = Pipeline([\n",
    "    ('step1',step1),\n",
    "    ('step2',step2)\n",
    "])\n",
    "\n",
    "pipe.fit(X_train,y_train)\n",
    "\n",
    "y_pred = pipe.predict(X_test)\n",
    "\n",
    "print('R2 score',metrics.r2_score(y_test,y_pred))\n",
    "print('MAE',metrics.mean_absolute_error(y_test,y_pred))"
   ]
  },
  {
   "cell_type": "code",
   "execution_count": 169,
   "id": "75f8ab93",
   "metadata": {
    "id": "75f8ab93"
   },
   "outputs": [],
   "source": []
  },
  {
   "cell_type": "markdown",
   "id": "7085801a",
   "metadata": {
    "id": "7085801a"
   },
   "source": [
    "### Ridge Regression"
   ]
  },
  {
   "cell_type": "code",
   "execution_count": 170,
   "id": "00a1b0c6",
   "metadata": {
    "colab": {
     "base_uri": "https://localhost:8080/"
    },
    "id": "00a1b0c6",
    "outputId": "8df5a059-a4e7-40a8-cdb6-1e70ce6ae3e8"
   },
   "outputs": [
    {
     "name": "stdout",
     "output_type": "stream",
     "text": [
      "R2 score 0.44331980543479665\n",
      "MAE 19.237882597935716\n"
     ]
    }
   ],
   "source": [
    "step1 = ColumnTransformer(transformers=[\n",
    "    ('col_tnf',OneHotEncoder(sparse=False,drop='first'),[0]),\n",
    "    ('col_tnf2',MinMaxScaler(feature_range=(0, 1)),[1,2])\n",
    "],remainder='passthrough')\n",
    "\n",
    "step2 = Ridge(alpha=10)\n",
    "\n",
    "pipe = Pipeline([\n",
    "    ('step1',step1),\n",
    "    ('step2',step2)\n",
    "])\n",
    "\n",
    "pipe.fit(X_train,y_train)\n",
    "\n",
    "y_pred = pipe.predict(X_test)\n",
    "\n",
    "print('R2 score',metrics.r2_score(y_test,y_pred))\n",
    "print('MAE',metrics.mean_absolute_error(y_test,y_pred))"
   ]
  },
  {
   "cell_type": "markdown",
   "id": "472c4b40",
   "metadata": {
    "id": "472c4b40"
   },
   "source": [
    "### Lasso regression"
   ]
  },
  {
   "cell_type": "code",
   "execution_count": 171,
   "id": "824013ef",
   "metadata": {
    "colab": {
     "base_uri": "https://localhost:8080/"
    },
    "id": "824013ef",
    "outputId": "18f4b791-1d63-4353-d3c0-cb37a2ce7885"
   },
   "outputs": [
    {
     "name": "stdout",
     "output_type": "stream",
     "text": [
      "R2 score 0.44974299376281646\n",
      "MAE 18.58071527150165\n"
     ]
    }
   ],
   "source": [
    "step1 = ColumnTransformer(transformers=[\n",
    "    ('col_tnf',OneHotEncoder(sparse=False,drop='first'),[0]),\n",
    "    ('col_tnf2',MinMaxScaler(feature_range=(0, 1)),[1,2])\n",
    "],remainder='passthrough')\n",
    "\n",
    "step2 = Lasso(alpha=0.001)\n",
    "\n",
    "pipe = Pipeline([\n",
    "    ('step1',step1),\n",
    "    ('step2',step2)\n",
    "])\n",
    "\n",
    "pipe.fit(X_train,y_train)\n",
    "\n",
    "y_pred = pipe.predict(X_test)\n",
    "\n",
    "print('R2 score',metrics.r2_score(y_test,y_pred))\n",
    "print('MAE',metrics.mean_absolute_error(y_test,y_pred))"
   ]
  },
  {
   "cell_type": "markdown",
   "id": "8a1db88a",
   "metadata": {
    "id": "8a1db88a"
   },
   "source": [
    "### Decision Tree"
   ]
  },
  {
   "cell_type": "code",
   "execution_count": 172,
   "id": "09bc0692",
   "metadata": {
    "colab": {
     "base_uri": "https://localhost:8080/"
    },
    "id": "09bc0692",
    "outputId": "1fe2f2f8-7bbb-48a1-d139-557ef0d588eb"
   },
   "outputs": [
    {
     "name": "stdout",
     "output_type": "stream",
     "text": [
      "R2 score 0.4926641100415745\n",
      "MAE 16.35202874726301\n"
     ]
    }
   ],
   "source": [
    "step1 = ColumnTransformer(transformers=[\n",
    "    ('col_tnf',OneHotEncoder(sparse=False,drop='first'),[0]),\n",
    "    ('col_tnf2',MinMaxScaler(feature_range=(0, 1)),[1,2])\n",
    "],remainder='passthrough')\n",
    "\n",
    "step2 = DecisionTreeRegressor()\n",
    "\n",
    "pipe = Pipeline([\n",
    "    ('step1',step1),\n",
    "    ('step2',step2)\n",
    "])\n",
    "\n",
    "pipe.fit(X_train,y_train)\n",
    "\n",
    "y_pred = pipe.predict(X_test)\n",
    "\n",
    "print('R2 score',metrics.r2_score(y_test,y_pred))\n",
    "print('MAE',metrics.mean_absolute_error(y_test,y_pred))"
   ]
  },
  {
   "cell_type": "markdown",
   "id": "aae7e4c5",
   "metadata": {
    "id": "aae7e4c5"
   },
   "source": [
    "### Random Forest"
   ]
  },
  {
   "cell_type": "code",
   "execution_count": 173,
   "id": "815e04ff",
   "metadata": {
    "colab": {
     "base_uri": "https://localhost:8080/"
    },
    "id": "815e04ff",
    "outputId": "3f27f8ea-6ac0-458f-ff57-22e565cb350f"
   },
   "outputs": [
    {
     "name": "stdout",
     "output_type": "stream",
     "text": [
      "R2 score 0.6051544656138076\n",
      "MAE 14.66797778664268\n"
     ]
    }
   ],
   "source": [
    "step1 = ColumnTransformer(transformers=[\n",
    "    ('col_tnf',OneHotEncoder(sparse=False,drop='first'),[0]),\n",
    "    ('col_tnf2',MinMaxScaler(feature_range=(0, 1)),[1,2])\n",
    "],remainder='passthrough')\n",
    "\n",
    "step2 = RandomForestRegressor()\n",
    "\n",
    "pipe = Pipeline([\n",
    "    ('step1',step1),\n",
    "    ('step2',step2)\n",
    "])\n",
    "\n",
    "pipe.fit(X_train,y_train)\n",
    "\n",
    "y_pred = pipe.predict(X_test)\n",
    "\n",
    "print('R2 score',metrics.r2_score(y_test,y_pred))\n",
    "print('MAE',metrics.mean_absolute_error(y_test,y_pred))"
   ]
  },
  {
   "cell_type": "markdown",
   "id": "3e60e2aa",
   "metadata": {
    "id": "3e60e2aa"
   },
   "source": [
    "### Adaboost"
   ]
  },
  {
   "cell_type": "code",
   "execution_count": 174,
   "id": "05256fe5",
   "metadata": {
    "colab": {
     "base_uri": "https://localhost:8080/"
    },
    "id": "05256fe5",
    "outputId": "01a54066-2fe6-4951-c98a-49833d4d1c0a"
   },
   "outputs": [
    {
     "name": "stdout",
     "output_type": "stream",
     "text": [
      "R2 score 0.5036315996253409\n",
      "MAE 19.540912538103527\n"
     ]
    }
   ],
   "source": [
    "step1 = ColumnTransformer(transformers=[\n",
    "    ('col_tnf',OneHotEncoder(sparse=False,drop='first'),[0]),\n",
    "    ('col_tnf2',MinMaxScaler(feature_range=(0, 1)),[1,2])\n",
    "],remainder='passthrough')\n",
    "\n",
    "step2 = AdaBoostRegressor()\n",
    "\n",
    "pipe = Pipeline([\n",
    "    ('step1',step1),\n",
    "    ('step2',step2)\n",
    "])\n",
    "\n",
    "pipe.fit(X_train,y_train)\n",
    "\n",
    "y_pred = pipe.predict(X_test)\n",
    "\n",
    "print('R2 score',metrics.r2_score(y_test,y_pred))\n",
    "print('MAE',metrics.mean_absolute_error(y_test,y_pred))"
   ]
  },
  {
   "cell_type": "markdown",
   "id": "ddcf16a9",
   "metadata": {
    "id": "ddcf16a9"
   },
   "source": [
    "### Gradient boost"
   ]
  },
  {
   "cell_type": "code",
   "execution_count": 175,
   "id": "34b13c79",
   "metadata": {
    "colab": {
     "base_uri": "https://localhost:8080/"
    },
    "id": "34b13c79",
    "outputId": "23402b29-e737-4d8c-d5f2-fc7063378d93"
   },
   "outputs": [
    {
     "name": "stdout",
     "output_type": "stream",
     "text": [
      "R2 score 0.6120473759865727\n",
      "MAE 15.881857847551366\n"
     ]
    }
   ],
   "source": [
    "step1 = ColumnTransformer(transformers=[\n",
    "    ('col_tnf',OneHotEncoder(sparse=False,drop='first'),[0]),\n",
    "    ('col_tnf2',MinMaxScaler(feature_range=(0, 1)),[1,2])\n",
    "],remainder='passthrough')\n",
    "\n",
    "step2 = GradientBoostingRegressor()\n",
    "\n",
    "pipe = Pipeline([\n",
    "    ('step1',step1),\n",
    "    ('step2',step2)\n",
    "])\n",
    "\n",
    "pipe.fit(X_train,y_train)\n",
    "\n",
    "y_pred = pipe.predict(X_test)\n",
    "\n",
    "print('R2 score',metrics.r2_score(y_test,y_pred))\n",
    "print('MAE',metrics.mean_absolute_error(y_test,y_pred))"
   ]
  },
  {
   "cell_type": "markdown",
   "id": "9f8de1bd",
   "metadata": {
    "id": "9f8de1bd"
   },
   "source": [
    "### XgbRegressor"
   ]
  },
  {
   "cell_type": "code",
   "execution_count": 199,
   "id": "a832fdab",
   "metadata": {
    "colab": {
     "base_uri": "https://localhost:8080/"
    },
    "id": "a832fdab",
    "outputId": "d94192ca-e862-49c7-d6a2-adea2a85f93e"
   },
   "outputs": [
    {
     "name": "stdout",
     "output_type": "stream",
     "text": [
      "R2 score 0.6416370402131484\n",
      "MAE 14.546137864818396\n"
     ]
    }
   ],
   "source": [
    "step1 = ColumnTransformer(transformers=[\n",
    "    ('col_tnf',OneHotEncoder(sparse=False,drop='first'),[0]),\n",
    "    ('col_tnf2',MinMaxScaler(feature_range=(0, 1)),[1,2])\n",
    "],remainder='passthrough')\n",
    "\n",
    "step2 = XGBRegressor()\n",
    "\n",
    "pipe = Pipeline([\n",
    "    ('step1',step1),\n",
    "    ('step2',step2)\n",
    "])\n",
    "\n",
    "pipe.fit(X_train,y_train)\n",
    "\n",
    "y_pred = pipe.predict(X_test)\n",
    "\n",
    "print('R2 score',metrics.r2_score(y_test,y_pred))\n",
    "print('MAE',metrics.mean_absolute_error(y_test,y_pred))"
   ]
  },
  {
   "cell_type": "code",
   "execution_count": 200,
   "id": "ScpkiagpqnqQ",
   "metadata": {
    "id": "ScpkiagpqnqQ"
   },
   "outputs": [],
   "source": [
    "import pickle\n",
    "\n",
    "pickle.dump(df,open('df.pkl','wb'))\n",
    "pickle.dump(pipe,open('pipe.pkl','wb'))"
   ]
  },
  {
   "cell_type": "markdown",
   "id": "c10d4b09",
   "metadata": {
    "id": "c10d4b09"
   },
   "source": [
    "### SVM"
   ]
  },
  {
   "cell_type": "code",
   "execution_count": 177,
   "id": "c38170b4",
   "metadata": {
    "colab": {
     "base_uri": "https://localhost:8080/"
    },
    "id": "c38170b4",
    "outputId": "8124641f-c55e-4c25-8b1b-b56d759e95b5"
   },
   "outputs": [
    {
     "name": "stdout",
     "output_type": "stream",
     "text": [
      "R2 score -0.8667780508940783\n",
      "MAE 17.258792887503702\n"
     ]
    }
   ],
   "source": [
    "step1 = ColumnTransformer(transformers=[\n",
    "    ('col_tnf',OneHotEncoder(sparse=False,drop='first'),[0]),\n",
    "    ('col_tnf2',MinMaxScaler(feature_range=(0, 1)),[1,2])\n",
    "],remainder='passthrough')\n",
    "\n",
    "step2 = SVR(kernel='rbf',C=10000,epsilon=0.1)\n",
    "\n",
    "pipe = Pipeline([\n",
    "    ('step1',step1),\n",
    "    ('step2',step2)\n",
    "])\n",
    "\n",
    "pipe.fit(X_train,y_train)\n",
    "\n",
    "y_pred = pipe.predict(X_test)\n",
    "\n",
    "print('R2 score',metrics.r2_score(y_test,y_pred))\n",
    "print('MAE',metrics.mean_absolute_error(y_test,y_pred))"
   ]
  },
  {
   "cell_type": "markdown",
   "id": "39637ba7",
   "metadata": {
    "id": "39637ba7"
   },
   "source": [
    "### Hyperparameter Tuning"
   ]
  },
  {
   "cell_type": "code",
   "execution_count": 178,
   "id": "65c49194",
   "metadata": {
    "colab": {
     "base_uri": "https://localhost:8080/"
    },
    "id": "65c49194",
    "outputId": "8611f284-04de-417f-cccc-7511719d9e26"
   },
   "outputs": [
    {
     "data": {
      "text/plain": [
       "['location']"
      ]
     },
     "execution_count": 178,
     "metadata": {},
     "output_type": "execute_result"
    }
   ],
   "source": [
    "indexlist = [0]\n",
    "transformlist = []\n",
    "for key,value in mapper.items():\n",
    "    if key in indexlist:\n",
    "        transformlist.append(value)\n",
    "\n",
    "transformlist"
   ]
  },
  {
   "cell_type": "code",
   "execution_count": 179,
   "id": "ed7fb841",
   "metadata": {
    "colab": {
     "base_uri": "https://localhost:8080/",
     "height": 334
    },
    "id": "ed7fb841",
    "outputId": "f8019870-cdf7-4dcf-d0d9-4b35e61e9530"
   },
   "outputs": [
    {
     "data": {
      "text/html": [
       "\n",
       "  <div id=\"df-d7654155-4e30-4485-95d2-3ca6d8b3f70a\">\n",
       "    <div class=\"colab-df-container\">\n",
       "      <div>\n",
       "<style scoped>\n",
       "    .dataframe tbody tr th:only-of-type {\n",
       "        vertical-align: middle;\n",
       "    }\n",
       "\n",
       "    .dataframe tbody tr th {\n",
       "        vertical-align: top;\n",
       "    }\n",
       "\n",
       "    .dataframe thead th {\n",
       "        text-align: right;\n",
       "    }\n",
       "</style>\n",
       "<table border=\"1\" class=\"dataframe\">\n",
       "  <thead>\n",
       "    <tr style=\"text-align: right;\">\n",
       "      <th></th>\n",
       "      <th>size</th>\n",
       "      <th>total_sqft</th>\n",
       "      <th>location_1st Phase JP Nagar</th>\n",
       "      <th>location_2nd Stage Nagarbhavi</th>\n",
       "      <th>location_5th Block Hbr Layout</th>\n",
       "      <th>location_5th Phase JP Nagar</th>\n",
       "      <th>location_6th Phase JP Nagar</th>\n",
       "      <th>location_7th Phase JP Nagar</th>\n",
       "      <th>location_8th Phase JP Nagar</th>\n",
       "      <th>location_9th Phase JP Nagar</th>\n",
       "      <th>...</th>\n",
       "      <th>location_Vishveshwarya Layout</th>\n",
       "      <th>location_Vishwapriya Layout</th>\n",
       "      <th>location_Vittasandra</th>\n",
       "      <th>location_Whitefield</th>\n",
       "      <th>location_Yelachenahalli</th>\n",
       "      <th>location_Yelahanka</th>\n",
       "      <th>location_Yelahanka New Town</th>\n",
       "      <th>location_Yelenahalli</th>\n",
       "      <th>location_Yeshwanthpur</th>\n",
       "      <th>location_other</th>\n",
       "    </tr>\n",
       "  </thead>\n",
       "  <tbody>\n",
       "    <tr>\n",
       "      <th>0</th>\n",
       "      <td>2</td>\n",
       "      <td>1056.0</td>\n",
       "      <td>0</td>\n",
       "      <td>0</td>\n",
       "      <td>0</td>\n",
       "      <td>0</td>\n",
       "      <td>0</td>\n",
       "      <td>0</td>\n",
       "      <td>0</td>\n",
       "      <td>0</td>\n",
       "      <td>...</td>\n",
       "      <td>0</td>\n",
       "      <td>0</td>\n",
       "      <td>0</td>\n",
       "      <td>0</td>\n",
       "      <td>0</td>\n",
       "      <td>0</td>\n",
       "      <td>0</td>\n",
       "      <td>0</td>\n",
       "      <td>0</td>\n",
       "      <td>0</td>\n",
       "    </tr>\n",
       "    <tr>\n",
       "      <th>2</th>\n",
       "      <td>3</td>\n",
       "      <td>1440.0</td>\n",
       "      <td>0</td>\n",
       "      <td>0</td>\n",
       "      <td>0</td>\n",
       "      <td>0</td>\n",
       "      <td>0</td>\n",
       "      <td>0</td>\n",
       "      <td>0</td>\n",
       "      <td>0</td>\n",
       "      <td>...</td>\n",
       "      <td>0</td>\n",
       "      <td>0</td>\n",
       "      <td>0</td>\n",
       "      <td>0</td>\n",
       "      <td>0</td>\n",
       "      <td>0</td>\n",
       "      <td>0</td>\n",
       "      <td>0</td>\n",
       "      <td>0</td>\n",
       "      <td>0</td>\n",
       "    </tr>\n",
       "    <tr>\n",
       "      <th>3</th>\n",
       "      <td>3</td>\n",
       "      <td>1521.0</td>\n",
       "      <td>0</td>\n",
       "      <td>0</td>\n",
       "      <td>0</td>\n",
       "      <td>0</td>\n",
       "      <td>0</td>\n",
       "      <td>0</td>\n",
       "      <td>0</td>\n",
       "      <td>0</td>\n",
       "      <td>...</td>\n",
       "      <td>0</td>\n",
       "      <td>0</td>\n",
       "      <td>0</td>\n",
       "      <td>0</td>\n",
       "      <td>0</td>\n",
       "      <td>0</td>\n",
       "      <td>0</td>\n",
       "      <td>0</td>\n",
       "      <td>0</td>\n",
       "      <td>0</td>\n",
       "    </tr>\n",
       "    <tr>\n",
       "      <th>4</th>\n",
       "      <td>2</td>\n",
       "      <td>1200.0</td>\n",
       "      <td>0</td>\n",
       "      <td>0</td>\n",
       "      <td>0</td>\n",
       "      <td>0</td>\n",
       "      <td>0</td>\n",
       "      <td>0</td>\n",
       "      <td>0</td>\n",
       "      <td>0</td>\n",
       "      <td>...</td>\n",
       "      <td>0</td>\n",
       "      <td>0</td>\n",
       "      <td>0</td>\n",
       "      <td>0</td>\n",
       "      <td>0</td>\n",
       "      <td>0</td>\n",
       "      <td>0</td>\n",
       "      <td>0</td>\n",
       "      <td>0</td>\n",
       "      <td>0</td>\n",
       "    </tr>\n",
       "    <tr>\n",
       "      <th>5</th>\n",
       "      <td>2</td>\n",
       "      <td>1170.0</td>\n",
       "      <td>0</td>\n",
       "      <td>0</td>\n",
       "      <td>0</td>\n",
       "      <td>0</td>\n",
       "      <td>0</td>\n",
       "      <td>0</td>\n",
       "      <td>0</td>\n",
       "      <td>0</td>\n",
       "      <td>...</td>\n",
       "      <td>0</td>\n",
       "      <td>0</td>\n",
       "      <td>0</td>\n",
       "      <td>1</td>\n",
       "      <td>0</td>\n",
       "      <td>0</td>\n",
       "      <td>0</td>\n",
       "      <td>0</td>\n",
       "      <td>0</td>\n",
       "      <td>0</td>\n",
       "    </tr>\n",
       "  </tbody>\n",
       "</table>\n",
       "<p>5 rows × 232 columns</p>\n",
       "</div>\n",
       "      <button class=\"colab-df-convert\" onclick=\"convertToInteractive('df-d7654155-4e30-4485-95d2-3ca6d8b3f70a')\"\n",
       "              title=\"Convert this dataframe to an interactive table.\"\n",
       "              style=\"display:none;\">\n",
       "        \n",
       "  <svg xmlns=\"http://www.w3.org/2000/svg\" height=\"24px\"viewBox=\"0 0 24 24\"\n",
       "       width=\"24px\">\n",
       "    <path d=\"M0 0h24v24H0V0z\" fill=\"none\"/>\n",
       "    <path d=\"M18.56 5.44l.94 2.06.94-2.06 2.06-.94-2.06-.94-.94-2.06-.94 2.06-2.06.94zm-11 1L8.5 8.5l.94-2.06 2.06-.94-2.06-.94L8.5 2.5l-.94 2.06-2.06.94zm10 10l.94 2.06.94-2.06 2.06-.94-2.06-.94-.94-2.06-.94 2.06-2.06.94z\"/><path d=\"M17.41 7.96l-1.37-1.37c-.4-.4-.92-.59-1.43-.59-.52 0-1.04.2-1.43.59L10.3 9.45l-7.72 7.72c-.78.78-.78 2.05 0 2.83L4 21.41c.39.39.9.59 1.41.59.51 0 1.02-.2 1.41-.59l7.78-7.78 2.81-2.81c.8-.78.8-2.07 0-2.86zM5.41 20L4 18.59l7.72-7.72 1.47 1.35L5.41 20z\"/>\n",
       "  </svg>\n",
       "      </button>\n",
       "      \n",
       "  <style>\n",
       "    .colab-df-container {\n",
       "      display:flex;\n",
       "      flex-wrap:wrap;\n",
       "      gap: 12px;\n",
       "    }\n",
       "\n",
       "    .colab-df-convert {\n",
       "      background-color: #E8F0FE;\n",
       "      border: none;\n",
       "      border-radius: 50%;\n",
       "      cursor: pointer;\n",
       "      display: none;\n",
       "      fill: #1967D2;\n",
       "      height: 32px;\n",
       "      padding: 0 0 0 0;\n",
       "      width: 32px;\n",
       "    }\n",
       "\n",
       "    .colab-df-convert:hover {\n",
       "      background-color: #E2EBFA;\n",
       "      box-shadow: 0px 1px 2px rgba(60, 64, 67, 0.3), 0px 1px 3px 1px rgba(60, 64, 67, 0.15);\n",
       "      fill: #174EA6;\n",
       "    }\n",
       "\n",
       "    [theme=dark] .colab-df-convert {\n",
       "      background-color: #3B4455;\n",
       "      fill: #D2E3FC;\n",
       "    }\n",
       "\n",
       "    [theme=dark] .colab-df-convert:hover {\n",
       "      background-color: #434B5C;\n",
       "      box-shadow: 0px 1px 3px 1px rgba(0, 0, 0, 0.15);\n",
       "      filter: drop-shadow(0px 1px 2px rgba(0, 0, 0, 0.3));\n",
       "      fill: #FFFFFF;\n",
       "    }\n",
       "  </style>\n",
       "\n",
       "      <script>\n",
       "        const buttonEl =\n",
       "          document.querySelector('#df-d7654155-4e30-4485-95d2-3ca6d8b3f70a button.colab-df-convert');\n",
       "        buttonEl.style.display =\n",
       "          google.colab.kernel.accessAllowed ? 'block' : 'none';\n",
       "\n",
       "        async function convertToInteractive(key) {\n",
       "          const element = document.querySelector('#df-d7654155-4e30-4485-95d2-3ca6d8b3f70a');\n",
       "          const dataTable =\n",
       "            await google.colab.kernel.invokeFunction('convertToInteractive',\n",
       "                                                     [key], {});\n",
       "          if (!dataTable) return;\n",
       "\n",
       "          const docLinkHtml = 'Like what you see? Visit the ' +\n",
       "            '<a target=\"_blank\" href=https://colab.research.google.com/notebooks/data_table.ipynb>data table notebook</a>'\n",
       "            + ' to learn more about interactive tables.';\n",
       "          element.innerHTML = '';\n",
       "          dataTable['output_type'] = 'display_data';\n",
       "          await google.colab.output.renderOutput(dataTable, element);\n",
       "          const docLink = document.createElement('div');\n",
       "          docLink.innerHTML = docLinkHtml;\n",
       "          element.appendChild(docLink);\n",
       "        }\n",
       "      </script>\n",
       "    </div>\n",
       "  </div>\n",
       "  "
      ],
      "text/plain": [
       "   size  total_sqft  location_1st Phase JP Nagar  \\\n",
       "0     2      1056.0                            0   \n",
       "2     3      1440.0                            0   \n",
       "3     3      1521.0                            0   \n",
       "4     2      1200.0                            0   \n",
       "5     2      1170.0                            0   \n",
       "\n",
       "   location_2nd Stage Nagarbhavi  location_5th Block Hbr Layout  \\\n",
       "0                              0                              0   \n",
       "2                              0                              0   \n",
       "3                              0                              0   \n",
       "4                              0                              0   \n",
       "5                              0                              0   \n",
       "\n",
       "   location_5th Phase JP Nagar  location_6th Phase JP Nagar  \\\n",
       "0                            0                            0   \n",
       "2                            0                            0   \n",
       "3                            0                            0   \n",
       "4                            0                            0   \n",
       "5                            0                            0   \n",
       "\n",
       "   location_7th Phase JP Nagar  location_8th Phase JP Nagar  \\\n",
       "0                            0                            0   \n",
       "2                            0                            0   \n",
       "3                            0                            0   \n",
       "4                            0                            0   \n",
       "5                            0                            0   \n",
       "\n",
       "   location_9th Phase JP Nagar  ...  location_Vishveshwarya Layout  \\\n",
       "0                            0  ...                              0   \n",
       "2                            0  ...                              0   \n",
       "3                            0  ...                              0   \n",
       "4                            0  ...                              0   \n",
       "5                            0  ...                              0   \n",
       "\n",
       "   location_Vishwapriya Layout  location_Vittasandra  location_Whitefield  \\\n",
       "0                            0                     0                    0   \n",
       "2                            0                     0                    0   \n",
       "3                            0                     0                    0   \n",
       "4                            0                     0                    0   \n",
       "5                            0                     0                    1   \n",
       "\n",
       "   location_Yelachenahalli  location_Yelahanka  location_Yelahanka New Town  \\\n",
       "0                        0                   0                            0   \n",
       "2                        0                   0                            0   \n",
       "3                        0                   0                            0   \n",
       "4                        0                   0                            0   \n",
       "5                        0                   0                            0   \n",
       "\n",
       "   location_Yelenahalli  location_Yeshwanthpur  location_other  \n",
       "0                     0                      0               0  \n",
       "2                     0                      0               0  \n",
       "3                     0                      0               0  \n",
       "4                     0                      0               0  \n",
       "5                     0                      0               0  \n",
       "\n",
       "[5 rows x 232 columns]"
      ]
     },
     "execution_count": 179,
     "metadata": {},
     "output_type": "execute_result"
    }
   ],
   "source": [
    "train_new = pd.get_dummies(train,columns=transformlist,drop_first=True)\n",
    "train_new.head()"
   ]
  },
  {
   "cell_type": "code",
   "execution_count": 180,
   "id": "218790be",
   "metadata": {
    "colab": {
     "base_uri": "https://localhost:8080/"
    },
    "id": "218790be",
    "outputId": "3d903c4e-bda1-4d43-b391-80b9122feed2"
   },
   "outputs": [
    {
     "data": {
      "text/plain": [
       "((8621, 232), (1522, 232))"
      ]
     },
     "execution_count": 180,
     "metadata": {},
     "output_type": "execute_result"
    }
   ],
   "source": [
    "X_train, X_test, y_train, y_test = train_test_split(train_new,test,\n",
    "                                                   test_size=0.15,random_state=2)\n",
    "\n",
    "X_train.shape,X_test.shape"
   ]
  },
  {
   "cell_type": "markdown",
   "id": "69e47854",
   "metadata": {
    "id": "69e47854"
   },
   "source": [
    "### Random Forest"
   ]
  },
  {
   "cell_type": "code",
   "execution_count": 187,
   "id": "cfbb9d10",
   "metadata": {
    "id": "cfbb9d10"
   },
   "outputs": [],
   "source": [
    "params=  {\n",
    "\n",
    "    'RandomForest':{\n",
    "        'model' : RandomForestRegressor(),\n",
    "        'params':{\n",
    "            'n_estimators':[100,150,200,250],\n",
    "            'max_depth':[2,4,8,10],\n",
    "        }\n",
    "    }\n",
    "}"
   ]
  },
  {
   "cell_type": "code",
   "execution_count": 188,
   "id": "da8fb7cf",
   "metadata": {
    "colab": {
     "base_uri": "https://localhost:8080/"
    },
    "id": "da8fb7cf",
    "outputId": "33b85320-c794-4346-8d5d-21a3dd9edee4"
   },
   "outputs": [
    {
     "name": "stdout",
     "output_type": "stream",
     "text": [
      "Fitting 5 folds for each of 16 candidates, totalling 80 fits\n",
      "[CV] END ......................max_depth=2, n_estimators=100; total time=   0.8s\n",
      "[CV] END ......................max_depth=2, n_estimators=100; total time=   0.8s\n",
      "[CV] END ......................max_depth=2, n_estimators=100; total time=   0.8s\n",
      "[CV] END ......................max_depth=2, n_estimators=100; total time=   0.8s\n",
      "[CV] END ......................max_depth=2, n_estimators=100; total time=   0.8s\n",
      "[CV] END ......................max_depth=2, n_estimators=150; total time=   1.9s\n",
      "[CV] END ......................max_depth=2, n_estimators=150; total time=   1.5s\n",
      "[CV] END ......................max_depth=2, n_estimators=150; total time=   1.2s\n",
      "[CV] END ......................max_depth=2, n_estimators=150; total time=   1.2s\n",
      "[CV] END ......................max_depth=2, n_estimators=150; total time=   1.2s\n",
      "[CV] END ......................max_depth=2, n_estimators=200; total time=   1.6s\n",
      "[CV] END ......................max_depth=2, n_estimators=200; total time=   1.6s\n",
      "[CV] END ......................max_depth=2, n_estimators=200; total time=   1.6s\n",
      "[CV] END ......................max_depth=2, n_estimators=200; total time=   2.2s\n",
      "[CV] END ......................max_depth=2, n_estimators=200; total time=   2.0s\n",
      "[CV] END ......................max_depth=2, n_estimators=250; total time=   2.0s\n",
      "[CV] END ......................max_depth=2, n_estimators=250; total time=   2.0s\n",
      "[CV] END ......................max_depth=2, n_estimators=250; total time=   2.0s\n",
      "[CV] END ......................max_depth=2, n_estimators=250; total time=   2.0s\n",
      "[CV] END ......................max_depth=2, n_estimators=250; total time=   2.7s\n",
      "[CV] END ......................max_depth=4, n_estimators=100; total time=   1.7s\n",
      "[CV] END ......................max_depth=4, n_estimators=100; total time=   1.4s\n",
      "[CV] END ......................max_depth=4, n_estimators=100; total time=   1.4s\n",
      "[CV] END ......................max_depth=4, n_estimators=100; total time=   1.5s\n",
      "[CV] END ......................max_depth=4, n_estimators=100; total time=   1.4s\n",
      "[CV] END ......................max_depth=4, n_estimators=150; total time=   2.2s\n",
      "[CV] END ......................max_depth=4, n_estimators=150; total time=   2.8s\n",
      "[CV] END ......................max_depth=4, n_estimators=150; total time=   2.4s\n",
      "[CV] END ......................max_depth=4, n_estimators=150; total time=   2.1s\n",
      "[CV] END ......................max_depth=4, n_estimators=150; total time=   2.2s\n",
      "[CV] END ......................max_depth=4, n_estimators=200; total time=   2.9s\n",
      "[CV] END ......................max_depth=4, n_estimators=200; total time=   3.9s\n",
      "[CV] END ......................max_depth=4, n_estimators=200; total time=   2.8s\n",
      "[CV] END ......................max_depth=4, n_estimators=200; total time=   2.9s\n",
      "[CV] END ......................max_depth=4, n_estimators=200; total time=   2.9s\n",
      "[CV] END ......................max_depth=4, n_estimators=250; total time=   5.2s\n",
      "[CV] END ......................max_depth=4, n_estimators=250; total time=   3.5s\n",
      "[CV] END ......................max_depth=4, n_estimators=250; total time=   3.6s\n",
      "[CV] END ......................max_depth=4, n_estimators=250; total time=   4.5s\n",
      "[CV] END ......................max_depth=4, n_estimators=250; total time=   3.6s\n",
      "[CV] END ......................max_depth=8, n_estimators=100; total time=   2.5s\n",
      "[CV] END ......................max_depth=8, n_estimators=100; total time=   2.5s\n",
      "[CV] END ......................max_depth=8, n_estimators=100; total time=   3.5s\n",
      "[CV] END ......................max_depth=8, n_estimators=100; total time=   2.5s\n",
      "[CV] END ......................max_depth=8, n_estimators=100; total time=   4.4s\n",
      "[CV] END ......................max_depth=8, n_estimators=150; total time=  10.2s\n",
      "[CV] END ......................max_depth=8, n_estimators=150; total time=   4.6s\n",
      "[CV] END ......................max_depth=8, n_estimators=150; total time=   4.7s\n",
      "[CV] END ......................max_depth=8, n_estimators=150; total time=   3.7s\n",
      "[CV] END ......................max_depth=8, n_estimators=150; total time=   3.8s\n",
      "[CV] END ......................max_depth=8, n_estimators=200; total time=   6.0s\n",
      "[CV] END ......................max_depth=8, n_estimators=200; total time=   4.9s\n",
      "[CV] END ......................max_depth=8, n_estimators=200; total time=   5.9s\n",
      "[CV] END ......................max_depth=8, n_estimators=200; total time=   4.9s\n",
      "[CV] END ......................max_depth=8, n_estimators=200; total time=   5.6s\n",
      "[CV] END ......................max_depth=8, n_estimators=250; total time=   6.5s\n",
      "[CV] END ......................max_depth=8, n_estimators=250; total time=   7.1s\n",
      "[CV] END ......................max_depth=8, n_estimators=250; total time=   6.1s\n",
      "[CV] END ......................max_depth=8, n_estimators=250; total time=   7.1s\n",
      "[CV] END ......................max_depth=8, n_estimators=250; total time=   6.1s\n",
      "[CV] END .....................max_depth=10, n_estimators=100; total time=   3.2s\n",
      "[CV] END .....................max_depth=10, n_estimators=100; total time=   3.7s\n",
      "[CV] END .....................max_depth=10, n_estimators=100; total time=   3.0s\n",
      "[CV] END .....................max_depth=10, n_estimators=100; total time=   2.9s\n",
      "[CV] END .....................max_depth=10, n_estimators=100; total time=   3.5s\n",
      "[CV] END .....................max_depth=10, n_estimators=150; total time=   4.9s\n",
      "[CV] END .....................max_depth=10, n_estimators=150; total time=   5.0s\n",
      "[CV] END .....................max_depth=10, n_estimators=150; total time=   6.0s\n",
      "[CV] END .....................max_depth=10, n_estimators=150; total time=   4.4s\n",
      "[CV] END .....................max_depth=10, n_estimators=150; total time=   5.0s\n",
      "[CV] END .....................max_depth=10, n_estimators=200; total time=   6.3s\n",
      "[CV] END .....................max_depth=10, n_estimators=200; total time=   6.6s\n",
      "[CV] END .....................max_depth=10, n_estimators=200; total time=   6.1s\n",
      "[CV] END .....................max_depth=10, n_estimators=200; total time=   6.9s\n",
      "[CV] END .....................max_depth=10, n_estimators=200; total time=   7.1s\n",
      "[CV] END .....................max_depth=10, n_estimators=250; total time=   8.3s\n",
      "[CV] END .....................max_depth=10, n_estimators=250; total time=   7.6s\n",
      "[CV] END .....................max_depth=10, n_estimators=250; total time=   8.0s\n",
      "[CV] END .....................max_depth=10, n_estimators=250; total time=   8.1s\n",
      "[CV] END .....................max_depth=10, n_estimators=250; total time=   7.3s\n"
     ]
    }
   ],
   "source": [
    "scores = []\n",
    "for modelname,mp in params.items():\n",
    "    clf = GridSearchCV(mp['model'],param_grid=mp['params'],verbose=2)\n",
    "    clf.fit(X_train,y_train)\n",
    "    scores.append({\n",
    "        'model_name':modelname,\n",
    "        'best_score':clf.best_score_,\n",
    "        'best_estimator':clf.best_estimator_,\n",
    "    })"
   ]
  },
  {
   "cell_type": "code",
   "execution_count": 189,
   "id": "7StJjN9dkehQ",
   "metadata": {
    "colab": {
     "base_uri": "https://localhost:8080/"
    },
    "id": "7StJjN9dkehQ",
    "outputId": "919a12b5-8289-49ac-c29d-f6929b9c13fe"
   },
   "outputs": [
    {
     "data": {
      "text/plain": [
       "[{'model_name': 'RandomForest',\n",
       "  'best_score': 0.5842593021334037,\n",
       "  'best_estimator': RandomForestRegressor(max_depth=10, n_estimators=250)}]"
      ]
     },
     "execution_count": 189,
     "metadata": {},
     "output_type": "execute_result"
    }
   ],
   "source": [
    "scores"
   ]
  },
  {
   "cell_type": "markdown",
   "id": "b86bdb23",
   "metadata": {
    "id": "b86bdb23"
   },
   "source": [
    "### XGBRegressor"
   ]
  },
  {
   "cell_type": "code",
   "execution_count": 190,
   "id": "a56a30b1",
   "metadata": {
    "id": "a56a30b1"
   },
   "outputs": [],
   "source": [
    "params=  {\n",
    "\n",
    "    'Xg boost':{\n",
    "        'model':XGBRegressor(),\n",
    "        'params':{\n",
    "            'n_estimators':[100,150,200,250],\n",
    "            'max_depth':[3,8,10],\n",
    "            #'learning_rate':[0.1, 1.0],\n",
    "            #'reg_alpha':[0.25,0.5,0.75,1.0],\n",
    "            #'reg_lambda':[0.25,0.5,0.75,1.0],\n",
    "        }\n",
    "    }\n",
    "}"
   ]
  },
  {
   "cell_type": "code",
   "execution_count": 191,
   "id": "00702c91",
   "metadata": {
    "colab": {
     "base_uri": "https://localhost:8080/"
    },
    "id": "00702c91",
    "outputId": "eff9b394-4a46-4b44-9104-dd89d464a39d"
   },
   "outputs": [
    {
     "name": "stdout",
     "output_type": "stream",
     "text": [
      "Fitting 5 folds for each of 12 candidates, totalling 60 fits\n",
      "[CV] END ......................max_depth=3, n_estimators=100; total time=   3.9s\n",
      "[CV] END ......................max_depth=3, n_estimators=100; total time=   3.4s\n",
      "[CV] END ......................max_depth=3, n_estimators=100; total time=   2.9s\n",
      "[CV] END ......................max_depth=3, n_estimators=100; total time=   2.9s\n",
      "[CV] END ......................max_depth=3, n_estimators=100; total time=   4.4s\n",
      "[CV] END ......................max_depth=3, n_estimators=150; total time=   4.4s\n",
      "[CV] END ......................max_depth=3, n_estimators=150; total time=   4.3s\n",
      "[CV] END ......................max_depth=3, n_estimators=150; total time=   5.8s\n",
      "[CV] END ......................max_depth=3, n_estimators=150; total time=   4.3s\n",
      "[CV] END ......................max_depth=3, n_estimators=150; total time=   5.7s\n",
      "[CV] END ......................max_depth=3, n_estimators=200; total time=   5.7s\n",
      "[CV] END ......................max_depth=3, n_estimators=200; total time=   7.3s\n",
      "[CV] END ......................max_depth=3, n_estimators=200; total time=   5.7s\n",
      "[CV] END ......................max_depth=3, n_estimators=200; total time=   7.2s\n",
      "[CV] END ......................max_depth=3, n_estimators=200; total time=   5.7s\n",
      "[CV] END ......................max_depth=3, n_estimators=250; total time=   8.5s\n",
      "[CV] END ......................max_depth=3, n_estimators=250; total time=   8.6s\n",
      "[CV] END ......................max_depth=3, n_estimators=250; total time=   7.1s\n",
      "[CV] END ......................max_depth=3, n_estimators=250; total time=   8.5s\n",
      "[CV] END ......................max_depth=3, n_estimators=250; total time=   8.4s\n",
      "[CV] END ......................max_depth=8, n_estimators=100; total time=   7.0s\n",
      "[CV] END ......................max_depth=8, n_estimators=100; total time=   8.3s\n",
      "[CV] END ......................max_depth=8, n_estimators=100; total time=   8.4s\n",
      "[CV] END ......................max_depth=8, n_estimators=100; total time=   7.0s\n",
      "[CV] END ......................max_depth=8, n_estimators=100; total time=   8.4s\n",
      "[CV] END ......................max_depth=8, n_estimators=150; total time=  11.9s\n",
      "[CV] END ......................max_depth=8, n_estimators=150; total time=  11.9s\n",
      "[CV] END ......................max_depth=8, n_estimators=150; total time=  11.8s\n",
      "[CV] END ......................max_depth=8, n_estimators=150; total time=  11.6s\n",
      "[CV] END ......................max_depth=8, n_estimators=150; total time=  11.8s\n",
      "[CV] END ......................max_depth=8, n_estimators=200; total time=  15.2s\n",
      "[CV] END ......................max_depth=8, n_estimators=200; total time=  16.7s\n",
      "[CV] END ......................max_depth=8, n_estimators=200; total time=  15.1s\n",
      "[CV] END ......................max_depth=8, n_estimators=200; total time=  15.2s\n",
      "[CV] END ......................max_depth=8, n_estimators=200; total time=  16.5s\n",
      "[CV] END ......................max_depth=8, n_estimators=250; total time=  18.6s\n",
      "[CV] END ......................max_depth=8, n_estimators=250; total time=  20.0s\n",
      "[CV] END ......................max_depth=8, n_estimators=250; total time=  18.7s\n",
      "[CV] END ......................max_depth=8, n_estimators=250; total time=  19.8s\n",
      "[CV] END ......................max_depth=8, n_estimators=250; total time=  19.9s\n",
      "[CV] END .....................max_depth=10, n_estimators=100; total time=  10.0s\n",
      "[CV] END .....................max_depth=10, n_estimators=100; total time=   8.7s\n",
      "[CV] END .....................max_depth=10, n_estimators=100; total time=  10.1s\n",
      "[CV] END .....................max_depth=10, n_estimators=100; total time=  10.0s\n",
      "[CV] END .....................max_depth=10, n_estimators=100; total time=  10.0s\n",
      "[CV] END .....................max_depth=10, n_estimators=150; total time=  14.3s\n",
      "[CV] END .....................max_depth=10, n_estimators=150; total time=  14.5s\n",
      "[CV] END .....................max_depth=10, n_estimators=150; total time=  15.2s\n",
      "[CV] END .....................max_depth=10, n_estimators=150; total time=  14.5s\n",
      "[CV] END .....................max_depth=10, n_estimators=150; total time=  16.9s\n",
      "[CV] END .....................max_depth=10, n_estimators=200; total time=  29.9s\n",
      "[CV] END .....................max_depth=10, n_estimators=200; total time=  18.8s\n",
      "[CV] END .....................max_depth=10, n_estimators=200; total time=  20.1s\n",
      "[CV] END .....................max_depth=10, n_estimators=200; total time=  20.0s\n",
      "[CV] END .....................max_depth=10, n_estimators=200; total time=  18.3s\n",
      "[CV] END .....................max_depth=10, n_estimators=250; total time=  24.0s\n",
      "[CV] END .....................max_depth=10, n_estimators=250; total time=  23.9s\n",
      "[CV] END .....................max_depth=10, n_estimators=250; total time=  23.9s\n",
      "[CV] END .....................max_depth=10, n_estimators=250; total time=  24.1s\n",
      "[CV] END .....................max_depth=10, n_estimators=250; total time=  24.1s\n"
     ]
    }
   ],
   "source": [
    "scores = []\n",
    "for modelname,mp in params.items():\n",
    "    clf = GridSearchCV(mp['model'],param_grid=mp['params'],verbose=2)\n",
    "    clf.fit(X_train,y_train)\n",
    "    scores.append({\n",
    "        'model_name':modelname,\n",
    "        'best_score':clf.best_score_,\n",
    "        'best_estimator':clf.best_estimator_,\n",
    "    })"
   ]
  },
  {
   "cell_type": "code",
   "execution_count": 193,
   "id": "21e344d0",
   "metadata": {
    "colab": {
     "base_uri": "https://localhost:8080/"
    },
    "id": "21e344d0",
    "outputId": "11fa59b0-cf9f-4096-cf7b-02888360f85b"
   },
   "outputs": [
    {
     "data": {
      "text/plain": [
       "[{'model_name': 'Xg boost',\n",
       "  'best_score': 0.6458564704121352,\n",
       "  'best_estimator': XGBRegressor(base_score=None, booster=None, callbacks=None,\n",
       "               colsample_bylevel=None, colsample_bynode=None,\n",
       "               colsample_bytree=None, early_stopping_rounds=None,\n",
       "               enable_categorical=False, eval_metric=None, feature_types=None,\n",
       "               gamma=None, gpu_id=None, grow_policy=None, importance_type=None,\n",
       "               interaction_constraints=None, learning_rate=None, max_bin=None,\n",
       "               max_cat_threshold=None, max_cat_to_onehot=None,\n",
       "               max_delta_step=None, max_depth=8, max_leaves=None,\n",
       "               min_child_weight=None, missing=nan, monotone_constraints=None,\n",
       "               n_estimators=100, n_jobs=None, num_parallel_tree=None,\n",
       "               predictor=None, random_state=None, ...)}]"
      ]
     },
     "execution_count": 193,
     "metadata": {},
     "output_type": "execute_result"
    }
   ],
   "source": [
    "scores"
   ]
  },
  {
   "cell_type": "code",
   "execution_count": 194,
   "id": "31d16aa1",
   "metadata": {
    "id": "31d16aa1"
   },
   "outputs": [],
   "source": [
    "temp_df = pd.DataFrame(clf.cv_results_)"
   ]
  },
  {
   "cell_type": "code",
   "execution_count": 195,
   "id": "b2d15ca8",
   "metadata": {
    "colab": {
     "base_uri": "https://localhost:8080/",
     "height": 530
    },
    "id": "b2d15ca8",
    "outputId": "0d35a69c-7e11-46bb-de8f-d30a594f0e4e"
   },
   "outputs": [
    {
     "data": {
      "text/html": [
       "\n",
       "  <div id=\"df-8d1a7356-d1be-47cb-ba65-6567b3ef83ef\">\n",
       "    <div class=\"colab-df-container\">\n",
       "      <div>\n",
       "<style scoped>\n",
       "    .dataframe tbody tr th:only-of-type {\n",
       "        vertical-align: middle;\n",
       "    }\n",
       "\n",
       "    .dataframe tbody tr th {\n",
       "        vertical-align: top;\n",
       "    }\n",
       "\n",
       "    .dataframe thead th {\n",
       "        text-align: right;\n",
       "    }\n",
       "</style>\n",
       "<table border=\"1\" class=\"dataframe\">\n",
       "  <thead>\n",
       "    <tr style=\"text-align: right;\">\n",
       "      <th></th>\n",
       "      <th>mean_fit_time</th>\n",
       "      <th>std_fit_time</th>\n",
       "      <th>mean_score_time</th>\n",
       "      <th>std_score_time</th>\n",
       "      <th>param_max_depth</th>\n",
       "      <th>param_n_estimators</th>\n",
       "      <th>params</th>\n",
       "      <th>split0_test_score</th>\n",
       "      <th>split1_test_score</th>\n",
       "      <th>split2_test_score</th>\n",
       "      <th>split3_test_score</th>\n",
       "      <th>split4_test_score</th>\n",
       "      <th>mean_test_score</th>\n",
       "      <th>std_test_score</th>\n",
       "      <th>rank_test_score</th>\n",
       "    </tr>\n",
       "  </thead>\n",
       "  <tbody>\n",
       "    <tr>\n",
       "      <th>0</th>\n",
       "      <td>3.495305</td>\n",
       "      <td>0.566610</td>\n",
       "      <td>0.019418</td>\n",
       "      <td>0.009770</td>\n",
       "      <td>3</td>\n",
       "      <td>100</td>\n",
       "      <td>{'max_depth': 3, 'n_estimators': 100}</td>\n",
       "      <td>0.628681</td>\n",
       "      <td>0.632908</td>\n",
       "      <td>0.644816</td>\n",
       "      <td>0.626565</td>\n",
       "      <td>0.600628</td>\n",
       "      <td>0.626720</td>\n",
       "      <td>0.014494</td>\n",
       "      <td>10</td>\n",
       "    </tr>\n",
       "    <tr>\n",
       "      <th>1</th>\n",
       "      <td>4.870358</td>\n",
       "      <td>0.698874</td>\n",
       "      <td>0.016015</td>\n",
       "      <td>0.001439</td>\n",
       "      <td>3</td>\n",
       "      <td>150</td>\n",
       "      <td>{'max_depth': 3, 'n_estimators': 150}</td>\n",
       "      <td>0.635506</td>\n",
       "      <td>0.637051</td>\n",
       "      <td>0.652935</td>\n",
       "      <td>0.639104</td>\n",
       "      <td>0.609060</td>\n",
       "      <td>0.634731</td>\n",
       "      <td>0.014251</td>\n",
       "      <td>8</td>\n",
       "    </tr>\n",
       "    <tr>\n",
       "      <th>2</th>\n",
       "      <td>6.316347</td>\n",
       "      <td>0.735617</td>\n",
       "      <td>0.016012</td>\n",
       "      <td>0.000463</td>\n",
       "      <td>3</td>\n",
       "      <td>200</td>\n",
       "      <td>{'max_depth': 3, 'n_estimators': 200}</td>\n",
       "      <td>0.637014</td>\n",
       "      <td>0.640814</td>\n",
       "      <td>0.657660</td>\n",
       "      <td>0.644050</td>\n",
       "      <td>0.614497</td>\n",
       "      <td>0.638807</td>\n",
       "      <td>0.014008</td>\n",
       "      <td>5</td>\n",
       "    </tr>\n",
       "    <tr>\n",
       "      <th>3</th>\n",
       "      <td>8.234196</td>\n",
       "      <td>0.560719</td>\n",
       "      <td>0.016434</td>\n",
       "      <td>0.000519</td>\n",
       "      <td>3</td>\n",
       "      <td>250</td>\n",
       "      <td>{'max_depth': 3, 'n_estimators': 250}</td>\n",
       "      <td>0.641470</td>\n",
       "      <td>0.642398</td>\n",
       "      <td>0.661285</td>\n",
       "      <td>0.649784</td>\n",
       "      <td>0.621170</td>\n",
       "      <td>0.643221</td>\n",
       "      <td>0.013110</td>\n",
       "      <td>2</td>\n",
       "    </tr>\n",
       "    <tr>\n",
       "      <th>4</th>\n",
       "      <td>7.806912</td>\n",
       "      <td>0.689004</td>\n",
       "      <td>0.017768</td>\n",
       "      <td>0.000928</td>\n",
       "      <td>8</td>\n",
       "      <td>100</td>\n",
       "      <td>{'max_depth': 8, 'n_estimators': 100}</td>\n",
       "      <td>0.651312</td>\n",
       "      <td>0.642286</td>\n",
       "      <td>0.655387</td>\n",
       "      <td>0.658746</td>\n",
       "      <td>0.621551</td>\n",
       "      <td>0.645856</td>\n",
       "      <td>0.013343</td>\n",
       "      <td>1</td>\n",
       "    </tr>\n",
       "  </tbody>\n",
       "</table>\n",
       "</div>\n",
       "      <button class=\"colab-df-convert\" onclick=\"convertToInteractive('df-8d1a7356-d1be-47cb-ba65-6567b3ef83ef')\"\n",
       "              title=\"Convert this dataframe to an interactive table.\"\n",
       "              style=\"display:none;\">\n",
       "        \n",
       "  <svg xmlns=\"http://www.w3.org/2000/svg\" height=\"24px\"viewBox=\"0 0 24 24\"\n",
       "       width=\"24px\">\n",
       "    <path d=\"M0 0h24v24H0V0z\" fill=\"none\"/>\n",
       "    <path d=\"M18.56 5.44l.94 2.06.94-2.06 2.06-.94-2.06-.94-.94-2.06-.94 2.06-2.06.94zm-11 1L8.5 8.5l.94-2.06 2.06-.94-2.06-.94L8.5 2.5l-.94 2.06-2.06.94zm10 10l.94 2.06.94-2.06 2.06-.94-2.06-.94-.94-2.06-.94 2.06-2.06.94z\"/><path d=\"M17.41 7.96l-1.37-1.37c-.4-.4-.92-.59-1.43-.59-.52 0-1.04.2-1.43.59L10.3 9.45l-7.72 7.72c-.78.78-.78 2.05 0 2.83L4 21.41c.39.39.9.59 1.41.59.51 0 1.02-.2 1.41-.59l7.78-7.78 2.81-2.81c.8-.78.8-2.07 0-2.86zM5.41 20L4 18.59l7.72-7.72 1.47 1.35L5.41 20z\"/>\n",
       "  </svg>\n",
       "      </button>\n",
       "      \n",
       "  <style>\n",
       "    .colab-df-container {\n",
       "      display:flex;\n",
       "      flex-wrap:wrap;\n",
       "      gap: 12px;\n",
       "    }\n",
       "\n",
       "    .colab-df-convert {\n",
       "      background-color: #E8F0FE;\n",
       "      border: none;\n",
       "      border-radius: 50%;\n",
       "      cursor: pointer;\n",
       "      display: none;\n",
       "      fill: #1967D2;\n",
       "      height: 32px;\n",
       "      padding: 0 0 0 0;\n",
       "      width: 32px;\n",
       "    }\n",
       "\n",
       "    .colab-df-convert:hover {\n",
       "      background-color: #E2EBFA;\n",
       "      box-shadow: 0px 1px 2px rgba(60, 64, 67, 0.3), 0px 1px 3px 1px rgba(60, 64, 67, 0.15);\n",
       "      fill: #174EA6;\n",
       "    }\n",
       "\n",
       "    [theme=dark] .colab-df-convert {\n",
       "      background-color: #3B4455;\n",
       "      fill: #D2E3FC;\n",
       "    }\n",
       "\n",
       "    [theme=dark] .colab-df-convert:hover {\n",
       "      background-color: #434B5C;\n",
       "      box-shadow: 0px 1px 3px 1px rgba(0, 0, 0, 0.15);\n",
       "      filter: drop-shadow(0px 1px 2px rgba(0, 0, 0, 0.3));\n",
       "      fill: #FFFFFF;\n",
       "    }\n",
       "  </style>\n",
       "\n",
       "      <script>\n",
       "        const buttonEl =\n",
       "          document.querySelector('#df-8d1a7356-d1be-47cb-ba65-6567b3ef83ef button.colab-df-convert');\n",
       "        buttonEl.style.display =\n",
       "          google.colab.kernel.accessAllowed ? 'block' : 'none';\n",
       "\n",
       "        async function convertToInteractive(key) {\n",
       "          const element = document.querySelector('#df-8d1a7356-d1be-47cb-ba65-6567b3ef83ef');\n",
       "          const dataTable =\n",
       "            await google.colab.kernel.invokeFunction('convertToInteractive',\n",
       "                                                     [key], {});\n",
       "          if (!dataTable) return;\n",
       "\n",
       "          const docLinkHtml = 'Like what you see? Visit the ' +\n",
       "            '<a target=\"_blank\" href=https://colab.research.google.com/notebooks/data_table.ipynb>data table notebook</a>'\n",
       "            + ' to learn more about interactive tables.';\n",
       "          element.innerHTML = '';\n",
       "          dataTable['output_type'] = 'display_data';\n",
       "          await google.colab.output.renderOutput(dataTable, element);\n",
       "          const docLink = document.createElement('div');\n",
       "          docLink.innerHTML = docLinkHtml;\n",
       "          element.appendChild(docLink);\n",
       "        }\n",
       "      </script>\n",
       "    </div>\n",
       "  </div>\n",
       "  "
      ],
      "text/plain": [
       "   mean_fit_time  std_fit_time  mean_score_time  std_score_time  \\\n",
       "0       3.495305      0.566610         0.019418        0.009770   \n",
       "1       4.870358      0.698874         0.016015        0.001439   \n",
       "2       6.316347      0.735617         0.016012        0.000463   \n",
       "3       8.234196      0.560719         0.016434        0.000519   \n",
       "4       7.806912      0.689004         0.017768        0.000928   \n",
       "\n",
       "  param_max_depth param_n_estimators                                 params  \\\n",
       "0               3                100  {'max_depth': 3, 'n_estimators': 100}   \n",
       "1               3                150  {'max_depth': 3, 'n_estimators': 150}   \n",
       "2               3                200  {'max_depth': 3, 'n_estimators': 200}   \n",
       "3               3                250  {'max_depth': 3, 'n_estimators': 250}   \n",
       "4               8                100  {'max_depth': 8, 'n_estimators': 100}   \n",
       "\n",
       "   split0_test_score  split1_test_score  split2_test_score  split3_test_score  \\\n",
       "0           0.628681           0.632908           0.644816           0.626565   \n",
       "1           0.635506           0.637051           0.652935           0.639104   \n",
       "2           0.637014           0.640814           0.657660           0.644050   \n",
       "3           0.641470           0.642398           0.661285           0.649784   \n",
       "4           0.651312           0.642286           0.655387           0.658746   \n",
       "\n",
       "   split4_test_score  mean_test_score  std_test_score  rank_test_score  \n",
       "0           0.600628         0.626720        0.014494               10  \n",
       "1           0.609060         0.634731        0.014251                8  \n",
       "2           0.614497         0.638807        0.014008                5  \n",
       "3           0.621170         0.643221        0.013110                2  \n",
       "4           0.621551         0.645856        0.013343                1  "
      ]
     },
     "execution_count": 195,
     "metadata": {},
     "output_type": "execute_result"
    }
   ],
   "source": [
    "temp_df.head()"
   ]
  },
  {
   "cell_type": "code",
   "execution_count": 196,
   "id": "e17faaca",
   "metadata": {
    "colab": {
     "base_uri": "https://localhost:8080/",
     "height": 197
    },
    "id": "e17faaca",
    "outputId": "4f2d8f9b-42be-4bd9-efaf-7c6238a9f9ad"
   },
   "outputs": [
    {
     "data": {
      "text/html": [
       "\n",
       "  <div id=\"df-db1bda33-8083-4497-8103-f7c945b5a5f1\">\n",
       "    <div class=\"colab-df-container\">\n",
       "      <div>\n",
       "<style scoped>\n",
       "    .dataframe tbody tr th:only-of-type {\n",
       "        vertical-align: middle;\n",
       "    }\n",
       "\n",
       "    .dataframe tbody tr th {\n",
       "        vertical-align: top;\n",
       "    }\n",
       "\n",
       "    .dataframe thead th {\n",
       "        text-align: right;\n",
       "    }\n",
       "</style>\n",
       "<table border=\"1\" class=\"dataframe\">\n",
       "  <thead>\n",
       "    <tr style=\"text-align: right;\">\n",
       "      <th></th>\n",
       "      <th>mean_fit_time</th>\n",
       "      <th>std_fit_time</th>\n",
       "      <th>mean_score_time</th>\n",
       "      <th>std_score_time</th>\n",
       "      <th>param_max_depth</th>\n",
       "      <th>param_n_estimators</th>\n",
       "      <th>params</th>\n",
       "      <th>split0_test_score</th>\n",
       "      <th>split1_test_score</th>\n",
       "      <th>split2_test_score</th>\n",
       "      <th>split3_test_score</th>\n",
       "      <th>split4_test_score</th>\n",
       "      <th>mean_test_score</th>\n",
       "      <th>std_test_score</th>\n",
       "      <th>rank_test_score</th>\n",
       "    </tr>\n",
       "  </thead>\n",
       "  <tbody>\n",
       "    <tr>\n",
       "      <th>4</th>\n",
       "      <td>7.806912</td>\n",
       "      <td>0.689004</td>\n",
       "      <td>0.017768</td>\n",
       "      <td>0.000928</td>\n",
       "      <td>8</td>\n",
       "      <td>100</td>\n",
       "      <td>{'max_depth': 8, 'n_estimators': 100}</td>\n",
       "      <td>0.651312</td>\n",
       "      <td>0.642286</td>\n",
       "      <td>0.655387</td>\n",
       "      <td>0.658746</td>\n",
       "      <td>0.621551</td>\n",
       "      <td>0.645856</td>\n",
       "      <td>0.013343</td>\n",
       "      <td>1</td>\n",
       "    </tr>\n",
       "  </tbody>\n",
       "</table>\n",
       "</div>\n",
       "      <button class=\"colab-df-convert\" onclick=\"convertToInteractive('df-db1bda33-8083-4497-8103-f7c945b5a5f1')\"\n",
       "              title=\"Convert this dataframe to an interactive table.\"\n",
       "              style=\"display:none;\">\n",
       "        \n",
       "  <svg xmlns=\"http://www.w3.org/2000/svg\" height=\"24px\"viewBox=\"0 0 24 24\"\n",
       "       width=\"24px\">\n",
       "    <path d=\"M0 0h24v24H0V0z\" fill=\"none\"/>\n",
       "    <path d=\"M18.56 5.44l.94 2.06.94-2.06 2.06-.94-2.06-.94-.94-2.06-.94 2.06-2.06.94zm-11 1L8.5 8.5l.94-2.06 2.06-.94-2.06-.94L8.5 2.5l-.94 2.06-2.06.94zm10 10l.94 2.06.94-2.06 2.06-.94-2.06-.94-.94-2.06-.94 2.06-2.06.94z\"/><path d=\"M17.41 7.96l-1.37-1.37c-.4-.4-.92-.59-1.43-.59-.52 0-1.04.2-1.43.59L10.3 9.45l-7.72 7.72c-.78.78-.78 2.05 0 2.83L4 21.41c.39.39.9.59 1.41.59.51 0 1.02-.2 1.41-.59l7.78-7.78 2.81-2.81c.8-.78.8-2.07 0-2.86zM5.41 20L4 18.59l7.72-7.72 1.47 1.35L5.41 20z\"/>\n",
       "  </svg>\n",
       "      </button>\n",
       "      \n",
       "  <style>\n",
       "    .colab-df-container {\n",
       "      display:flex;\n",
       "      flex-wrap:wrap;\n",
       "      gap: 12px;\n",
       "    }\n",
       "\n",
       "    .colab-df-convert {\n",
       "      background-color: #E8F0FE;\n",
       "      border: none;\n",
       "      border-radius: 50%;\n",
       "      cursor: pointer;\n",
       "      display: none;\n",
       "      fill: #1967D2;\n",
       "      height: 32px;\n",
       "      padding: 0 0 0 0;\n",
       "      width: 32px;\n",
       "    }\n",
       "\n",
       "    .colab-df-convert:hover {\n",
       "      background-color: #E2EBFA;\n",
       "      box-shadow: 0px 1px 2px rgba(60, 64, 67, 0.3), 0px 1px 3px 1px rgba(60, 64, 67, 0.15);\n",
       "      fill: #174EA6;\n",
       "    }\n",
       "\n",
       "    [theme=dark] .colab-df-convert {\n",
       "      background-color: #3B4455;\n",
       "      fill: #D2E3FC;\n",
       "    }\n",
       "\n",
       "    [theme=dark] .colab-df-convert:hover {\n",
       "      background-color: #434B5C;\n",
       "      box-shadow: 0px 1px 3px 1px rgba(0, 0, 0, 0.15);\n",
       "      filter: drop-shadow(0px 1px 2px rgba(0, 0, 0, 0.3));\n",
       "      fill: #FFFFFF;\n",
       "    }\n",
       "  </style>\n",
       "\n",
       "      <script>\n",
       "        const buttonEl =\n",
       "          document.querySelector('#df-db1bda33-8083-4497-8103-f7c945b5a5f1 button.colab-df-convert');\n",
       "        buttonEl.style.display =\n",
       "          google.colab.kernel.accessAllowed ? 'block' : 'none';\n",
       "\n",
       "        async function convertToInteractive(key) {\n",
       "          const element = document.querySelector('#df-db1bda33-8083-4497-8103-f7c945b5a5f1');\n",
       "          const dataTable =\n",
       "            await google.colab.kernel.invokeFunction('convertToInteractive',\n",
       "                                                     [key], {});\n",
       "          if (!dataTable) return;\n",
       "\n",
       "          const docLinkHtml = 'Like what you see? Visit the ' +\n",
       "            '<a target=\"_blank\" href=https://colab.research.google.com/notebooks/data_table.ipynb>data table notebook</a>'\n",
       "            + ' to learn more about interactive tables.';\n",
       "          element.innerHTML = '';\n",
       "          dataTable['output_type'] = 'display_data';\n",
       "          await google.colab.output.renderOutput(dataTable, element);\n",
       "          const docLink = document.createElement('div');\n",
       "          docLink.innerHTML = docLinkHtml;\n",
       "          element.appendChild(docLink);\n",
       "        }\n",
       "      </script>\n",
       "    </div>\n",
       "  </div>\n",
       "  "
      ],
      "text/plain": [
       "   mean_fit_time  std_fit_time  mean_score_time  std_score_time  \\\n",
       "4       7.806912      0.689004         0.017768        0.000928   \n",
       "\n",
       "  param_max_depth param_n_estimators                                 params  \\\n",
       "4               8                100  {'max_depth': 8, 'n_estimators': 100}   \n",
       "\n",
       "   split0_test_score  split1_test_score  split2_test_score  split3_test_score  \\\n",
       "4           0.651312           0.642286           0.655387           0.658746   \n",
       "\n",
       "   split4_test_score  mean_test_score  std_test_score  rank_test_score  \n",
       "4           0.621551         0.645856        0.013343                1  "
      ]
     },
     "execution_count": 196,
     "metadata": {},
     "output_type": "execute_result"
    }
   ],
   "source": [
    "temp_df [temp_df['rank_test_score'] ==1]"
   ]
  },
  {
   "cell_type": "code",
   "execution_count": 197,
   "id": "7d306cb8",
   "metadata": {
    "colab": {
     "base_uri": "https://localhost:8080/"
    },
    "id": "7d306cb8",
    "outputId": "b5fbf9b4-03b7-4061-8ad3-b0c7ac2cc750"
   },
   "outputs": [
    {
     "name": "stdout",
     "output_type": "stream",
     "text": [
      "0.6019681799603276\n"
     ]
    }
   ],
   "source": [
    "rf = RandomForestRegressor(max_depth=10, n_estimators=250)\n",
    "\n",
    "rf.fit(X_train,y_train)\n",
    "ypred = rf.predict(X_test)\n",
    "print(metrics.r2_score(y_test,ypred))"
   ]
  },
  {
   "cell_type": "markdown",
   "id": "d5eb7554",
   "metadata": {
    "id": "d5eb7554"
   },
   "source": [
    "### Prediction on the whole Dataset"
   ]
  },
  {
   "cell_type": "code",
   "execution_count": 198,
   "id": "3e87f052",
   "metadata": {
    "colab": {
     "base_uri": "https://localhost:8080/"
    },
    "id": "3e87f052",
    "outputId": "9ddb0bf5-14fd-4965-e337-8d7ae130ab5b"
   },
   "outputs": [
    {
     "data": {
      "text/plain": [
       "[array([48.16454307]),\n",
       " array([68.69795305]),\n",
       " array([82.07667805]),\n",
       " array([66.35557738]),\n",
       " array([55.1244984]),\n",
       " array([66.80420522]),\n",
       " array([107.78348156]),\n",
       " array([48.50601328]),\n",
       " array([51.10046315]),\n",
       " array([145.98657952]),\n",
       " array([55.16629457]),\n",
       " array([51.75253034]),\n",
       " array([73.08755131]),\n",
       " array([51.17277869]),\n",
       " array([36.96970677]),\n",
       " array([109.74659531]),\n",
       " array([108.13854329]),\n",
       " array([24.56918496]),\n",
       " array([65.62083441]),\n",
       " array([36.47198502]),\n",
       " array([89.31470054]),\n",
       " array([54.94718021]),\n",
       " array([50.60297839]),\n",
       " array([143.67633243]),\n",
       " array([47.02318935]),\n",
       " array([111.71600621]),\n",
       " array([103.32110718]),\n",
       " array([119.58441339]),\n",
       " array([37.52909655]),\n",
       " array([48.56037418]),\n",
       " array([107.93870039]),\n",
       " array([66.64396508]),\n",
       " array([54.23416904]),\n",
       " array([70.85785999]),\n",
       " array([65.65194941]),\n",
       " array([39.43950732]),\n",
       " array([37.02812702]),\n",
       " array([75.1519804]),\n",
       " array([47.6604785]),\n",
       " array([80.54222274]),\n",
       " array([43.10284251]),\n",
       " array([43.94285056]),\n",
       " array([68.46810912]),\n",
       " array([99.2110644]),\n",
       " array([117.16643902]),\n",
       " array([59.48303782]),\n",
       " array([89.3586352]),\n",
       " array([66.27529838]),\n",
       " array([93.02115662]),\n",
       " array([44.51713722]),\n",
       " array([44.29832517]),\n",
       " array([54.94718021]),\n",
       " array([51.10046315]),\n",
       " array([53.76506264]),\n",
       " array([65.90800028]),\n",
       " array([48.1607282]),\n",
       " array([76.9018998]),\n",
       " array([75.59054798]),\n",
       " array([88.78576828]),\n",
       " array([65.90800028]),\n",
       " array([134.96803656]),\n",
       " array([65.94435546]),\n",
       " array([54.94718021]),\n",
       " array([28.0322829]),\n",
       " array([99.0054515]),\n",
       " array([72.08825551]),\n",
       " array([66.9132674]),\n",
       " array([95.24484602]),\n",
       " array([38.19060853]),\n",
       " array([48.56037418]),\n",
       " array([48.25439765]),\n",
       " array([47.91737869]),\n",
       " array([68.82496234]),\n",
       " array([126.97911225]),\n",
       " array([70.85785999]),\n",
       " array([82.208917]),\n",
       " array([67.38529356]),\n",
       " array([66.6015812]),\n",
       " array([70.00527423]),\n",
       " array([142.70525284]),\n",
       " array([34.07254513]),\n",
       " array([143.06011114]),\n",
       " array([48.51732072]),\n",
       " array([66.6015812]),\n",
       " array([47.99051498]),\n",
       " array([90.45903323]),\n",
       " array([43.13100345]),\n",
       " array([66.92532479]),\n",
       " array([106.20370305]),\n",
       " array([68.56409978]),\n",
       " array([51.14913387]),\n",
       " array([81.67558286]),\n",
       " array([146.3000805]),\n",
       " array([80.99348152]),\n",
       " array([68.57330477]),\n",
       " array([53.92081348]),\n",
       " array([27.602221]),\n",
       " array([68.57330477]),\n",
       " array([142.98164035]),\n",
       " array([66.35383216]),\n",
       " array([48.56037418]),\n",
       " array([89.3586352]),\n",
       " array([47.86628539]),\n",
       " array([82.23103743]),\n",
       " array([119.38830033]),\n",
       " array([89.25297987]),\n",
       " array([41.15748469]),\n",
       " array([81.67587476]),\n",
       " array([47.54023386]),\n",
       " array([75.67082698]),\n",
       " array([48.56037418]),\n",
       " array([66.33703665]),\n",
       " array([66.10384949]),\n",
       " array([86.76619418]),\n",
       " array([48.14283046]),\n",
       " array([55.07843831]),\n",
       " array([113.17697875]),\n",
       " array([41.98684022]),\n",
       " array([91.0137897]),\n",
       " array([105.92610862]),\n",
       " array([47.6604785]),\n",
       " array([66.15826073]),\n",
       " array([51.55269165]),\n",
       " array([47.68471834]),\n",
       " array([66.35557738]),\n",
       " array([106.91969625]),\n",
       " array([131.70709109]),\n",
       " array([67.83390531]),\n",
       " array([48.56037418]),\n",
       " array([119.82270163]),\n",
       " array([114.31708384]),\n",
       " array([65.90800028]),\n",
       " array([68.52084475]),\n",
       " array([82.01515347]),\n",
       " array([48.46599543]),\n",
       " array([80.35147136]),\n",
       " array([15.4959121]),\n",
       " array([54.8771191]),\n",
       " array([67.73579012]),\n",
       " array([80.7425828]),\n",
       " array([86.7516315]),\n",
       " array([22.66762075]),\n",
       " array([50.26605892]),\n",
       " array([38.58528001]),\n",
       " array([65.90800028]),\n",
       " array([154.02472554]),\n",
       " array([135.80990225]),\n",
       " array([106.13170456]),\n",
       " array([48.46599543]),\n",
       " array([75.20505421]),\n",
       " array([47.96344727]),\n",
       " array([68.55691046]),\n",
       " array([66.35557738]),\n",
       " array([139.62853475]),\n",
       " array([87.6274911]),\n",
       " array([66.35557738]),\n",
       " array([73.72547138]),\n",
       " array([55.16629457]),\n",
       " array([107.02302934]),\n",
       " array([67.83757669]),\n",
       " array([47.88018292]),\n",
       " array([68.76072751]),\n",
       " array([70.19446624]),\n",
       " array([65.90800028]),\n",
       " array([48.56037418]),\n",
       " array([66.02044118]),\n",
       " array([66.35383216]),\n",
       " array([119.69740874]),\n",
       " array([75.67082698]),\n",
       " array([66.09066036]),\n",
       " array([88.34544926]),\n",
       " array([106.14790305]),\n",
       " array([79.64038861]),\n",
       " array([93.9237217]),\n",
       " array([70.65705366]),\n",
       " array([35.52304012]),\n",
       " array([68.56409978]),\n",
       " array([108.14400642]),\n",
       " array([108.14400642]),\n",
       " array([86.34800203]),\n",
       " array([109.88377393]),\n",
       " array([48.11283254]),\n",
       " array([48.92355701]),\n",
       " array([93.02115662]),\n",
       " array([126.57642281]),\n",
       " array([41.19712889]),\n",
       " array([54.94718021]),\n",
       " array([54.94718021]),\n",
       " array([51.22144942]),\n",
       " array([51.04388868]),\n",
       " array([70.23645186]),\n",
       " array([86.7516315]),\n",
       " array([48.77656463]),\n",
       " array([119.89155393]),\n",
       " array([48.77656463]),\n",
       " array([32.54782777]),\n",
       " array([93.95246039]),\n",
       " array([68.86038063]),\n",
       " array([68.74483204]),\n",
       " array([47.16594354]),\n",
       " array([87.77648607]),\n",
       " array([144.42904092]),\n",
       " array([39.4784442]),\n",
       " array([48.77656463]),\n",
       " array([68.32731661]),\n",
       " array([48.04690902]),\n",
       " array([68.76769697]),\n",
       " array([124.22710125]),\n",
       " array([48.18889904]),\n",
       " array([51.09255941]),\n",
       " array([146.81231909]),\n",
       " array([82.01515347]),\n",
       " array([70.15174813]),\n",
       " array([55.05040941]),\n",
       " array([48.18889904]),\n",
       " array([93.79101413]),\n",
       " array([80.38824135]),\n",
       " array([117.9824981]),\n",
       " array([39.93077511]),\n",
       " array([127.72285174]),\n",
       " array([47.44606715]),\n",
       " array([119.39937548]),\n",
       " array([41.57792599]),\n",
       " array([48.04690902]),\n",
       " array([95.20093402]),\n",
       " array([127.11124467]),\n",
       " array([65.94435546]),\n",
       " array([108.65326304]),\n",
       " array([65.60477611]),\n",
       " array([41.30303932]),\n",
       " array([70.12800951]),\n",
       " array([81.391982]),\n",
       " array([47.02318935]),\n",
       " array([68.50822474]),\n",
       " array([66.35557738]),\n",
       " array([66.33703665]),\n",
       " array([48.79834461]),\n",
       " array([47.71180039]),\n",
       " array([48.18889904]),\n",
       " array([48.18889904]),\n",
       " array([48.16454307]),\n",
       " array([81.58937429]),\n",
       " array([48.1607282]),\n",
       " array([76.22691365]),\n",
       " array([79.64038861]),\n",
       " array([47.87027035]),\n",
       " array([109.88377393]),\n",
       " array([100.01781729]),\n",
       " array([115.20009864]),\n",
       " array([48.18889904]),\n",
       " array([68.50822474]),\n",
       " array([68.7986377]),\n",
       " array([118.40277191]),\n",
       " array([51.10046315]),\n",
       " array([24.59824618]),\n",
       " array([95.24484602]),\n",
       " array([94.89332836]),\n",
       " array([119.07806499]),\n",
       " array([76.55275136]),\n",
       " array([96.90376333]),\n",
       " array([75.67082698]),\n",
       " array([80.36459396]),\n",
       " array([53.76506264]),\n",
       " array([43.97359685]),\n",
       " array([68.66179029]),\n",
       " array([55.1244984]),\n",
       " array([51.22144942]),\n",
       " array([75.67082698]),\n",
       " array([53.7983775]),\n",
       " array([66.35557738]),\n",
       " array([124.69714491]),\n",
       " array([78.03708241]),\n",
       " array([66.6015812]),\n",
       " array([66.35557738]),\n",
       " array([52.15008081]),\n",
       " array([95.97283022]),\n",
       " array([48.14283046]),\n",
       " array([62.40558145]),\n",
       " array([55.22063873]),\n",
       " array([48.18889904]),\n",
       " array([89.25789974]),\n",
       " array([66.6015812]),\n",
       " array([66.05430518]),\n",
       " array([65.71834729]),\n",
       " array([72.04427156]),\n",
       " array([119.95266821]),\n",
       " array([76.43430476]),\n",
       " array([67.83390531]),\n",
       " array([66.02044118]),\n",
       " array([106.20370305]),\n",
       " array([71.16843361]),\n",
       " array([51.10046315]),\n",
       " array([82.35224425]),\n",
       " array([92.4392253]),\n",
       " array([75.71295715]),\n",
       " array([36.50462046]),\n",
       " array([108.44186473]),\n",
       " array([47.87027035]),\n",
       " array([51.14913387]),\n",
       " array([71.07341676]),\n",
       " array([70.00527423]),\n",
       " array([24.44521514]),\n",
       " array([48.56037418]),\n",
       " array([23.48519446]),\n",
       " array([65.94435546]),\n",
       " array([48.56037418]),\n",
       " array([47.65440527]),\n",
       " array([75.67082698]),\n",
       " array([55.07843831]),\n",
       " array([48.56037418]),\n",
       " array([66.27529838]),\n",
       " array([111.45847634]),\n",
       " array([119.89155393]),\n",
       " array([23.77027722]),\n",
       " array([107.37778099]),\n",
       " array([67.83757669]),\n",
       " array([110.35399786]),\n",
       " array([76.53093859]),\n",
       " array([66.35557738]),\n",
       " array([54.94718021]),\n",
       " array([48.14283046]),\n",
       " array([47.54023386]),\n",
       " array([94.52772013]),\n",
       " array([88.96387299]),\n",
       " array([113.71065311]),\n",
       " array([65.90800028]),\n",
       " array([54.69837856]),\n",
       " array([41.27519581]),\n",
       " array([105.75254255]),\n",
       " array([51.14913387]),\n",
       " array([83.54083559]),\n",
       " array([48.56037418]),\n",
       " array([66.61763213]),\n",
       " array([98.5812958]),\n",
       " array([64.75051238]),\n",
       " array([119.28420625]),\n",
       " array([66.35557738]),\n",
       " array([124.69714491]),\n",
       " array([55.30239472]),\n",
       " array([48.51819836]),\n",
       " array([117.9915604]),\n",
       " array([37.22847768]),\n",
       " array([55.16629457]),\n",
       " array([38.69677299]),\n",
       " array([80.36459396]),\n",
       " array([108.9331462]),\n",
       " array([51.20178748]),\n",
       " array([76.72137148]),\n",
       " array([48.14283046]),\n",
       " array([48.5481318]),\n",
       " array([66.35557738]),\n",
       " array([113.73612602]),\n",
       " array([48.56037418]),\n",
       " array([51.10046315]),\n",
       " array([48.69794401]),\n",
       " array([89.27829988]),\n",
       " array([51.14913387]),\n",
       " array([48.77656463]),\n",
       " array([120.27561785]),\n",
       " array([56.10948207]),\n",
       " array([54.94718021]),\n",
       " array([65.90800028]),\n",
       " array([74.58736704]),\n",
       " array([68.82496234]),\n",
       " array([94.52772013]),\n",
       " array([38.19060853]),\n",
       " array([75.79963892]),\n",
       " array([65.90800028]),\n",
       " array([69.03875469]),\n",
       " array([99.52825358]),\n",
       " array([108.80695773]),\n",
       " array([75.75933616]),\n",
       " array([106.48154082]),\n",
       " array([36.31483188]),\n",
       " array([115.03208319]),\n",
       " array([94.47235627]),\n",
       " array([70.15174813]),\n",
       " array([75.55352048]),\n",
       " array([54.94718021]),\n",
       " array([50.59240358]),\n",
       " array([89.83291318]),\n",
       " array([47.54023386]),\n",
       " array([141.98247956]),\n",
       " array([62.98432435]),\n",
       " array([43.97359685]),\n",
       " array([48.33492887]),\n",
       " array([51.10046315]),\n",
       " array([54.94718021]),\n",
       " array([111.71600621]),\n",
       " array([107.37778099]),\n",
       " array([48.56037418]),\n",
       " array([76.54523141]),\n",
       " array([47.61662967]),\n",
       " array([53.7983775]),\n",
       " array([131.17883123]),\n",
       " array([68.32731661]),\n",
       " array([66.6015812]),\n",
       " array([66.6015812]),\n",
       " array([47.44606715]),\n",
       " array([150.36227535]),\n",
       " array([80.38824135]),\n",
       " array([109.88377393]),\n",
       " array([65.94435546]),\n",
       " array([53.7983775]),\n",
       " array([108.47369804]),\n",
       " array([77.4381693]),\n",
       " array([63.34900593]),\n",
       " array([54.94718021]),\n",
       " array([53.7983775]),\n",
       " array([48.51819836]),\n",
       " array([48.18889904]),\n",
       " array([47.54023386]),\n",
       " array([47.02318935]),\n",
       " array([48.5076335]),\n",
       " array([41.86984337]),\n",
       " array([82.01515347]),\n",
       " array([66.90279526]),\n",
       " array([80.84595227]),\n",
       " array([22.68050254]),\n",
       " array([48.56037418]),\n",
       " array([51.22144942]),\n",
       " array([48.14283046]),\n",
       " array([41.57792599]),\n",
       " array([58.64850677]),\n",
       " array([124.69714491]),\n",
       " array([38.56837328]),\n",
       " array([65.90800028]),\n",
       " array([75.36353039]),\n",
       " array([141.4771444]),\n",
       " array([122.81908029]),\n",
       " array([84.14706638]),\n",
       " array([52.07473428]),\n",
       " array([92.42332654]),\n",
       " array([75.67082698]),\n",
       " array([89.3586352]),\n",
       " array([54.94718021]),\n",
       " array([54.94718021]),\n",
       " array([66.34885923]),\n",
       " array([47.63864976]),\n",
       " array([144.44285852]),\n",
       " array([119.51802455]),\n",
       " array([65.90800028]),\n",
       " array([48.51732072]),\n",
       " array([65.90800028]),\n",
       " array([52.11387738]),\n",
       " array([67.84033898]),\n",
       " array([75.67082698]),\n",
       " array([66.35383216]),\n",
       " array([53.76506264]),\n",
       " array([108.20406552]),\n",
       " array([67.09769916]),\n",
       " array([89.3586352]),\n",
       " array([82.01515347]),\n",
       " array([68.76072751]),\n",
       " array([92.81360445]),\n",
       " array([71.8552672]),\n",
       " array([51.10046315]),\n",
       " array([75.67082698]),\n",
       " array([68.23421685]),\n",
       " array([104.65867353]),\n",
       " array([47.54023386]),\n",
       " array([24.59824618]),\n",
       " array([37.46391648]),\n",
       " array([116.88130497]),\n",
       " array([48.77656463]),\n",
       " array([36.32066688]),\n",
       " array([48.77656463]),\n",
       " array([145.81679951]),\n",
       " array([51.22701358]),\n",
       " array([81.391982]),\n",
       " array([81.03248995]),\n",
       " array([54.94718021]),\n",
       " array([137.0069873]),\n",
       " array([75.75933616]),\n",
       " array([88.94979375]),\n",
       " array([66.80420522]),\n",
       " array([65.90800028]),\n",
       " array([66.6015812]),\n",
       " array([77.53084678]),\n",
       " array([47.6604785]),\n",
       " array([26.35356685]),\n",
       " array([38.19455141]),\n",
       " array([98.36308425]),\n",
       " array([48.18889904]),\n",
       " array([48.18889904]),\n",
       " array([110.67116095]),\n",
       " array([55.16629457]),\n",
       " array([47.6604785]),\n",
       " array([68.46470849]),\n",
       " array([108.15861533]),\n",
       " array([95.42458248]),\n",
       " array([25.71921545]),\n",
       " array([51.70767058]),\n",
       " array([68.50822474]),\n",
       " array([66.75842464]),\n",
       " array([94.52772013]),\n",
       " array([65.57107745]),\n",
       " array([68.7986377]),\n",
       " array([39.43950732]),\n",
       " array([46.08842497]),\n",
       " array([62.92965035]),\n",
       " array([140.36293945]),\n",
       " array([41.98684022]),\n",
       " array([53.63882204]),\n",
       " array([47.02318935]),\n",
       " array([66.35557738]),\n",
       " array([48.62373704]),\n",
       " array([53.76506264]),\n",
       " array([48.5481318]),\n",
       " array([152.42149947]),\n",
       " array([107.94705661]),\n",
       " array([126.51334729]),\n",
       " array([75.67082698]),\n",
       " array([68.7986377]),\n",
       " array([38.05361908]),\n",
       " array([82.01515347]),\n",
       " array([106.55981678]),\n",
       " array([67.89684845]),\n",
       " array([50.30305302]),\n",
       " array([66.35557738]),\n",
       " array([67.84033898]),\n",
       " array([48.56037418]),\n",
       " array([146.48725261]),\n",
       " array([48.14283046]),\n",
       " array([25.84430353]),\n",
       " array([41.57792599]),\n",
       " array([109.85404489]),\n",
       " array([68.69795305]),\n",
       " array([65.90800028]),\n",
       " array([41.38824086]),\n",
       " array([38.8345302]),\n",
       " array([63.32779394]),\n",
       " array([56.10948207]),\n",
       " array([82.01515347]),\n",
       " array([54.94718021]),\n",
       " array([53.7983775]),\n",
       " array([89.1487112]),\n",
       " array([65.54538672]),\n",
       " array([65.98351918]),\n",
       " array([51.88133701]),\n",
       " array([68.23421685]),\n",
       " array([93.82283558]),\n",
       " array([66.35557738]),\n",
       " array([66.41920946]),\n",
       " array([106.49429454]),\n",
       " array([53.7983775]),\n",
       " array([65.94435546]),\n",
       " array([47.02318935]),\n",
       " array([106.53983012]),\n",
       " array([53.63882204]),\n",
       " array([128.71856524]),\n",
       " array([70.00527423]),\n",
       " array([67.83390531]),\n",
       " array([64.42897869]),\n",
       " array([143.53626811]),\n",
       " array([75.67082698]),\n",
       " array([39.43950732]),\n",
       " array([91.60382509]),\n",
       " array([52.07473428]),\n",
       " array([48.18889904]),\n",
       " array([119.47630033]),\n",
       " array([65.53191372]),\n",
       " array([69.93041754]),\n",
       " array([53.76506264]),\n",
       " array([105.52101727]),\n",
       " array([82.0432793]),\n",
       " array([116.76124718]),\n",
       " array([97.11470833]),\n",
       " array([48.56037418]),\n",
       " array([42.69707519]),\n",
       " array([124.76383291]),\n",
       " array([66.05430518]),\n",
       " array([108.17370322]),\n",
       " array([66.05430518]),\n",
       " array([88.26308956]),\n",
       " array([48.11283254]),\n",
       " array([82.01515347]),\n",
       " array([51.0979341]),\n",
       " array([47.87027035]),\n",
       " array([88.76923619]),\n",
       " array([77.27500052]),\n",
       " array([48.09087233]),\n",
       " array([146.50481619]),\n",
       " array([46.90368644]),\n",
       " array([41.19712889]),\n",
       " array([48.77656463]),\n",
       " array([81.03010292]),\n",
       " array([65.58464218]),\n",
       " array([127.31467215]),\n",
       " array([78.63338542]),\n",
       " array([91.60382509]),\n",
       " array([90.95680813]),\n",
       " array([79.11049543]),\n",
       " array([54.94718021]),\n",
       " array([48.92355701]),\n",
       " array([76.62479247]),\n",
       " array([110.22028723]),\n",
       " array([48.82880833]),\n",
       " array([54.94718021]),\n",
       " array([67.09769916]),\n",
       " array([124.69714491]),\n",
       " array([89.27829988]),\n",
       " array([66.13080973]),\n",
       " array([65.98450483]),\n",
       " array([66.6015812]),\n",
       " array([105.42614171]),\n",
       " array([48.18889904]),\n",
       " array([55.16629457]),\n",
       " array([65.90800028]),\n",
       " array([48.56037418]),\n",
       " array([68.46470849]),\n",
       " array([143.86095364]),\n",
       " array([41.19712889]),\n",
       " array([25.77391169]),\n",
       " array([54.94718021]),\n",
       " array([37.46391648]),\n",
       " array([51.17277869]),\n",
       " array([54.94718021]),\n",
       " array([39.43950732]),\n",
       " array([94.22608258]),\n",
       " array([145.91728811]),\n",
       " array([75.42368619]),\n",
       " array([68.66179029]),\n",
       " array([136.41575931]),\n",
       " array([55.16629457]),\n",
       " array([108.17370322]),\n",
       " array([54.94718021]),\n",
       " array([70.98055259]),\n",
       " array([145.03581419]),\n",
       " array([48.56037418]),\n",
       " array([51.10046315]),\n",
       " array([41.90571182]),\n",
       " array([36.99692746]),\n",
       " array([48.46599543]),\n",
       " array([119.92271044]),\n",
       " array([38.69677299]),\n",
       " array([108.80695773]),\n",
       " array([65.90800028]),\n",
       " array([41.27519581]),\n",
       " array([55.16629457]),\n",
       " array([108.05071033]),\n",
       " array([51.17277869]),\n",
       " array([94.24127222]),\n",
       " array([108.74102929]),\n",
       " array([120.6434841]),\n",
       " array([37.46391648]),\n",
       " array([55.16629457]),\n",
       " array([23.03304264]),\n",
       " array([79.64038861]),\n",
       " array([89.35795632]),\n",
       " array([71.9650715]),\n",
       " array([129.70952998]),\n",
       " array([130.9227797]),\n",
       " array([82.46249833]),\n",
       " array([55.16629457]),\n",
       " array([70.85785999]),\n",
       " array([68.31900617]),\n",
       " array([67.83757669]),\n",
       " array([65.90800028]),\n",
       " array([47.21805042]),\n",
       " array([55.16629457]),\n",
       " array([108.05071033]),\n",
       " array([83.25075353]),\n",
       " array([48.56037418]),\n",
       " array([51.21345945]),\n",
       " array([47.44606715]),\n",
       " array([94.06521296]),\n",
       " array([55.16629457]),\n",
       " array([90.8043984]),\n",
       " array([67.83390531]),\n",
       " array([107.0445185]),\n",
       " array([126.59518944]),\n",
       " array([118.18958467]),\n",
       " array([65.90800028]),\n",
       " array([53.76506264]),\n",
       " array([54.94718021]),\n",
       " array([47.71180039]),\n",
       " array([36.32106412]),\n",
       " array([81.58937429]),\n",
       " array([89.79713817]),\n",
       " array([66.81845047]),\n",
       " array([106.97367145]),\n",
       " array([48.5481318]),\n",
       " array([47.86622106]),\n",
       " array([129.71506687]),\n",
       " array([105.97420266]),\n",
       " array([105.64271398]),\n",
       " array([67.78106722]),\n",
       " array([24.59824618]),\n",
       " array([76.83461756]),\n",
       " array([51.14913387]),\n",
       " array([70.64680986]),\n",
       " array([29.83342455]),\n",
       " array([48.51732072]),\n",
       " array([48.14283046]),\n",
       " array([53.7983775]),\n",
       " array([55.16629457]),\n",
       " array([73.6249604]),\n",
       " array([75.20505421]),\n",
       " array([68.45910152]),\n",
       " array([48.87081632]),\n",
       " array([66.30481085]),\n",
       " array([124.69714491]),\n",
       " array([105.60717856]),\n",
       " array([47.02318935]),\n",
       " array([65.53191372]),\n",
       " array([51.20178748]),\n",
       " array([95.24484602]),\n",
       " array([138.24608927]),\n",
       " array([53.76506264]),\n",
       " array([121.99483149]),\n",
       " array([118.58458275]),\n",
       " array([88.82285814]),\n",
       " array([48.5481318]),\n",
       " array([55.16629457]),\n",
       " array([66.35557738]),\n",
       " array([48.11283254]),\n",
       " array([41.77671811]),\n",
       " array([55.1244984]),\n",
       " array([65.90800028]),\n",
       " array([75.42368619]),\n",
       " array([75.27069346]),\n",
       " array([66.9132674]),\n",
       " array([53.63882204]),\n",
       " array([70.98055259]),\n",
       " array([94.40458888]),\n",
       " array([142.85326997]),\n",
       " array([106.878634]),\n",
       " array([67.73579012]),\n",
       " array([52.14269513]),\n",
       " array([77.89740455]),\n",
       " array([68.65563056]),\n",
       " array([36.50462046]),\n",
       " array([51.88133701]),\n",
       " array([70.00527423]),\n",
       " array([31.01643099]),\n",
       " array([67.73579012]),\n",
       " array([44.27549559]),\n",
       " array([68.23421685]),\n",
       " array([48.56037418]),\n",
       " array([55.16629457]),\n",
       " array([48.92355701]),\n",
       " array([75.67082698]),\n",
       " array([46.94168042]),\n",
       " array([119.1545402]),\n",
       " array([48.1607282]),\n",
       " array([88.28421893]),\n",
       " array([47.72990419]),\n",
       " array([119.68645604]),\n",
       " array([48.05905638]),\n",
       " array([38.56837328]),\n",
       " array([140.87626139]),\n",
       " array([151.64272]),\n",
       " array([55.30418952]),\n",
       " array([144.90618578]),\n",
       " array([47.44606715]),\n",
       " array([65.90800028]),\n",
       " array([107.53350627]),\n",
       " array([55.1244984]),\n",
       " array([40.66925039]),\n",
       " array([106.6948652]),\n",
       " array([50.72891277]),\n",
       " array([48.48914988]),\n",
       " array([124.78638341]),\n",
       " array([89.27829988]),\n",
       " array([138.88775334]),\n",
       " array([82.04454122]),\n",
       " array([53.76506264]),\n",
       " array([41.77671811]),\n",
       " array([48.56037418]),\n",
       " array([48.18889904]),\n",
       " array([119.89155393]),\n",
       " array([52.41169335]),\n",
       " array([132.58059327]),\n",
       " array([108.30646631]),\n",
       " array([14.54700301]),\n",
       " array([51.55184615]),\n",
       " array([68.86038063]),\n",
       " array([48.18889904]),\n",
       " array([128.66660322]),\n",
       " array([82.24113741]),\n",
       " array([91.17267279]),\n",
       " array([86.7516315]),\n",
       " array([82.19111708]),\n",
       " array([77.89740455]),\n",
       " array([91.60382509]),\n",
       " array([90.96551434]),\n",
       " array([70.46288872]),\n",
       " array([92.26212227]),\n",
       " array([36.64358721]),\n",
       " array([66.09497388]),\n",
       " array([79.60369369]),\n",
       " array([71.03739792]),\n",
       " array([68.69795305]),\n",
       " array([47.48685962]),\n",
       " array([71.87223581]),\n",
       " array([48.77656463]),\n",
       " array([48.18889904]),\n",
       " array([81.67587476]),\n",
       " array([26.59229158]),\n",
       " array([75.67082698]),\n",
       " array([51.14913387]),\n",
       " array([55.16629457]),\n",
       " array([51.14913387]),\n",
       " array([54.87477501]),\n",
       " array([72.04427156]),\n",
       " array([47.54023386]),\n",
       " array([67.83757669]),\n",
       " array([48.56037418]),\n",
       " array([113.36337116]),\n",
       " array([55.24559472]),\n",
       " array([65.90800028]),\n",
       " array([86.71370267]),\n",
       " array([119.0944857]),\n",
       " array([48.04690902]),\n",
       " array([54.99578783]),\n",
       " array([36.3794548]),\n",
       " array([75.50796389]),\n",
       " array([36.99692746]),\n",
       " array([76.45487607]),\n",
       " array([66.10285541]),\n",
       " array([70.00527423]),\n",
       " array([66.56103922]),\n",
       " array([136.27831933]),\n",
       " array([36.96970677]),\n",
       " array([109.36397419]),\n",
       " array([76.21855769]),\n",
       " array([48.18889904]),\n",
       " array([87.73086057]),\n",
       " array([89.31470054]),\n",
       " array([65.15116492]),\n",
       " array([81.34063268]),\n",
       " array([126.99271786]),\n",
       " array([48.51732072]),\n",
       " array([76.76698779]),\n",
       " array([66.05430518]),\n",
       " array([66.56103922]),\n",
       " array([143.50557409]),\n",
       " array([51.88133701]),\n",
       " array([53.76506264]),\n",
       " array([14.54700301]),\n",
       " array([75.5311549]),\n",
       " array([28.85810836]),\n",
       " array([55.16629457]),\n",
       " array([51.10046315]),\n",
       " array([113.95917594]),\n",
       " array([79.54424191]),\n",
       " array([81.67558286]),\n",
       " array([80.68498029]),\n",
       " array([47.34402165]),\n",
       " array([65.90800028]),\n",
       " array([38.05361908]),\n",
       " array([56.10948207]),\n",
       " array([67.73579012]),\n",
       " array([76.58214291]),\n",
       " array([65.53191372]),\n",
       " array([68.66179029]),\n",
       " array([66.09066036]),\n",
       " array([66.94404981]),\n",
       " array([106.20370305]),\n",
       " array([89.3586352]),\n",
       " array([87.65644099]),\n",
       " array([86.70873475]),\n",
       " array([137.43783028]),\n",
       " array([48.56037418]),\n",
       " array([68.23421685]),\n",
       " array([53.76506264]),\n",
       " array([100.82112975]),\n",
       " array([86.70873475]),\n",
       " array([51.10046315]),\n",
       " array([66.02044118]),\n",
       " array([48.43901903]),\n",
       " array([95.42428984]),\n",
       " array([77.67668486]),\n",
       " array([65.90800028]),\n",
       " array([67.83757669]),\n",
       " array([102.55759557]),\n",
       " array([52.15008081]),\n",
       " array([47.44606715]),\n",
       " array([67.73579012]),\n",
       " array([53.76506264]),\n",
       " array([75.75933616]),\n",
       " array([66.35557738]),\n",
       " array([145.20542078]),\n",
       " array([54.99578783]),\n",
       " array([70.37229766]),\n",
       " array([142.79553855]),\n",
       " array([85.9235284]),\n",
       " array([67.73579012]),\n",
       " array([88.76923619]),\n",
       " array([79.11049543]),\n",
       " array([24.40307219]),\n",
       " array([75.55352048]),\n",
       " array([92.81360445]),\n",
       " array([41.86984337]),\n",
       " array([124.69714491]),\n",
       " array([66.6015812]),\n",
       " array([67.43199171]),\n",
       " array([47.44606715]),\n",
       " array([86.7516315]),\n",
       " array([71.8552672]),\n",
       " array([67.83757669]),\n",
       " array([67.38529356]),\n",
       " array([112.57059309]),\n",
       " array([70.12800951]),\n",
       " array([41.07862522]),\n",
       " array([66.02044118]),\n",
       " array([86.70873475]),\n",
       " array([48.77656463]),\n",
       " array([65.90800028]),\n",
       " array([135.80990225]),\n",
       " array([41.15748469]),\n",
       " array([91.99644976]),\n",
       " array([65.53191372]),\n",
       " array([81.95763418]),\n",
       " array([65.90800028]),\n",
       " array([87.77648607]),\n",
       " array([50.72891277]),\n",
       " array([90.98593346]),\n",
       " array([95.24484602]),\n",
       " array([66.92641365]),\n",
       " array([105.48329605]),\n",
       " array([51.10046315]),\n",
       " array([86.7516315]),\n",
       " array([51.14913387]),\n",
       " array([48.56037418]),\n",
       " array([79.11781958]),\n",
       " array([55.05040941]),\n",
       " array([75.20505421]),\n",
       " array([55.98285256]),\n",
       " array([119.58441339]),\n",
       " array([66.56103922]),\n",
       " array([123.29306843]),\n",
       " array([92.81360445]),\n",
       " array([66.05430518]),\n",
       " array([87.73379745]),\n",
       " array([49.10327978]),\n",
       " array([119.32514894]),\n",
       " array([48.4786177]),\n",
       " array([118.33396099]),\n",
       " array([89.02390715]),\n",
       " array([39.1468268]),\n",
       " array([48.51819836]),\n",
       " array([153.81869313]),\n",
       " array([48.18889904]),\n",
       " array([82.1218588]),\n",
       " array([75.67082698]),\n",
       " array([51.14913387]),\n",
       " array([116.41106177]),\n",
       " array([74.84132713]),\n",
       " array([120.35561785]),\n",
       " array([53.7983775]),\n",
       " array([48.56037418]),\n",
       " array([66.30481085]),\n",
       " array([54.94718021]),\n",
       " array([91.56684805]),\n",
       " array([70.17894428]),\n",
       " array([102.63293853]),\n",
       " array([36.9918505]),\n",
       " array([55.1244984]),\n",
       " array([68.23421685]),\n",
       " array([138.88775334]),\n",
       " array([91.35032329]),\n",
       " array([119.10347469]),\n",
       " array([48.11283254]),\n",
       " array([119.39937548]),\n",
       " array([86.7516315]),\n",
       " array([100.94306552]),\n",
       " array([68.7986377]),\n",
       " array([36.9918505]),\n",
       " array([38.05361908]),\n",
       " array([47.8141785]),\n",
       " array([53.86855511]),\n",
       " array([48.14283046]),\n",
       " array([68.65424887]),\n",
       " array([47.72384135]),\n",
       " array([68.76072751]),\n",
       " array([31.23334118]),\n",
       " array([48.18889904]),\n",
       " array([89.83291318]),\n",
       " array([66.03233124]),\n",
       " array([66.80710649]),\n",
       " array([65.90800028]),\n",
       " array([66.34885923]),\n",
       " array([82.74889889]),\n",
       " array([47.54023386]),\n",
       " array([120.03882376]),\n",
       " array([48.18889904]),\n",
       " array([66.06594364]),\n",
       " array([66.56903528]),\n",
       " array([66.35557738]),\n",
       " array([67.83757669]),\n",
       " array([81.67587476]),\n",
       " array([86.7516315]),\n",
       " array([81.91531862]),\n",
       " array([67.83757669]),\n",
       " array([66.33189893]),\n",
       " array([53.76506264]),\n",
       " array([55.1244984]),\n",
       " array([106.12230721]),\n",
       " ...]"
      ]
     },
     "execution_count": 198,
     "metadata": {},
     "output_type": "execute_result"
    }
   ],
   "source": [
    "predicted = []\n",
    "testtrain = np.array(train_new)\n",
    "for i in range(len(testtrain)):\n",
    "    predicted.append(rf.predict([testtrain[i]]))\n",
    "\n",
    "predicted"
   ]
  },
  {
   "cell_type": "code",
   "execution_count": 201,
   "id": "edfee17e",
   "metadata": {
    "colab": {
     "base_uri": "https://localhost:8080/",
     "height": 423
    },
    "id": "edfee17e",
    "outputId": "eb738551-5b9f-4045-d580-345f48fe3c5b"
   },
   "outputs": [
    {
     "data": {
      "text/html": [
       "\n",
       "  <div id=\"df-4e75edad-7800-42d6-b280-d05600bc63ec\">\n",
       "    <div class=\"colab-df-container\">\n",
       "      <div>\n",
       "<style scoped>\n",
       "    .dataframe tbody tr th:only-of-type {\n",
       "        vertical-align: middle;\n",
       "    }\n",
       "\n",
       "    .dataframe tbody tr th {\n",
       "        vertical-align: top;\n",
       "    }\n",
       "\n",
       "    .dataframe thead th {\n",
       "        text-align: right;\n",
       "    }\n",
       "</style>\n",
       "<table border=\"1\" class=\"dataframe\">\n",
       "  <thead>\n",
       "    <tr style=\"text-align: right;\">\n",
       "      <th></th>\n",
       "      <th>location</th>\n",
       "      <th>size</th>\n",
       "      <th>total_sqft</th>\n",
       "      <th>price</th>\n",
       "      <th>Predicted Price</th>\n",
       "    </tr>\n",
       "  </thead>\n",
       "  <tbody>\n",
       "    <tr>\n",
       "      <th>0</th>\n",
       "      <td>Electronic City Phase II</td>\n",
       "      <td>2</td>\n",
       "      <td>1056.0</td>\n",
       "      <td>39.07</td>\n",
       "      <td>48.164543</td>\n",
       "    </tr>\n",
       "    <tr>\n",
       "      <th>2</th>\n",
       "      <td>Uttarahalli</td>\n",
       "      <td>3</td>\n",
       "      <td>1440.0</td>\n",
       "      <td>62.00</td>\n",
       "      <td>68.697953</td>\n",
       "    </tr>\n",
       "    <tr>\n",
       "      <th>3</th>\n",
       "      <td>Lingadheeranahalli</td>\n",
       "      <td>3</td>\n",
       "      <td>1521.0</td>\n",
       "      <td>95.00</td>\n",
       "      <td>82.076678</td>\n",
       "    </tr>\n",
       "    <tr>\n",
       "      <th>4</th>\n",
       "      <td>Kothanur</td>\n",
       "      <td>2</td>\n",
       "      <td>1200.0</td>\n",
       "      <td>51.00</td>\n",
       "      <td>66.355577</td>\n",
       "    </tr>\n",
       "    <tr>\n",
       "      <th>5</th>\n",
       "      <td>Whitefield</td>\n",
       "      <td>2</td>\n",
       "      <td>1170.0</td>\n",
       "      <td>38.00</td>\n",
       "      <td>55.124498</td>\n",
       "    </tr>\n",
       "    <tr>\n",
       "      <th>...</th>\n",
       "      <td>...</td>\n",
       "      <td>...</td>\n",
       "      <td>...</td>\n",
       "      <td>...</td>\n",
       "      <td>...</td>\n",
       "    </tr>\n",
       "    <tr>\n",
       "      <th>13309</th>\n",
       "      <td>Yeshwanthpur</td>\n",
       "      <td>3</td>\n",
       "      <td>1675.0</td>\n",
       "      <td>92.13</td>\n",
       "      <td>99.136722</td>\n",
       "    </tr>\n",
       "    <tr>\n",
       "      <th>13310</th>\n",
       "      <td>Rachenahalli</td>\n",
       "      <td>2</td>\n",
       "      <td>1050.0</td>\n",
       "      <td>52.71</td>\n",
       "      <td>48.560374</td>\n",
       "    </tr>\n",
       "    <tr>\n",
       "      <th>13312</th>\n",
       "      <td>Bellandur</td>\n",
       "      <td>2</td>\n",
       "      <td>1262.0</td>\n",
       "      <td>47.00</td>\n",
       "      <td>66.617632</td>\n",
       "    </tr>\n",
       "    <tr>\n",
       "      <th>13314</th>\n",
       "      <td>Green Glen Layout</td>\n",
       "      <td>3</td>\n",
       "      <td>1715.0</td>\n",
       "      <td>112.00</td>\n",
       "      <td>106.373348</td>\n",
       "    </tr>\n",
       "    <tr>\n",
       "      <th>13317</th>\n",
       "      <td>Raja Rajeshwari Nagar</td>\n",
       "      <td>2</td>\n",
       "      <td>1141.0</td>\n",
       "      <td>60.00</td>\n",
       "      <td>53.638822</td>\n",
       "    </tr>\n",
       "  </tbody>\n",
       "</table>\n",
       "<p>10143 rows × 5 columns</p>\n",
       "</div>\n",
       "      <button class=\"colab-df-convert\" onclick=\"convertToInteractive('df-4e75edad-7800-42d6-b280-d05600bc63ec')\"\n",
       "              title=\"Convert this dataframe to an interactive table.\"\n",
       "              style=\"display:none;\">\n",
       "        \n",
       "  <svg xmlns=\"http://www.w3.org/2000/svg\" height=\"24px\"viewBox=\"0 0 24 24\"\n",
       "       width=\"24px\">\n",
       "    <path d=\"M0 0h24v24H0V0z\" fill=\"none\"/>\n",
       "    <path d=\"M18.56 5.44l.94 2.06.94-2.06 2.06-.94-2.06-.94-.94-2.06-.94 2.06-2.06.94zm-11 1L8.5 8.5l.94-2.06 2.06-.94-2.06-.94L8.5 2.5l-.94 2.06-2.06.94zm10 10l.94 2.06.94-2.06 2.06-.94-2.06-.94-.94-2.06-.94 2.06-2.06.94z\"/><path d=\"M17.41 7.96l-1.37-1.37c-.4-.4-.92-.59-1.43-.59-.52 0-1.04.2-1.43.59L10.3 9.45l-7.72 7.72c-.78.78-.78 2.05 0 2.83L4 21.41c.39.39.9.59 1.41.59.51 0 1.02-.2 1.41-.59l7.78-7.78 2.81-2.81c.8-.78.8-2.07 0-2.86zM5.41 20L4 18.59l7.72-7.72 1.47 1.35L5.41 20z\"/>\n",
       "  </svg>\n",
       "      </button>\n",
       "      \n",
       "  <style>\n",
       "    .colab-df-container {\n",
       "      display:flex;\n",
       "      flex-wrap:wrap;\n",
       "      gap: 12px;\n",
       "    }\n",
       "\n",
       "    .colab-df-convert {\n",
       "      background-color: #E8F0FE;\n",
       "      border: none;\n",
       "      border-radius: 50%;\n",
       "      cursor: pointer;\n",
       "      display: none;\n",
       "      fill: #1967D2;\n",
       "      height: 32px;\n",
       "      padding: 0 0 0 0;\n",
       "      width: 32px;\n",
       "    }\n",
       "\n",
       "    .colab-df-convert:hover {\n",
       "      background-color: #E2EBFA;\n",
       "      box-shadow: 0px 1px 2px rgba(60, 64, 67, 0.3), 0px 1px 3px 1px rgba(60, 64, 67, 0.15);\n",
       "      fill: #174EA6;\n",
       "    }\n",
       "\n",
       "    [theme=dark] .colab-df-convert {\n",
       "      background-color: #3B4455;\n",
       "      fill: #D2E3FC;\n",
       "    }\n",
       "\n",
       "    [theme=dark] .colab-df-convert:hover {\n",
       "      background-color: #434B5C;\n",
       "      box-shadow: 0px 1px 3px 1px rgba(0, 0, 0, 0.15);\n",
       "      filter: drop-shadow(0px 1px 2px rgba(0, 0, 0, 0.3));\n",
       "      fill: #FFFFFF;\n",
       "    }\n",
       "  </style>\n",
       "\n",
       "      <script>\n",
       "        const buttonEl =\n",
       "          document.querySelector('#df-4e75edad-7800-42d6-b280-d05600bc63ec button.colab-df-convert');\n",
       "        buttonEl.style.display =\n",
       "          google.colab.kernel.accessAllowed ? 'block' : 'none';\n",
       "\n",
       "        async function convertToInteractive(key) {\n",
       "          const element = document.querySelector('#df-4e75edad-7800-42d6-b280-d05600bc63ec');\n",
       "          const dataTable =\n",
       "            await google.colab.kernel.invokeFunction('convertToInteractive',\n",
       "                                                     [key], {});\n",
       "          if (!dataTable) return;\n",
       "\n",
       "          const docLinkHtml = 'Like what you see? Visit the ' +\n",
       "            '<a target=\"_blank\" href=https://colab.research.google.com/notebooks/data_table.ipynb>data table notebook</a>'\n",
       "            + ' to learn more about interactive tables.';\n",
       "          element.innerHTML = '';\n",
       "          dataTable['output_type'] = 'display_data';\n",
       "          await google.colab.output.renderOutput(dataTable, element);\n",
       "          const docLink = document.createElement('div');\n",
       "          docLink.innerHTML = docLinkHtml;\n",
       "          element.appendChild(docLink);\n",
       "        }\n",
       "      </script>\n",
       "    </div>\n",
       "  </div>\n",
       "  "
      ],
      "text/plain": [
       "                       location  size  total_sqft   price  Predicted Price\n",
       "0      Electronic City Phase II     2      1056.0   39.07        48.164543\n",
       "2                   Uttarahalli     3      1440.0   62.00        68.697953\n",
       "3            Lingadheeranahalli     3      1521.0   95.00        82.076678\n",
       "4                      Kothanur     2      1200.0   51.00        66.355577\n",
       "5                    Whitefield     2      1170.0   38.00        55.124498\n",
       "...                         ...   ...         ...     ...              ...\n",
       "13309              Yeshwanthpur     3      1675.0   92.13        99.136722\n",
       "13310              Rachenahalli     2      1050.0   52.71        48.560374\n",
       "13312                 Bellandur     2      1262.0   47.00        66.617632\n",
       "13314         Green Glen Layout     3      1715.0  112.00       106.373348\n",
       "13317     Raja Rajeshwari Nagar     2      1141.0   60.00        53.638822\n",
       "\n",
       "[10143 rows x 5 columns]"
      ]
     },
     "execution_count": 201,
     "metadata": {},
     "output_type": "execute_result"
    }
   ],
   "source": [
    "df['Predicted Price'] = np.array(predicted)\n",
    "df"
   ]
  },
  {
   "cell_type": "code",
   "execution_count": 202,
   "id": "fc3e5de2",
   "metadata": {
    "colab": {
     "base_uri": "https://localhost:8080/",
     "height": 469
    },
    "id": "fc3e5de2",
    "outputId": "4d2b4058-8faf-4cf7-95a2-200266c4ccb3"
   },
   "outputs": [
    {
     "data": {
      "image/png": "[encoded data removed]",
      "text/plain": [
       "<Figure size 1800x700 with 1 Axes>"
      ]
     },
     "metadata": {},
     "output_type": "display_data"
    }
   ],
   "source": [
    "plt1 = plt.figure(figsize = (18,7))\n",
    "sn.distplot(df['price'],hist=False,color='orange',label='Actual')\n",
    "sn.distplot(df['Predicted Price'],hist=False,color='blue',label='Predicted')\n",
    "plt.legend()\n",
    "plt.show()"
   ]
  },
  {
   "cell_type": "code",
   "execution_count": null,
   "id": "38406e30",
   "metadata": {
    "id": "38406e30"
   },
   "outputs": [],
   "source": []
  }
 ],
 "metadata": {
  "accelerator": "GPU",
  "colab": {
   "provenance": []
  },
  "kernelspec": {
   "display_name": "Python 3 (ipykernel)",
   "language": "python",
   "name": "python3"
  },
  "language_info": {
   "codemirror_mode": {
    "name": "ipython",
    "version": 3
   },
   "file_extension": ".py",
   "mimetype": "text/x-python",
   "name": "python",
   "nbconvert_exporter": "python",
   "pygments_lexer": "ipython3",
   "version": "3.9.12"
  }
 },
 "nbformat": 4,
 "nbformat_minor": 5
}
