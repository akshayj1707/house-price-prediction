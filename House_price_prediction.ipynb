{
 "cells": [
  {
   "cell_type": "markdown",
   "id": "58bb75cd",
   "metadata": {
    "id": "58bb75cd"
   },
   "source": [
    "# Importing Basic Dependencies"
   ]
  },
  {
   "cell_type": "code",
   "execution_count": 284,
   "id": "c776a692",
   "metadata": {
    "id": "c776a692"
   },
   "outputs": [],
   "source": [
    "import pandas as pd\n",
    "import numpy as np\n",
    "import seaborn as sn\n",
    "import matplotlib.pyplot as plt\n",
    "import warnings\n",
    "warnings.filterwarnings(\"ignore\")\n",
    "%matplotlib inline"
   ]
  },
  {
   "cell_type": "code",
   "execution_count": 285,
   "id": "0739b14c",
   "metadata": {
    "colab": {
     "base_uri": "https://localhost:8080/",
     "height": 206
    },
    "id": "0739b14c",
    "outputId": "9f966b78-f7da-4b0a-a783-423ac7ef6f24"
   },
   "outputs": [
    {
     "data": {
      "text/html": [
       "\n",
       "  <div id=\"df-3d3a2653-a463-43ff-9fcb-fc93ca114553\">\n",
       "    <div class=\"colab-df-container\">\n",
       "      <div>\n",
       "<style scoped>\n",
       "    .dataframe tbody tr th:only-of-type {\n",
       "        vertical-align: middle;\n",
       "    }\n",
       "\n",
       "    .dataframe tbody tr th {\n",
       "        vertical-align: top;\n",
       "    }\n",
       "\n",
       "    .dataframe thead th {\n",
       "        text-align: right;\n",
       "    }\n",
       "</style>\n",
       "<table border=\"1\" class=\"dataframe\">\n",
       "  <thead>\n",
       "    <tr style=\"text-align: right;\">\n",
       "      <th></th>\n",
       "      <th>area_type</th>\n",
       "      <th>availability</th>\n",
       "      <th>location</th>\n",
       "      <th>size</th>\n",
       "      <th>society</th>\n",
       "      <th>total_sqft</th>\n",
       "      <th>bath</th>\n",
       "      <th>balcony</th>\n",
       "      <th>price</th>\n",
       "    </tr>\n",
       "  </thead>\n",
       "  <tbody>\n",
       "    <tr>\n",
       "      <th>0</th>\n",
       "      <td>Super built-up  Area</td>\n",
       "      <td>19-Dec</td>\n",
       "      <td>Electronic City Phase II</td>\n",
       "      <td>2 BHK</td>\n",
       "      <td>Coomee</td>\n",
       "      <td>1056</td>\n",
       "      <td>2.0</td>\n",
       "      <td>1.0</td>\n",
       "      <td>39.07</td>\n",
       "    </tr>\n",
       "    <tr>\n",
       "      <th>1</th>\n",
       "      <td>Plot  Area</td>\n",
       "      <td>Ready To Move</td>\n",
       "      <td>Chikka Tirupathi</td>\n",
       "      <td>4 Bedroom</td>\n",
       "      <td>Theanmp</td>\n",
       "      <td>2600</td>\n",
       "      <td>5.0</td>\n",
       "      <td>3.0</td>\n",
       "      <td>120.00</td>\n",
       "    </tr>\n",
       "    <tr>\n",
       "      <th>2</th>\n",
       "      <td>Built-up  Area</td>\n",
       "      <td>Ready To Move</td>\n",
       "      <td>Uttarahalli</td>\n",
       "      <td>3 BHK</td>\n",
       "      <td>NaN</td>\n",
       "      <td>1440</td>\n",
       "      <td>2.0</td>\n",
       "      <td>3.0</td>\n",
       "      <td>62.00</td>\n",
       "    </tr>\n",
       "    <tr>\n",
       "      <th>3</th>\n",
       "      <td>Super built-up  Area</td>\n",
       "      <td>Ready To Move</td>\n",
       "      <td>Lingadheeranahalli</td>\n",
       "      <td>3 BHK</td>\n",
       "      <td>Soiewre</td>\n",
       "      <td>1521</td>\n",
       "      <td>3.0</td>\n",
       "      <td>1.0</td>\n",
       "      <td>95.00</td>\n",
       "    </tr>\n",
       "    <tr>\n",
       "      <th>4</th>\n",
       "      <td>Super built-up  Area</td>\n",
       "      <td>Ready To Move</td>\n",
       "      <td>Kothanur</td>\n",
       "      <td>2 BHK</td>\n",
       "      <td>NaN</td>\n",
       "      <td>1200</td>\n",
       "      <td>2.0</td>\n",
       "      <td>1.0</td>\n",
       "      <td>51.00</td>\n",
       "    </tr>\n",
       "  </tbody>\n",
       "</table>\n",
       "</div>\n",
       "      <button class=\"colab-df-convert\" onclick=\"convertToInteractive('df-3d3a2653-a463-43ff-9fcb-fc93ca114553')\"\n",
       "              title=\"Convert this dataframe to an interactive table.\"\n",
       "              style=\"display:none;\">\n",
       "        \n",
       "  <svg xmlns=\"http://www.w3.org/2000/svg\" height=\"24px\"viewBox=\"0 0 24 24\"\n",
       "       width=\"24px\">\n",
       "    <path d=\"M0 0h24v24H0V0z\" fill=\"none\"/>\n",
       "    <path d=\"M18.56 5.44l.94 2.06.94-2.06 2.06-.94-2.06-.94-.94-2.06-.94 2.06-2.06.94zm-11 1L8.5 8.5l.94-2.06 2.06-.94-2.06-.94L8.5 2.5l-.94 2.06-2.06.94zm10 10l.94 2.06.94-2.06 2.06-.94-2.06-.94-.94-2.06-.94 2.06-2.06.94z\"/><path d=\"M17.41 7.96l-1.37-1.37c-.4-.4-.92-.59-1.43-.59-.52 0-1.04.2-1.43.59L10.3 9.45l-7.72 7.72c-.78.78-.78 2.05 0 2.83L4 21.41c.39.39.9.59 1.41.59.51 0 1.02-.2 1.41-.59l7.78-7.78 2.81-2.81c.8-.78.8-2.07 0-2.86zM5.41 20L4 18.59l7.72-7.72 1.47 1.35L5.41 20z\"/>\n",
       "  </svg>\n",
       "      </button>\n",
       "      \n",
       "  <style>\n",
       "    .colab-df-container {\n",
       "      display:flex;\n",
       "      flex-wrap:wrap;\n",
       "      gap: 12px;\n",
       "    }\n",
       "\n",
       "    .colab-df-convert {\n",
       "      background-color: #E8F0FE;\n",
       "      border: none;\n",
       "      border-radius: 50%;\n",
       "      cursor: pointer;\n",
       "      display: none;\n",
       "      fill: #1967D2;\n",
       "      height: 32px;\n",
       "      padding: 0 0 0 0;\n",
       "      width: 32px;\n",
       "    }\n",
       "\n",
       "    .colab-df-convert:hover {\n",
       "      background-color: #E2EBFA;\n",
       "      box-shadow: 0px 1px 2px rgba(60, 64, 67, 0.3), 0px 1px 3px 1px rgba(60, 64, 67, 0.15);\n",
       "      fill: #174EA6;\n",
       "    }\n",
       "\n",
       "    [theme=dark] .colab-df-convert {\n",
       "      background-color: #3B4455;\n",
       "      fill: #D2E3FC;\n",
       "    }\n",
       "\n",
       "    [theme=dark] .colab-df-convert:hover {\n",
       "      background-color: #434B5C;\n",
       "      box-shadow: 0px 1px 3px 1px rgba(0, 0, 0, 0.15);\n",
       "      filter: drop-shadow(0px 1px 2px rgba(0, 0, 0, 0.3));\n",
       "      fill: #FFFFFF;\n",
       "    }\n",
       "  </style>\n",
       "\n",
       "      <script>\n",
       "        const buttonEl =\n",
       "          document.querySelector('#df-3d3a2653-a463-43ff-9fcb-fc93ca114553 button.colab-df-convert');\n",
       "        buttonEl.style.display =\n",
       "          google.colab.kernel.accessAllowed ? 'block' : 'none';\n",
       "\n",
       "        async function convertToInteractive(key) {\n",
       "          const element = document.querySelector('#df-3d3a2653-a463-43ff-9fcb-fc93ca114553');\n",
       "          const dataTable =\n",
       "            await google.colab.kernel.invokeFunction('convertToInteractive',\n",
       "                                                     [key], {});\n",
       "          if (!dataTable) return;\n",
       "\n",
       "          const docLinkHtml = 'Like what you see? Visit the ' +\n",
       "            '<a target=\"_blank\" href=https://colab.research.google.com/notebooks/data_table.ipynb>data table notebook</a>'\n",
       "            + ' to learn more about interactive tables.';\n",
       "          element.innerHTML = '';\n",
       "          dataTable['output_type'] = 'display_data';\n",
       "          await google.colab.output.renderOutput(dataTable, element);\n",
       "          const docLink = document.createElement('div');\n",
       "          docLink.innerHTML = docLinkHtml;\n",
       "          element.appendChild(docLink);\n",
       "        }\n",
       "      </script>\n",
       "    </div>\n",
       "  </div>\n",
       "  "
      ],
      "text/plain": [
       "              area_type   availability                  location       size  \\\n",
       "0  Super built-up  Area         19-Dec  Electronic City Phase II      2 BHK   \n",
       "1            Plot  Area  Ready To Move          Chikka Tirupathi  4 Bedroom   \n",
       "2        Built-up  Area  Ready To Move               Uttarahalli      3 BHK   \n",
       "3  Super built-up  Area  Ready To Move        Lingadheeranahalli      3 BHK   \n",
       "4  Super built-up  Area  Ready To Move                  Kothanur      2 BHK   \n",
       "\n",
       "   society total_sqft  bath  balcony   price  \n",
       "0  Coomee        1056   2.0      1.0   39.07  \n",
       "1  Theanmp       2600   5.0      3.0  120.00  \n",
       "2      NaN       1440   2.0      3.0   62.00  \n",
       "3  Soiewre       1521   3.0      1.0   95.00  \n",
       "4      NaN       1200   2.0      1.0   51.00  "
      ]
     },
     "execution_count": 285,
     "metadata": {},
     "output_type": "execute_result"
    }
   ],
   "source": [
    "df = pd.read_csv('bengaluru_house_prices.csv')\n",
    "df.head()"
   ]
  },
  {
   "cell_type": "code",
   "execution_count": 286,
   "id": "0b15db5c",
   "metadata": {
    "colab": {
     "base_uri": "https://localhost:8080/"
    },
    "id": "0b15db5c",
    "outputId": "d57d2cae-871c-4c5b-ce65-0c906a7f313d"
   },
   "outputs": [
    {
     "data": {
      "text/plain": [
       "Index(['area_type', 'availability', 'location', 'size', 'society',\n",
       "       'total_sqft', 'bath', 'balcony', 'price'],\n",
       "      dtype='object')"
      ]
     },
     "execution_count": 286,
     "metadata": {},
     "output_type": "execute_result"
    }
   ],
   "source": [
    "df.columns"
   ]
  },
  {
   "cell_type": "code",
   "execution_count": 287,
   "id": "ecab64e7",
   "metadata": {
    "colab": {
     "base_uri": "https://localhost:8080/"
    },
    "id": "ecab64e7",
    "outputId": "4a78e741-fba0-411b-c62c-357670b7e996"
   },
   "outputs": [
    {
     "data": {
      "text/plain": [
       "(13320, 9)"
      ]
     },
     "execution_count": 287,
     "metadata": {},
     "output_type": "execute_result"
    }
   ],
   "source": [
    "df.shape"
   ]
  },
  {
   "cell_type": "code",
   "execution_count": 288,
   "id": "6849e4cd",
   "metadata": {
    "colab": {
     "base_uri": "https://localhost:8080/"
    },
    "id": "6849e4cd",
    "outputId": "33b91ce5-5995-41d6-8d91-00f307026236"
   },
   "outputs": [
    {
     "data": {
      "text/plain": [
       "area_type          0\n",
       "availability       0\n",
       "location           1\n",
       "size              16\n",
       "society         5502\n",
       "total_sqft         0\n",
       "bath              73\n",
       "balcony          609\n",
       "price              0\n",
       "dtype: int64"
      ]
     },
     "execution_count": 288,
     "metadata": {},
     "output_type": "execute_result"
    }
   ],
   "source": [
    "df.isnull().sum()"
   ]
  },
  {
   "cell_type": "code",
   "execution_count": 289,
   "id": "62d9ba76",
   "metadata": {
    "id": "62d9ba76"
   },
   "outputs": [],
   "source": [
    "# removing area,availability,society,balcony columns.society,balcony columns having so many missing values.by seeing area_type,availability\n",
    "#columns it does not look like add any value in price prediction\n",
    "\n",
    "df.drop(columns = ['area_type','availability','society','balcony'],inplace=True)"
   ]
  },
  {
   "cell_type": "code",
   "execution_count": 290,
   "id": "2362973e",
   "metadata": {
    "colab": {
     "base_uri": "https://localhost:8080/",
     "height": 206
    },
    "id": "2362973e",
    "outputId": "2762ae83-fc2c-4a6e-a408-9a033e542184"
   },
   "outputs": [
    {
     "data": {
      "text/html": [
       "\n",
       "  <div id=\"df-740332b8-c3f6-42a8-87a3-7fab85c4e7b1\">\n",
       "    <div class=\"colab-df-container\">\n",
       "      <div>\n",
       "<style scoped>\n",
       "    .dataframe tbody tr th:only-of-type {\n",
       "        vertical-align: middle;\n",
       "    }\n",
       "\n",
       "    .dataframe tbody tr th {\n",
       "        vertical-align: top;\n",
       "    }\n",
       "\n",
       "    .dataframe thead th {\n",
       "        text-align: right;\n",
       "    }\n",
       "</style>\n",
       "<table border=\"1\" class=\"dataframe\">\n",
       "  <thead>\n",
       "    <tr style=\"text-align: right;\">\n",
       "      <th></th>\n",
       "      <th>location</th>\n",
       "      <th>size</th>\n",
       "      <th>total_sqft</th>\n",
       "      <th>bath</th>\n",
       "      <th>price</th>\n",
       "    </tr>\n",
       "  </thead>\n",
       "  <tbody>\n",
       "    <tr>\n",
       "      <th>0</th>\n",
       "      <td>Electronic City Phase II</td>\n",
       "      <td>2 BHK</td>\n",
       "      <td>1056</td>\n",
       "      <td>2.0</td>\n",
       "      <td>39.07</td>\n",
       "    </tr>\n",
       "    <tr>\n",
       "      <th>1</th>\n",
       "      <td>Chikka Tirupathi</td>\n",
       "      <td>4 Bedroom</td>\n",
       "      <td>2600</td>\n",
       "      <td>5.0</td>\n",
       "      <td>120.00</td>\n",
       "    </tr>\n",
       "    <tr>\n",
       "      <th>2</th>\n",
       "      <td>Uttarahalli</td>\n",
       "      <td>3 BHK</td>\n",
       "      <td>1440</td>\n",
       "      <td>2.0</td>\n",
       "      <td>62.00</td>\n",
       "    </tr>\n",
       "    <tr>\n",
       "      <th>3</th>\n",
       "      <td>Lingadheeranahalli</td>\n",
       "      <td>3 BHK</td>\n",
       "      <td>1521</td>\n",
       "      <td>3.0</td>\n",
       "      <td>95.00</td>\n",
       "    </tr>\n",
       "    <tr>\n",
       "      <th>4</th>\n",
       "      <td>Kothanur</td>\n",
       "      <td>2 BHK</td>\n",
       "      <td>1200</td>\n",
       "      <td>2.0</td>\n",
       "      <td>51.00</td>\n",
       "    </tr>\n",
       "  </tbody>\n",
       "</table>\n",
       "</div>\n",
       "      <button class=\"colab-df-convert\" onclick=\"convertToInteractive('df-740332b8-c3f6-42a8-87a3-7fab85c4e7b1')\"\n",
       "              title=\"Convert this dataframe to an interactive table.\"\n",
       "              style=\"display:none;\">\n",
       "        \n",
       "  <svg xmlns=\"http://www.w3.org/2000/svg\" height=\"24px\"viewBox=\"0 0 24 24\"\n",
       "       width=\"24px\">\n",
       "    <path d=\"M0 0h24v24H0V0z\" fill=\"none\"/>\n",
       "    <path d=\"M18.56 5.44l.94 2.06.94-2.06 2.06-.94-2.06-.94-.94-2.06-.94 2.06-2.06.94zm-11 1L8.5 8.5l.94-2.06 2.06-.94-2.06-.94L8.5 2.5l-.94 2.06-2.06.94zm10 10l.94 2.06.94-2.06 2.06-.94-2.06-.94-.94-2.06-.94 2.06-2.06.94z\"/><path d=\"M17.41 7.96l-1.37-1.37c-.4-.4-.92-.59-1.43-.59-.52 0-1.04.2-1.43.59L10.3 9.45l-7.72 7.72c-.78.78-.78 2.05 0 2.83L4 21.41c.39.39.9.59 1.41.59.51 0 1.02-.2 1.41-.59l7.78-7.78 2.81-2.81c.8-.78.8-2.07 0-2.86zM5.41 20L4 18.59l7.72-7.72 1.47 1.35L5.41 20z\"/>\n",
       "  </svg>\n",
       "      </button>\n",
       "      \n",
       "  <style>\n",
       "    .colab-df-container {\n",
       "      display:flex;\n",
       "      flex-wrap:wrap;\n",
       "      gap: 12px;\n",
       "    }\n",
       "\n",
       "    .colab-df-convert {\n",
       "      background-color: #E8F0FE;\n",
       "      border: none;\n",
       "      border-radius: 50%;\n",
       "      cursor: pointer;\n",
       "      display: none;\n",
       "      fill: #1967D2;\n",
       "      height: 32px;\n",
       "      padding: 0 0 0 0;\n",
       "      width: 32px;\n",
       "    }\n",
       "\n",
       "    .colab-df-convert:hover {\n",
       "      background-color: #E2EBFA;\n",
       "      box-shadow: 0px 1px 2px rgba(60, 64, 67, 0.3), 0px 1px 3px 1px rgba(60, 64, 67, 0.15);\n",
       "      fill: #174EA6;\n",
       "    }\n",
       "\n",
       "    [theme=dark] .colab-df-convert {\n",
       "      background-color: #3B4455;\n",
       "      fill: #D2E3FC;\n",
       "    }\n",
       "\n",
       "    [theme=dark] .colab-df-convert:hover {\n",
       "      background-color: #434B5C;\n",
       "      box-shadow: 0px 1px 3px 1px rgba(0, 0, 0, 0.15);\n",
       "      filter: drop-shadow(0px 1px 2px rgba(0, 0, 0, 0.3));\n",
       "      fill: #FFFFFF;\n",
       "    }\n",
       "  </style>\n",
       "\n",
       "      <script>\n",
       "        const buttonEl =\n",
       "          document.querySelector('#df-740332b8-c3f6-42a8-87a3-7fab85c4e7b1 button.colab-df-convert');\n",
       "        buttonEl.style.display =\n",
       "          google.colab.kernel.accessAllowed ? 'block' : 'none';\n",
       "\n",
       "        async function convertToInteractive(key) {\n",
       "          const element = document.querySelector('#df-740332b8-c3f6-42a8-87a3-7fab85c4e7b1');\n",
       "          const dataTable =\n",
       "            await google.colab.kernel.invokeFunction('convertToInteractive',\n",
       "                                                     [key], {});\n",
       "          if (!dataTable) return;\n",
       "\n",
       "          const docLinkHtml = 'Like what you see? Visit the ' +\n",
       "            '<a target=\"_blank\" href=https://colab.research.google.com/notebooks/data_table.ipynb>data table notebook</a>'\n",
       "            + ' to learn more about interactive tables.';\n",
       "          element.innerHTML = '';\n",
       "          dataTable['output_type'] = 'display_data';\n",
       "          await google.colab.output.renderOutput(dataTable, element);\n",
       "          const docLink = document.createElement('div');\n",
       "          docLink.innerHTML = docLinkHtml;\n",
       "          element.appendChild(docLink);\n",
       "        }\n",
       "      </script>\n",
       "    </div>\n",
       "  </div>\n",
       "  "
      ],
      "text/plain": [
       "                   location       size total_sqft  bath   price\n",
       "0  Electronic City Phase II      2 BHK       1056   2.0   39.07\n",
       "1          Chikka Tirupathi  4 Bedroom       2600   5.0  120.00\n",
       "2               Uttarahalli      3 BHK       1440   2.0   62.00\n",
       "3        Lingadheeranahalli      3 BHK       1521   3.0   95.00\n",
       "4                  Kothanur      2 BHK       1200   2.0   51.00"
      ]
     },
     "execution_count": 290,
     "metadata": {},
     "output_type": "execute_result"
    }
   ],
   "source": [
    "df.head()"
   ]
  },
  {
   "cell_type": "code",
   "execution_count": 291,
   "id": "b7c8a983",
   "metadata": {
    "colab": {
     "base_uri": "https://localhost:8080/"
    },
    "id": "b7c8a983",
    "outputId": "bfe37708-a9c0-4e73-96a4-277d6f898b5c"
   },
   "outputs": [
    {
     "data": {
      "text/plain": [
       "882"
      ]
     },
     "execution_count": 291,
     "metadata": {},
     "output_type": "execute_result"
    }
   ],
   "source": [
    "# checking for duplicated rows\n",
    "\n",
    "df.duplicated().sum()"
   ]
  },
  {
   "cell_type": "code",
   "execution_count": 292,
   "id": "ea8220eb",
   "metadata": {
    "id": "ea8220eb"
   },
   "outputs": [],
   "source": [
    "# droping duplicated values\n",
    "\n",
    "df.drop_duplicates(inplace=True)"
   ]
  },
  {
   "cell_type": "code",
   "execution_count": 293,
   "id": "93cc6dab",
   "metadata": {
    "colab": {
     "base_uri": "https://localhost:8080/"
    },
    "id": "93cc6dab",
    "outputId": "0f9108f1-8897-4223-8709-bc96ad2b2606"
   },
   "outputs": [
    {
     "data": {
      "text/plain": [
       "(12438, 5)"
      ]
     },
     "execution_count": 293,
     "metadata": {},
     "output_type": "execute_result"
    }
   ],
   "source": [
    "df.shape"
   ]
  },
  {
   "cell_type": "code",
   "execution_count": 294,
   "id": "0bdd8c46",
   "metadata": {
    "colab": {
     "base_uri": "https://localhost:8080/"
    },
    "id": "0bdd8c46",
    "outputId": "db3c3a11-eca2-4315-b14f-c3fa385ec276"
   },
   "outputs": [
    {
     "name": "stdout",
     "output_type": "stream",
     "text": [
      "<class 'pandas.core.frame.DataFrame'>\n",
      "Int64Index: 12438 entries, 0 to 13318\n",
      "Data columns (total 5 columns):\n",
      " #   Column      Non-Null Count  Dtype  \n",
      "---  ------      --------------  -----  \n",
      " 0   location    12437 non-null  object \n",
      " 1   size        12422 non-null  object \n",
      " 2   total_sqft  12438 non-null  object \n",
      " 3   bath        12366 non-null  float64\n",
      " 4   price       12438 non-null  float64\n",
      "dtypes: float64(2), object(3)\n",
      "memory usage: 583.0+ KB\n"
     ]
    }
   ],
   "source": [
    "df.info()"
   ]
  },
  {
   "cell_type": "markdown",
   "id": "94033769",
   "metadata": {
    "id": "94033769"
   },
   "source": [
    "### handling NA values"
   ]
  },
  {
   "cell_type": "code",
   "execution_count": 295,
   "id": "0dcc3979",
   "metadata": {
    "colab": {
     "base_uri": "https://localhost:8080/",
     "height": 206
    },
    "id": "0dcc3979",
    "outputId": "7770aaa4-3663-4202-940a-6fc54b9f3c7c"
   },
   "outputs": [
    {
     "data": {
      "text/html": [
       "\n",
       "  <div id=\"df-223fcb06-2429-43b0-8191-43bf4bd05677\">\n",
       "    <div class=\"colab-df-container\">\n",
       "      <div>\n",
       "<style scoped>\n",
       "    .dataframe tbody tr th:only-of-type {\n",
       "        vertical-align: middle;\n",
       "    }\n",
       "\n",
       "    .dataframe tbody tr th {\n",
       "        vertical-align: top;\n",
       "    }\n",
       "\n",
       "    .dataframe thead th {\n",
       "        text-align: right;\n",
       "    }\n",
       "</style>\n",
       "<table border=\"1\" class=\"dataframe\">\n",
       "  <thead>\n",
       "    <tr style=\"text-align: right;\">\n",
       "      <th></th>\n",
       "      <th>location</th>\n",
       "      <th>size</th>\n",
       "      <th>total_sqft</th>\n",
       "      <th>bath</th>\n",
       "      <th>price</th>\n",
       "    </tr>\n",
       "  </thead>\n",
       "  <tbody>\n",
       "    <tr>\n",
       "      <th>0</th>\n",
       "      <td>Electronic City Phase II</td>\n",
       "      <td>2 BHK</td>\n",
       "      <td>1056</td>\n",
       "      <td>2.0</td>\n",
       "      <td>39.07</td>\n",
       "    </tr>\n",
       "    <tr>\n",
       "      <th>1</th>\n",
       "      <td>Chikka Tirupathi</td>\n",
       "      <td>4 Bedroom</td>\n",
       "      <td>2600</td>\n",
       "      <td>5.0</td>\n",
       "      <td>120.00</td>\n",
       "    </tr>\n",
       "    <tr>\n",
       "      <th>2</th>\n",
       "      <td>Uttarahalli</td>\n",
       "      <td>3 BHK</td>\n",
       "      <td>1440</td>\n",
       "      <td>2.0</td>\n",
       "      <td>62.00</td>\n",
       "    </tr>\n",
       "    <tr>\n",
       "      <th>3</th>\n",
       "      <td>Lingadheeranahalli</td>\n",
       "      <td>3 BHK</td>\n",
       "      <td>1521</td>\n",
       "      <td>3.0</td>\n",
       "      <td>95.00</td>\n",
       "    </tr>\n",
       "    <tr>\n",
       "      <th>4</th>\n",
       "      <td>Kothanur</td>\n",
       "      <td>2 BHK</td>\n",
       "      <td>1200</td>\n",
       "      <td>2.0</td>\n",
       "      <td>51.00</td>\n",
       "    </tr>\n",
       "  </tbody>\n",
       "</table>\n",
       "</div>\n",
       "      <button class=\"colab-df-convert\" onclick=\"convertToInteractive('df-223fcb06-2429-43b0-8191-43bf4bd05677')\"\n",
       "              title=\"Convert this dataframe to an interactive table.\"\n",
       "              style=\"display:none;\">\n",
       "        \n",
       "  <svg xmlns=\"http://www.w3.org/2000/svg\" height=\"24px\"viewBox=\"0 0 24 24\"\n",
       "       width=\"24px\">\n",
       "    <path d=\"M0 0h24v24H0V0z\" fill=\"none\"/>\n",
       "    <path d=\"M18.56 5.44l.94 2.06.94-2.06 2.06-.94-2.06-.94-.94-2.06-.94 2.06-2.06.94zm-11 1L8.5 8.5l.94-2.06 2.06-.94-2.06-.94L8.5 2.5l-.94 2.06-2.06.94zm10 10l.94 2.06.94-2.06 2.06-.94-2.06-.94-.94-2.06-.94 2.06-2.06.94z\"/><path d=\"M17.41 7.96l-1.37-1.37c-.4-.4-.92-.59-1.43-.59-.52 0-1.04.2-1.43.59L10.3 9.45l-7.72 7.72c-.78.78-.78 2.05 0 2.83L4 21.41c.39.39.9.59 1.41.59.51 0 1.02-.2 1.41-.59l7.78-7.78 2.81-2.81c.8-.78.8-2.07 0-2.86zM5.41 20L4 18.59l7.72-7.72 1.47 1.35L5.41 20z\"/>\n",
       "  </svg>\n",
       "      </button>\n",
       "      \n",
       "  <style>\n",
       "    .colab-df-container {\n",
       "      display:flex;\n",
       "      flex-wrap:wrap;\n",
       "      gap: 12px;\n",
       "    }\n",
       "\n",
       "    .colab-df-convert {\n",
       "      background-color: #E8F0FE;\n",
       "      border: none;\n",
       "      border-radius: 50%;\n",
       "      cursor: pointer;\n",
       "      display: none;\n",
       "      fill: #1967D2;\n",
       "      height: 32px;\n",
       "      padding: 0 0 0 0;\n",
       "      width: 32px;\n",
       "    }\n",
       "\n",
       "    .colab-df-convert:hover {\n",
       "      background-color: #E2EBFA;\n",
       "      box-shadow: 0px 1px 2px rgba(60, 64, 67, 0.3), 0px 1px 3px 1px rgba(60, 64, 67, 0.15);\n",
       "      fill: #174EA6;\n",
       "    }\n",
       "\n",
       "    [theme=dark] .colab-df-convert {\n",
       "      background-color: #3B4455;\n",
       "      fill: #D2E3FC;\n",
       "    }\n",
       "\n",
       "    [theme=dark] .colab-df-convert:hover {\n",
       "      background-color: #434B5C;\n",
       "      box-shadow: 0px 1px 3px 1px rgba(0, 0, 0, 0.15);\n",
       "      filter: drop-shadow(0px 1px 2px rgba(0, 0, 0, 0.3));\n",
       "      fill: #FFFFFF;\n",
       "    }\n",
       "  </style>\n",
       "\n",
       "      <script>\n",
       "        const buttonEl =\n",
       "          document.querySelector('#df-223fcb06-2429-43b0-8191-43bf4bd05677 button.colab-df-convert');\n",
       "        buttonEl.style.display =\n",
       "          google.colab.kernel.accessAllowed ? 'block' : 'none';\n",
       "\n",
       "        async function convertToInteractive(key) {\n",
       "          const element = document.querySelector('#df-223fcb06-2429-43b0-8191-43bf4bd05677');\n",
       "          const dataTable =\n",
       "            await google.colab.kernel.invokeFunction('convertToInteractive',\n",
       "                                                     [key], {});\n",
       "          if (!dataTable) return;\n",
       "\n",
       "          const docLinkHtml = 'Like what you see? Visit the ' +\n",
       "            '<a target=\"_blank\" href=https://colab.research.google.com/notebooks/data_table.ipynb>data table notebook</a>'\n",
       "            + ' to learn more about interactive tables.';\n",
       "          element.innerHTML = '';\n",
       "          dataTable['output_type'] = 'display_data';\n",
       "          await google.colab.output.renderOutput(dataTable, element);\n",
       "          const docLink = document.createElement('div');\n",
       "          docLink.innerHTML = docLinkHtml;\n",
       "          element.appendChild(docLink);\n",
       "        }\n",
       "      </script>\n",
       "    </div>\n",
       "  </div>\n",
       "  "
      ],
      "text/plain": [
       "                   location       size total_sqft  bath   price\n",
       "0  Electronic City Phase II      2 BHK       1056   2.0   39.07\n",
       "1          Chikka Tirupathi  4 Bedroom       2600   5.0  120.00\n",
       "2               Uttarahalli      3 BHK       1440   2.0   62.00\n",
       "3        Lingadheeranahalli      3 BHK       1521   3.0   95.00\n",
       "4                  Kothanur      2 BHK       1200   2.0   51.00"
      ]
     },
     "execution_count": 295,
     "metadata": {},
     "output_type": "execute_result"
    }
   ],
   "source": [
    "df.head()"
   ]
  },
  {
   "cell_type": "code",
   "execution_count": 296,
   "id": "6218ca76",
   "metadata": {
    "id": "6218ca76"
   },
   "outputs": [],
   "source": [
    "catvars = df.select_dtypes(include=['object']).columns\n",
    "numvars = df.select_dtypes(include = ['int32','int64','float32','float64']).columns"
   ]
  },
  {
   "cell_type": "code",
   "execution_count": 297,
   "id": "c7566d7d",
   "metadata": {
    "colab": {
     "base_uri": "https://localhost:8080/"
    },
    "id": "c7566d7d",
    "outputId": "26456450-5f09-4435-d7c9-0097f57b7172"
   },
   "outputs": [
    {
     "data": {
      "text/plain": [
       "Index(['location', 'size', 'total_sqft'], dtype='object')"
      ]
     },
     "execution_count": 297,
     "metadata": {},
     "output_type": "execute_result"
    }
   ],
   "source": [
    "catvars"
   ]
  },
  {
   "cell_type": "code",
   "execution_count": 298,
   "id": "e613b233",
   "metadata": {
    "colab": {
     "base_uri": "https://localhost:8080/"
    },
    "id": "e613b233",
    "outputId": "49c7edd1-8a82-4e85-91f6-05fc882caefd"
   },
   "outputs": [
    {
     "data": {
      "text/plain": [
       "Index(['bath', 'price'], dtype='object')"
      ]
     },
     "execution_count": 298,
     "metadata": {},
     "output_type": "execute_result"
    }
   ],
   "source": [
    "numvars"
   ]
  },
  {
   "cell_type": "code",
   "execution_count": 299,
   "id": "1c3969c6",
   "metadata": {
    "colab": {
     "base_uri": "https://localhost:8080/"
    },
    "id": "1c3969c6",
    "outputId": "695f858b-90da-4f57-9683-43117f168e7d"
   },
   "outputs": [
    {
     "name": "stdout",
     "output_type": "stream",
     "text": [
      "Details of the particular col location is : ['Electronic City Phase II' 'Chikka Tirupathi' 'Uttarahalli' ...\n",
      " '12th cross srinivas nagar banshankari 3rd stage' 'Havanur extension'\n",
      " 'Abshot Layout']\n",
      "Valuecounts of the particular col location is : Whitefield                        507\n",
      "Sarjapur  Road                    364\n",
      "Electronic City                   273\n",
      "Thanisandra                       224\n",
      "Kanakpura Road                    223\n",
      "                                 ... \n",
      "1st Stage Radha Krishna Layout      1\n",
      "BEML Layout 5th stage               1\n",
      "singapura paradise                  1\n",
      "Uvce Layout                         1\n",
      "Abshot Layout                       1\n",
      "Name: location, Length: 1305, dtype: int64\n",
      "---------------------------------------------------------------------------\n",
      "Details of the particular col size is : ['2 BHK' '4 Bedroom' '3 BHK' '4 BHK' '6 Bedroom' '3 Bedroom' '1 BHK'\n",
      " '1 RK' '1 Bedroom' '8 Bedroom' '2 Bedroom' '7 Bedroom' '5 BHK' '7 BHK'\n",
      " '6 BHK' '5 Bedroom' '11 BHK' '9 BHK' nan '9 Bedroom' '27 BHK'\n",
      " '10 Bedroom' '11 Bedroom' '10 BHK' '19 BHK' '16 BHK' '43 Bedroom'\n",
      " '14 BHK' '8 BHK' '12 Bedroom' '13 BHK' '18 Bedroom']\n",
      "Valuecounts of the particular col size is : 2 BHK         4768\n",
      "3 BHK         3988\n",
      "4 Bedroom      819\n",
      "4 BHK          562\n",
      "3 Bedroom      527\n",
      "1 BHK          507\n",
      "2 Bedroom      303\n",
      "5 Bedroom      288\n",
      "6 Bedroom      191\n",
      "1 Bedroom      100\n",
      "8 Bedroom       84\n",
      "7 Bedroom       82\n",
      "5 BHK           59\n",
      "9 Bedroom       46\n",
      "6 BHK           30\n",
      "7 BHK           17\n",
      "1 RK            12\n",
      "10 Bedroom      12\n",
      "9 BHK            8\n",
      "8 BHK            5\n",
      "11 BHK           2\n",
      "11 Bedroom       2\n",
      "10 BHK           2\n",
      "14 BHK           1\n",
      "13 BHK           1\n",
      "12 Bedroom       1\n",
      "27 BHK           1\n",
      "43 Bedroom       1\n",
      "16 BHK           1\n",
      "19 BHK           1\n",
      "18 Bedroom       1\n",
      "Name: size, dtype: int64\n",
      "---------------------------------------------------------------------------\n",
      "Details of the particular col total_sqft is : ['1056' '2600' '1440' ... '1133 - 1384' '774' '4689']\n",
      "Valuecounts of the particular col total_sqft is : 1200           774\n",
      "1100           203\n",
      "1500           201\n",
      "2400           194\n",
      "600            177\n",
      "              ... \n",
      "2493             1\n",
      "2466 - 2856      1\n",
      "3580             1\n",
      "2461             1\n",
      "4689             1\n",
      "Name: total_sqft, Length: 2117, dtype: int64\n",
      "---------------------------------------------------------------------------\n"
     ]
    }
   ],
   "source": [
    "def uniquevals(col):\n",
    "    print(f'Details of the particular col {col} is : {df[col].unique()}')\n",
    "\n",
    "def valuecounts(col):\n",
    "    print(f'Valuecounts of the particular col {col} is : {df[col].value_counts()}')\n",
    "\n",
    "\n",
    "for col in catvars:\n",
    "    uniquevals(col)\n",
    "    valuecounts(col)\n",
    "    print(\"-\"*75)"
   ]
  },
  {
   "cell_type": "code",
   "execution_count": 300,
   "id": "ae442f2f",
   "metadata": {
    "colab": {
     "base_uri": "https://localhost:8080/",
     "height": 300
    },
    "id": "ae442f2f",
    "outputId": "69149772-f430-4ee6-a36f-3606a988d589"
   },
   "outputs": [
    {
     "data": {
      "text/html": [
       "\n",
       "  <div id=\"df-f1e68b2d-cd7e-428d-917d-64eef29e9a19\">\n",
       "    <div class=\"colab-df-container\">\n",
       "      <div>\n",
       "<style scoped>\n",
       "    .dataframe tbody tr th:only-of-type {\n",
       "        vertical-align: middle;\n",
       "    }\n",
       "\n",
       "    .dataframe tbody tr th {\n",
       "        vertical-align: top;\n",
       "    }\n",
       "\n",
       "    .dataframe thead th {\n",
       "        text-align: right;\n",
       "    }\n",
       "</style>\n",
       "<table border=\"1\" class=\"dataframe\">\n",
       "  <thead>\n",
       "    <tr style=\"text-align: right;\">\n",
       "      <th></th>\n",
       "      <th>bath</th>\n",
       "      <th>price</th>\n",
       "    </tr>\n",
       "  </thead>\n",
       "  <tbody>\n",
       "    <tr>\n",
       "      <th>count</th>\n",
       "      <td>12366.000000</td>\n",
       "      <td>12438.000000</td>\n",
       "    </tr>\n",
       "    <tr>\n",
       "      <th>mean</th>\n",
       "      <td>2.719715</td>\n",
       "      <td>115.408159</td>\n",
       "    </tr>\n",
       "    <tr>\n",
       "      <th>std</th>\n",
       "      <td>1.369902</td>\n",
       "      <td>153.069125</td>\n",
       "    </tr>\n",
       "    <tr>\n",
       "      <th>min</th>\n",
       "      <td>1.000000</td>\n",
       "      <td>8.000000</td>\n",
       "    </tr>\n",
       "    <tr>\n",
       "      <th>25%</th>\n",
       "      <td>2.000000</td>\n",
       "      <td>50.000000</td>\n",
       "    </tr>\n",
       "    <tr>\n",
       "      <th>50%</th>\n",
       "      <td>2.000000</td>\n",
       "      <td>74.000000</td>\n",
       "    </tr>\n",
       "    <tr>\n",
       "      <th>75%</th>\n",
       "      <td>3.000000</td>\n",
       "      <td>125.000000</td>\n",
       "    </tr>\n",
       "    <tr>\n",
       "      <th>max</th>\n",
       "      <td>40.000000</td>\n",
       "      <td>3600.000000</td>\n",
       "    </tr>\n",
       "  </tbody>\n",
       "</table>\n",
       "</div>\n",
       "      <button class=\"colab-df-convert\" onclick=\"convertToInteractive('df-f1e68b2d-cd7e-428d-917d-64eef29e9a19')\"\n",
       "              title=\"Convert this dataframe to an interactive table.\"\n",
       "              style=\"display:none;\">\n",
       "        \n",
       "  <svg xmlns=\"http://www.w3.org/2000/svg\" height=\"24px\"viewBox=\"0 0 24 24\"\n",
       "       width=\"24px\">\n",
       "    <path d=\"M0 0h24v24H0V0z\" fill=\"none\"/>\n",
       "    <path d=\"M18.56 5.44l.94 2.06.94-2.06 2.06-.94-2.06-.94-.94-2.06-.94 2.06-2.06.94zm-11 1L8.5 8.5l.94-2.06 2.06-.94-2.06-.94L8.5 2.5l-.94 2.06-2.06.94zm10 10l.94 2.06.94-2.06 2.06-.94-2.06-.94-.94-2.06-.94 2.06-2.06.94z\"/><path d=\"M17.41 7.96l-1.37-1.37c-.4-.4-.92-.59-1.43-.59-.52 0-1.04.2-1.43.59L10.3 9.45l-7.72 7.72c-.78.78-.78 2.05 0 2.83L4 21.41c.39.39.9.59 1.41.59.51 0 1.02-.2 1.41-.59l7.78-7.78 2.81-2.81c.8-.78.8-2.07 0-2.86zM5.41 20L4 18.59l7.72-7.72 1.47 1.35L5.41 20z\"/>\n",
       "  </svg>\n",
       "      </button>\n",
       "      \n",
       "  <style>\n",
       "    .colab-df-container {\n",
       "      display:flex;\n",
       "      flex-wrap:wrap;\n",
       "      gap: 12px;\n",
       "    }\n",
       "\n",
       "    .colab-df-convert {\n",
       "      background-color: #E8F0FE;\n",
       "      border: none;\n",
       "      border-radius: 50%;\n",
       "      cursor: pointer;\n",
       "      display: none;\n",
       "      fill: #1967D2;\n",
       "      height: 32px;\n",
       "      padding: 0 0 0 0;\n",
       "      width: 32px;\n",
       "    }\n",
       "\n",
       "    .colab-df-convert:hover {\n",
       "      background-color: #E2EBFA;\n",
       "      box-shadow: 0px 1px 2px rgba(60, 64, 67, 0.3), 0px 1px 3px 1px rgba(60, 64, 67, 0.15);\n",
       "      fill: #174EA6;\n",
       "    }\n",
       "\n",
       "    [theme=dark] .colab-df-convert {\n",
       "      background-color: #3B4455;\n",
       "      fill: #D2E3FC;\n",
       "    }\n",
       "\n",
       "    [theme=dark] .colab-df-convert:hover {\n",
       "      background-color: #434B5C;\n",
       "      box-shadow: 0px 1px 3px 1px rgba(0, 0, 0, 0.15);\n",
       "      filter: drop-shadow(0px 1px 2px rgba(0, 0, 0, 0.3));\n",
       "      fill: #FFFFFF;\n",
       "    }\n",
       "  </style>\n",
       "\n",
       "      <script>\n",
       "        const buttonEl =\n",
       "          document.querySelector('#df-f1e68b2d-cd7e-428d-917d-64eef29e9a19 button.colab-df-convert');\n",
       "        buttonEl.style.display =\n",
       "          google.colab.kernel.accessAllowed ? 'block' : 'none';\n",
       "\n",
       "        async function convertToInteractive(key) {\n",
       "          const element = document.querySelector('#df-f1e68b2d-cd7e-428d-917d-64eef29e9a19');\n",
       "          const dataTable =\n",
       "            await google.colab.kernel.invokeFunction('convertToInteractive',\n",
       "                                                     [key], {});\n",
       "          if (!dataTable) return;\n",
       "\n",
       "          const docLinkHtml = 'Like what you see? Visit the ' +\n",
       "            '<a target=\"_blank\" href=https://colab.research.google.com/notebooks/data_table.ipynb>data table notebook</a>'\n",
       "            + ' to learn more about interactive tables.';\n",
       "          element.innerHTML = '';\n",
       "          dataTable['output_type'] = 'display_data';\n",
       "          await google.colab.output.renderOutput(dataTable, element);\n",
       "          const docLink = document.createElement('div');\n",
       "          docLink.innerHTML = docLinkHtml;\n",
       "          element.appendChild(docLink);\n",
       "        }\n",
       "      </script>\n",
       "    </div>\n",
       "  </div>\n",
       "  "
      ],
      "text/plain": [
       "               bath         price\n",
       "count  12366.000000  12438.000000\n",
       "mean       2.719715    115.408159\n",
       "std        1.369902    153.069125\n",
       "min        1.000000      8.000000\n",
       "25%        2.000000     50.000000\n",
       "50%        2.000000     74.000000\n",
       "75%        3.000000    125.000000\n",
       "max       40.000000   3600.000000"
      ]
     },
     "execution_count": 300,
     "metadata": {},
     "output_type": "execute_result"
    }
   ],
   "source": [
    "df.describe()"
   ]
  },
  {
   "cell_type": "code",
   "execution_count": 301,
   "id": "67fdc408",
   "metadata": {
    "colab": {
     "base_uri": "https://localhost:8080/",
     "height": 206
    },
    "id": "67fdc408",
    "outputId": "44d0b4ee-1731-42f4-af45-f252c340f99c"
   },
   "outputs": [
    {
     "data": {
      "text/html": [
       "\n",
       "  <div id=\"df-39ee3893-64df-4343-8222-8ecbe4b42428\">\n",
       "    <div class=\"colab-df-container\">\n",
       "      <div>\n",
       "<style scoped>\n",
       "    .dataframe tbody tr th:only-of-type {\n",
       "        vertical-align: middle;\n",
       "    }\n",
       "\n",
       "    .dataframe tbody tr th {\n",
       "        vertical-align: top;\n",
       "    }\n",
       "\n",
       "    .dataframe thead th {\n",
       "        text-align: right;\n",
       "    }\n",
       "</style>\n",
       "<table border=\"1\" class=\"dataframe\">\n",
       "  <thead>\n",
       "    <tr style=\"text-align: right;\">\n",
       "      <th></th>\n",
       "      <th>location</th>\n",
       "      <th>size</th>\n",
       "      <th>total_sqft</th>\n",
       "      <th>bath</th>\n",
       "      <th>price</th>\n",
       "    </tr>\n",
       "  </thead>\n",
       "  <tbody>\n",
       "    <tr>\n",
       "      <th>0</th>\n",
       "      <td>Electronic City Phase II</td>\n",
       "      <td>2</td>\n",
       "      <td>1056</td>\n",
       "      <td>2.0</td>\n",
       "      <td>39.07</td>\n",
       "    </tr>\n",
       "    <tr>\n",
       "      <th>1</th>\n",
       "      <td>Chikka Tirupathi</td>\n",
       "      <td>4</td>\n",
       "      <td>2600</td>\n",
       "      <td>5.0</td>\n",
       "      <td>120.00</td>\n",
       "    </tr>\n",
       "    <tr>\n",
       "      <th>2</th>\n",
       "      <td>Uttarahalli</td>\n",
       "      <td>3</td>\n",
       "      <td>1440</td>\n",
       "      <td>2.0</td>\n",
       "      <td>62.00</td>\n",
       "    </tr>\n",
       "    <tr>\n",
       "      <th>3</th>\n",
       "      <td>Lingadheeranahalli</td>\n",
       "      <td>3</td>\n",
       "      <td>1521</td>\n",
       "      <td>3.0</td>\n",
       "      <td>95.00</td>\n",
       "    </tr>\n",
       "    <tr>\n",
       "      <th>4</th>\n",
       "      <td>Kothanur</td>\n",
       "      <td>2</td>\n",
       "      <td>1200</td>\n",
       "      <td>2.0</td>\n",
       "      <td>51.00</td>\n",
       "    </tr>\n",
       "  </tbody>\n",
       "</table>\n",
       "</div>\n",
       "      <button class=\"colab-df-convert\" onclick=\"convertToInteractive('df-39ee3893-64df-4343-8222-8ecbe4b42428')\"\n",
       "              title=\"Convert this dataframe to an interactive table.\"\n",
       "              style=\"display:none;\">\n",
       "        \n",
       "  <svg xmlns=\"http://www.w3.org/2000/svg\" height=\"24px\"viewBox=\"0 0 24 24\"\n",
       "       width=\"24px\">\n",
       "    <path d=\"M0 0h24v24H0V0z\" fill=\"none\"/>\n",
       "    <path d=\"M18.56 5.44l.94 2.06.94-2.06 2.06-.94-2.06-.94-.94-2.06-.94 2.06-2.06.94zm-11 1L8.5 8.5l.94-2.06 2.06-.94-2.06-.94L8.5 2.5l-.94 2.06-2.06.94zm10 10l.94 2.06.94-2.06 2.06-.94-2.06-.94-.94-2.06-.94 2.06-2.06.94z\"/><path d=\"M17.41 7.96l-1.37-1.37c-.4-.4-.92-.59-1.43-.59-.52 0-1.04.2-1.43.59L10.3 9.45l-7.72 7.72c-.78.78-.78 2.05 0 2.83L4 21.41c.39.39.9.59 1.41.59.51 0 1.02-.2 1.41-.59l7.78-7.78 2.81-2.81c.8-.78.8-2.07 0-2.86zM5.41 20L4 18.59l7.72-7.72 1.47 1.35L5.41 20z\"/>\n",
       "  </svg>\n",
       "      </button>\n",
       "      \n",
       "  <style>\n",
       "    .colab-df-container {\n",
       "      display:flex;\n",
       "      flex-wrap:wrap;\n",
       "      gap: 12px;\n",
       "    }\n",
       "\n",
       "    .colab-df-convert {\n",
       "      background-color: #E8F0FE;\n",
       "      border: none;\n",
       "      border-radius: 50%;\n",
       "      cursor: pointer;\n",
       "      display: none;\n",
       "      fill: #1967D2;\n",
       "      height: 32px;\n",
       "      padding: 0 0 0 0;\n",
       "      width: 32px;\n",
       "    }\n",
       "\n",
       "    .colab-df-convert:hover {\n",
       "      background-color: #E2EBFA;\n",
       "      box-shadow: 0px 1px 2px rgba(60, 64, 67, 0.3), 0px 1px 3px 1px rgba(60, 64, 67, 0.15);\n",
       "      fill: #174EA6;\n",
       "    }\n",
       "\n",
       "    [theme=dark] .colab-df-convert {\n",
       "      background-color: #3B4455;\n",
       "      fill: #D2E3FC;\n",
       "    }\n",
       "\n",
       "    [theme=dark] .colab-df-convert:hover {\n",
       "      background-color: #434B5C;\n",
       "      box-shadow: 0px 1px 3px 1px rgba(0, 0, 0, 0.15);\n",
       "      filter: drop-shadow(0px 1px 2px rgba(0, 0, 0, 0.3));\n",
       "      fill: #FFFFFF;\n",
       "    }\n",
       "  </style>\n",
       "\n",
       "      <script>\n",
       "        const buttonEl =\n",
       "          document.querySelector('#df-39ee3893-64df-4343-8222-8ecbe4b42428 button.colab-df-convert');\n",
       "        buttonEl.style.display =\n",
       "          google.colab.kernel.accessAllowed ? 'block' : 'none';\n",
       "\n",
       "        async function convertToInteractive(key) {\n",
       "          const element = document.querySelector('#df-39ee3893-64df-4343-8222-8ecbe4b42428');\n",
       "          const dataTable =\n",
       "            await google.colab.kernel.invokeFunction('convertToInteractive',\n",
       "                                                     [key], {});\n",
       "          if (!dataTable) return;\n",
       "\n",
       "          const docLinkHtml = 'Like what you see? Visit the ' +\n",
       "            '<a target=\"_blank\" href=https://colab.research.google.com/notebooks/data_table.ipynb>data table notebook</a>'\n",
       "            + ' to learn more about interactive tables.';\n",
       "          element.innerHTML = '';\n",
       "          dataTable['output_type'] = 'display_data';\n",
       "          await google.colab.output.renderOutput(dataTable, element);\n",
       "          const docLink = document.createElement('div');\n",
       "          docLink.innerHTML = docLinkHtml;\n",
       "          element.appendChild(docLink);\n",
       "        }\n",
       "      </script>\n",
       "    </div>\n",
       "  </div>\n",
       "  "
      ],
      "text/plain": [
       "                   location size total_sqft  bath   price\n",
       "0  Electronic City Phase II    2       1056   2.0   39.07\n",
       "1          Chikka Tirupathi    4       2600   5.0  120.00\n",
       "2               Uttarahalli    3       1440   2.0   62.00\n",
       "3        Lingadheeranahalli    3       1521   3.0   95.00\n",
       "4                  Kothanur    2       1200   2.0   51.00"
      ]
     },
     "execution_count": 301,
     "metadata": {},
     "output_type": "execute_result"
    }
   ],
   "source": [
    "'''\n",
    "so on observation we can see that if we remove \"bedroom\" or 'BHK' from size,i can\n",
    "make it as an integer value then after\n",
    "'''\n",
    "df['size'] = df['size'].str.replace(r'\\D','')\n",
    "\n",
    "df.head()"
   ]
  },
  {
   "cell_type": "code",
   "execution_count": 302,
   "id": "f8847a21",
   "metadata": {
    "colab": {
     "base_uri": "https://localhost:8080/"
    },
    "id": "f8847a21",
    "outputId": "07e18e81-dd3e-44aa-9c66-2f4e67d8e1de"
   },
   "outputs": [
    {
     "name": "stdout",
     "output_type": "stream",
     "text": [
      "<class 'pandas.core.frame.DataFrame'>\n",
      "Int64Index: 12438 entries, 0 to 13318\n",
      "Data columns (total 5 columns):\n",
      " #   Column      Non-Null Count  Dtype  \n",
      "---  ------      --------------  -----  \n",
      " 0   location    12437 non-null  object \n",
      " 1   size        12422 non-null  object \n",
      " 2   total_sqft  12438 non-null  object \n",
      " 3   bath        12366 non-null  float64\n",
      " 4   price       12438 non-null  float64\n",
      "dtypes: float64(2), object(3)\n",
      "memory usage: 583.0+ KB\n"
     ]
    }
   ],
   "source": [
    "df.info()"
   ]
  },
  {
   "cell_type": "code",
   "execution_count": 303,
   "id": "28358217",
   "metadata": {
    "id": "28358217"
   },
   "outputs": [],
   "source": [
    "df['size'] = df['size'].fillna(df['size'].mode()[0])"
   ]
  },
  {
   "cell_type": "code",
   "execution_count": 304,
   "id": "75f56d98",
   "metadata": {
    "colab": {
     "base_uri": "https://localhost:8080/"
    },
    "id": "75f56d98",
    "outputId": "548b9f75-3b19-495d-fda8-020299ced518"
   },
   "outputs": [
    {
     "name": "stdout",
     "output_type": "stream",
     "text": [
      "<class 'pandas.core.frame.DataFrame'>\n",
      "Int64Index: 12438 entries, 0 to 13318\n",
      "Data columns (total 5 columns):\n",
      " #   Column      Non-Null Count  Dtype  \n",
      "---  ------      --------------  -----  \n",
      " 0   location    12437 non-null  object \n",
      " 1   size        12438 non-null  object \n",
      " 2   total_sqft  12438 non-null  object \n",
      " 3   bath        12366 non-null  float64\n",
      " 4   price       12438 non-null  float64\n",
      "dtypes: float64(2), object(3)\n",
      "memory usage: 583.0+ KB\n"
     ]
    }
   ],
   "source": [
    "df.info()"
   ]
  },
  {
   "cell_type": "code",
   "execution_count": 305,
   "id": "f717eae8",
   "metadata": {
    "id": "f717eae8"
   },
   "outputs": [],
   "source": [
    "df.dropna(inplace=True)"
   ]
  },
  {
   "cell_type": "code",
   "execution_count": 306,
   "id": "ed4f7525",
   "metadata": {
    "id": "ed4f7525"
   },
   "outputs": [],
   "source": [
    "df['size'] = df['size'].astype('int32')"
   ]
  },
  {
   "cell_type": "code",
   "execution_count": 307,
   "id": "f92e2ba5",
   "metadata": {
    "id": "f92e2ba5"
   },
   "outputs": [],
   "source": [
    "df['bath'] = df['bath'].astype('int32')"
   ]
  },
  {
   "cell_type": "code",
   "execution_count": 308,
   "id": "3225a5b9",
   "metadata": {
    "colab": {
     "base_uri": "https://localhost:8080/"
    },
    "id": "3225a5b9",
    "outputId": "a3bff9d1-f2a9-4de1-eba5-18e4c5d429aa"
   },
   "outputs": [
    {
     "name": "stdout",
     "output_type": "stream",
     "text": [
      "<class 'pandas.core.frame.DataFrame'>\n",
      "Int64Index: 12365 entries, 0 to 13318\n",
      "Data columns (total 5 columns):\n",
      " #   Column      Non-Null Count  Dtype  \n",
      "---  ------      --------------  -----  \n",
      " 0   location    12365 non-null  object \n",
      " 1   size        12365 non-null  int32  \n",
      " 2   total_sqft  12365 non-null  object \n",
      " 3   bath        12365 non-null  int32  \n",
      " 4   price       12365 non-null  float64\n",
      "dtypes: float64(1), int32(2), object(2)\n",
      "memory usage: 483.0+ KB\n"
     ]
    }
   ],
   "source": [
    "df.info()"
   ]
  },
  {
   "cell_type": "markdown",
   "id": "887a5d23",
   "metadata": {
    "id": "887a5d23"
   },
   "source": [
    "# Exploratory Data Analysis"
   ]
  },
  {
   "cell_type": "code",
   "execution_count": 309,
   "id": "117a68a7",
   "metadata": {
    "colab": {
     "base_uri": "https://localhost:8080/",
     "height": 411
    },
    "id": "117a68a7",
    "outputId": "fbbcd9e4-a817-439e-e2e1-96c385c094ba"
   },
   "outputs": [
    {
     "data": {
      "image/png": "[encoded data removed]",
      "text/plain": [
       "<Figure size 1800x600 with 1 Axes>"
      ]
     },
     "metadata": {},
     "output_type": "display_data"
    }
   ],
   "source": [
    "# viewing the distribution of the price column\n",
    "\n",
    "plt1 = plt.figure(figsize = (18,6))\n",
    "sn.distplot(df['price'],color='red')\n",
    "plt.show()"
   ]
  },
  {
   "cell_type": "markdown",
   "id": "8312919b",
   "metadata": {
    "id": "8312919b"
   },
   "source": [
    "From above it is clearly seen that output data is rightly skewed"
   ]
  },
  {
   "cell_type": "code",
   "execution_count": 310,
   "id": "2fff6b65",
   "metadata": {
    "colab": {
     "base_uri": "https://localhost:8080/",
     "height": 415
    },
    "id": "2fff6b65",
    "outputId": "3217ad52-d5ac-49d4-d9cd-43faf8d53417"
   },
   "outputs": [
    {
     "data": {
      "image/png": "[encoded data removed]",
      "text/plain": [
       "<Figure size 1800x600 with 1 Axes>"
      ]
     },
     "metadata": {},
     "output_type": "display_data"
    }
   ],
   "source": [
    "# average price for size\n",
    "\n",
    "plt.figure(figsize=(18,6))\n",
    "sn.barplot(x = df['size'],y = df['price'])\n",
    "plt.xticks(rotation = 'vertical')\n",
    "plt.show()"
   ]
  },
  {
   "cell_type": "code",
   "execution_count": 311,
   "id": "2ff6391d",
   "metadata": {
    "colab": {
     "base_uri": "https://localhost:8080/",
     "height": 415
    },
    "id": "2ff6391d",
    "outputId": "b9fb75e7-f217-4416-a882-a2ab58d757bf"
   },
   "outputs": [
    {
     "data": {
      "image/png": "[encoded data removed]",
      "text/plain": [
       "<Figure size 1800x600 with 1 Axes>"
      ]
     },
     "metadata": {},
     "output_type": "display_data"
    }
   ],
   "source": [
    "# average price for bath\n",
    "\n",
    "plt.figure(figsize=(18,6))\n",
    "sn.barplot(x = df['bath'],y = df['price'])\n",
    "plt.xticks(rotation = 'vertical')\n",
    "plt.show()"
   ]
  },
  {
   "cell_type": "code",
   "execution_count": 312,
   "id": "38294492",
   "metadata": {
    "colab": {
     "base_uri": "https://localhost:8080/",
     "height": 465
    },
    "id": "38294492",
    "outputId": "d04f918f-695b-4b19-d855-3b2dd017af36"
   },
   "outputs": [
    {
     "data": {
      "image/png": "[encoded data removed]",
      "text/plain": [
       "<Figure size 1000x500 with 1 Axes>"
      ]
     },
     "metadata": {},
     "output_type": "display_data"
    }
   ],
   "source": [
    "# variation of size towards the price\n",
    "plt1 = plt.figure(figsize = (10,5))\n",
    "sn.scatterplot(x = df['size'],y = df['price'])\n",
    "plt.show()"
   ]
  },
  {
   "cell_type": "code",
   "execution_count": 313,
   "id": "1a853509",
   "metadata": {
    "colab": {
     "base_uri": "https://localhost:8080/",
     "height": 465
    },
    "id": "1a853509",
    "outputId": "c97afc81-fa0b-4c6d-a26d-47a38492d0bb"
   },
   "outputs": [
    {
     "data": {
      "image/png": "[encoded data removed]",
      "text/plain": [
       "<Figure size 1000x500 with 1 Axes>"
      ]
     },
     "metadata": {},
     "output_type": "display_data"
    }
   ],
   "source": [
    "# variation of bath towards the price\n",
    "plt1 = plt.figure(figsize = (10,5))\n",
    "sn.scatterplot(x = df['bath'],y = df['price'])\n",
    "plt.show()"
   ]
  },
  {
   "cell_type": "code",
   "execution_count": 314,
   "id": "fb0c484c",
   "metadata": {
    "colab": {
     "base_uri": "https://localhost:8080/"
    },
    "id": "fb0c484c",
    "outputId": "7ea2d7ec-ec49-4559-b6c1-cc3ca3b1dcc5"
   },
   "outputs": [
    {
     "data": {
      "text/plain": [
       "2067"
      ]
     },
     "execution_count": 314,
     "metadata": {},
     "output_type": "execute_result"
    }
   ],
   "source": [
    "df['total_sqft'].nunique()"
   ]
  },
  {
   "cell_type": "markdown",
   "id": "2c2843fc",
   "metadata": {
    "id": "2c2843fc"
   },
   "source": [
    "we will convert total_sqft into integer"
   ]
  },
  {
   "cell_type": "code",
   "execution_count": 315,
   "id": "f22be4fb",
   "metadata": {
    "id": "f22be4fb"
   },
   "outputs": [],
   "source": [
    "def convert_sqft_to_num(x):\n",
    "    tokens = x.split('-')\n",
    "    if len(tokens) == 2:\n",
    "        return (float(tokens[0])+float(tokens[1]))/2\n",
    "    try:\n",
    "        return float(x)\n",
    "    except:\n",
    "        return None"
   ]
  },
  {
   "cell_type": "code",
   "execution_count": 316,
   "id": "81755f22",
   "metadata": {
    "id": "81755f22"
   },
   "outputs": [],
   "source": [
    "df['total_sqft'] = df['total_sqft'].apply(convert_sqft_to_num)"
   ]
  },
  {
   "cell_type": "code",
   "execution_count": 317,
   "id": "4cff14a6",
   "metadata": {
    "id": "4cff14a6"
   },
   "outputs": [],
   "source": [
    "df['total_sqft'] = df['total_sqft'].astype('float32')"
   ]
  },
  {
   "cell_type": "code",
   "execution_count": 318,
   "id": "7309d001",
   "metadata": {
    "colab": {
     "base_uri": "https://localhost:8080/"
    },
    "id": "7309d001",
    "outputId": "e87965b7-3254-4652-a952-9caa6b595558"
   },
   "outputs": [
    {
     "name": "stdout",
     "output_type": "stream",
     "text": [
      "<class 'pandas.core.frame.DataFrame'>\n",
      "Int64Index: 12365 entries, 0 to 13318\n",
      "Data columns (total 5 columns):\n",
      " #   Column      Non-Null Count  Dtype  \n",
      "---  ------      --------------  -----  \n",
      " 0   location    12365 non-null  object \n",
      " 1   size        12365 non-null  int32  \n",
      " 2   total_sqft  12319 non-null  float32\n",
      " 3   bath        12365 non-null  int32  \n",
      " 4   price       12365 non-null  float64\n",
      "dtypes: float32(1), float64(1), int32(2), object(1)\n",
      "memory usage: 434.7+ KB\n"
     ]
    }
   ],
   "source": [
    "df.info()"
   ]
  },
  {
   "cell_type": "code",
   "execution_count": 319,
   "id": "a92eb32f",
   "metadata": {
    "colab": {
     "base_uri": "https://localhost:8080/",
     "height": 206
    },
    "id": "a92eb32f",
    "outputId": "0fcb0817-09d6-4f61-89a8-cb81566125d1"
   },
   "outputs": [
    {
     "data": {
      "text/html": [
       "\n",
       "  <div id=\"df-454416ec-0c0a-4277-81fc-4baaaef5994e\">\n",
       "    <div class=\"colab-df-container\">\n",
       "      <div>\n",
       "<style scoped>\n",
       "    .dataframe tbody tr th:only-of-type {\n",
       "        vertical-align: middle;\n",
       "    }\n",
       "\n",
       "    .dataframe tbody tr th {\n",
       "        vertical-align: top;\n",
       "    }\n",
       "\n",
       "    .dataframe thead th {\n",
       "        text-align: right;\n",
       "    }\n",
       "</style>\n",
       "<table border=\"1\" class=\"dataframe\">\n",
       "  <thead>\n",
       "    <tr style=\"text-align: right;\">\n",
       "      <th></th>\n",
       "      <th>location</th>\n",
       "      <th>size</th>\n",
       "      <th>total_sqft</th>\n",
       "      <th>bath</th>\n",
       "      <th>price</th>\n",
       "    </tr>\n",
       "  </thead>\n",
       "  <tbody>\n",
       "    <tr>\n",
       "      <th>0</th>\n",
       "      <td>Electronic City Phase II</td>\n",
       "      <td>2</td>\n",
       "      <td>1056.0</td>\n",
       "      <td>2</td>\n",
       "      <td>39.07</td>\n",
       "    </tr>\n",
       "    <tr>\n",
       "      <th>1</th>\n",
       "      <td>Chikka Tirupathi</td>\n",
       "      <td>4</td>\n",
       "      <td>2600.0</td>\n",
       "      <td>5</td>\n",
       "      <td>120.00</td>\n",
       "    </tr>\n",
       "    <tr>\n",
       "      <th>2</th>\n",
       "      <td>Uttarahalli</td>\n",
       "      <td>3</td>\n",
       "      <td>1440.0</td>\n",
       "      <td>2</td>\n",
       "      <td>62.00</td>\n",
       "    </tr>\n",
       "    <tr>\n",
       "      <th>3</th>\n",
       "      <td>Lingadheeranahalli</td>\n",
       "      <td>3</td>\n",
       "      <td>1521.0</td>\n",
       "      <td>3</td>\n",
       "      <td>95.00</td>\n",
       "    </tr>\n",
       "    <tr>\n",
       "      <th>4</th>\n",
       "      <td>Kothanur</td>\n",
       "      <td>2</td>\n",
       "      <td>1200.0</td>\n",
       "      <td>2</td>\n",
       "      <td>51.00</td>\n",
       "    </tr>\n",
       "  </tbody>\n",
       "</table>\n",
       "</div>\n",
       "      <button class=\"colab-df-convert\" onclick=\"convertToInteractive('df-454416ec-0c0a-4277-81fc-4baaaef5994e')\"\n",
       "              title=\"Convert this dataframe to an interactive table.\"\n",
       "              style=\"display:none;\">\n",
       "        \n",
       "  <svg xmlns=\"http://www.w3.org/2000/svg\" height=\"24px\"viewBox=\"0 0 24 24\"\n",
       "       width=\"24px\">\n",
       "    <path d=\"M0 0h24v24H0V0z\" fill=\"none\"/>\n",
       "    <path d=\"M18.56 5.44l.94 2.06.94-2.06 2.06-.94-2.06-.94-.94-2.06-.94 2.06-2.06.94zm-11 1L8.5 8.5l.94-2.06 2.06-.94-2.06-.94L8.5 2.5l-.94 2.06-2.06.94zm10 10l.94 2.06.94-2.06 2.06-.94-2.06-.94-.94-2.06-.94 2.06-2.06.94z\"/><path d=\"M17.41 7.96l-1.37-1.37c-.4-.4-.92-.59-1.43-.59-.52 0-1.04.2-1.43.59L10.3 9.45l-7.72 7.72c-.78.78-.78 2.05 0 2.83L4 21.41c.39.39.9.59 1.41.59.51 0 1.02-.2 1.41-.59l7.78-7.78 2.81-2.81c.8-.78.8-2.07 0-2.86zM5.41 20L4 18.59l7.72-7.72 1.47 1.35L5.41 20z\"/>\n",
       "  </svg>\n",
       "      </button>\n",
       "      \n",
       "  <style>\n",
       "    .colab-df-container {\n",
       "      display:flex;\n",
       "      flex-wrap:wrap;\n",
       "      gap: 12px;\n",
       "    }\n",
       "\n",
       "    .colab-df-convert {\n",
       "      background-color: #E8F0FE;\n",
       "      border: none;\n",
       "      border-radius: 50%;\n",
       "      cursor: pointer;\n",
       "      display: none;\n",
       "      fill: #1967D2;\n",
       "      height: 32px;\n",
       "      padding: 0 0 0 0;\n",
       "      width: 32px;\n",
       "    }\n",
       "\n",
       "    .colab-df-convert:hover {\n",
       "      background-color: #E2EBFA;\n",
       "      box-shadow: 0px 1px 2px rgba(60, 64, 67, 0.3), 0px 1px 3px 1px rgba(60, 64, 67, 0.15);\n",
       "      fill: #174EA6;\n",
       "    }\n",
       "\n",
       "    [theme=dark] .colab-df-convert {\n",
       "      background-color: #3B4455;\n",
       "      fill: #D2E3FC;\n",
       "    }\n",
       "\n",
       "    [theme=dark] .colab-df-convert:hover {\n",
       "      background-color: #434B5C;\n",
       "      box-shadow: 0px 1px 3px 1px rgba(0, 0, 0, 0.15);\n",
       "      filter: drop-shadow(0px 1px 2px rgba(0, 0, 0, 0.3));\n",
       "      fill: #FFFFFF;\n",
       "    }\n",
       "  </style>\n",
       "\n",
       "      <script>\n",
       "        const buttonEl =\n",
       "          document.querySelector('#df-454416ec-0c0a-4277-81fc-4baaaef5994e button.colab-df-convert');\n",
       "        buttonEl.style.display =\n",
       "          google.colab.kernel.accessAllowed ? 'block' : 'none';\n",
       "\n",
       "        async function convertToInteractive(key) {\n",
       "          const element = document.querySelector('#df-454416ec-0c0a-4277-81fc-4baaaef5994e');\n",
       "          const dataTable =\n",
       "            await google.colab.kernel.invokeFunction('convertToInteractive',\n",
       "                                                     [key], {});\n",
       "          if (!dataTable) return;\n",
       "\n",
       "          const docLinkHtml = 'Like what you see? Visit the ' +\n",
       "            '<a target=\"_blank\" href=https://colab.research.google.com/notebooks/data_table.ipynb>data table notebook</a>'\n",
       "            + ' to learn more about interactive tables.';\n",
       "          element.innerHTML = '';\n",
       "          dataTable['output_type'] = 'display_data';\n",
       "          await google.colab.output.renderOutput(dataTable, element);\n",
       "          const docLink = document.createElement('div');\n",
       "          docLink.innerHTML = docLinkHtml;\n",
       "          element.appendChild(docLink);\n",
       "        }\n",
       "      </script>\n",
       "    </div>\n",
       "  </div>\n",
       "  "
      ],
      "text/plain": [
       "                   location  size  total_sqft  bath   price\n",
       "0  Electronic City Phase II     2      1056.0     2   39.07\n",
       "1          Chikka Tirupathi     4      2600.0     5  120.00\n",
       "2               Uttarahalli     3      1440.0     2   62.00\n",
       "3        Lingadheeranahalli     3      1521.0     3   95.00\n",
       "4                  Kothanur     2      1200.0     2   51.00"
      ]
     },
     "execution_count": 319,
     "metadata": {},
     "output_type": "execute_result"
    }
   ],
   "source": [
    "df.head()"
   ]
  },
  {
   "cell_type": "markdown",
   "id": "69d29a45",
   "metadata": {
    "id": "69d29a45"
   },
   "source": [
    "Any location having less than 10 data points will be tagged as \"other\" location. This way number of categories can be reduced by huge amount. It will help us with having fewer dummy columns"
   ]
  },
  {
   "cell_type": "code",
   "execution_count": 320,
   "id": "a12fe5fe",
   "metadata": {
    "colab": {
     "base_uri": "https://localhost:8080/"
    },
    "id": "a12fe5fe",
    "outputId": "484ea0d9-5356-4d57-ccb1-3d709f3da1e5"
   },
   "outputs": [
    {
     "data": {
      "text/plain": [
       "Whitefield               501\n",
       "Sarjapur  Road           357\n",
       "Electronic City          273\n",
       "Thanisandra              223\n",
       "Kanakpura Road           217\n",
       "                        ... \n",
       "Maruthi Extension          1\n",
       "Okalipura                  1\n",
       "Old Town                   1\n",
       "Vasantapura main road      1\n",
       "Abshot Layout              1\n",
       "Name: location, Length: 1304, dtype: int64"
      ]
     },
     "execution_count": 320,
     "metadata": {},
     "output_type": "execute_result"
    }
   ],
   "source": [
    "df['location'].value_counts(ascending=False)"
   ]
  },
  {
   "cell_type": "code",
   "execution_count": 321,
   "id": "434c8cb8",
   "metadata": {
    "colab": {
     "base_uri": "https://localhost:8080/"
    },
    "id": "434c8cb8",
    "outputId": "17c9840b-8a30-44a7-fd76-9b458e89b35d"
   },
   "outputs": [
    {
     "data": {
      "text/plain": [
       "1304"
      ]
     },
     "execution_count": 321,
     "metadata": {},
     "output_type": "execute_result"
    }
   ],
   "source": [
    "df['location'].nunique()"
   ]
  },
  {
   "cell_type": "code",
   "execution_count": 322,
   "id": "ae7dced2",
   "metadata": {
    "colab": {
     "base_uri": "https://localhost:8080/"
    },
    "id": "ae7dced2",
    "outputId": "e1e4fb2b-e014-46ec-c5a9-2a1fe2331377"
   },
   "outputs": [
    {
     "data": {
      "text/plain": [
       "Whitefield                502\n",
       "Sarjapur  Road            357\n",
       "Electronic City           275\n",
       "Thanisandra               225\n",
       "Kanakpura Road            217\n",
       "                         ... \n",
       "1Channasandra               1\n",
       "Ring Road Nagarbhavi        1\n",
       "Mango Garden Layout         1\n",
       "Vijayabank bank layout      1\n",
       "Abshot Layout               1\n",
       "Name: location, Length: 1293, dtype: int64"
      ]
     },
     "execution_count": 322,
     "metadata": {},
     "output_type": "execute_result"
    }
   ],
   "source": [
    "df['location'] = df['location'].apply(lambda x: x.strip())\n",
    "location_stats = df['location'].value_counts(ascending=False)\n",
    "location_stats"
   ]
  },
  {
   "cell_type": "code",
   "execution_count": 323,
   "id": "a92bee29",
   "metadata": {
    "colab": {
     "base_uri": "https://localhost:8080/"
    },
    "id": "a92bee29",
    "outputId": "bc2c72f1-f60f-4e15-e9d7-673fe4b8468a"
   },
   "outputs": [
    {
     "data": {
      "text/plain": [
       "231"
      ]
     },
     "execution_count": 323,
     "metadata": {},
     "output_type": "execute_result"
    }
   ],
   "source": [
    "len(location_stats[location_stats>10])"
   ]
  },
  {
   "cell_type": "code",
   "execution_count": 324,
   "id": "01da5827",
   "metadata": {
    "colab": {
     "base_uri": "https://localhost:8080/"
    },
    "id": "01da5827",
    "outputId": "059280f3-f8db-4eda-a0d8-e85e0d1ac854"
   },
   "outputs": [
    {
     "data": {
      "text/plain": [
       "1293"
      ]
     },
     "execution_count": 324,
     "metadata": {},
     "output_type": "execute_result"
    }
   ],
   "source": [
    "len(location_stats)"
   ]
  },
  {
   "cell_type": "code",
   "execution_count": 325,
   "id": "9c36523a",
   "metadata": {
    "id": "9c36523a"
   },
   "outputs": [],
   "source": [
    "location_stats_less_than_10 = location_stats[location_stats<=10]"
   ]
  },
  {
   "cell_type": "code",
   "execution_count": 326,
   "id": "a11d62cb",
   "metadata": {
    "colab": {
     "base_uri": "https://localhost:8080/"
    },
    "id": "a11d62cb",
    "outputId": "ddc0856c-b39b-4b21-bb38-4fee57ccdb39"
   },
   "outputs": [
    {
     "data": {
      "text/plain": [
       "BEML Layout               10\n",
       "Poorna Pragna Layout      10\n",
       "BTM 1st Stage             10\n",
       "Nagappa Reddy Layout      10\n",
       "Dairy Circle              10\n",
       "                          ..\n",
       "1Channasandra              1\n",
       "Ring Road Nagarbhavi       1\n",
       "Mango Garden Layout        1\n",
       "Vijayabank bank layout     1\n",
       "Abshot Layout              1\n",
       "Name: location, Length: 1062, dtype: int64"
      ]
     },
     "execution_count": 326,
     "metadata": {},
     "output_type": "execute_result"
    }
   ],
   "source": [
    "location_stats_less_than_10"
   ]
  },
  {
   "cell_type": "code",
   "execution_count": 327,
   "id": "c0c5ed0d",
   "metadata": {
    "colab": {
     "base_uri": "https://localhost:8080/"
    },
    "id": "c0c5ed0d",
    "outputId": "946bb9da-5c4e-4ac9-e041-a0c3c15fb8f9"
   },
   "outputs": [
    {
     "data": {
      "text/plain": [
       "232"
      ]
     },
     "execution_count": 327,
     "metadata": {},
     "output_type": "execute_result"
    }
   ],
   "source": [
    "df['location'] = df['location'].apply(lambda x: 'other' if x in location_stats_less_than_10 else x)\n",
    "len(df['location'].unique())"
   ]
  },
  {
   "cell_type": "code",
   "execution_count": 328,
   "id": "28503045",
   "metadata": {
    "colab": {
     "base_uri": "https://localhost:8080/",
     "height": 411
    },
    "id": "28503045",
    "outputId": "f57e19b7-82c6-4e05-984f-89ec42320de4"
   },
   "outputs": [
    {
     "data": {
      "image/png": "[encoded data removed]",
      "text/plain": [
       "<Figure size 1800x600 with 1 Axes>"
      ]
     },
     "metadata": {},
     "output_type": "display_data"
    }
   ],
   "source": [
    "# viewing the distribution of the price column\n",
    "\n",
    "plt1 = plt.figure(figsize = (18,6))\n",
    "sn.distplot(df['price'],color='red')\n",
    "plt.show()"
   ]
  },
  {
   "cell_type": "markdown",
   "id": "7c739eae",
   "metadata": {
    "id": "7c739eae"
   },
   "source": [
    "### boxplot to see outliers"
   ]
  },
  {
   "cell_type": "code",
   "execution_count": 329,
   "id": "63164d9e",
   "metadata": {
    "colab": {
     "base_uri": "https://localhost:8080/",
     "height": 990
    },
    "id": "63164d9e",
    "outputId": "9788a9af-f246-49d1-c2d2-7bb1b394f3bb"
   },
   "outputs": [
    {
     "data": {
      "image/png": "[encoded data removed]",
      "text/plain": [
       "<Figure size 1800x500 with 1 Axes>"
      ]
     },
     "metadata": {},
     "output_type": "display_data"
    },
    {
     "data": {
      "image/png": "[encoded data removed]",
      "text/plain": [
       "<Figure size 1800x500 with 1 Axes>"
      ]
     },
     "metadata": {},
     "output_type": "display_data"
    },
    {
     "data": {
      "image/png": "[encoded data removed]",
      "text/plain": [
       "<Figure size 1800x500 with 1 Axes>"
      ]
     },
     "metadata": {},
     "output_type": "display_data"
    }
   ],
   "source": [
    "def drawplot(col):\n",
    "    plt.figure(figsize=(18,5))\n",
    "    sn.boxplot(df[col],palette='plasma')\n",
    "\n",
    "toview = ['price','size','bath']\n",
    "for col in toview:\n",
    "    drawplot(col)"
   ]
  },
  {
   "cell_type": "markdown",
   "id": "74ba2af3",
   "metadata": {
    "id": "74ba2af3"
   },
   "source": [
    "first we will remove outliers from size and bath column using Interquartile range(IQR).then we will look for price column"
   ]
  },
  {
   "cell_type": "code",
   "execution_count": 330,
   "id": "48100374",
   "metadata": {
    "id": "48100374"
   },
   "outputs": [],
   "source": [
    "def remove_outlier(df,col):\n",
    "    q1 = df[col].quantile(0.25)\n",
    "    q3 = df[col].quantile(0.75)\n",
    "    iqr = q3 - q1\n",
    "    lower_band = q1 - (1.5*iqr)\n",
    "    upper_band = q3 + (1.5*iqr)\n",
    "    df = df[(df[col]>lower_band) & (df[col]<upper_band)]\n",
    "    return df"
   ]
  },
  {
   "cell_type": "code",
   "execution_count": 331,
   "id": "1c668d86",
   "metadata": {
    "id": "1c668d86"
   },
   "outputs": [],
   "source": [
    "df = remove_outlier(df,'size')"
   ]
  },
  {
   "cell_type": "code",
   "execution_count": 332,
   "id": "542ebdeb",
   "metadata": {
    "colab": {
     "base_uri": "https://localhost:8080/"
    },
    "id": "542ebdeb",
    "outputId": "f139da89-67d6-49ae-defc-ee1ae03f6c8d"
   },
   "outputs": [
    {
     "data": {
      "text/plain": [
       "(11532, 5)"
      ]
     },
     "execution_count": 332,
     "metadata": {},
     "output_type": "execute_result"
    }
   ],
   "source": [
    "df.shape"
   ]
  },
  {
   "cell_type": "code",
   "execution_count": 333,
   "id": "c310e95b",
   "metadata": {
    "id": "c310e95b"
   },
   "outputs": [],
   "source": [
    "df = remove_outlier(df,'bath')"
   ]
  },
  {
   "cell_type": "code",
   "execution_count": 334,
   "id": "6122ebef",
   "metadata": {
    "colab": {
     "base_uri": "https://localhost:8080/"
    },
    "id": "6122ebef",
    "outputId": "ece75474-7b11-43e7-f32e-bdff5a1765e1"
   },
   "outputs": [
    {
     "data": {
      "text/plain": [
       "(11150, 5)"
      ]
     },
     "execution_count": 334,
     "metadata": {},
     "output_type": "execute_result"
    }
   ],
   "source": [
    "df.shape"
   ]
  },
  {
   "cell_type": "code",
   "execution_count": 335,
   "id": "763e60e7",
   "metadata": {
    "colab": {
     "base_uri": "https://localhost:8080/",
     "height": 206
    },
    "id": "763e60e7",
    "outputId": "7ee86c0b-7c4f-4cba-cd2d-687672f63172"
   },
   "outputs": [
    {
     "data": {
      "text/html": [
       "\n",
       "  <div id=\"df-f2ae031d-c87a-4acf-94a9-998491767594\">\n",
       "    <div class=\"colab-df-container\">\n",
       "      <div>\n",
       "<style scoped>\n",
       "    .dataframe tbody tr th:only-of-type {\n",
       "        vertical-align: middle;\n",
       "    }\n",
       "\n",
       "    .dataframe tbody tr th {\n",
       "        vertical-align: top;\n",
       "    }\n",
       "\n",
       "    .dataframe thead th {\n",
       "        text-align: right;\n",
       "    }\n",
       "</style>\n",
       "<table border=\"1\" class=\"dataframe\">\n",
       "  <thead>\n",
       "    <tr style=\"text-align: right;\">\n",
       "      <th></th>\n",
       "      <th>location</th>\n",
       "      <th>size</th>\n",
       "      <th>total_sqft</th>\n",
       "      <th>bath</th>\n",
       "      <th>price</th>\n",
       "    </tr>\n",
       "  </thead>\n",
       "  <tbody>\n",
       "    <tr>\n",
       "      <th>0</th>\n",
       "      <td>Electronic City Phase II</td>\n",
       "      <td>2</td>\n",
       "      <td>1056.0</td>\n",
       "      <td>2</td>\n",
       "      <td>39.07</td>\n",
       "    </tr>\n",
       "    <tr>\n",
       "      <th>2</th>\n",
       "      <td>Uttarahalli</td>\n",
       "      <td>3</td>\n",
       "      <td>1440.0</td>\n",
       "      <td>2</td>\n",
       "      <td>62.00</td>\n",
       "    </tr>\n",
       "    <tr>\n",
       "      <th>3</th>\n",
       "      <td>Lingadheeranahalli</td>\n",
       "      <td>3</td>\n",
       "      <td>1521.0</td>\n",
       "      <td>3</td>\n",
       "      <td>95.00</td>\n",
       "    </tr>\n",
       "    <tr>\n",
       "      <th>4</th>\n",
       "      <td>Kothanur</td>\n",
       "      <td>2</td>\n",
       "      <td>1200.0</td>\n",
       "      <td>2</td>\n",
       "      <td>51.00</td>\n",
       "    </tr>\n",
       "    <tr>\n",
       "      <th>5</th>\n",
       "      <td>Whitefield</td>\n",
       "      <td>2</td>\n",
       "      <td>1170.0</td>\n",
       "      <td>2</td>\n",
       "      <td>38.00</td>\n",
       "    </tr>\n",
       "  </tbody>\n",
       "</table>\n",
       "</div>\n",
       "      <button class=\"colab-df-convert\" onclick=\"convertToInteractive('df-f2ae031d-c87a-4acf-94a9-998491767594')\"\n",
       "              title=\"Convert this dataframe to an interactive table.\"\n",
       "              style=\"display:none;\">\n",
       "        \n",
       "  <svg xmlns=\"http://www.w3.org/2000/svg\" height=\"24px\"viewBox=\"0 0 24 24\"\n",
       "       width=\"24px\">\n",
       "    <path d=\"M0 0h24v24H0V0z\" fill=\"none\"/>\n",
       "    <path d=\"M18.56 5.44l.94 2.06.94-2.06 2.06-.94-2.06-.94-.94-2.06-.94 2.06-2.06.94zm-11 1L8.5 8.5l.94-2.06 2.06-.94-2.06-.94L8.5 2.5l-.94 2.06-2.06.94zm10 10l.94 2.06.94-2.06 2.06-.94-2.06-.94-.94-2.06-.94 2.06-2.06.94z\"/><path d=\"M17.41 7.96l-1.37-1.37c-.4-.4-.92-.59-1.43-.59-.52 0-1.04.2-1.43.59L10.3 9.45l-7.72 7.72c-.78.78-.78 2.05 0 2.83L4 21.41c.39.39.9.59 1.41.59.51 0 1.02-.2 1.41-.59l7.78-7.78 2.81-2.81c.8-.78.8-2.07 0-2.86zM5.41 20L4 18.59l7.72-7.72 1.47 1.35L5.41 20z\"/>\n",
       "  </svg>\n",
       "      </button>\n",
       "      \n",
       "  <style>\n",
       "    .colab-df-container {\n",
       "      display:flex;\n",
       "      flex-wrap:wrap;\n",
       "      gap: 12px;\n",
       "    }\n",
       "\n",
       "    .colab-df-convert {\n",
       "      background-color: #E8F0FE;\n",
       "      border: none;\n",
       "      border-radius: 50%;\n",
       "      cursor: pointer;\n",
       "      display: none;\n",
       "      fill: #1967D2;\n",
       "      height: 32px;\n",
       "      padding: 0 0 0 0;\n",
       "      width: 32px;\n",
       "    }\n",
       "\n",
       "    .colab-df-convert:hover {\n",
       "      background-color: #E2EBFA;\n",
       "      box-shadow: 0px 1px 2px rgba(60, 64, 67, 0.3), 0px 1px 3px 1px rgba(60, 64, 67, 0.15);\n",
       "      fill: #174EA6;\n",
       "    }\n",
       "\n",
       "    [theme=dark] .colab-df-convert {\n",
       "      background-color: #3B4455;\n",
       "      fill: #D2E3FC;\n",
       "    }\n",
       "\n",
       "    [theme=dark] .colab-df-convert:hover {\n",
       "      background-color: #434B5C;\n",
       "      box-shadow: 0px 1px 3px 1px rgba(0, 0, 0, 0.15);\n",
       "      filter: drop-shadow(0px 1px 2px rgba(0, 0, 0, 0.3));\n",
       "      fill: #FFFFFF;\n",
       "    }\n",
       "  </style>\n",
       "\n",
       "      <script>\n",
       "        const buttonEl =\n",
       "          document.querySelector('#df-f2ae031d-c87a-4acf-94a9-998491767594 button.colab-df-convert');\n",
       "        buttonEl.style.display =\n",
       "          google.colab.kernel.accessAllowed ? 'block' : 'none';\n",
       "\n",
       "        async function convertToInteractive(key) {\n",
       "          const element = document.querySelector('#df-f2ae031d-c87a-4acf-94a9-998491767594');\n",
       "          const dataTable =\n",
       "            await google.colab.kernel.invokeFunction('convertToInteractive',\n",
       "                                                     [key], {});\n",
       "          if (!dataTable) return;\n",
       "\n",
       "          const docLinkHtml = 'Like what you see? Visit the ' +\n",
       "            '<a target=\"_blank\" href=https://colab.research.google.com/notebooks/data_table.ipynb>data table notebook</a>'\n",
       "            + ' to learn more about interactive tables.';\n",
       "          element.innerHTML = '';\n",
       "          dataTable['output_type'] = 'display_data';\n",
       "          await google.colab.output.renderOutput(dataTable, element);\n",
       "          const docLink = document.createElement('div');\n",
       "          docLink.innerHTML = docLinkHtml;\n",
       "          element.appendChild(docLink);\n",
       "        }\n",
       "      </script>\n",
       "    </div>\n",
       "  </div>\n",
       "  "
      ],
      "text/plain": [
       "                   location  size  total_sqft  bath  price\n",
       "0  Electronic City Phase II     2      1056.0     2  39.07\n",
       "2               Uttarahalli     3      1440.0     2  62.00\n",
       "3        Lingadheeranahalli     3      1521.0     3  95.00\n",
       "4                  Kothanur     2      1200.0     2  51.00\n",
       "5                Whitefield     2      1170.0     2  38.00"
      ]
     },
     "execution_count": 335,
     "metadata": {},
     "output_type": "execute_result"
    }
   ],
   "source": [
    "df.head()"
   ]
  },
  {
   "cell_type": "code",
   "execution_count": 336,
   "id": "361f77ff",
   "metadata": {
    "colab": {
     "base_uri": "https://localhost:8080/",
     "height": 676
    },
    "id": "361f77ff",
    "outputId": "46a69677-f773-4455-8789-135c3562e497"
   },
   "outputs": [
    {
     "data": {
      "image/png": "[encoded data removed]",
      "text/plain": [
       "<Figure size 1800x500 with 1 Axes>"
      ]
     },
     "metadata": {},
     "output_type": "display_data"
    },
    {
     "data": {
      "image/png": "[encoded data removed]",
      "text/plain": [
       "<Figure size 1800x500 with 1 Axes>"
      ]
     },
     "metadata": {},
     "output_type": "display_data"
    }
   ],
   "source": [
    "def drawplot(col):\n",
    "    plt.figure(figsize=(18,5))\n",
    "    sn.boxplot(df[col],palette='plasma')\n",
    "\n",
    "toview = ['size','bath']\n",
    "for col in toview:\n",
    "    drawplot(col)"
   ]
  },
  {
   "cell_type": "code",
   "execution_count": 337,
   "id": "9c0c5c1c",
   "metadata": {
    "colab": {
     "base_uri": "https://localhost:8080/",
     "height": 411
    },
    "id": "9c0c5c1c",
    "outputId": "810fd52c-bc2f-42db-8a9c-5e8f8351b6e5"
   },
   "outputs": [
    {
     "data": {
      "image/png": "[encoded data removed]",
      "text/plain": [
       "<Figure size 1800x600 with 1 Axes>"
      ]
     },
     "metadata": {},
     "output_type": "display_data"
    }
   ],
   "source": [
    "# viewing the distribution of the price column\n",
    "\n",
    "plt1 = plt.figure(figsize = (18,6))\n",
    "sn.distplot(df['price'],color='red')\n",
    "plt.show()"
   ]
  },
  {
   "cell_type": "code",
   "execution_count": 338,
   "id": "319b9ae1",
   "metadata": {
    "id": "319b9ae1"
   },
   "outputs": [],
   "source": [
    "df = remove_outlier(df,'price')"
   ]
  },
  {
   "cell_type": "code",
   "execution_count": 339,
   "id": "17d73d35",
   "metadata": {
    "colab": {
     "base_uri": "https://localhost:8080/",
     "height": 345
    },
    "id": "17d73d35",
    "outputId": "9b2399c7-c883-4b21-d857-7da503ebfdbd"
   },
   "outputs": [
    {
     "data": {
      "image/png": "[encoded data removed]",
      "text/plain": [
       "<Figure size 1800x500 with 1 Axes>"
      ]
     },
     "metadata": {},
     "output_type": "display_data"
    }
   ],
   "source": [
    "plt.figure(figsize=(18,5))\n",
    "sn.boxplot(df['price'],palette='plasma')\n",
    "plt.show()"
   ]
  },
  {
   "cell_type": "code",
   "execution_count": 340,
   "id": "143e2cd4",
   "metadata": {
    "colab": {
     "base_uri": "https://localhost:8080/",
     "height": 411
    },
    "id": "143e2cd4",
    "outputId": "91e2ffb0-2548-4b52-d8a2-94d1fa239e5a"
   },
   "outputs": [
    {
     "data": {
      "image/png": "[encoded data removed]",
      "text/plain": [
       "<Figure size 1800x600 with 1 Axes>"
      ]
     },
     "metadata": {},
     "output_type": "display_data"
    }
   ],
   "source": [
    "plt1 = plt.figure(figsize = (18,6))\n",
    "sn.distplot(df['price'],color='red')\n",
    "plt.show()"
   ]
  },
  {
   "cell_type": "code",
   "execution_count": 341,
   "id": "5af87d56",
   "metadata": {
    "colab": {
     "base_uri": "https://localhost:8080/"
    },
    "id": "5af87d56",
    "outputId": "d953a3fe-900f-4b66-feee-f7c739dac916"
   },
   "outputs": [
    {
     "data": {
      "text/plain": [
       "(10173, 5)"
      ]
     },
     "execution_count": 341,
     "metadata": {},
     "output_type": "execute_result"
    }
   ],
   "source": [
    "df.shape"
   ]
  },
  {
   "cell_type": "code",
   "execution_count": 342,
   "id": "e33e2fdd",
   "metadata": {
    "colab": {
     "base_uri": "https://localhost:8080/",
     "height": 175
    },
    "id": "e33e2fdd",
    "outputId": "29f17e9c-bc41-4072-c7f6-f62b0ac9d34a"
   },
   "outputs": [
    {
     "data": {
      "text/html": [
       "\n",
       "  <div id=\"df-05924911-512d-4bc3-98cc-10a438ab6608\">\n",
       "    <div class=\"colab-df-container\">\n",
       "      <div>\n",
       "<style scoped>\n",
       "    .dataframe tbody tr th:only-of-type {\n",
       "        vertical-align: middle;\n",
       "    }\n",
       "\n",
       "    .dataframe tbody tr th {\n",
       "        vertical-align: top;\n",
       "    }\n",
       "\n",
       "    .dataframe thead th {\n",
       "        text-align: right;\n",
       "    }\n",
       "</style>\n",
       "<table border=\"1\" class=\"dataframe\">\n",
       "  <thead>\n",
       "    <tr style=\"text-align: right;\">\n",
       "      <th></th>\n",
       "      <th>size</th>\n",
       "      <th>total_sqft</th>\n",
       "      <th>bath</th>\n",
       "      <th>price</th>\n",
       "    </tr>\n",
       "  </thead>\n",
       "  <tbody>\n",
       "    <tr>\n",
       "      <th>size</th>\n",
       "      <td>1.000000</td>\n",
       "      <td>0.328299</td>\n",
       "      <td>0.793727</td>\n",
       "      <td>0.553443</td>\n",
       "    </tr>\n",
       "    <tr>\n",
       "      <th>total_sqft</th>\n",
       "      <td>0.328299</td>\n",
       "      <td>1.000000</td>\n",
       "      <td>0.325862</td>\n",
       "      <td>0.376016</td>\n",
       "    </tr>\n",
       "    <tr>\n",
       "      <th>bath</th>\n",
       "      <td>0.793727</td>\n",
       "      <td>0.325862</td>\n",
       "      <td>1.000000</td>\n",
       "      <td>0.600913</td>\n",
       "    </tr>\n",
       "    <tr>\n",
       "      <th>price</th>\n",
       "      <td>0.553443</td>\n",
       "      <td>0.376016</td>\n",
       "      <td>0.600913</td>\n",
       "      <td>1.000000</td>\n",
       "    </tr>\n",
       "  </tbody>\n",
       "</table>\n",
       "</div>\n",
       "      <button class=\"colab-df-convert\" onclick=\"convertToInteractive('df-05924911-512d-4bc3-98cc-10a438ab6608')\"\n",
       "              title=\"Convert this dataframe to an interactive table.\"\n",
       "              style=\"display:none;\">\n",
       "        \n",
       "  <svg xmlns=\"http://www.w3.org/2000/svg\" height=\"24px\"viewBox=\"0 0 24 24\"\n",
       "       width=\"24px\">\n",
       "    <path d=\"M0 0h24v24H0V0z\" fill=\"none\"/>\n",
       "    <path d=\"M18.56 5.44l.94 2.06.94-2.06 2.06-.94-2.06-.94-.94-2.06-.94 2.06-2.06.94zm-11 1L8.5 8.5l.94-2.06 2.06-.94-2.06-.94L8.5 2.5l-.94 2.06-2.06.94zm10 10l.94 2.06.94-2.06 2.06-.94-2.06-.94-.94-2.06-.94 2.06-2.06.94z\"/><path d=\"M17.41 7.96l-1.37-1.37c-.4-.4-.92-.59-1.43-.59-.52 0-1.04.2-1.43.59L10.3 9.45l-7.72 7.72c-.78.78-.78 2.05 0 2.83L4 21.41c.39.39.9.59 1.41.59.51 0 1.02-.2 1.41-.59l7.78-7.78 2.81-2.81c.8-.78.8-2.07 0-2.86zM5.41 20L4 18.59l7.72-7.72 1.47 1.35L5.41 20z\"/>\n",
       "  </svg>\n",
       "      </button>\n",
       "      \n",
       "  <style>\n",
       "    .colab-df-container {\n",
       "      display:flex;\n",
       "      flex-wrap:wrap;\n",
       "      gap: 12px;\n",
       "    }\n",
       "\n",
       "    .colab-df-convert {\n",
       "      background-color: #E8F0FE;\n",
       "      border: none;\n",
       "      border-radius: 50%;\n",
       "      cursor: pointer;\n",
       "      display: none;\n",
       "      fill: #1967D2;\n",
       "      height: 32px;\n",
       "      padding: 0 0 0 0;\n",
       "      width: 32px;\n",
       "    }\n",
       "\n",
       "    .colab-df-convert:hover {\n",
       "      background-color: #E2EBFA;\n",
       "      box-shadow: 0px 1px 2px rgba(60, 64, 67, 0.3), 0px 1px 3px 1px rgba(60, 64, 67, 0.15);\n",
       "      fill: #174EA6;\n",
       "    }\n",
       "\n",
       "    [theme=dark] .colab-df-convert {\n",
       "      background-color: #3B4455;\n",
       "      fill: #D2E3FC;\n",
       "    }\n",
       "\n",
       "    [theme=dark] .colab-df-convert:hover {\n",
       "      background-color: #434B5C;\n",
       "      box-shadow: 0px 1px 3px 1px rgba(0, 0, 0, 0.15);\n",
       "      filter: drop-shadow(0px 1px 2px rgba(0, 0, 0, 0.3));\n",
       "      fill: #FFFFFF;\n",
       "    }\n",
       "  </style>\n",
       "\n",
       "      <script>\n",
       "        const buttonEl =\n",
       "          document.querySelector('#df-05924911-512d-4bc3-98cc-10a438ab6608 button.colab-df-convert');\n",
       "        buttonEl.style.display =\n",
       "          google.colab.kernel.accessAllowed ? 'block' : 'none';\n",
       "\n",
       "        async function convertToInteractive(key) {\n",
       "          const element = document.querySelector('#df-05924911-512d-4bc3-98cc-10a438ab6608');\n",
       "          const dataTable =\n",
       "            await google.colab.kernel.invokeFunction('convertToInteractive',\n",
       "                                                     [key], {});\n",
       "          if (!dataTable) return;\n",
       "\n",
       "          const docLinkHtml = 'Like what you see? Visit the ' +\n",
       "            '<a target=\"_blank\" href=https://colab.research.google.com/notebooks/data_table.ipynb>data table notebook</a>'\n",
       "            + ' to learn more about interactive tables.';\n",
       "          element.innerHTML = '';\n",
       "          dataTable['output_type'] = 'display_data';\n",
       "          await google.colab.output.renderOutput(dataTable, element);\n",
       "          const docLink = document.createElement('div');\n",
       "          docLink.innerHTML = docLinkHtml;\n",
       "          element.appendChild(docLink);\n",
       "        }\n",
       "      </script>\n",
       "    </div>\n",
       "  </div>\n",
       "  "
      ],
      "text/plain": [
       "                size  total_sqft      bath     price\n",
       "size        1.000000    0.328299  0.793727  0.553443\n",
       "total_sqft  0.328299    1.000000  0.325862  0.376016\n",
       "bath        0.793727    0.325862  1.000000  0.600913\n",
       "price       0.553443    0.376016  0.600913  1.000000"
      ]
     },
     "execution_count": 342,
     "metadata": {},
     "output_type": "execute_result"
    }
   ],
   "source": [
    "df.corr()"
   ]
  },
  {
   "cell_type": "markdown",
   "id": "bbae2d94",
   "metadata": {
    "id": "bbae2d94"
   },
   "source": [
    "Now we will see corelation between columns"
   ]
  },
  {
   "cell_type": "code",
   "execution_count": 343,
   "id": "9b4747c1",
   "metadata": {
    "colab": {
     "base_uri": "https://localhost:8080/",
     "height": 451
    },
    "id": "9b4747c1",
    "outputId": "fc0bf072-9407-4c17-8ad0-3b90089db5bf"
   },
   "outputs": [
    {
     "data": {
      "image/png": "[encoded data removed]",
      "text/plain": [
       "<Figure size 1000x500 with 2 Axes>"
      ]
     },
     "metadata": {},
     "output_type": "display_data"
    }
   ],
   "source": [
    "plt.figure(figsize=(10,5))\n",
    "sn.heatmap(df.corr(),annot=True,cmap='plasma')\n",
    "plt.show()"
   ]
  },
  {
   "cell_type": "code",
   "execution_count": 344,
   "id": "a5744cad",
   "metadata": {
    "id": "a5744cad"
   },
   "outputs": [],
   "source": [
    "from statsmodels.stats.outliers_influence import variance_inflation_factor\n",
    "col_list = []\n",
    "for col in df.columns:\n",
    "    if ((df[col].dtype != 'object') & (col != 'price') ):#only num cols except for the price column\n",
    "        col_list.append(col)"
   ]
  },
  {
   "cell_type": "code",
   "execution_count": 345,
   "id": "2304bba4",
   "metadata": {
    "colab": {
     "base_uri": "https://localhost:8080/"
    },
    "id": "2304bba4",
    "outputId": "ea1b02d6-d2e4-443b-8531-dbaa1a784e91"
   },
   "outputs": [
    {
     "data": {
      "text/plain": [
       "['size', 'total_sqft', 'bath']"
      ]
     },
     "execution_count": 345,
     "metadata": {},
     "output_type": "execute_result"
    }
   ],
   "source": [
    "col_list"
   ]
  },
  {
   "cell_type": "code",
   "execution_count": 346,
   "id": "8f6a20a2",
   "metadata": {
    "colab": {
     "base_uri": "https://localhost:8080/",
     "height": 423
    },
    "id": "8f6a20a2",
    "outputId": "47110db5-98b5-473d-b3d2-bf62a4d25f7a"
   },
   "outputs": [
    {
     "data": {
      "text/html": [
       "\n",
       "  <div id=\"df-4c0e9b22-d0c7-4ebc-b1cb-d8d557c8d32b\">\n",
       "    <div class=\"colab-df-container\">\n",
       "      <div>\n",
       "<style scoped>\n",
       "    .dataframe tbody tr th:only-of-type {\n",
       "        vertical-align: middle;\n",
       "    }\n",
       "\n",
       "    .dataframe tbody tr th {\n",
       "        vertical-align: top;\n",
       "    }\n",
       "\n",
       "    .dataframe thead th {\n",
       "        text-align: right;\n",
       "    }\n",
       "</style>\n",
       "<table border=\"1\" class=\"dataframe\">\n",
       "  <thead>\n",
       "    <tr style=\"text-align: right;\">\n",
       "      <th></th>\n",
       "      <th>size</th>\n",
       "      <th>total_sqft</th>\n",
       "      <th>bath</th>\n",
       "    </tr>\n",
       "  </thead>\n",
       "  <tbody>\n",
       "    <tr>\n",
       "      <th>0</th>\n",
       "      <td>2</td>\n",
       "      <td>1056.0</td>\n",
       "      <td>2</td>\n",
       "    </tr>\n",
       "    <tr>\n",
       "      <th>2</th>\n",
       "      <td>3</td>\n",
       "      <td>1440.0</td>\n",
       "      <td>2</td>\n",
       "    </tr>\n",
       "    <tr>\n",
       "      <th>3</th>\n",
       "      <td>3</td>\n",
       "      <td>1521.0</td>\n",
       "      <td>3</td>\n",
       "    </tr>\n",
       "    <tr>\n",
       "      <th>4</th>\n",
       "      <td>2</td>\n",
       "      <td>1200.0</td>\n",
       "      <td>2</td>\n",
       "    </tr>\n",
       "    <tr>\n",
       "      <th>5</th>\n",
       "      <td>2</td>\n",
       "      <td>1170.0</td>\n",
       "      <td>2</td>\n",
       "    </tr>\n",
       "    <tr>\n",
       "      <th>...</th>\n",
       "      <td>...</td>\n",
       "      <td>...</td>\n",
       "      <td>...</td>\n",
       "    </tr>\n",
       "    <tr>\n",
       "      <th>13309</th>\n",
       "      <td>3</td>\n",
       "      <td>1675.0</td>\n",
       "      <td>3</td>\n",
       "    </tr>\n",
       "    <tr>\n",
       "      <th>13310</th>\n",
       "      <td>2</td>\n",
       "      <td>1050.0</td>\n",
       "      <td>2</td>\n",
       "    </tr>\n",
       "    <tr>\n",
       "      <th>13312</th>\n",
       "      <td>2</td>\n",
       "      <td>1262.0</td>\n",
       "      <td>2</td>\n",
       "    </tr>\n",
       "    <tr>\n",
       "      <th>13314</th>\n",
       "      <td>3</td>\n",
       "      <td>1715.0</td>\n",
       "      <td>3</td>\n",
       "    </tr>\n",
       "    <tr>\n",
       "      <th>13317</th>\n",
       "      <td>2</td>\n",
       "      <td>1141.0</td>\n",
       "      <td>2</td>\n",
       "    </tr>\n",
       "  </tbody>\n",
       "</table>\n",
       "<p>10173 rows × 3 columns</p>\n",
       "</div>\n",
       "      <button class=\"colab-df-convert\" onclick=\"convertToInteractive('df-4c0e9b22-d0c7-4ebc-b1cb-d8d557c8d32b')\"\n",
       "              title=\"Convert this dataframe to an interactive table.\"\n",
       "              style=\"display:none;\">\n",
       "        \n",
       "  <svg xmlns=\"http://www.w3.org/2000/svg\" height=\"24px\"viewBox=\"0 0 24 24\"\n",
       "       width=\"24px\">\n",
       "    <path d=\"M0 0h24v24H0V0z\" fill=\"none\"/>\n",
       "    <path d=\"M18.56 5.44l.94 2.06.94-2.06 2.06-.94-2.06-.94-.94-2.06-.94 2.06-2.06.94zm-11 1L8.5 8.5l.94-2.06 2.06-.94-2.06-.94L8.5 2.5l-.94 2.06-2.06.94zm10 10l.94 2.06.94-2.06 2.06-.94-2.06-.94-.94-2.06-.94 2.06-2.06.94z\"/><path d=\"M17.41 7.96l-1.37-1.37c-.4-.4-.92-.59-1.43-.59-.52 0-1.04.2-1.43.59L10.3 9.45l-7.72 7.72c-.78.78-.78 2.05 0 2.83L4 21.41c.39.39.9.59 1.41.59.51 0 1.02-.2 1.41-.59l7.78-7.78 2.81-2.81c.8-.78.8-2.07 0-2.86zM5.41 20L4 18.59l7.72-7.72 1.47 1.35L5.41 20z\"/>\n",
       "  </svg>\n",
       "      </button>\n",
       "      \n",
       "  <style>\n",
       "    .colab-df-container {\n",
       "      display:flex;\n",
       "      flex-wrap:wrap;\n",
       "      gap: 12px;\n",
       "    }\n",
       "\n",
       "    .colab-df-convert {\n",
       "      background-color: #E8F0FE;\n",
       "      border: none;\n",
       "      border-radius: 50%;\n",
       "      cursor: pointer;\n",
       "      display: none;\n",
       "      fill: #1967D2;\n",
       "      height: 32px;\n",
       "      padding: 0 0 0 0;\n",
       "      width: 32px;\n",
       "    }\n",
       "\n",
       "    .colab-df-convert:hover {\n",
       "      background-color: #E2EBFA;\n",
       "      box-shadow: 0px 1px 2px rgba(60, 64, 67, 0.3), 0px 1px 3px 1px rgba(60, 64, 67, 0.15);\n",
       "      fill: #174EA6;\n",
       "    }\n",
       "\n",
       "    [theme=dark] .colab-df-convert {\n",
       "      background-color: #3B4455;\n",
       "      fill: #D2E3FC;\n",
       "    }\n",
       "\n",
       "    [theme=dark] .colab-df-convert:hover {\n",
       "      background-color: #434B5C;\n",
       "      box-shadow: 0px 1px 3px 1px rgba(0, 0, 0, 0.15);\n",
       "      filter: drop-shadow(0px 1px 2px rgba(0, 0, 0, 0.3));\n",
       "      fill: #FFFFFF;\n",
       "    }\n",
       "  </style>\n",
       "\n",
       "      <script>\n",
       "        const buttonEl =\n",
       "          document.querySelector('#df-4c0e9b22-d0c7-4ebc-b1cb-d8d557c8d32b button.colab-df-convert');\n",
       "        buttonEl.style.display =\n",
       "          google.colab.kernel.accessAllowed ? 'block' : 'none';\n",
       "\n",
       "        async function convertToInteractive(key) {\n",
       "          const element = document.querySelector('#df-4c0e9b22-d0c7-4ebc-b1cb-d8d557c8d32b');\n",
       "          const dataTable =\n",
       "            await google.colab.kernel.invokeFunction('convertToInteractive',\n",
       "                                                     [key], {});\n",
       "          if (!dataTable) return;\n",
       "\n",
       "          const docLinkHtml = 'Like what you see? Visit the ' +\n",
       "            '<a target=\"_blank\" href=https://colab.research.google.com/notebooks/data_table.ipynb>data table notebook</a>'\n",
       "            + ' to learn more about interactive tables.';\n",
       "          element.innerHTML = '';\n",
       "          dataTable['output_type'] = 'display_data';\n",
       "          await google.colab.output.renderOutput(dataTable, element);\n",
       "          const docLink = document.createElement('div');\n",
       "          docLink.innerHTML = docLinkHtml;\n",
       "          element.appendChild(docLink);\n",
       "        }\n",
       "      </script>\n",
       "    </div>\n",
       "  </div>\n",
       "  "
      ],
      "text/plain": [
       "       size  total_sqft  bath\n",
       "0         2      1056.0     2\n",
       "2         3      1440.0     2\n",
       "3         3      1521.0     3\n",
       "4         2      1200.0     2\n",
       "5         2      1170.0     2\n",
       "...     ...         ...   ...\n",
       "13309     3      1675.0     3\n",
       "13310     2      1050.0     2\n",
       "13312     2      1262.0     2\n",
       "13314     3      1715.0     3\n",
       "13317     2      1141.0     2\n",
       "\n",
       "[10173 rows x 3 columns]"
      ]
     },
     "execution_count": 346,
     "metadata": {},
     "output_type": "execute_result"
    }
   ],
   "source": [
    "X = df[col_list]\n",
    "X"
   ]
  },
  {
   "cell_type": "code",
   "execution_count": 347,
   "id": "5c86d95b",
   "metadata": {
    "colab": {
     "base_uri": "https://localhost:8080/"
    },
    "id": "5c86d95b",
    "outputId": "c67eab92-60c8-4380-defa-2c5cdb2aa080"
   },
   "outputs": [
    {
     "name": "stdout",
     "output_type": "stream",
     "text": [
      "0\n",
      "1\n",
      "2\n"
     ]
    }
   ],
   "source": [
    "for i in range(len(X.columns)):\n",
    "    print(i)"
   ]
  },
  {
   "cell_type": "code",
   "execution_count": 348,
   "id": "51d43576",
   "metadata": {
    "colab": {
     "base_uri": "https://localhost:8080/"
    },
    "id": "51d43576",
    "outputId": "73952e18-b7f8-4e46-bf57-66e3656bf50c"
   },
   "outputs": [
    {
     "data": {
      "text/plain": [
       "location       0\n",
       "size           0\n",
       "total_sqft    30\n",
       "bath           0\n",
       "price          0\n",
       "dtype: int64"
      ]
     },
     "execution_count": 348,
     "metadata": {},
     "output_type": "execute_result"
    }
   ],
   "source": [
    "df.isna().sum()"
   ]
  },
  {
   "cell_type": "code",
   "execution_count": 349,
   "id": "61af65a8",
   "metadata": {
    "id": "61af65a8"
   },
   "outputs": [],
   "source": [
    "df.dropna(inplace=True)"
   ]
  },
  {
   "cell_type": "code",
   "execution_count": 350,
   "id": "b473eb89",
   "metadata": {
    "colab": {
     "base_uri": "https://localhost:8080/"
    },
    "id": "b473eb89",
    "outputId": "4f4079ef-28c3-423b-9e98-f458ef90de62"
   },
   "outputs": [
    {
     "name": "stdout",
     "output_type": "stream",
     "text": [
      "      feature        VIF\n",
      "0        size  32.857358\n",
      "1  total_sqft   3.978759\n",
      "2        bath  32.591579\n"
     ]
    }
   ],
   "source": [
    "from statsmodels.stats.outliers_influence import variance_inflation_factor\n",
    "col_list = []\n",
    "for col in df.columns:\n",
    "    if ((df[col].dtype != 'object') & (col != 'price') ):\n",
    "        col_list.append(col)\n",
    "\n",
    "X = df[col_list]\n",
    "vif_data = pd.DataFrame()\n",
    "vif_data[\"feature\"] = X.columns\n",
    "vif_data[\"VIF\"] = [variance_inflation_factor(X.values, i) for i in range(len(X.columns))]\n",
    "print(vif_data)"
   ]
  },
  {
   "cell_type": "markdown",
   "id": "d5899ba7",
   "metadata": {
    "id": "d5899ba7"
   },
   "source": [
    "Since,size and bath are highly correlated with each other,it will impact model performance due to multicollinearity.\n",
    "so,its better to remove one of the column to avoid further issues.since size of the room is important while taking home.we will remove bath"
   ]
  },
  {
   "cell_type": "code",
   "execution_count": 351,
   "id": "30800cca",
   "metadata": {
    "id": "30800cca"
   },
   "outputs": [],
   "source": [
    "df.drop(columns='bath',inplace=True)"
   ]
  },
  {
   "cell_type": "code",
   "execution_count": 352,
   "id": "abd152f6",
   "metadata": {
    "colab": {
     "base_uri": "https://localhost:8080/",
     "height": 451
    },
    "id": "abd152f6",
    "outputId": "d67050a7-16db-43a0-f05b-af1f1faa5d32"
   },
   "outputs": [
    {
     "data": {
      "image/png": "[encoded data removed]",
      "text/plain": [
       "<Figure size 1000x500 with 2 Axes>"
      ]
     },
     "metadata": {},
     "output_type": "display_data"
    }
   ],
   "source": [
    "plt.figure(figsize=(10,5))\n",
    "sn.heatmap(df.corr(),annot=True,cmap='plasma')\n",
    "plt.show()"
   ]
  },
  {
   "cell_type": "code",
   "execution_count": 353,
   "id": "afbb0b23",
   "metadata": {
    "colab": {
     "base_uri": "https://localhost:8080/"
    },
    "id": "afbb0b23",
    "outputId": "e18c465a-f9db-4b4a-d0dc-5dbe6d569cc6"
   },
   "outputs": [
    {
     "name": "stdout",
     "output_type": "stream",
     "text": [
      "      feature       VIF\n",
      "0        size  3.902636\n",
      "1  total_sqft  3.902636\n"
     ]
    }
   ],
   "source": [
    "from statsmodels.stats.outliers_influence import variance_inflation_factor\n",
    "col_list = []\n",
    "for col in df.columns:\n",
    "    if ((df[col].dtype != 'object') & (col != 'price') ):\n",
    "        col_list.append(col)\n",
    "\n",
    "X = df[col_list]\n",
    "vif_data = pd.DataFrame()\n",
    "vif_data[\"feature\"] = X.columns\n",
    "vif_data[\"VIF\"] = [variance_inflation_factor(X.values, i) for i in range(len(X.columns))]\n",
    "print(vif_data)"
   ]
  },
  {
   "cell_type": "code",
   "execution_count": 354,
   "id": "df01210b",
   "metadata": {
    "colab": {
     "base_uri": "https://localhost:8080/",
     "height": 206
    },
    "id": "df01210b",
    "outputId": "ac158962-cf9b-48c7-ab00-8abd54318813"
   },
   "outputs": [
    {
     "data": {
      "text/html": [
       "\n",
       "  <div id=\"df-8108601c-b6a3-4a3b-8798-ecdedb598232\">\n",
       "    <div class=\"colab-df-container\">\n",
       "      <div>\n",
       "<style scoped>\n",
       "    .dataframe tbody tr th:only-of-type {\n",
       "        vertical-align: middle;\n",
       "    }\n",
       "\n",
       "    .dataframe tbody tr th {\n",
       "        vertical-align: top;\n",
       "    }\n",
       "\n",
       "    .dataframe thead th {\n",
       "        text-align: right;\n",
       "    }\n",
       "</style>\n",
       "<table border=\"1\" class=\"dataframe\">\n",
       "  <thead>\n",
       "    <tr style=\"text-align: right;\">\n",
       "      <th></th>\n",
       "      <th>location</th>\n",
       "      <th>size</th>\n",
       "      <th>total_sqft</th>\n",
       "      <th>price</th>\n",
       "    </tr>\n",
       "  </thead>\n",
       "  <tbody>\n",
       "    <tr>\n",
       "      <th>0</th>\n",
       "      <td>Electronic City Phase II</td>\n",
       "      <td>2</td>\n",
       "      <td>1056.0</td>\n",
       "      <td>39.07</td>\n",
       "    </tr>\n",
       "    <tr>\n",
       "      <th>2</th>\n",
       "      <td>Uttarahalli</td>\n",
       "      <td>3</td>\n",
       "      <td>1440.0</td>\n",
       "      <td>62.00</td>\n",
       "    </tr>\n",
       "    <tr>\n",
       "      <th>3</th>\n",
       "      <td>Lingadheeranahalli</td>\n",
       "      <td>3</td>\n",
       "      <td>1521.0</td>\n",
       "      <td>95.00</td>\n",
       "    </tr>\n",
       "    <tr>\n",
       "      <th>4</th>\n",
       "      <td>Kothanur</td>\n",
       "      <td>2</td>\n",
       "      <td>1200.0</td>\n",
       "      <td>51.00</td>\n",
       "    </tr>\n",
       "    <tr>\n",
       "      <th>5</th>\n",
       "      <td>Whitefield</td>\n",
       "      <td>2</td>\n",
       "      <td>1170.0</td>\n",
       "      <td>38.00</td>\n",
       "    </tr>\n",
       "  </tbody>\n",
       "</table>\n",
       "</div>\n",
       "      <button class=\"colab-df-convert\" onclick=\"convertToInteractive('df-8108601c-b6a3-4a3b-8798-ecdedb598232')\"\n",
       "              title=\"Convert this dataframe to an interactive table.\"\n",
       "              style=\"display:none;\">\n",
       "        \n",
       "  <svg xmlns=\"http://www.w3.org/2000/svg\" height=\"24px\"viewBox=\"0 0 24 24\"\n",
       "       width=\"24px\">\n",
       "    <path d=\"M0 0h24v24H0V0z\" fill=\"none\"/>\n",
       "    <path d=\"M18.56 5.44l.94 2.06.94-2.06 2.06-.94-2.06-.94-.94-2.06-.94 2.06-2.06.94zm-11 1L8.5 8.5l.94-2.06 2.06-.94-2.06-.94L8.5 2.5l-.94 2.06-2.06.94zm10 10l.94 2.06.94-2.06 2.06-.94-2.06-.94-.94-2.06-.94 2.06-2.06.94z\"/><path d=\"M17.41 7.96l-1.37-1.37c-.4-.4-.92-.59-1.43-.59-.52 0-1.04.2-1.43.59L10.3 9.45l-7.72 7.72c-.78.78-.78 2.05 0 2.83L4 21.41c.39.39.9.59 1.41.59.51 0 1.02-.2 1.41-.59l7.78-7.78 2.81-2.81c.8-.78.8-2.07 0-2.86zM5.41 20L4 18.59l7.72-7.72 1.47 1.35L5.41 20z\"/>\n",
       "  </svg>\n",
       "      </button>\n",
       "      \n",
       "  <style>\n",
       "    .colab-df-container {\n",
       "      display:flex;\n",
       "      flex-wrap:wrap;\n",
       "      gap: 12px;\n",
       "    }\n",
       "\n",
       "    .colab-df-convert {\n",
       "      background-color: #E8F0FE;\n",
       "      border: none;\n",
       "      border-radius: 50%;\n",
       "      cursor: pointer;\n",
       "      display: none;\n",
       "      fill: #1967D2;\n",
       "      height: 32px;\n",
       "      padding: 0 0 0 0;\n",
       "      width: 32px;\n",
       "    }\n",
       "\n",
       "    .colab-df-convert:hover {\n",
       "      background-color: #E2EBFA;\n",
       "      box-shadow: 0px 1px 2px rgba(60, 64, 67, 0.3), 0px 1px 3px 1px rgba(60, 64, 67, 0.15);\n",
       "      fill: #174EA6;\n",
       "    }\n",
       "\n",
       "    [theme=dark] .colab-df-convert {\n",
       "      background-color: #3B4455;\n",
       "      fill: #D2E3FC;\n",
       "    }\n",
       "\n",
       "    [theme=dark] .colab-df-convert:hover {\n",
       "      background-color: #434B5C;\n",
       "      box-shadow: 0px 1px 3px 1px rgba(0, 0, 0, 0.15);\n",
       "      filter: drop-shadow(0px 1px 2px rgba(0, 0, 0, 0.3));\n",
       "      fill: #FFFFFF;\n",
       "    }\n",
       "  </style>\n",
       "\n",
       "      <script>\n",
       "        const buttonEl =\n",
       "          document.querySelector('#df-8108601c-b6a3-4a3b-8798-ecdedb598232 button.colab-df-convert');\n",
       "        buttonEl.style.display =\n",
       "          google.colab.kernel.accessAllowed ? 'block' : 'none';\n",
       "\n",
       "        async function convertToInteractive(key) {\n",
       "          const element = document.querySelector('#df-8108601c-b6a3-4a3b-8798-ecdedb598232');\n",
       "          const dataTable =\n",
       "            await google.colab.kernel.invokeFunction('convertToInteractive',\n",
       "                                                     [key], {});\n",
       "          if (!dataTable) return;\n",
       "\n",
       "          const docLinkHtml = 'Like what you see? Visit the ' +\n",
       "            '<a target=\"_blank\" href=https://colab.research.google.com/notebooks/data_table.ipynb>data table notebook</a>'\n",
       "            + ' to learn more about interactive tables.';\n",
       "          element.innerHTML = '';\n",
       "          dataTable['output_type'] = 'display_data';\n",
       "          await google.colab.output.renderOutput(dataTable, element);\n",
       "          const docLink = document.createElement('div');\n",
       "          docLink.innerHTML = docLinkHtml;\n",
       "          element.appendChild(docLink);\n",
       "        }\n",
       "      </script>\n",
       "    </div>\n",
       "  </div>\n",
       "  "
      ],
      "text/plain": [
       "                   location  size  total_sqft  price\n",
       "0  Electronic City Phase II     2      1056.0  39.07\n",
       "2               Uttarahalli     3      1440.0  62.00\n",
       "3        Lingadheeranahalli     3      1521.0  95.00\n",
       "4                  Kothanur     2      1200.0  51.00\n",
       "5                Whitefield     2      1170.0  38.00"
      ]
     },
     "execution_count": 354,
     "metadata": {},
     "output_type": "execute_result"
    }
   ],
   "source": [
    "df.head()"
   ]
  },
  {
   "cell_type": "code",
   "execution_count": 355,
   "id": "197e2ca6",
   "metadata": {
    "id": "197e2ca6"
   },
   "outputs": [],
   "source": [
    "df.to_csv('Banglore_house_price_predicted.csv')"
   ]
  },
  {
   "cell_type": "markdown",
   "id": "57a2959c",
   "metadata": {
    "id": "57a2959c"
   },
   "source": [
    "# Model buliding"
   ]
  },
  {
   "cell_type": "code",
   "execution_count": 356,
   "id": "ee045aea",
   "metadata": {
    "id": "ee045aea"
   },
   "outputs": [],
   "source": [
    "test = df['price']\n",
    "train = df.drop(['price'],axis = 1)"
   ]
  },
  {
   "cell_type": "code",
   "execution_count": 357,
   "id": "a026d083",
   "metadata": {
    "id": "a026d083"
   },
   "outputs": [],
   "source": [
    "from sklearn.model_selection import train_test_split\n",
    "from sklearn.preprocessing import MinMaxScaler,StandardScaler\n",
    "from sklearn.pipeline import Pipeline\n",
    "from sklearn.compose import ColumnTransformer\n",
    "from sklearn.preprocessing import LabelEncoder,OneHotEncoder\n",
    "from sklearn import metrics\n",
    "from sklearn.model_selection import GridSearchCV,RandomizedSearchCV\n",
    "from sklearn.linear_model import LinearRegression,Lasso,Ridge\n",
    "from sklearn.tree import DecisionTreeRegressor\n",
    "from sklearn.ensemble import RandomForestRegressor,GradientBoostingRegressor,AdaBoostRegressor\n",
    "from xgboost import XGBRegressor\n",
    "from sklearn.svm import SVR\n",
    "from sklearn.neighbors import KNeighborsRegressor\n",
    "from sklearn import tree"
   ]
  },
  {
   "cell_type": "code",
   "execution_count": 358,
   "id": "e90de685",
   "metadata": {
    "colab": {
     "base_uri": "https://localhost:8080/"
    },
    "id": "e90de685",
    "outputId": "dca7e956-bb86-466f-a9db-0c546bfb4cbf"
   },
   "outputs": [
    {
     "data": {
      "text/plain": [
       "((8621, 3), (1522, 3))"
      ]
     },
     "execution_count": 358,
     "metadata": {},
     "output_type": "execute_result"
    }
   ],
   "source": [
    "X_train, X_test, y_train, y_test = train_test_split(train,test,\n",
    "                                                   test_size=0.15,random_state=2)\n",
    "\n",
    "X_train.shape,X_test.shape"
   ]
  },
  {
   "cell_type": "markdown",
   "id": "58da55e7",
   "metadata": {
    "id": "58da55e7"
   },
   "source": [
    "There's a Class which we imported named as Column Trasnformer we use this widely while building our models using Pipelines,so for this we have to get the index numbers of the columns which are having categorical variables"
   ]
  },
  {
   "cell_type": "code",
   "execution_count": 359,
   "id": "bf15cae6",
   "metadata": {
    "colab": {
     "base_uri": "https://localhost:8080/"
    },
    "id": "bf15cae6",
    "outputId": "77192c12-4a5e-4330-ec8c-65a6aa65765b"
   },
   "outputs": [
    {
     "data": {
      "text/plain": [
       "{0: 'location', 1: 'size', 2: 'total_sqft'}"
      ]
     },
     "execution_count": 359,
     "metadata": {},
     "output_type": "execute_result"
    }
   ],
   "source": [
    "mapper = {i:value for i,value in enumerate(X_train.columns)}\n",
    "mapper"
   ]
  },
  {
   "cell_type": "markdown",
   "id": "87bfb0bd",
   "metadata": {
    "id": "87bfb0bd"
   },
   "source": [
    "### Linear Regression"
   ]
  },
  {
   "cell_type": "code",
   "execution_count": 360,
   "id": "cc15c248",
   "metadata": {
    "colab": {
     "base_uri": "https://localhost:8080/"
    },
    "id": "cc15c248",
    "outputId": "d4c298df-9fba-4505-a12c-33adbf8794d3"
   },
   "outputs": [
    {
     "name": "stdout",
     "output_type": "stream",
     "text": [
      "R2 score 0.44595274452591116\n",
      "MAE 18.641642802894722\n"
     ]
    }
   ],
   "source": [
    "step1 = ColumnTransformer(transformers=[\n",
    "    ('col_tnf1',OneHotEncoder(sparse=False,drop='first'),[0]),\n",
    "    ('col_tnf2',MinMaxScaler(feature_range=(0, 1)),[1,2])\n",
    "],remainder='passthrough')\n",
    "\n",
    "step2 = LinearRegression()\n",
    "\n",
    "pipe = Pipeline([\n",
    "    ('step1',step1),\n",
    "    ('step2',step2)\n",
    "])\n",
    "\n",
    "pipe.fit(X_train,y_train)\n",
    "\n",
    "y_pred = pipe.predict(X_test)\n",
    "\n",
    "print('R2 score',metrics.r2_score(y_test,y_pred))\n",
    "print('MAE',metrics.mean_absolute_error(y_test,y_pred))"
   ]
  },
  {
   "cell_type": "code",
   "execution_count": 360,
   "id": "75f8ab93",
   "metadata": {
    "id": "75f8ab93"
   },
   "outputs": [],
   "source": []
  },
  {
   "cell_type": "markdown",
   "id": "7085801a",
   "metadata": {
    "id": "7085801a"
   },
   "source": [
    "### Ridge Regression"
   ]
  },
  {
   "cell_type": "code",
   "execution_count": 361,
   "id": "00a1b0c6",
   "metadata": {
    "colab": {
     "base_uri": "https://localhost:8080/"
    },
    "id": "00a1b0c6",
    "outputId": "1dc2fbbe-a8c3-4f55-8bb2-48a5958c5f25"
   },
   "outputs": [
    {
     "name": "stdout",
     "output_type": "stream",
     "text": [
      "R2 score 0.44331980543479665\n",
      "MAE 19.237882597935716\n"
     ]
    }
   ],
   "source": [
    "step1 = ColumnTransformer(transformers=[\n",
    "    ('col_tnf',OneHotEncoder(sparse=False,drop='first'),[0]),\n",
    "    ('col_tnf2',MinMaxScaler(feature_range=(0, 1)),[1,2])\n",
    "],remainder='passthrough')\n",
    "\n",
    "step2 = Ridge(alpha=10)\n",
    "\n",
    "pipe = Pipeline([\n",
    "    ('step1',step1),\n",
    "    ('step2',step2)\n",
    "])\n",
    "\n",
    "pipe.fit(X_train,y_train)\n",
    "\n",
    "y_pred = pipe.predict(X_test)\n",
    "\n",
    "print('R2 score',metrics.r2_score(y_test,y_pred))\n",
    "print('MAE',metrics.mean_absolute_error(y_test,y_pred))"
   ]
  },
  {
   "cell_type": "markdown",
   "id": "472c4b40",
   "metadata": {
    "id": "472c4b40"
   },
   "source": [
    "### Lasso regression"
   ]
  },
  {
   "cell_type": "code",
   "execution_count": 362,
   "id": "824013ef",
   "metadata": {
    "colab": {
     "base_uri": "https://localhost:8080/"
    },
    "id": "824013ef",
    "outputId": "1894f45b-e774-4430-964d-e2f321767239"
   },
   "outputs": [
    {
     "name": "stdout",
     "output_type": "stream",
     "text": [
      "R2 score 0.44974299376281646\n",
      "MAE 18.58071527150165\n"
     ]
    }
   ],
   "source": [
    "step1 = ColumnTransformer(transformers=[\n",
    "    ('col_tnf',OneHotEncoder(sparse=False,drop='first'),[0]),\n",
    "    ('col_tnf2',MinMaxScaler(feature_range=(0, 1)),[1,2])\n",
    "],remainder='passthrough')\n",
    "\n",
    "step2 = Lasso(alpha=0.001)\n",
    "\n",
    "pipe = Pipeline([\n",
    "    ('step1',step1),\n",
    "    ('step2',step2)\n",
    "])\n",
    "\n",
    "pipe.fit(X_train,y_train)\n",
    "\n",
    "y_pred = pipe.predict(X_test)\n",
    "\n",
    "print('R2 score',metrics.r2_score(y_test,y_pred))\n",
    "print('MAE',metrics.mean_absolute_error(y_test,y_pred))"
   ]
  },
  {
   "cell_type": "markdown",
   "id": "8a1db88a",
   "metadata": {
    "id": "8a1db88a"
   },
   "source": [
    "### Decision Tree"
   ]
  },
  {
   "cell_type": "code",
   "execution_count": 363,
   "id": "09bc0692",
   "metadata": {
    "colab": {
     "base_uri": "https://localhost:8080/"
    },
    "id": "09bc0692",
    "outputId": "05a1f3b9-5ec4-4c07-df3f-3b6ee23a0661"
   },
   "outputs": [
    {
     "name": "stdout",
     "output_type": "stream",
     "text": [
      "R2 score 0.4907448397234816\n",
      "MAE 16.404075139000923\n"
     ]
    }
   ],
   "source": [
    "step1 = ColumnTransformer(transformers=[\n",
    "    ('col_tnf',OneHotEncoder(sparse=False,drop='first'),[0]),\n",
    "    ('col_tnf2',MinMaxScaler(feature_range=(0, 1)),[1,2])\n",
    "],remainder='passthrough')\n",
    "\n",
    "step2 = DecisionTreeRegressor()\n",
    "\n",
    "pipe = Pipeline([\n",
    "    ('step1',step1),\n",
    "    ('step2',step2)\n",
    "])\n",
    "\n",
    "pipe.fit(X_train,y_train)\n",
    "\n",
    "y_pred = pipe.predict(X_test)\n",
    "\n",
    "print('R2 score',metrics.r2_score(y_test,y_pred))\n",
    "print('MAE',metrics.mean_absolute_error(y_test,y_pred))"
   ]
  },
  {
   "cell_type": "markdown",
   "id": "aae7e4c5",
   "metadata": {
    "id": "aae7e4c5"
   },
   "source": [
    "### Random Forest"
   ]
  },
  {
   "cell_type": "code",
   "execution_count": 364,
   "id": "815e04ff",
   "metadata": {
    "colab": {
     "base_uri": "https://localhost:8080/"
    },
    "id": "815e04ff",
    "outputId": "357038c0-945c-46b4-e688-d58b32042131"
   },
   "outputs": [
    {
     "name": "stdout",
     "output_type": "stream",
     "text": [
      "R2 score 0.6033882628115532\n",
      "MAE 14.734065415067688\n"
     ]
    }
   ],
   "source": [
    "step1 = ColumnTransformer(transformers=[\n",
    "    ('col_tnf',OneHotEncoder(sparse=False,drop='first'),[0]),\n",
    "    ('col_tnf2',MinMaxScaler(feature_range=(0, 1)),[1,2])\n",
    "],remainder='passthrough')\n",
    "\n",
    "step2 = RandomForestRegressor()\n",
    "\n",
    "pipe = Pipeline([\n",
    "    ('step1',step1),\n",
    "    ('step2',step2)\n",
    "])\n",
    "\n",
    "pipe.fit(X_train,y_train)\n",
    "\n",
    "y_pred = pipe.predict(X_test)\n",
    "\n",
    "print('R2 score',metrics.r2_score(y_test,y_pred))\n",
    "print('MAE',metrics.mean_absolute_error(y_test,y_pred))"
   ]
  },
  {
   "cell_type": "code",
   "execution_count": 365,
   "id": "Yl_2WQJ2IHJV",
   "metadata": {
    "id": "Yl_2WQJ2IHJV"
   },
   "outputs": [],
   "source": [
    "import pickle\n",
    "file = open('pipe.pkl','wb')\n",
    "pickle.dump(pipe,file)\n",
    "file.close()"
   ]
  },
  {
   "cell_type": "markdown",
   "id": "3e60e2aa",
   "metadata": {
    "id": "3e60e2aa"
   },
   "source": [
    "### Adaboost"
   ]
  },
  {
   "cell_type": "code",
   "execution_count": 366,
   "id": "05256fe5",
   "metadata": {
    "colab": {
     "base_uri": "https://localhost:8080/"
    },
    "id": "05256fe5",
    "outputId": "21a0ba82-2205-44a0-e950-b5fa99653ba1"
   },
   "outputs": [
    {
     "name": "stdout",
     "output_type": "stream",
     "text": [
      "R2 score 0.48269911799405596\n",
      "MAE 20.21822254679695\n"
     ]
    }
   ],
   "source": [
    "step1 = ColumnTransformer(transformers=[\n",
    "    ('col_tnf',OneHotEncoder(sparse=False,drop='first'),[0]),\n",
    "    ('col_tnf2',MinMaxScaler(feature_range=(0, 1)),[1,2])\n",
    "],remainder='passthrough')\n",
    "\n",
    "step2 = AdaBoostRegressor()\n",
    "\n",
    "pipe = Pipeline([\n",
    "    ('step1',step1),\n",
    "    ('step2',step2)\n",
    "])\n",
    "\n",
    "pipe.fit(X_train,y_train)\n",
    "\n",
    "y_pred = pipe.predict(X_test)\n",
    "\n",
    "print('R2 score',metrics.r2_score(y_test,y_pred))\n",
    "print('MAE',metrics.mean_absolute_error(y_test,y_pred))"
   ]
  },
  {
   "cell_type": "markdown",
   "id": "ddcf16a9",
   "metadata": {
    "id": "ddcf16a9"
   },
   "source": [
    "### Gradient boost"
   ]
  },
  {
   "cell_type": "code",
   "execution_count": 367,
   "id": "34b13c79",
   "metadata": {
    "colab": {
     "base_uri": "https://localhost:8080/"
    },
    "id": "34b13c79",
    "outputId": "432f131e-a87c-4ecc-b7af-8740da6dfd0e"
   },
   "outputs": [
    {
     "name": "stdout",
     "output_type": "stream",
     "text": [
      "R2 score 0.612040368865888\n",
      "MAE 15.882350392964668\n"
     ]
    }
   ],
   "source": [
    "step1 = ColumnTransformer(transformers=[\n",
    "    ('col_tnf',OneHotEncoder(sparse=False,drop='first'),[0]),\n",
    "    ('col_tnf2',MinMaxScaler(feature_range=(0, 1)),[1,2])\n",
    "],remainder='passthrough')\n",
    "\n",
    "step2 = GradientBoostingRegressor()\n",
    "\n",
    "pipe = Pipeline([\n",
    "    ('step1',step1),\n",
    "    ('step2',step2)\n",
    "])\n",
    "\n",
    "pipe.fit(X_train,y_train)\n",
    "\n",
    "y_pred = pipe.predict(X_test)\n",
    "\n",
    "print('R2 score',metrics.r2_score(y_test,y_pred))\n",
    "print('MAE',metrics.mean_absolute_error(y_test,y_pred))"
   ]
  },
  {
   "cell_type": "markdown",
   "id": "9f8de1bd",
   "metadata": {
    "id": "9f8de1bd"
   },
   "source": [
    "### XgbRegressor"
   ]
  },
  {
   "cell_type": "code",
   "execution_count": 368,
   "id": "a832fdab",
   "metadata": {
    "colab": {
     "base_uri": "https://localhost:8080/"
    },
    "id": "a832fdab",
    "outputId": "6087fe27-81a4-4e8f-a479-b0d0896bc256"
   },
   "outputs": [
    {
     "name": "stdout",
     "output_type": "stream",
     "text": [
      "R2 score 0.6415737739540558\n",
      "MAE 14.581753863110338\n"
     ]
    }
   ],
   "source": [
    "step1 = ColumnTransformer(transformers=[\n",
    "    ('col_tnf',OneHotEncoder(sparse=False,drop='first'),[0]),\n",
    "    ('col_tnf2',MinMaxScaler(feature_range=(0, 1)),[1,2])\n",
    "],remainder='passthrough')\n",
    "\n",
    "step2 = XGBRegressor()\n",
    "\n",
    "pipe = Pipeline([\n",
    "    ('step1',step1),\n",
    "    ('step2',step2)\n",
    "])\n",
    "\n",
    "pipe.fit(X_train,y_train)\n",
    "\n",
    "y_pred = pipe.predict(X_test)\n",
    "\n",
    "print('R2 score',metrics.r2_score(y_test,y_pred))\n",
    "print('MAE',metrics.mean_absolute_error(y_test,y_pred))"
   ]
  },
  {
   "cell_type": "markdown",
   "id": "c10d4b09",
   "metadata": {
    "id": "c10d4b09"
   },
   "source": [
    "### SVM"
   ]
  },
  {
   "cell_type": "code",
   "execution_count": 369,
   "id": "c38170b4",
   "metadata": {
    "colab": {
     "base_uri": "https://localhost:8080/"
    },
    "id": "c38170b4",
    "outputId": "d2348f3f-2ccd-4f54-f647-6e413fa375e1"
   },
   "outputs": [
    {
     "name": "stdout",
     "output_type": "stream",
     "text": [
      "R2 score -0.8667780508940783\n",
      "MAE 17.258792887503702\n"
     ]
    }
   ],
   "source": [
    "step1 = ColumnTransformer(transformers=[\n",
    "    ('col_tnf',OneHotEncoder(sparse=False,drop='first'),[0]),\n",
    "    ('col_tnf2',MinMaxScaler(feature_range=(0, 1)),[1,2])\n",
    "],remainder='passthrough')\n",
    "\n",
    "step2 = SVR(kernel='rbf',C=10000,epsilon=0.1)\n",
    "\n",
    "pipe = Pipeline([\n",
    "    ('step1',step1),\n",
    "    ('step2',step2)\n",
    "])\n",
    "\n",
    "pipe.fit(X_train,y_train)\n",
    "\n",
    "y_pred = pipe.predict(X_test)\n",
    "\n",
    "print('R2 score',metrics.r2_score(y_test,y_pred))\n",
    "print('MAE',metrics.mean_absolute_error(y_test,y_pred))"
   ]
  },
  {
   "cell_type": "markdown",
   "id": "39637ba7",
   "metadata": {
    "id": "39637ba7"
   },
   "source": [
    "### Hyperparameter Tuning"
   ]
  },
  {
   "cell_type": "code",
   "execution_count": 370,
   "id": "65c49194",
   "metadata": {
    "colab": {
     "base_uri": "https://localhost:8080/"
    },
    "id": "65c49194",
    "outputId": "c93d94ad-9a80-4e6b-d69e-bc1d2f9b9722"
   },
   "outputs": [
    {
     "data": {
      "text/plain": [
       "['location']"
      ]
     },
     "execution_count": 370,
     "metadata": {},
     "output_type": "execute_result"
    }
   ],
   "source": [
    "indexlist = [0]\n",
    "transformlist = []\n",
    "for key,value in mapper.items():\n",
    "    if key in indexlist:\n",
    "        transformlist.append(value)\n",
    "\n",
    "transformlist"
   ]
  },
  {
   "cell_type": "code",
   "execution_count": 371,
   "id": "ed7fb841",
   "metadata": {
    "colab": {
     "base_uri": "https://localhost:8080/",
     "height": 334
    },
    "id": "ed7fb841",
    "outputId": "e544e275-c40c-4402-e26f-f62b55ba14ab"
   },
   "outputs": [
    {
     "data": {
      "text/html": [
       "\n",
       "  <div id=\"df-56f3c9df-77a4-4fcc-84b1-84dd98537d6f\">\n",
       "    <div class=\"colab-df-container\">\n",
       "      <div>\n",
       "<style scoped>\n",
       "    .dataframe tbody tr th:only-of-type {\n",
       "        vertical-align: middle;\n",
       "    }\n",
       "\n",
       "    .dataframe tbody tr th {\n",
       "        vertical-align: top;\n",
       "    }\n",
       "\n",
       "    .dataframe thead th {\n",
       "        text-align: right;\n",
       "    }\n",
       "</style>\n",
       "<table border=\"1\" class=\"dataframe\">\n",
       "  <thead>\n",
       "    <tr style=\"text-align: right;\">\n",
       "      <th></th>\n",
       "      <th>size</th>\n",
       "      <th>total_sqft</th>\n",
       "      <th>location_1st Phase JP Nagar</th>\n",
       "      <th>location_2nd Stage Nagarbhavi</th>\n",
       "      <th>location_5th Block Hbr Layout</th>\n",
       "      <th>location_5th Phase JP Nagar</th>\n",
       "      <th>location_6th Phase JP Nagar</th>\n",
       "      <th>location_7th Phase JP Nagar</th>\n",
       "      <th>location_8th Phase JP Nagar</th>\n",
       "      <th>location_9th Phase JP Nagar</th>\n",
       "      <th>...</th>\n",
       "      <th>location_Vishveshwarya Layout</th>\n",
       "      <th>location_Vishwapriya Layout</th>\n",
       "      <th>location_Vittasandra</th>\n",
       "      <th>location_Whitefield</th>\n",
       "      <th>location_Yelachenahalli</th>\n",
       "      <th>location_Yelahanka</th>\n",
       "      <th>location_Yelahanka New Town</th>\n",
       "      <th>location_Yelenahalli</th>\n",
       "      <th>location_Yeshwanthpur</th>\n",
       "      <th>location_other</th>\n",
       "    </tr>\n",
       "  </thead>\n",
       "  <tbody>\n",
       "    <tr>\n",
       "      <th>0</th>\n",
       "      <td>2</td>\n",
       "      <td>1056.0</td>\n",
       "      <td>0</td>\n",
       "      <td>0</td>\n",
       "      <td>0</td>\n",
       "      <td>0</td>\n",
       "      <td>0</td>\n",
       "      <td>0</td>\n",
       "      <td>0</td>\n",
       "      <td>0</td>\n",
       "      <td>...</td>\n",
       "      <td>0</td>\n",
       "      <td>0</td>\n",
       "      <td>0</td>\n",
       "      <td>0</td>\n",
       "      <td>0</td>\n",
       "      <td>0</td>\n",
       "      <td>0</td>\n",
       "      <td>0</td>\n",
       "      <td>0</td>\n",
       "      <td>0</td>\n",
       "    </tr>\n",
       "    <tr>\n",
       "      <th>2</th>\n",
       "      <td>3</td>\n",
       "      <td>1440.0</td>\n",
       "      <td>0</td>\n",
       "      <td>0</td>\n",
       "      <td>0</td>\n",
       "      <td>0</td>\n",
       "      <td>0</td>\n",
       "      <td>0</td>\n",
       "      <td>0</td>\n",
       "      <td>0</td>\n",
       "      <td>...</td>\n",
       "      <td>0</td>\n",
       "      <td>0</td>\n",
       "      <td>0</td>\n",
       "      <td>0</td>\n",
       "      <td>0</td>\n",
       "      <td>0</td>\n",
       "      <td>0</td>\n",
       "      <td>0</td>\n",
       "      <td>0</td>\n",
       "      <td>0</td>\n",
       "    </tr>\n",
       "    <tr>\n",
       "      <th>3</th>\n",
       "      <td>3</td>\n",
       "      <td>1521.0</td>\n",
       "      <td>0</td>\n",
       "      <td>0</td>\n",
       "      <td>0</td>\n",
       "      <td>0</td>\n",
       "      <td>0</td>\n",
       "      <td>0</td>\n",
       "      <td>0</td>\n",
       "      <td>0</td>\n",
       "      <td>...</td>\n",
       "      <td>0</td>\n",
       "      <td>0</td>\n",
       "      <td>0</td>\n",
       "      <td>0</td>\n",
       "      <td>0</td>\n",
       "      <td>0</td>\n",
       "      <td>0</td>\n",
       "      <td>0</td>\n",
       "      <td>0</td>\n",
       "      <td>0</td>\n",
       "    </tr>\n",
       "    <tr>\n",
       "      <th>4</th>\n",
       "      <td>2</td>\n",
       "      <td>1200.0</td>\n",
       "      <td>0</td>\n",
       "      <td>0</td>\n",
       "      <td>0</td>\n",
       "      <td>0</td>\n",
       "      <td>0</td>\n",
       "      <td>0</td>\n",
       "      <td>0</td>\n",
       "      <td>0</td>\n",
       "      <td>...</td>\n",
       "      <td>0</td>\n",
       "      <td>0</td>\n",
       "      <td>0</td>\n",
       "      <td>0</td>\n",
       "      <td>0</td>\n",
       "      <td>0</td>\n",
       "      <td>0</td>\n",
       "      <td>0</td>\n",
       "      <td>0</td>\n",
       "      <td>0</td>\n",
       "    </tr>\n",
       "    <tr>\n",
       "      <th>5</th>\n",
       "      <td>2</td>\n",
       "      <td>1170.0</td>\n",
       "      <td>0</td>\n",
       "      <td>0</td>\n",
       "      <td>0</td>\n",
       "      <td>0</td>\n",
       "      <td>0</td>\n",
       "      <td>0</td>\n",
       "      <td>0</td>\n",
       "      <td>0</td>\n",
       "      <td>...</td>\n",
       "      <td>0</td>\n",
       "      <td>0</td>\n",
       "      <td>0</td>\n",
       "      <td>1</td>\n",
       "      <td>0</td>\n",
       "      <td>0</td>\n",
       "      <td>0</td>\n",
       "      <td>0</td>\n",
       "      <td>0</td>\n",
       "      <td>0</td>\n",
       "    </tr>\n",
       "  </tbody>\n",
       "</table>\n",
       "<p>5 rows × 232 columns</p>\n",
       "</div>\n",
       "      <button class=\"colab-df-convert\" onclick=\"convertToInteractive('df-56f3c9df-77a4-4fcc-84b1-84dd98537d6f')\"\n",
       "              title=\"Convert this dataframe to an interactive table.\"\n",
       "              style=\"display:none;\">\n",
       "        \n",
       "  <svg xmlns=\"http://www.w3.org/2000/svg\" height=\"24px\"viewBox=\"0 0 24 24\"\n",
       "       width=\"24px\">\n",
       "    <path d=\"M0 0h24v24H0V0z\" fill=\"none\"/>\n",
       "    <path d=\"M18.56 5.44l.94 2.06.94-2.06 2.06-.94-2.06-.94-.94-2.06-.94 2.06-2.06.94zm-11 1L8.5 8.5l.94-2.06 2.06-.94-2.06-.94L8.5 2.5l-.94 2.06-2.06.94zm10 10l.94 2.06.94-2.06 2.06-.94-2.06-.94-.94-2.06-.94 2.06-2.06.94z\"/><path d=\"M17.41 7.96l-1.37-1.37c-.4-.4-.92-.59-1.43-.59-.52 0-1.04.2-1.43.59L10.3 9.45l-7.72 7.72c-.78.78-.78 2.05 0 2.83L4 21.41c.39.39.9.59 1.41.59.51 0 1.02-.2 1.41-.59l7.78-7.78 2.81-2.81c.8-.78.8-2.07 0-2.86zM5.41 20L4 18.59l7.72-7.72 1.47 1.35L5.41 20z\"/>\n",
       "  </svg>\n",
       "      </button>\n",
       "      \n",
       "  <style>\n",
       "    .colab-df-container {\n",
       "      display:flex;\n",
       "      flex-wrap:wrap;\n",
       "      gap: 12px;\n",
       "    }\n",
       "\n",
       "    .colab-df-convert {\n",
       "      background-color: #E8F0FE;\n",
       "      border: none;\n",
       "      border-radius: 50%;\n",
       "      cursor: pointer;\n",
       "      display: none;\n",
       "      fill: #1967D2;\n",
       "      height: 32px;\n",
       "      padding: 0 0 0 0;\n",
       "      width: 32px;\n",
       "    }\n",
       "\n",
       "    .colab-df-convert:hover {\n",
       "      background-color: #E2EBFA;\n",
       "      box-shadow: 0px 1px 2px rgba(60, 64, 67, 0.3), 0px 1px 3px 1px rgba(60, 64, 67, 0.15);\n",
       "      fill: #174EA6;\n",
       "    }\n",
       "\n",
       "    [theme=dark] .colab-df-convert {\n",
       "      background-color: #3B4455;\n",
       "      fill: #D2E3FC;\n",
       "    }\n",
       "\n",
       "    [theme=dark] .colab-df-convert:hover {\n",
       "      background-color: #434B5C;\n",
       "      box-shadow: 0px 1px 3px 1px rgba(0, 0, 0, 0.15);\n",
       "      filter: drop-shadow(0px 1px 2px rgba(0, 0, 0, 0.3));\n",
       "      fill: #FFFFFF;\n",
       "    }\n",
       "  </style>\n",
       "\n",
       "      <script>\n",
       "        const buttonEl =\n",
       "          document.querySelector('#df-56f3c9df-77a4-4fcc-84b1-84dd98537d6f button.colab-df-convert');\n",
       "        buttonEl.style.display =\n",
       "          google.colab.kernel.accessAllowed ? 'block' : 'none';\n",
       "\n",
       "        async function convertToInteractive(key) {\n",
       "          const element = document.querySelector('#df-56f3c9df-77a4-4fcc-84b1-84dd98537d6f');\n",
       "          const dataTable =\n",
       "            await google.colab.kernel.invokeFunction('convertToInteractive',\n",
       "                                                     [key], {});\n",
       "          if (!dataTable) return;\n",
       "\n",
       "          const docLinkHtml = 'Like what you see? Visit the ' +\n",
       "            '<a target=\"_blank\" href=https://colab.research.google.com/notebooks/data_table.ipynb>data table notebook</a>'\n",
       "            + ' to learn more about interactive tables.';\n",
       "          element.innerHTML = '';\n",
       "          dataTable['output_type'] = 'display_data';\n",
       "          await google.colab.output.renderOutput(dataTable, element);\n",
       "          const docLink = document.createElement('div');\n",
       "          docLink.innerHTML = docLinkHtml;\n",
       "          element.appendChild(docLink);\n",
       "        }\n",
       "      </script>\n",
       "    </div>\n",
       "  </div>\n",
       "  "
      ],
      "text/plain": [
       "   size  total_sqft  location_1st Phase JP Nagar  \\\n",
       "0     2      1056.0                            0   \n",
       "2     3      1440.0                            0   \n",
       "3     3      1521.0                            0   \n",
       "4     2      1200.0                            0   \n",
       "5     2      1170.0                            0   \n",
       "\n",
       "   location_2nd Stage Nagarbhavi  location_5th Block Hbr Layout  \\\n",
       "0                              0                              0   \n",
       "2                              0                              0   \n",
       "3                              0                              0   \n",
       "4                              0                              0   \n",
       "5                              0                              0   \n",
       "\n",
       "   location_5th Phase JP Nagar  location_6th Phase JP Nagar  \\\n",
       "0                            0                            0   \n",
       "2                            0                            0   \n",
       "3                            0                            0   \n",
       "4                            0                            0   \n",
       "5                            0                            0   \n",
       "\n",
       "   location_7th Phase JP Nagar  location_8th Phase JP Nagar  \\\n",
       "0                            0                            0   \n",
       "2                            0                            0   \n",
       "3                            0                            0   \n",
       "4                            0                            0   \n",
       "5                            0                            0   \n",
       "\n",
       "   location_9th Phase JP Nagar  ...  location_Vishveshwarya Layout  \\\n",
       "0                            0  ...                              0   \n",
       "2                            0  ...                              0   \n",
       "3                            0  ...                              0   \n",
       "4                            0  ...                              0   \n",
       "5                            0  ...                              0   \n",
       "\n",
       "   location_Vishwapriya Layout  location_Vittasandra  location_Whitefield  \\\n",
       "0                            0                     0                    0   \n",
       "2                            0                     0                    0   \n",
       "3                            0                     0                    0   \n",
       "4                            0                     0                    0   \n",
       "5                            0                     0                    1   \n",
       "\n",
       "   location_Yelachenahalli  location_Yelahanka  location_Yelahanka New Town  \\\n",
       "0                        0                   0                            0   \n",
       "2                        0                   0                            0   \n",
       "3                        0                   0                            0   \n",
       "4                        0                   0                            0   \n",
       "5                        0                   0                            0   \n",
       "\n",
       "   location_Yelenahalli  location_Yeshwanthpur  location_other  \n",
       "0                     0                      0               0  \n",
       "2                     0                      0               0  \n",
       "3                     0                      0               0  \n",
       "4                     0                      0               0  \n",
       "5                     0                      0               0  \n",
       "\n",
       "[5 rows x 232 columns]"
      ]
     },
     "execution_count": 371,
     "metadata": {},
     "output_type": "execute_result"
    }
   ],
   "source": [
    "train_new = pd.get_dummies(train,columns=transformlist,drop_first=True)\n",
    "train_new.head()"
   ]
  },
  {
   "cell_type": "code",
   "execution_count": 372,
   "id": "218790be",
   "metadata": {
    "colab": {
     "base_uri": "https://localhost:8080/"
    },
    "id": "218790be",
    "outputId": "bc20bd94-ccab-4f93-aa95-a3dc14138394"
   },
   "outputs": [
    {
     "data": {
      "text/plain": [
       "((8621, 232), (1522, 232))"
      ]
     },
     "execution_count": 372,
     "metadata": {},
     "output_type": "execute_result"
    }
   ],
   "source": [
    "X_train, X_test, y_train, y_test = train_test_split(train_new,test,\n",
    "                                                   test_size=0.15,random_state=2)\n",
    "\n",
    "X_train.shape,X_test.shape"
   ]
  },
  {
   "cell_type": "markdown",
   "id": "69e47854",
   "metadata": {
    "id": "69e47854"
   },
   "source": [
    "### Random Forest"
   ]
  },
  {
   "cell_type": "code",
   "execution_count": 373,
   "id": "cfbb9d10",
   "metadata": {
    "id": "cfbb9d10"
   },
   "outputs": [],
   "source": [
    "params=  {\n",
    "\n",
    "    'RandomForest':{\n",
    "        'model' : RandomForestRegressor(),\n",
    "        'params':{\n",
    "            'n_estimators':[100,150,200,250],\n",
    "            #'criterion':[\"mse\", \"mae\"],\n",
    "            'max_depth':[2,4,8,10],\n",
    "        }\n",
    "    }\n",
    "}"
   ]
  },
  {
   "cell_type": "code",
   "execution_count": 374,
   "id": "da8fb7cf",
   "metadata": {
    "colab": {
     "base_uri": "https://localhost:8080/"
    },
    "id": "da8fb7cf",
    "outputId": "c2c62e60-21a0-4aba-9336-4b2647fdf5e5"
   },
   "outputs": [
    {
     "name": "stdout",
     "output_type": "stream",
     "text": [
      "Fitting 5 folds for each of 16 candidates, totalling 80 fits\n",
      "[CV] END ......................max_depth=2, n_estimators=100; total time=   1.6s\n",
      "[CV] END ......................max_depth=2, n_estimators=100; total time=   1.7s\n",
      "[CV] END ......................max_depth=2, n_estimators=100; total time=   1.0s\n",
      "[CV] END ......................max_depth=2, n_estimators=100; total time=   1.0s\n",
      "[CV] END ......................max_depth=2, n_estimators=100; total time=   1.1s\n",
      "[CV] END ......................max_depth=2, n_estimators=150; total time=   1.6s\n",
      "[CV] END ......................max_depth=2, n_estimators=150; total time=   1.5s\n",
      "[CV] END ......................max_depth=2, n_estimators=150; total time=   1.5s\n",
      "[CV] END ......................max_depth=2, n_estimators=150; total time=   1.5s\n",
      "[CV] END ......................max_depth=2, n_estimators=150; total time=   2.2s\n",
      "[CV] END ......................max_depth=2, n_estimators=200; total time=   2.4s\n",
      "[CV] END ......................max_depth=2, n_estimators=200; total time=   2.0s\n",
      "[CV] END ......................max_depth=2, n_estimators=200; total time=   2.0s\n",
      "[CV] END ......................max_depth=2, n_estimators=200; total time=   2.0s\n",
      "[CV] END ......................max_depth=2, n_estimators=200; total time=   2.0s\n",
      "[CV] END ......................max_depth=2, n_estimators=250; total time=   3.6s\n",
      "[CV] END ......................max_depth=2, n_estimators=250; total time=   2.5s\n",
      "[CV] END ......................max_depth=2, n_estimators=250; total time=   2.5s\n",
      "[CV] END ......................max_depth=2, n_estimators=250; total time=   2.5s\n",
      "[CV] END ......................max_depth=2, n_estimators=250; total time=   2.9s\n",
      "[CV] END ......................max_depth=4, n_estimators=100; total time=   2.5s\n",
      "[CV] END ......................max_depth=4, n_estimators=100; total time=   1.7s\n",
      "[CV] END ......................max_depth=4, n_estimators=100; total time=   2.4s\n",
      "[CV] END ......................max_depth=4, n_estimators=100; total time=   1.7s\n",
      "[CV] END ......................max_depth=4, n_estimators=100; total time=   1.8s\n",
      "[CV] END ......................max_depth=4, n_estimators=150; total time=   3.5s\n",
      "[CV] END ......................max_depth=4, n_estimators=150; total time=   3.0s\n",
      "[CV] END ......................max_depth=4, n_estimators=150; total time=   2.6s\n",
      "[CV] END ......................max_depth=4, n_estimators=150; total time=   2.6s\n",
      "[CV] END ......................max_depth=4, n_estimators=150; total time=   2.7s\n",
      "[CV] END ......................max_depth=4, n_estimators=200; total time=   4.6s\n",
      "[CV] END ......................max_depth=4, n_estimators=200; total time=   3.5s\n",
      "[CV] END ......................max_depth=4, n_estimators=200; total time=   3.5s\n",
      "[CV] END ......................max_depth=4, n_estimators=200; total time=   4.6s\n",
      "[CV] END ......................max_depth=4, n_estimators=200; total time=   3.5s\n",
      "[CV] END ......................max_depth=4, n_estimators=250; total time=   4.4s\n",
      "[CV] END ......................max_depth=4, n_estimators=250; total time=   5.4s\n",
      "[CV] END ......................max_depth=4, n_estimators=250; total time=   4.3s\n",
      "[CV] END ......................max_depth=4, n_estimators=250; total time=   4.5s\n",
      "[CV] END ......................max_depth=4, n_estimators=250; total time=   5.3s\n",
      "[CV] END ......................max_depth=8, n_estimators=100; total time=   3.0s\n",
      "[CV] END ......................max_depth=8, n_estimators=100; total time=   3.0s\n",
      "[CV] END ......................max_depth=8, n_estimators=100; total time=   4.1s\n",
      "[CV] END ......................max_depth=8, n_estimators=100; total time=   2.9s\n",
      "[CV] END ......................max_depth=8, n_estimators=100; total time=   3.0s\n",
      "[CV] END ......................max_depth=8, n_estimators=150; total time=   5.2s\n",
      "[CV] END ......................max_depth=8, n_estimators=150; total time=   4.9s\n",
      "[CV] END ......................max_depth=8, n_estimators=150; total time=   4.4s\n",
      "[CV] END ......................max_depth=8, n_estimators=150; total time=   5.6s\n",
      "[CV] END ......................max_depth=8, n_estimators=150; total time=   4.5s\n",
      "[CV] END ......................max_depth=8, n_estimators=200; total time=   7.9s\n",
      "[CV] END ......................max_depth=8, n_estimators=200; total time=   7.0s\n",
      "[CV] END ......................max_depth=8, n_estimators=200; total time=   7.0s\n",
      "[CV] END ......................max_depth=8, n_estimators=200; total time=   5.9s\n",
      "[CV] END ......................max_depth=8, n_estimators=200; total time=   7.1s\n",
      "[CV] END ......................max_depth=8, n_estimators=250; total time=   7.4s\n",
      "[CV] END ......................max_depth=8, n_estimators=250; total time=   8.5s\n",
      "[CV] END ......................max_depth=8, n_estimators=250; total time=   8.6s\n",
      "[CV] END ......................max_depth=8, n_estimators=250; total time=   7.4s\n",
      "[CV] END ......................max_depth=8, n_estimators=250; total time=   8.7s\n",
      "[CV] END .....................max_depth=10, n_estimators=100; total time=   3.6s\n",
      "[CV] END .....................max_depth=10, n_estimators=100; total time=   4.7s\n",
      "[CV] END .....................max_depth=10, n_estimators=100; total time=   3.5s\n",
      "[CV] END .....................max_depth=10, n_estimators=100; total time=   3.6s\n",
      "[CV] END .....................max_depth=10, n_estimators=100; total time=   4.2s\n",
      "[CV] END .....................max_depth=10, n_estimators=150; total time=   5.7s\n",
      "[CV] END .....................max_depth=10, n_estimators=150; total time=   5.3s\n",
      "[CV] END .....................max_depth=10, n_estimators=150; total time=   6.4s\n",
      "[CV] END .....................max_depth=10, n_estimators=150; total time=   5.3s\n",
      "[CV] END .....................max_depth=10, n_estimators=150; total time=   6.5s\n",
      "[CV] END .....................max_depth=10, n_estimators=200; total time=   7.0s\n",
      "[CV] END .....................max_depth=10, n_estimators=200; total time=   8.1s\n",
      "[CV] END .....................max_depth=10, n_estimators=200; total time=   8.2s\n",
      "[CV] END .....................max_depth=10, n_estimators=200; total time=   7.2s\n",
      "[CV] END .....................max_depth=10, n_estimators=200; total time=   8.3s\n",
      "[CV] END .....................max_depth=10, n_estimators=250; total time=  10.0s\n",
      "[CV] END .....................max_depth=10, n_estimators=250; total time=   8.8s\n",
      "[CV] END .....................max_depth=10, n_estimators=250; total time=  10.0s\n",
      "[CV] END .....................max_depth=10, n_estimators=250; total time=   9.9s\n",
      "[CV] END .....................max_depth=10, n_estimators=250; total time=  10.0s\n"
     ]
    }
   ],
   "source": [
    "scores = []\n",
    "for modelname,mp in params.items():\n",
    "    clf = GridSearchCV(mp['model'],param_grid=mp['params'],verbose=2)\n",
    "    clf.fit(X_train,y_train)\n",
    "    scores.append({\n",
    "        'model_name':modelname,\n",
    "        'best_score':clf.best_score_,\n",
    "        'best_estimator':clf.best_estimator_,\n",
    "    })"
   ]
  },
  {
   "cell_type": "markdown",
   "id": "c6fd5161",
   "metadata": {
    "id": "c6fd5161"
   },
   "source": [
    "scores"
   ]
  },
  {
   "cell_type": "markdown",
   "id": "b86bdb23",
   "metadata": {
    "id": "b86bdb23"
   },
   "source": [
    "### XGBRegressor"
   ]
  },
  {
   "cell_type": "code",
   "execution_count": 375,
   "id": "a56a30b1",
   "metadata": {
    "id": "a56a30b1"
   },
   "outputs": [],
   "source": [
    "params=  {\n",
    "\n",
    "    'Xg boost':{\n",
    "        'model':XGBRegressor(),\n",
    "        'params':{\n",
    "            'n_estimators':[100,150,200,250],\n",
    "            #'max_depth':[3,8,10],\n",
    "            #'learning_rate':[0.1, 1.0],\n",
    "            #'reg_alpha':[0.25,0.5,0.75,1.0],\n",
    "            #'reg_lambda':[0.25,0.5,0.75,1.0],\n",
    "        }\n",
    "    }\n",
    "}"
   ]
  },
  {
   "cell_type": "code",
   "execution_count": 376,
   "id": "00702c91",
   "metadata": {
    "colab": {
     "base_uri": "https://localhost:8080/"
    },
    "id": "00702c91",
    "outputId": "81667f92-5b98-43b6-d6a6-1421ba586ca0"
   },
   "outputs": [
    {
     "name": "stdout",
     "output_type": "stream",
     "text": [
      "Fitting 5 folds for each of 4 candidates, totalling 20 fits\n",
      "[CV] END ...................................n_estimators=100; total time=   6.4s\n",
      "[CV] END ...................................n_estimators=100; total time=   9.8s\n",
      "[CV] END ...................................n_estimators=100; total time=   8.0s\n",
      "[CV] END ...................................n_estimators=100; total time=   6.3s\n",
      "[CV] END ...................................n_estimators=100; total time=   8.0s\n",
      "[CV] END ...................................n_estimators=150; total time=  11.1s\n",
      "[CV] END ...................................n_estimators=150; total time=  11.0s\n",
      "[CV] END ...................................n_estimators=150; total time=   9.3s\n",
      "[CV] END ...................................n_estimators=150; total time=  11.1s\n",
      "[CV] END ...................................n_estimators=150; total time=  11.0s\n",
      "[CV] END ...................................n_estimators=200; total time=  14.2s\n",
      "[CV] END ...................................n_estimators=200; total time=  15.9s\n",
      "[CV] END ...................................n_estimators=200; total time=  14.2s\n",
      "[CV] END ...................................n_estimators=200; total time=  14.1s\n",
      "[CV] END ...................................n_estimators=200; total time=  14.1s\n",
      "[CV] END ...................................n_estimators=250; total time=  18.9s\n",
      "[CV] END ...................................n_estimators=250; total time=  17.3s\n",
      "[CV] END ...................................n_estimators=250; total time=  17.8s\n",
      "[CV] END ...................................n_estimators=250; total time=  18.3s\n",
      "[CV] END ...................................n_estimators=250; total time=  20.7s\n"
     ]
    }
   ],
   "source": [
    "scores = []\n",
    "for modelname,mp in params.items():\n",
    "    clf = GridSearchCV(mp['model'],param_grid=mp['params'],verbose=2)\n",
    "    clf.fit(X_train,y_train)\n",
    "    scores.append({\n",
    "        'model_name':modelname,\n",
    "        'best_score':clf.best_score_,\n",
    "        'best_estimator':clf.best_estimator_,\n",
    "    })"
   ]
  },
  {
   "cell_type": "code",
   "execution_count": 377,
   "id": "21e344d0",
   "metadata": {
    "colab": {
     "base_uri": "https://localhost:8080/"
    },
    "id": "21e344d0",
    "outputId": "dc2c337a-bd18-4e43-edcc-cfbc077cf7e8"
   },
   "outputs": [
    {
     "data": {
      "text/plain": [
       "[{'model_name': 'Xg boost',\n",
       "  'best_score': 0.6448041379066936,\n",
       "  'best_estimator': XGBRegressor(base_score=None, booster=None, callbacks=None,\n",
       "               colsample_bylevel=None, colsample_bynode=None,\n",
       "               colsample_bytree=None, early_stopping_rounds=None,\n",
       "               enable_categorical=False, eval_metric=None, feature_types=None,\n",
       "               gamma=None, gpu_id=None, grow_policy=None, importance_type=None,\n",
       "               interaction_constraints=None, learning_rate=None, max_bin=None,\n",
       "               max_cat_threshold=None, max_cat_to_onehot=None,\n",
       "               max_delta_step=None, max_depth=None, max_leaves=None,\n",
       "               min_child_weight=None, missing=nan, monotone_constraints=None,\n",
       "               n_estimators=200, n_jobs=None, num_parallel_tree=None,\n",
       "               predictor=None, random_state=None, ...)}]"
      ]
     },
     "execution_count": 377,
     "metadata": {},
     "output_type": "execute_result"
    }
   ],
   "source": [
    "scores"
   ]
  },
  {
   "cell_type": "code",
   "execution_count": 378,
   "id": "31d16aa1",
   "metadata": {
    "id": "31d16aa1"
   },
   "outputs": [],
   "source": [
    "temp_df = pd.DataFrame(clf.cv_results_)"
   ]
  },
  {
   "cell_type": "code",
   "execution_count": 379,
   "id": "b2d15ca8",
   "metadata": {
    "colab": {
     "base_uri": "https://localhost:8080/",
     "height": 308
    },
    "id": "b2d15ca8",
    "outputId": "17d51657-6508-4bf5-8749-2cce72b33110"
   },
   "outputs": [
    {
     "data": {
      "text/html": [
       "\n",
       "  <div id=\"df-6759da8f-17bc-4bdf-9c06-46df1f07aa9f\">\n",
       "    <div class=\"colab-df-container\">\n",
       "      <div>\n",
       "<style scoped>\n",
       "    .dataframe tbody tr th:only-of-type {\n",
       "        vertical-align: middle;\n",
       "    }\n",
       "\n",
       "    .dataframe tbody tr th {\n",
       "        vertical-align: top;\n",
       "    }\n",
       "\n",
       "    .dataframe thead th {\n",
       "        text-align: right;\n",
       "    }\n",
       "</style>\n",
       "<table border=\"1\" class=\"dataframe\">\n",
       "  <thead>\n",
       "    <tr style=\"text-align: right;\">\n",
       "      <th></th>\n",
       "      <th>mean_fit_time</th>\n",
       "      <th>std_fit_time</th>\n",
       "      <th>mean_score_time</th>\n",
       "      <th>std_score_time</th>\n",
       "      <th>param_n_estimators</th>\n",
       "      <th>params</th>\n",
       "      <th>split0_test_score</th>\n",
       "      <th>split1_test_score</th>\n",
       "      <th>split2_test_score</th>\n",
       "      <th>split3_test_score</th>\n",
       "      <th>split4_test_score</th>\n",
       "      <th>mean_test_score</th>\n",
       "      <th>std_test_score</th>\n",
       "      <th>rank_test_score</th>\n",
       "    </tr>\n",
       "  </thead>\n",
       "  <tbody>\n",
       "    <tr>\n",
       "      <th>0</th>\n",
       "      <td>7.673724</td>\n",
       "      <td>1.301470</td>\n",
       "      <td>0.018240</td>\n",
       "      <td>0.000327</td>\n",
       "      <td>100</td>\n",
       "      <td>{'n_estimators': 100}</td>\n",
       "      <td>0.645033</td>\n",
       "      <td>0.646061</td>\n",
       "      <td>0.653979</td>\n",
       "      <td>0.655862</td>\n",
       "      <td>0.618606</td>\n",
       "      <td>0.643908</td>\n",
       "      <td>0.013345</td>\n",
       "      <td>3</td>\n",
       "    </tr>\n",
       "    <tr>\n",
       "      <th>1</th>\n",
       "      <td>10.690104</td>\n",
       "      <td>0.692796</td>\n",
       "      <td>0.020366</td>\n",
       "      <td>0.000696</td>\n",
       "      <td>150</td>\n",
       "      <td>{'n_estimators': 150}</td>\n",
       "      <td>0.643392</td>\n",
       "      <td>0.644313</td>\n",
       "      <td>0.653111</td>\n",
       "      <td>0.660991</td>\n",
       "      <td>0.620346</td>\n",
       "      <td>0.644430</td>\n",
       "      <td>0.013644</td>\n",
       "      <td>2</td>\n",
       "    </tr>\n",
       "    <tr>\n",
       "      <th>2</th>\n",
       "      <td>14.455868</td>\n",
       "      <td>0.694872</td>\n",
       "      <td>0.027595</td>\n",
       "      <td>0.006581</td>\n",
       "      <td>200</td>\n",
       "      <td>{'n_estimators': 200}</td>\n",
       "      <td>0.643928</td>\n",
       "      <td>0.645017</td>\n",
       "      <td>0.648748</td>\n",
       "      <td>0.662159</td>\n",
       "      <td>0.624168</td>\n",
       "      <td>0.644804</td>\n",
       "      <td>0.012194</td>\n",
       "      <td>1</td>\n",
       "    </tr>\n",
       "    <tr>\n",
       "      <th>3</th>\n",
       "      <td>18.555105</td>\n",
       "      <td>1.189795</td>\n",
       "      <td>0.029719</td>\n",
       "      <td>0.009949</td>\n",
       "      <td>250</td>\n",
       "      <td>{'n_estimators': 250}</td>\n",
       "      <td>0.640111</td>\n",
       "      <td>0.642958</td>\n",
       "      <td>0.645933</td>\n",
       "      <td>0.661862</td>\n",
       "      <td>0.624121</td>\n",
       "      <td>0.642997</td>\n",
       "      <td>0.012076</td>\n",
       "      <td>4</td>\n",
       "    </tr>\n",
       "  </tbody>\n",
       "</table>\n",
       "</div>\n",
       "      <button class=\"colab-df-convert\" onclick=\"convertToInteractive('df-6759da8f-17bc-4bdf-9c06-46df1f07aa9f')\"\n",
       "              title=\"Convert this dataframe to an interactive table.\"\n",
       "              style=\"display:none;\">\n",
       "        \n",
       "  <svg xmlns=\"http://www.w3.org/2000/svg\" height=\"24px\"viewBox=\"0 0 24 24\"\n",
       "       width=\"24px\">\n",
       "    <path d=\"M0 0h24v24H0V0z\" fill=\"none\"/>\n",
       "    <path d=\"M18.56 5.44l.94 2.06.94-2.06 2.06-.94-2.06-.94-.94-2.06-.94 2.06-2.06.94zm-11 1L8.5 8.5l.94-2.06 2.06-.94-2.06-.94L8.5 2.5l-.94 2.06-2.06.94zm10 10l.94 2.06.94-2.06 2.06-.94-2.06-.94-.94-2.06-.94 2.06-2.06.94z\"/><path d=\"M17.41 7.96l-1.37-1.37c-.4-.4-.92-.59-1.43-.59-.52 0-1.04.2-1.43.59L10.3 9.45l-7.72 7.72c-.78.78-.78 2.05 0 2.83L4 21.41c.39.39.9.59 1.41.59.51 0 1.02-.2 1.41-.59l7.78-7.78 2.81-2.81c.8-.78.8-2.07 0-2.86zM5.41 20L4 18.59l7.72-7.72 1.47 1.35L5.41 20z\"/>\n",
       "  </svg>\n",
       "      </button>\n",
       "      \n",
       "  <style>\n",
       "    .colab-df-container {\n",
       "      display:flex;\n",
       "      flex-wrap:wrap;\n",
       "      gap: 12px;\n",
       "    }\n",
       "\n",
       "    .colab-df-convert {\n",
       "      background-color: #E8F0FE;\n",
       "      border: none;\n",
       "      border-radius: 50%;\n",
       "      cursor: pointer;\n",
       "      display: none;\n",
       "      fill: #1967D2;\n",
       "      height: 32px;\n",
       "      padding: 0 0 0 0;\n",
       "      width: 32px;\n",
       "    }\n",
       "\n",
       "    .colab-df-convert:hover {\n",
       "      background-color: #E2EBFA;\n",
       "      box-shadow: 0px 1px 2px rgba(60, 64, 67, 0.3), 0px 1px 3px 1px rgba(60, 64, 67, 0.15);\n",
       "      fill: #174EA6;\n",
       "    }\n",
       "\n",
       "    [theme=dark] .colab-df-convert {\n",
       "      background-color: #3B4455;\n",
       "      fill: #D2E3FC;\n",
       "    }\n",
       "\n",
       "    [theme=dark] .colab-df-convert:hover {\n",
       "      background-color: #434B5C;\n",
       "      box-shadow: 0px 1px 3px 1px rgba(0, 0, 0, 0.15);\n",
       "      filter: drop-shadow(0px 1px 2px rgba(0, 0, 0, 0.3));\n",
       "      fill: #FFFFFF;\n",
       "    }\n",
       "  </style>\n",
       "\n",
       "      <script>\n",
       "        const buttonEl =\n",
       "          document.querySelector('#df-6759da8f-17bc-4bdf-9c06-46df1f07aa9f button.colab-df-convert');\n",
       "        buttonEl.style.display =\n",
       "          google.colab.kernel.accessAllowed ? 'block' : 'none';\n",
       "\n",
       "        async function convertToInteractive(key) {\n",
       "          const element = document.querySelector('#df-6759da8f-17bc-4bdf-9c06-46df1f07aa9f');\n",
       "          const dataTable =\n",
       "            await google.colab.kernel.invokeFunction('convertToInteractive',\n",
       "                                                     [key], {});\n",
       "          if (!dataTable) return;\n",
       "\n",
       "          const docLinkHtml = 'Like what you see? Visit the ' +\n",
       "            '<a target=\"_blank\" href=https://colab.research.google.com/notebooks/data_table.ipynb>data table notebook</a>'\n",
       "            + ' to learn more about interactive tables.';\n",
       "          element.innerHTML = '';\n",
       "          dataTable['output_type'] = 'display_data';\n",
       "          await google.colab.output.renderOutput(dataTable, element);\n",
       "          const docLink = document.createElement('div');\n",
       "          docLink.innerHTML = docLinkHtml;\n",
       "          element.appendChild(docLink);\n",
       "        }\n",
       "      </script>\n",
       "    </div>\n",
       "  </div>\n",
       "  "
      ],
      "text/plain": [
       "   mean_fit_time  std_fit_time  mean_score_time  std_score_time  \\\n",
       "0       7.673724      1.301470         0.018240        0.000327   \n",
       "1      10.690104      0.692796         0.020366        0.000696   \n",
       "2      14.455868      0.694872         0.027595        0.006581   \n",
       "3      18.555105      1.189795         0.029719        0.009949   \n",
       "\n",
       "  param_n_estimators                 params  split0_test_score  \\\n",
       "0                100  {'n_estimators': 100}           0.645033   \n",
       "1                150  {'n_estimators': 150}           0.643392   \n",
       "2                200  {'n_estimators': 200}           0.643928   \n",
       "3                250  {'n_estimators': 250}           0.640111   \n",
       "\n",
       "   split1_test_score  split2_test_score  split3_test_score  split4_test_score  \\\n",
       "0           0.646061           0.653979           0.655862           0.618606   \n",
       "1           0.644313           0.653111           0.660991           0.620346   \n",
       "2           0.645017           0.648748           0.662159           0.624168   \n",
       "3           0.642958           0.645933           0.661862           0.624121   \n",
       "\n",
       "   mean_test_score  std_test_score  rank_test_score  \n",
       "0         0.643908        0.013345                3  \n",
       "1         0.644430        0.013644                2  \n",
       "2         0.644804        0.012194                1  \n",
       "3         0.642997        0.012076                4  "
      ]
     },
     "execution_count": 379,
     "metadata": {},
     "output_type": "execute_result"
    }
   ],
   "source": [
    "temp_df.head()"
   ]
  },
  {
   "cell_type": "code",
   "execution_count": 380,
   "id": "e17faaca",
   "metadata": {
    "colab": {
     "base_uri": "https://localhost:8080/",
     "height": 162
    },
    "id": "e17faaca",
    "outputId": "e3bcd843-b0f4-413b-fc7e-f26cce387242"
   },
   "outputs": [
    {
     "data": {
      "text/html": [
       "\n",
       "  <div id=\"df-a1517656-5c35-42b6-a982-a63ea2bc1583\">\n",
       "    <div class=\"colab-df-container\">\n",
       "      <div>\n",
       "<style scoped>\n",
       "    .dataframe tbody tr th:only-of-type {\n",
       "        vertical-align: middle;\n",
       "    }\n",
       "\n",
       "    .dataframe tbody tr th {\n",
       "        vertical-align: top;\n",
       "    }\n",
       "\n",
       "    .dataframe thead th {\n",
       "        text-align: right;\n",
       "    }\n",
       "</style>\n",
       "<table border=\"1\" class=\"dataframe\">\n",
       "  <thead>\n",
       "    <tr style=\"text-align: right;\">\n",
       "      <th></th>\n",
       "      <th>mean_fit_time</th>\n",
       "      <th>std_fit_time</th>\n",
       "      <th>mean_score_time</th>\n",
       "      <th>std_score_time</th>\n",
       "      <th>param_n_estimators</th>\n",
       "      <th>params</th>\n",
       "      <th>split0_test_score</th>\n",
       "      <th>split1_test_score</th>\n",
       "      <th>split2_test_score</th>\n",
       "      <th>split3_test_score</th>\n",
       "      <th>split4_test_score</th>\n",
       "      <th>mean_test_score</th>\n",
       "      <th>std_test_score</th>\n",
       "      <th>rank_test_score</th>\n",
       "    </tr>\n",
       "  </thead>\n",
       "  <tbody>\n",
       "    <tr>\n",
       "      <th>2</th>\n",
       "      <td>14.455868</td>\n",
       "      <td>0.694872</td>\n",
       "      <td>0.027595</td>\n",
       "      <td>0.006581</td>\n",
       "      <td>200</td>\n",
       "      <td>{'n_estimators': 200}</td>\n",
       "      <td>0.643928</td>\n",
       "      <td>0.645017</td>\n",
       "      <td>0.648748</td>\n",
       "      <td>0.662159</td>\n",
       "      <td>0.624168</td>\n",
       "      <td>0.644804</td>\n",
       "      <td>0.012194</td>\n",
       "      <td>1</td>\n",
       "    </tr>\n",
       "  </tbody>\n",
       "</table>\n",
       "</div>\n",
       "      <button class=\"colab-df-convert\" onclick=\"convertToInteractive('df-a1517656-5c35-42b6-a982-a63ea2bc1583')\"\n",
       "              title=\"Convert this dataframe to an interactive table.\"\n",
       "              style=\"display:none;\">\n",
       "        \n",
       "  <svg xmlns=\"http://www.w3.org/2000/svg\" height=\"24px\"viewBox=\"0 0 24 24\"\n",
       "       width=\"24px\">\n",
       "    <path d=\"M0 0h24v24H0V0z\" fill=\"none\"/>\n",
       "    <path d=\"M18.56 5.44l.94 2.06.94-2.06 2.06-.94-2.06-.94-.94-2.06-.94 2.06-2.06.94zm-11 1L8.5 8.5l.94-2.06 2.06-.94-2.06-.94L8.5 2.5l-.94 2.06-2.06.94zm10 10l.94 2.06.94-2.06 2.06-.94-2.06-.94-.94-2.06-.94 2.06-2.06.94z\"/><path d=\"M17.41 7.96l-1.37-1.37c-.4-.4-.92-.59-1.43-.59-.52 0-1.04.2-1.43.59L10.3 9.45l-7.72 7.72c-.78.78-.78 2.05 0 2.83L4 21.41c.39.39.9.59 1.41.59.51 0 1.02-.2 1.41-.59l7.78-7.78 2.81-2.81c.8-.78.8-2.07 0-2.86zM5.41 20L4 18.59l7.72-7.72 1.47 1.35L5.41 20z\"/>\n",
       "  </svg>\n",
       "      </button>\n",
       "      \n",
       "  <style>\n",
       "    .colab-df-container {\n",
       "      display:flex;\n",
       "      flex-wrap:wrap;\n",
       "      gap: 12px;\n",
       "    }\n",
       "\n",
       "    .colab-df-convert {\n",
       "      background-color: #E8F0FE;\n",
       "      border: none;\n",
       "      border-radius: 50%;\n",
       "      cursor: pointer;\n",
       "      display: none;\n",
       "      fill: #1967D2;\n",
       "      height: 32px;\n",
       "      padding: 0 0 0 0;\n",
       "      width: 32px;\n",
       "    }\n",
       "\n",
       "    .colab-df-convert:hover {\n",
       "      background-color: #E2EBFA;\n",
       "      box-shadow: 0px 1px 2px rgba(60, 64, 67, 0.3), 0px 1px 3px 1px rgba(60, 64, 67, 0.15);\n",
       "      fill: #174EA6;\n",
       "    }\n",
       "\n",
       "    [theme=dark] .colab-df-convert {\n",
       "      background-color: #3B4455;\n",
       "      fill: #D2E3FC;\n",
       "    }\n",
       "\n",
       "    [theme=dark] .colab-df-convert:hover {\n",
       "      background-color: #434B5C;\n",
       "      box-shadow: 0px 1px 3px 1px rgba(0, 0, 0, 0.15);\n",
       "      filter: drop-shadow(0px 1px 2px rgba(0, 0, 0, 0.3));\n",
       "      fill: #FFFFFF;\n",
       "    }\n",
       "  </style>\n",
       "\n",
       "      <script>\n",
       "        const buttonEl =\n",
       "          document.querySelector('#df-a1517656-5c35-42b6-a982-a63ea2bc1583 button.colab-df-convert');\n",
       "        buttonEl.style.display =\n",
       "          google.colab.kernel.accessAllowed ? 'block' : 'none';\n",
       "\n",
       "        async function convertToInteractive(key) {\n",
       "          const element = document.querySelector('#df-a1517656-5c35-42b6-a982-a63ea2bc1583');\n",
       "          const dataTable =\n",
       "            await google.colab.kernel.invokeFunction('convertToInteractive',\n",
       "                                                     [key], {});\n",
       "          if (!dataTable) return;\n",
       "\n",
       "          const docLinkHtml = 'Like what you see? Visit the ' +\n",
       "            '<a target=\"_blank\" href=https://colab.research.google.com/notebooks/data_table.ipynb>data table notebook</a>'\n",
       "            + ' to learn more about interactive tables.';\n",
       "          element.innerHTML = '';\n",
       "          dataTable['output_type'] = 'display_data';\n",
       "          await google.colab.output.renderOutput(dataTable, element);\n",
       "          const docLink = document.createElement('div');\n",
       "          docLink.innerHTML = docLinkHtml;\n",
       "          element.appendChild(docLink);\n",
       "        }\n",
       "      </script>\n",
       "    </div>\n",
       "  </div>\n",
       "  "
      ],
      "text/plain": [
       "   mean_fit_time  std_fit_time  mean_score_time  std_score_time  \\\n",
       "2      14.455868      0.694872         0.027595        0.006581   \n",
       "\n",
       "  param_n_estimators                 params  split0_test_score  \\\n",
       "2                200  {'n_estimators': 200}           0.643928   \n",
       "\n",
       "   split1_test_score  split2_test_score  split3_test_score  split4_test_score  \\\n",
       "2           0.645017           0.648748           0.662159           0.624168   \n",
       "\n",
       "   mean_test_score  std_test_score  rank_test_score  \n",
       "2         0.644804        0.012194                1  "
      ]
     },
     "execution_count": 380,
     "metadata": {},
     "output_type": "execute_result"
    }
   ],
   "source": [
    "temp_df [temp_df['rank_test_score'] ==1]"
   ]
  },
  {
   "cell_type": "code",
   "execution_count": 381,
   "id": "7d306cb8",
   "metadata": {
    "colab": {
     "base_uri": "https://localhost:8080/"
    },
    "id": "7d306cb8",
    "outputId": "bc9a825e-1ad7-45f4-87d8-2f0c9d406955"
   },
   "outputs": [
    {
     "name": "stdout",
     "output_type": "stream",
     "text": [
      "0.6035149295743019\n"
     ]
    }
   ],
   "source": [
    "rf = RandomForestRegressor(max_depth=10, n_estimators=250)\n",
    "\n",
    "rf.fit(X_train,y_train)\n",
    "ypred = rf.predict(X_test)\n",
    "print(metrics.r2_score(y_test,ypred))"
   ]
  },
  {
   "cell_type": "markdown",
   "id": "d5eb7554",
   "metadata": {
    "id": "d5eb7554"
   },
   "source": [
    "### Prediction on the whole Dataset"
   ]
  },
  {
   "cell_type": "code",
   "execution_count": 382,
   "id": "3e87f052",
   "metadata": {
    "colab": {
     "base_uri": "https://localhost:8080/"
    },
    "id": "3e87f052",
    "outputId": "dbae897d-8343-496a-cc38-b264f770c9d6"
   },
   "outputs": [
    {
     "data": {
      "text/plain": [
       "[array([47.85782962]),\n",
       " array([68.49077801]),\n",
       " array([81.8090361]),\n",
       " array([66.38904795]),\n",
       " array([55.04197454]),\n",
       " array([66.8201217]),\n",
       " array([107.77707851]),\n",
       " array([48.51469226]),\n",
       " array([51.32230391]),\n",
       " array([145.33183144]),\n",
       " array([55.18868496]),\n",
       " array([51.73548848]),\n",
       " array([73.37485888]),\n",
       " array([51.40899033]),\n",
       " array([36.92020065]),\n",
       " array([109.85794594]),\n",
       " array([108.10226904]),\n",
       " array([24.44565392]),\n",
       " array([65.72319894]),\n",
       " array([36.04664442]),\n",
       " array([89.32687987]),\n",
       " array([54.72967314]),\n",
       " array([52.07223727]),\n",
       " array([143.10846876]),\n",
       " array([46.35824259]),\n",
       " array([110.97233436]),\n",
       " array([103.70677075]),\n",
       " array([119.46111479]),\n",
       " array([37.3562554]),\n",
       " array([48.50275063]),\n",
       " array([109.07336948]),\n",
       " array([66.66497292]),\n",
       " array([54.10198025]),\n",
       " array([71.233887]),\n",
       " array([65.56238009]),\n",
       " array([40.41636998]),\n",
       " array([36.8013054]),\n",
       " array([74.95772319]),\n",
       " array([47.5367175]),\n",
       " array([80.8486896]),\n",
       " array([46.42323925]),\n",
       " array([44.02778053]),\n",
       " array([68.56947761]),\n",
       " array([98.9037514]),\n",
       " array([117.55431079]),\n",
       " array([58.93828785]),\n",
       " array([89.43011517]),\n",
       " array([66.09046222]),\n",
       " array([94.87064906]),\n",
       " array([44.09173632]),\n",
       " array([44.05385415]),\n",
       " array([54.72967314]),\n",
       " array([51.32230391]),\n",
       " array([53.60006076]),\n",
       " array([65.81524164]),\n",
       " array([48.12690705]),\n",
       " array([76.61106524]),\n",
       " array([75.18203755]),\n",
       " array([88.68102988]),\n",
       " array([65.81524164]),\n",
       " array([134.50007649]),\n",
       " array([65.84119291]),\n",
       " array([54.72967314]),\n",
       " array([27.21001897]),\n",
       " array([98.95610707]),\n",
       " array([71.96655939]),\n",
       " array([66.80495422]),\n",
       " array([94.92186026]),\n",
       " array([38.09500021]),\n",
       " array([48.50275063]),\n",
       " array([48.10680047]),\n",
       " array([48.01360554]),\n",
       " array([68.80036364]),\n",
       " array([126.8547802]),\n",
       " array([71.233887]),\n",
       " array([80.97500773]),\n",
       " array([67.45701189]),\n",
       " array([66.56171333]),\n",
       " array([70.22500905]),\n",
       " array([142.34935087]),\n",
       " array([34.22400798]),\n",
       " array([142.77463173]),\n",
       " array([48.58201269]),\n",
       " array([66.56171333]),\n",
       " array([47.95397213]),\n",
       " array([89.99128462]),\n",
       " array([43.54180843]),\n",
       " array([66.74212583]),\n",
       " array([106.18265843]),\n",
       " array([68.70762489]),\n",
       " array([51.41226046]),\n",
       " array([81.12972143]),\n",
       " array([147.39206112]),\n",
       " array([80.97500773]),\n",
       " array([68.54642572]),\n",
       " array([53.45310134]),\n",
       " array([26.94256718]),\n",
       " array([68.54642572]),\n",
       " array([142.88410815]),\n",
       " array([66.58626709]),\n",
       " array([48.52902917]),\n",
       " array([89.43011517]),\n",
       " array([47.70756011]),\n",
       " array([82.04909475]),\n",
       " array([119.28951071]),\n",
       " array([89.16362189]),\n",
       " array([41.42971745]),\n",
       " array([81.35345539]),\n",
       " array([47.29030548]),\n",
       " array([75.29192386]),\n",
       " array([48.50275063]),\n",
       " array([66.23489924]),\n",
       " array([66.00530856]),\n",
       " array([86.81560754]),\n",
       " array([48.10680047]),\n",
       " array([55.01913894]),\n",
       " array([112.99520474]),\n",
       " array([42.21432026]),\n",
       " array([91.87901844]),\n",
       " array([106.07416528]),\n",
       " array([47.47977703]),\n",
       " array([65.40275704]),\n",
       " array([52.01915622]),\n",
       " array([47.3489803]),\n",
       " array([66.38904795]),\n",
       " array([106.47152461]),\n",
       " array([130.56808856]),\n",
       " array([68.234774]),\n",
       " array([48.50275063]),\n",
       " array([120.20199108]),\n",
       " array([115.09808743]),\n",
       " array([65.81524164]),\n",
       " array([68.64767917]),\n",
       " array([81.717713]),\n",
       " array([48.50275063]),\n",
       " array([81.51077237]),\n",
       " array([15.19360661]),\n",
       " array([54.65319155]),\n",
       " array([67.81520644]),\n",
       " array([80.70440501]),\n",
       " array([87.71150505]),\n",
       " array([23.16712225]),\n",
       " array([51.28737673]),\n",
       " array([38.96749503]),\n",
       " array([65.81524164]),\n",
       " array([155.09079711]),\n",
       " array([134.01722268]),\n",
       " array([106.30671079]),\n",
       " array([48.50275063]),\n",
       " array([74.95772319]),\n",
       " array([48.06292601]),\n",
       " array([69.37174897]),\n",
       " array([66.38904795]),\n",
       " array([140.76847614]),\n",
       " array([89.63936675]),\n",
       " array([66.38904795]),\n",
       " array([73.92163121]),\n",
       " array([55.07313843]),\n",
       " array([106.66843741]),\n",
       " array([67.78106557]),\n",
       " array([47.86429406]),\n",
       " array([69.48102544]),\n",
       " array([70.72159225]),\n",
       " array([65.81524164]),\n",
       " array([48.50275063]),\n",
       " array([65.82147174]),\n",
       " array([66.46591232]),\n",
       " array([120.17369295]),\n",
       " array([75.29192386]),\n",
       " array([65.92871011]),\n",
       " array([87.39172228]),\n",
       " array([105.8254663]),\n",
       " array([79.86130513]),\n",
       " array([94.67055727]),\n",
       " array([70.88479346]),\n",
       " array([36.08845824]),\n",
       " array([68.62450016]),\n",
       " array([108.22517223]),\n",
       " array([108.22517223]),\n",
       " array([85.20110065]),\n",
       " array([110.62173639]),\n",
       " array([48.25622884]),\n",
       " array([48.8057611]),\n",
       " array([94.87064906]),\n",
       " array([125.31796693]),\n",
       " array([41.55132457]),\n",
       " array([54.72967314]),\n",
       " array([54.86256879]),\n",
       " array([51.49894689]),\n",
       " array([51.29934273]),\n",
       " array([70.48005653]),\n",
       " array([87.71150505]),\n",
       " array([48.73246315]),\n",
       " array([119.65359189]),\n",
       " array([48.73246315]),\n",
       " array([32.362577]),\n",
       " array([93.32256639]),\n",
       " array([69.55706858]),\n",
       " array([69.27511509]),\n",
       " array([47.06038013]),\n",
       " array([88.04286613]),\n",
       " array([143.20958027]),\n",
       " array([40.37386393]),\n",
       " array([48.73246315]),\n",
       " array([68.49343447]),\n",
       " array([48.06075586]),\n",
       " array([69.44779211]),\n",
       " array([124.1700177]),\n",
       " array([48.12690705]),\n",
       " array([51.38929928]),\n",
       " array([147.47502721]),\n",
       " array([81.78741887]),\n",
       " array([69.81470899]),\n",
       " array([54.89971056]),\n",
       " array([48.18756999]),\n",
       " array([88.29860155]),\n",
       " array([82.18100051]),\n",
       " array([118.1351148]),\n",
       " array([40.31504189]),\n",
       " array([127.96677298]),\n",
       " array([47.21036667]),\n",
       " array([118.9439597]),\n",
       " array([41.84354281]),\n",
       " array([48.06075586]),\n",
       " array([94.83354393]),\n",
       " array([125.97900539]),\n",
       " array([65.84119291]),\n",
       " array([108.46380099]),\n",
       " array([65.46901281]),\n",
       " array([41.55747182]),\n",
       " array([70.03206644]),\n",
       " array([81.31847488]),\n",
       " array([46.35824259]),\n",
       " array([68.54642572]),\n",
       " array([66.38904795]),\n",
       " array([66.37436793]),\n",
       " array([48.73246315]),\n",
       " array([48.06275689]),\n",
       " array([48.12690705]),\n",
       " array([48.18756999]),\n",
       " array([47.83155108]),\n",
       " array([82.20340424]),\n",
       " array([48.12690705]),\n",
       " array([76.47923707]),\n",
       " array([79.86130513]),\n",
       " array([47.70756011]),\n",
       " array([110.62173639]),\n",
       " array([97.60148172]),\n",
       " array([114.53023786]),\n",
       " array([48.12690705]),\n",
       " array([68.54642572]),\n",
       " array([68.69911019]),\n",
       " array([117.87942224]),\n",
       " array([51.32230391]),\n",
       " array([24.48558608]),\n",
       " array([94.7322466]),\n",
       " array([97.39364948]),\n",
       " array([118.56194288]),\n",
       " array([76.56211025]),\n",
       " array([99.11421315]),\n",
       " array([75.23457642]),\n",
       " array([80.43823091]),\n",
       " array([53.60006076]),\n",
       " array([44.02778053]),\n",
       " array([69.37174897]),\n",
       " array([55.04197454]),\n",
       " array([51.49894689]),\n",
       " array([75.29192386]),\n",
       " array([53.51661044]),\n",
       " array([66.38904795]),\n",
       " array([124.84424958]),\n",
       " array([77.92958295]),\n",
       " array([66.56171333]),\n",
       " array([66.38904795]),\n",
       " array([52.13327366]),\n",
       " array([95.75017492]),\n",
       " array([48.10680047]),\n",
       " array([61.08257787]),\n",
       " array([55.18868496]),\n",
       " array([48.12690705]),\n",
       " array([89.43011517]),\n",
       " array([66.56171333]),\n",
       " array([65.98211546]),\n",
       " array([65.81524164]),\n",
       " array([71.96655939]),\n",
       " array([118.96984068]),\n",
       " array([78.10190679]),\n",
       " array([68.234774]),\n",
       " array([65.82147174]),\n",
       " array([106.18265843]),\n",
       " array([70.04985206]),\n",
       " array([51.32230391]),\n",
       " array([82.26614761]),\n",
       " array([92.59551087]),\n",
       " array([75.43073417]),\n",
       " array([36.31014524]),\n",
       " array([108.10775102]),\n",
       " array([47.70756011]),\n",
       " array([51.41226046]),\n",
       " array([71.25776899]),\n",
       " array([70.22500905]),\n",
       " array([24.44565392]),\n",
       " array([48.50275063]),\n",
       " array([23.94350988]),\n",
       " array([65.84119291]),\n",
       " array([48.50275063]),\n",
       " array([47.17620011]),\n",
       " array([75.29192386]),\n",
       " array([55.01913894]),\n",
       " array([48.52902917]),\n",
       " array([66.09046222]),\n",
       " array([109.46629165]),\n",
       " array([119.65359189]),\n",
       " array([23.71635316]),\n",
       " array([107.73802759]),\n",
       " array([67.78106557]),\n",
       " array([109.57514962]),\n",
       " array([76.45146022]),\n",
       " array([66.38904795]),\n",
       " array([54.72967314]),\n",
       " array([48.10680047]),\n",
       " array([47.29030548]),\n",
       " array([94.06597535]),\n",
       " array([88.83955922]),\n",
       " array([113.18712194]),\n",
       " array([66.05989839]),\n",
       " array([54.50249396]),\n",
       " array([41.51904371]),\n",
       " array([105.81894398]),\n",
       " array([51.41226046]),\n",
       " array([82.09177548]),\n",
       " array([48.52902917]),\n",
       " array([66.61441145]),\n",
       " array([98.30273422]),\n",
       " array([64.41055916]),\n",
       " array([120.17369295]),\n",
       " array([66.38904795]),\n",
       " array([124.84424958]),\n",
       " array([55.27353926]),\n",
       " array([48.60543204]),\n",
       " array([115.26265051]),\n",
       " array([39.04410764]),\n",
       " array([55.14386905]),\n",
       " array([38.75582282]),\n",
       " array([80.43823091]),\n",
       " array([108.6006615]),\n",
       " array([51.44625909]),\n",
       " array([74.35322929]),\n",
       " array([48.10680047]),\n",
       " array([48.50275063]),\n",
       " array([66.38904795]),\n",
       " array([114.83906514]),\n",
       " array([48.50275063]),\n",
       " array([51.32230391]),\n",
       " array([48.72523867]),\n",
       " array([89.28855713]),\n",
       " array([51.41226046]),\n",
       " array([48.73246315]),\n",
       " array([119.74642766]),\n",
       " array([56.37601647]),\n",
       " array([54.72967314]),\n",
       " array([65.81524164]),\n",
       " array([74.58203284]),\n",
       " array([68.80036364]),\n",
       " array([94.30907797]),\n",
       " array([38.09500021]),\n",
       " array([77.54257647]),\n",
       " array([65.81524164]),\n",
       " array([68.69502053]),\n",
       " array([99.10658019]),\n",
       " array([108.87005741]),\n",
       " array([75.57483863]),\n",
       " array([106.4164037]),\n",
       " array([35.88289059]),\n",
       " array([113.54581858]),\n",
       " array([94.44857722]),\n",
       " array([69.81470899]),\n",
       " array([75.04672033]),\n",
       " array([54.72967314]),\n",
       " array([50.9219187]),\n",
       " array([89.47313881]),\n",
       " array([47.29030548]),\n",
       " array([141.84374074]),\n",
       " array([62.49608497]),\n",
       " array([44.02778053]),\n",
       " array([48.74838037]),\n",
       " array([51.32230391]),\n",
       " array([54.86256879]),\n",
       " array([110.97233436]),\n",
       " array([107.73802759]),\n",
       " array([48.50275063]),\n",
       " array([76.52468911]),\n",
       " array([47.2992709]),\n",
       " array([53.53957162]),\n",
       " array([128.065693]),\n",
       " array([68.49343447]),\n",
       " array([66.56171333]),\n",
       " array([66.56171333]),\n",
       " array([47.22969912]),\n",
       " array([148.2857659]),\n",
       " array([82.18100051]),\n",
       " array([110.62173639]),\n",
       " array([65.84119291]),\n",
       " array([53.53957162]),\n",
       " array([108.15186645]),\n",
       " array([77.7847245]),\n",
       " array([64.59698112]),\n",
       " array([54.72967314]),\n",
       " array([53.51661044]),\n",
       " array([48.60543204]),\n",
       " array([48.18756999]),\n",
       " array([47.29030548]),\n",
       " array([46.35824259]),\n",
       " array([48.49132484]),\n",
       " array([42.4301413]),\n",
       " array([81.69563327]),\n",
       " array([66.8440037]),\n",
       " array([80.84668238]),\n",
       " array([23.19216401]),\n",
       " array([48.50275063]),\n",
       " array([51.49894689]),\n",
       " array([48.10680047]),\n",
       " array([41.84354281]),\n",
       " array([58.97281034]),\n",
       " array([124.84424958]),\n",
       " array([38.94139499]),\n",
       " array([65.81524164]),\n",
       " array([74.42048135]),\n",
       " array([143.16968552]),\n",
       " array([121.28076924]),\n",
       " array([83.40571401]),\n",
       " array([52.04807454]),\n",
       " array([92.44881595]),\n",
       " array([75.29192386]),\n",
       " array([89.43011517]),\n",
       " array([54.72967314]),\n",
       " array([54.72967314]),\n",
       " array([66.56171333]),\n",
       " array([47.32887372]),\n",
       " array([142.75024295]),\n",
       " array([119.43096794]),\n",
       " array([65.7555744]),\n",
       " array([48.64267564]),\n",
       " array([65.81524164]),\n",
       " array([52.04807454]),\n",
       " array([67.9528427]),\n",
       " array([75.29192386]),\n",
       " array([66.46591232]),\n",
       " array([53.53957162]),\n",
       " array([108.14131997]),\n",
       " array([66.83692548]),\n",
       " array([89.43011517]),\n",
       " array([81.82786127]),\n",
       " array([69.48102544]),\n",
       " array([93.20317219]),\n",
       " array([71.96655939]),\n",
       " array([51.32230391]),\n",
       " array([75.23457642]),\n",
       " array([68.71261839]),\n",
       " array([104.01749768]),\n",
       " array([47.29030548]),\n",
       " array([24.48558608]),\n",
       " array([37.17439018]),\n",
       " array([117.20012269]),\n",
       " array([48.75874169]),\n",
       " array([36.55311506]),\n",
       " array([48.73246315]),\n",
       " array([144.99747617]),\n",
       " array([51.46675398]),\n",
       " array([81.31847488]),\n",
       " array([80.85145454]),\n",
       " array([54.80040377]),\n",
       " array([136.33130324]),\n",
       " array([75.57483863]),\n",
       " array([90.3846955]),\n",
       " array([66.8201217]),\n",
       " array([65.81524164]),\n",
       " array([66.56171333]),\n",
       " array([77.9372532]),\n",
       " array([47.5367175]),\n",
       " array([26.03909614]),\n",
       " array([38.23686732]),\n",
       " array([101.14843434]),\n",
       " array([48.12690705]),\n",
       " array([48.12690705]),\n",
       " array([112.30637349]),\n",
       " array([55.25941558]),\n",
       " array([47.47977703]),\n",
       " array([68.54936174]),\n",
       " array([107.64342798]),\n",
       " array([94.59849993]),\n",
       " array([26.02086871]),\n",
       " array([52.38568402]),\n",
       " array([68.54642572]),\n",
       " array([66.7371934]),\n",
       " array([94.30907797]),\n",
       " array([65.40275704]),\n",
       " array([68.69911019]),\n",
       " array([40.41636998]),\n",
       " array([45.72708986]),\n",
       " array([64.55680123]),\n",
       " array([139.94648051]),\n",
       " array([42.21432026]),\n",
       " array([53.33994527]),\n",
       " array([46.35824259]),\n",
       " array([66.38904795]),\n",
       " array([48.50275063]),\n",
       " array([53.60006076]),\n",
       " array([48.50275063]),\n",
       " array([149.29212302]),\n",
       " array([107.97320079]),\n",
       " array([125.23266855]),\n",
       " array([75.29192386]),\n",
       " array([68.73440895]),\n",
       " array([38.0094449]),\n",
       " array([81.78741887]),\n",
       " array([106.68566303]),\n",
       " array([67.9627863]),\n",
       " array([50.20735399]),\n",
       " array([66.38904795]),\n",
       " array([67.9528427]),\n",
       " array([48.52902917]),\n",
       " array([145.49149229]),\n",
       " array([48.10680047]),\n",
       " array([26.08145342]),\n",
       " array([41.84354281]),\n",
       " array([109.82046421]),\n",
       " array([68.69606444]),\n",
       " array([65.81524164]),\n",
       " array([41.65973656]),\n",
       " array([38.77596813]),\n",
       " array([61.31706377]),\n",
       " array([56.37601647]),\n",
       " array([81.78741887]),\n",
       " array([54.80040377]),\n",
       " array([53.53957162]),\n",
       " array([92.8293076]),\n",
       " array([65.59290158]),\n",
       " array([65.84119291]),\n",
       " array([51.99697686]),\n",
       " array([68.71261839]),\n",
       " array([92.92686146]),\n",
       " array([66.38904795]),\n",
       " array([66.39190936]),\n",
       " array([106.4509198]),\n",
       " array([53.53957162]),\n",
       " array([65.84119291]),\n",
       " array([46.35824259]),\n",
       " array([106.82714947]),\n",
       " array([53.40043441]),\n",
       " array([130.8346985]),\n",
       " array([70.22500905]),\n",
       " array([68.234774]),\n",
       " array([64.48989576]),\n",
       " array([144.48600995]),\n",
       " array([75.29192386]),\n",
       " array([40.41636998]),\n",
       " array([91.32518587]),\n",
       " array([52.04807454]),\n",
       " array([48.12690705]),\n",
       " array([119.53969533]),\n",
       " array([65.40275704]),\n",
       " array([70.55172623]),\n",
       " array([53.60006076]),\n",
       " array([106.00111956]),\n",
       " array([81.69563327]),\n",
       " array([118.85399623]),\n",
       " array([94.81078772]),\n",
       " array([48.50275063]),\n",
       " array([43.86988048]),\n",
       " array([129.3525024]),\n",
       " array([65.98211546]),\n",
       " array([107.96435319]),\n",
       " array([65.98211546]),\n",
       " array([87.13620369]),\n",
       " array([48.25622884]),\n",
       " array([81.78741887]),\n",
       " array([51.42329791]),\n",
       " array([47.70756011]),\n",
       " array([88.83955922]),\n",
       " array([77.41195123]),\n",
       " array([47.83155108]),\n",
       " array([146.6567129]),\n",
       " array([47.20391537]),\n",
       " array([41.47278366]),\n",
       " array([48.75874169]),\n",
       " array([82.04954115]),\n",
       " array([65.54370552]),\n",
       " array([122.26027432]),\n",
       " array([77.35790293]),\n",
       " array([91.32518587]),\n",
       " array([91.27289277]),\n",
       " array([79.53514301]),\n",
       " array([54.72967314]),\n",
       " array([48.87931186]),\n",
       " array([76.39647548]),\n",
       " array([109.46739715]),\n",
       " array([48.89816705]),\n",
       " array([54.72967314]),\n",
       " array([66.83692548]),\n",
       " array([124.84424958]),\n",
       " array([89.28855713]),\n",
       " array([65.97612234]),\n",
       " array([65.88860514]),\n",
       " array([66.56171333]),\n",
       " array([105.76988892]),\n",
       " array([48.12690705]),\n",
       " array([55.07313843]),\n",
       " array([65.7555744]),\n",
       " array([48.50275063]),\n",
       " array([68.5232467]),\n",
       " array([144.11730172]),\n",
       " array([41.55132457]),\n",
       " array([25.79810173]),\n",
       " array([54.72967314]),\n",
       " array([37.17439018]),\n",
       " array([51.40899033]),\n",
       " array([54.72967314]),\n",
       " array([40.41636998]),\n",
       " array([95.46017418]),\n",
       " array([144.84929194]),\n",
       " array([74.99534578]),\n",
       " array([69.37174897]),\n",
       " array([136.55154675]),\n",
       " array([55.07313843]),\n",
       " array([107.96435319]),\n",
       " array([54.72967314]),\n",
       " array([71.233887]),\n",
       " array([145.07458929]),\n",
       " array([48.50275063]),\n",
       " array([51.32230391]),\n",
       " array([42.52246722]),\n",
       " array([36.84524415]),\n",
       " array([48.50275063]),\n",
       " array([119.84702091]),\n",
       " array([38.77546802]),\n",
       " array([108.99885492]),\n",
       " array([65.81524164]),\n",
       " array([41.51904371]),\n",
       " array([55.18868496]),\n",
       " array([108.02949338]),\n",
       " array([51.40899033]),\n",
       " array([94.69029929]),\n",
       " array([111.3220595]),\n",
       " array([121.23798346]),\n",
       " array([37.21832892]),\n",
       " array([55.07313843]),\n",
       " array([23.51838456]),\n",
       " array([79.86130513]),\n",
       " array([89.21606068]),\n",
       " array([74.90609403]),\n",
       " array([130.35367633]),\n",
       " array([130.33626817]),\n",
       " array([82.0825167]),\n",
       " array([55.18868496]),\n",
       " array([71.233887]),\n",
       " array([68.49343447]),\n",
       " array([67.78106557]),\n",
       " array([65.81524164]),\n",
       " array([47.14031894]),\n",
       " array([55.07313843]),\n",
       " array([108.02949338]),\n",
       " array([81.91340996]),\n",
       " array([48.52902917]),\n",
       " array([51.43007153]),\n",
       " array([47.21036667]),\n",
       " array([95.27660674]),\n",
       " array([55.18868496]),\n",
       " array([85.84045009]),\n",
       " array([68.66430328]),\n",
       " array([107.23073731]),\n",
       " array([123.8311156]),\n",
       " array([120.24244674]),\n",
       " array([65.81524164]),\n",
       " array([53.60006076]),\n",
       " array([54.72967314]),\n",
       " array([48.06275689]),\n",
       " array([36.09727301]),\n",
       " array([82.20340424]),\n",
       " array([89.43391867]),\n",
       " array([66.71222961]),\n",
       " array([106.58183741]),\n",
       " array([48.50275063]),\n",
       " array([47.87476985]),\n",
       " array([129.90482268]),\n",
       " array([106.05689922]),\n",
       " array([105.24700467]),\n",
       " array([67.77112197]),\n",
       " array([24.48558608]),\n",
       " array([76.70965108]),\n",
       " array([51.41226046]),\n",
       " array([70.37720754]),\n",
       " array([29.12229675]),\n",
       " array([48.58201269]),\n",
       " array([48.10680047]),\n",
       " array([53.51661044]),\n",
       " array([55.18868496]),\n",
       " array([70.46547655]),\n",
       " array([74.95772319]),\n",
       " array([68.21138568]),\n",
       " array([48.84160753]),\n",
       " array([66.36308103]),\n",
       " array([124.84424958]),\n",
       " array([105.87346149]),\n",
       " array([46.35824259]),\n",
       " array([65.46442711]),\n",
       " array([51.44625909]),\n",
       " array([94.7322466]),\n",
       " array([139.23171709]),\n",
       " array([53.62929222]),\n",
       " array([121.9306969]),\n",
       " array([118.18340099]),\n",
       " array([88.71831401]),\n",
       " array([48.50275063]),\n",
       " array([55.18868496]),\n",
       " array([66.38904795]),\n",
       " array([48.10680047]),\n",
       " array([42.14453164]),\n",
       " array([55.04197454]),\n",
       " array([65.81524164]),\n",
       " array([74.99534578]),\n",
       " array([74.99534578]),\n",
       " array([66.80495422]),\n",
       " array([53.40043441]),\n",
       " array([71.233887]),\n",
       " array([94.65196518]),\n",
       " array([142.36982955]),\n",
       " array([106.324621]),\n",
       " array([67.77112197]),\n",
       " array([52.13327366]),\n",
       " array([77.89015719]),\n",
       " array([69.37174897]),\n",
       " array([36.31014524]),\n",
       " array([51.99697686]),\n",
       " array([70.22500905]),\n",
       " array([31.39038713]),\n",
       " array([67.77112197]),\n",
       " array([44.09859985]),\n",
       " array([68.71261839]),\n",
       " array([48.52902917]),\n",
       " array([55.25941558]),\n",
       " array([48.8057611]),\n",
       " array([75.29192386]),\n",
       " array([47.45053158]),\n",
       " array([118.95929362]),\n",
       " array([48.12690705]),\n",
       " array([88.29265466]),\n",
       " array([47.74196036]),\n",
       " array([120.10402133]),\n",
       " array([47.74440376]),\n",
       " array([38.94139499]),\n",
       " array([140.88202943]),\n",
       " array([152.91030531]),\n",
       " array([55.18868496]),\n",
       " array([144.26572436]),\n",
       " array([47.21036667]),\n",
       " array([65.81524164]),\n",
       " array([107.78420837]),\n",
       " array([55.04197454]),\n",
       " array([41.21302444]),\n",
       " array([107.03397518]),\n",
       " array([50.26651354]),\n",
       " array([48.56190611]),\n",
       " array([123.88509722]),\n",
       " array([89.08604513]),\n",
       " array([138.42821576]),\n",
       " array([81.61321438]),\n",
       " array([53.62929222]),\n",
       " array([42.14453164]),\n",
       " array([48.52902917]),\n",
       " array([48.12690705]),\n",
       " array([119.65359189]),\n",
       " array([51.99703191]),\n",
       " array([133.51534288]),\n",
       " array([108.7163094]),\n",
       " array([14.28641801]),\n",
       " array([51.33521783]),\n",
       " array([69.55706858]),\n",
       " array([48.12690705]),\n",
       " array([130.13619035]),\n",
       " array([82.0682582]),\n",
       " array([92.03205844]),\n",
       " array([87.71150505]),\n",
       " array([82.26956662]),\n",
       " array([77.89015719]),\n",
       " array([91.32518587]),\n",
       " array([91.09645017]),\n",
       " array([70.15929407]),\n",
       " array([101.30747031]),\n",
       " array([36.64208933]),\n",
       " array([65.9595533]),\n",
       " array([79.33890105]),\n",
       " array([71.25776899]),\n",
       " array([68.69606444]),\n",
       " array([47.18208848]),\n",
       " array([73.83085722]),\n",
       " array([48.73246315]),\n",
       " array([48.12690705]),\n",
       " array([81.35345539]),\n",
       " array([26.30025798]),\n",
       " array([75.23457642]),\n",
       " array([51.41226046]),\n",
       " array([55.13069264]),\n",
       " array([51.41226046]),\n",
       " array([51.53602209]),\n",
       " array([71.96655939]),\n",
       " array([47.29030548]),\n",
       " array([67.78106557]),\n",
       " array([48.52902917]),\n",
       " array([113.25181868]),\n",
       " array([55.15799273]),\n",
       " array([65.81524164]),\n",
       " array([86.71783294]),\n",
       " array([118.8438366]),\n",
       " array([48.06075586]),\n",
       " array([54.77670792]),\n",
       " array([36.16572924]),\n",
       " array([75.39882192]),\n",
       " array([36.84524415]),\n",
       " array([76.52714309]),\n",
       " array([66.38904795]),\n",
       " array([70.22500905]),\n",
       " array([66.48114021]),\n",
       " array([135.14966828]),\n",
       " array([36.92020065]),\n",
       " array([109.38776806]),\n",
       " array([76.63230304]),\n",
       " array([48.18756999]),\n",
       " array([89.69082387]),\n",
       " array([89.32687987]),\n",
       " array([65.04964747]),\n",
       " array([81.47148004]),\n",
       " array([125.0087233]),\n",
       " array([48.58201269]),\n",
       " array([77.31792733]),\n",
       " array([65.98211546]),\n",
       " array([66.48114021]),\n",
       " array([143.18380175]),\n",
       " array([51.99697686]),\n",
       " array([53.91710893]),\n",
       " array([14.28641801]),\n",
       " array([75.04252101]),\n",
       " array([28.4539885]),\n",
       " array([55.25941558]),\n",
       " array([51.32230391]),\n",
       " array([113.76315548]),\n",
       " array([79.56927163]),\n",
       " array([81.35345539]),\n",
       " array([80.79770001]),\n",
       " array([47.61511471]),\n",
       " array([65.81524164]),\n",
       " array([38.0094449]),\n",
       " array([56.37601647]),\n",
       " array([67.77112197]),\n",
       " array([76.52714309]),\n",
       " array([65.40275704]),\n",
       " array([69.37174897]),\n",
       " array([66.00806673]),\n",
       " array([66.80495422]),\n",
       " array([106.18265843]),\n",
       " array([89.43011517]),\n",
       " array([88.97140091]),\n",
       " array([86.81560754]),\n",
       " array([136.66697981]),\n",
       " array([48.52902917]),\n",
       " array([68.71261839]),\n",
       " array([53.60006076]),\n",
       " array([102.72890881]),\n",
       " array([86.81560754]),\n",
       " array([51.32230391]),\n",
       " array([65.82147174]),\n",
       " array([48.44749987]),\n",
       " array([94.96472745]),\n",
       " array([77.95641642]),\n",
       " array([65.81524164]),\n",
       " array([67.78106557]),\n",
       " array([100.86267641]),\n",
       " array([52.13327366]),\n",
       " array([47.22969912]),\n",
       " array([67.81520644]),\n",
       " array([53.85661979]),\n",
       " array([75.57483863]),\n",
       " array([66.38904795]),\n",
       " array([145.38109432]),\n",
       " array([54.77670792]),\n",
       " array([70.48005653]),\n",
       " array([142.34935087]),\n",
       " array([87.51216382]),\n",
       " array([67.81520644]),\n",
       " array([88.83955922]),\n",
       " array([79.53514301]),\n",
       " array([24.39696581]),\n",
       " array([75.04672033]),\n",
       " array([93.20317219]),\n",
       " array([42.4301413]),\n",
       " array([124.84424958]),\n",
       " array([66.56171333]),\n",
       " array([67.5182575]),\n",
       " array([47.21036667]),\n",
       " array([87.71150505]),\n",
       " array([71.96655939]),\n",
       " array([67.77386372]),\n",
       " array([67.45701189]),\n",
       " array([112.2148471]),\n",
       " array([70.03206644]),\n",
       " array([41.2784715]),\n",
       " array([65.82147174]),\n",
       " array([86.81560754]),\n",
       " array([48.73246315]),\n",
       " array([65.81524164]),\n",
       " array([134.01722268]),\n",
       " array([41.42971745]),\n",
       " array([92.28325472]),\n",
       " array([65.46442711]),\n",
       " array([81.75765779]),\n",
       " array([65.81524164]),\n",
       " array([88.04286613]),\n",
       " array([50.26651354]),\n",
       " array([90.69515294]),\n",
       " array([94.92186026]),\n",
       " array([66.77824927]),\n",
       " array([105.76988892]),\n",
       " array([51.32230391]),\n",
       " array([87.71150505]),\n",
       " array([51.41226046]),\n",
       " array([48.50275063]),\n",
       " array([75.40649411]),\n",
       " array([54.89971056]),\n",
       " array([74.95772319]),\n",
       " array([56.31156419]),\n",
       " array([119.36606569]),\n",
       " array([66.48114021]),\n",
       " array([124.76213156]),\n",
       " array([93.20317219]),\n",
       " array([65.98211546]),\n",
       " array([88.06986054]),\n",
       " array([48.89816705]),\n",
       " array([118.79533151]),\n",
       " array([48.47734977]),\n",
       " array([119.66839715]),\n",
       " array([89.28855713]),\n",
       " array([39.46101885]),\n",
       " array([48.60543204]),\n",
       " array([154.125189]),\n",
       " array([48.18756999]),\n",
       " array([81.8090361]),\n",
       " array([75.29192386]),\n",
       " array([51.41226046]),\n",
       " array([116.95123561]),\n",
       " array([74.85724271]),\n",
       " array([120.0876463]),\n",
       " array([53.51661044]),\n",
       " array([48.52902917]),\n",
       " array([66.36308103]),\n",
       " array([54.72967314]),\n",
       " array([90.2980376]),\n",
       " array([69.51536344]),\n",
       " array([105.76902928]),\n",
       " array([36.92633415]),\n",
       " array([55.04197454]),\n",
       " array([68.71261839]),\n",
       " array([138.42821576]),\n",
       " array([91.31405065]),\n",
       " array([118.75547282]),\n",
       " array([48.10680047]),\n",
       " array([119.0795481]),\n",
       " array([87.71150505]),\n",
       " array([101.80283813]),\n",
       " array([68.69911019]),\n",
       " array([36.92633415]),\n",
       " array([38.0094449]),\n",
       " array([47.63863337]),\n",
       " array([55.47013811]),\n",
       " array([48.10680047]),\n",
       " array([68.64936607]),\n",
       " array([47.5367175]),\n",
       " array([69.48102544]),\n",
       " array([30.31213608]),\n",
       " array([48.12690705]),\n",
       " array([89.47313881]),\n",
       " array([65.95219654]),\n",
       " array([66.8201217]),\n",
       " array([65.81524164]),\n",
       " array([66.56171333]),\n",
       " array([82.69070003]),\n",
       " array([47.29030548]),\n",
       " array([119.78571961]),\n",
       " array([48.12690705]),\n",
       " array([65.86360274]),\n",
       " array([66.38658212]),\n",
       " array([66.38904795]),\n",
       " array([67.78106557]),\n",
       " array([81.35345539]),\n",
       " array([87.71150505]),\n",
       " array([83.07414259]),\n",
       " array([67.77386372]),\n",
       " array([66.25210978]),\n",
       " array([53.85661979]),\n",
       " array([55.04197454]),\n",
       " array([106.09595015]),\n",
       " ...]"
      ]
     },
     "execution_count": 382,
     "metadata": {},
     "output_type": "execute_result"
    }
   ],
   "source": [
    "predicted = []\n",
    "testtrain = np.array(train_new)\n",
    "for i in range(len(testtrain)):\n",
    "    predicted.append(rf.predict([testtrain[i]]))\n",
    "\n",
    "predicted"
   ]
  },
  {
   "cell_type": "code",
   "execution_count": 383,
   "id": "edfee17e",
   "metadata": {
    "colab": {
     "base_uri": "https://localhost:8080/",
     "height": 423
    },
    "id": "edfee17e",
    "outputId": "e61eb550-d723-4f21-a9b2-526ecd144e45"
   },
   "outputs": [
    {
     "data": {
      "text/html": [
       "\n",
       "  <div id=\"df-7745ab8b-96f5-48da-a01a-a54dd56def56\">\n",
       "    <div class=\"colab-df-container\">\n",
       "      <div>\n",
       "<style scoped>\n",
       "    .dataframe tbody tr th:only-of-type {\n",
       "        vertical-align: middle;\n",
       "    }\n",
       "\n",
       "    .dataframe tbody tr th {\n",
       "        vertical-align: top;\n",
       "    }\n",
       "\n",
       "    .dataframe thead th {\n",
       "        text-align: right;\n",
       "    }\n",
       "</style>\n",
       "<table border=\"1\" class=\"dataframe\">\n",
       "  <thead>\n",
       "    <tr style=\"text-align: right;\">\n",
       "      <th></th>\n",
       "      <th>location</th>\n",
       "      <th>size</th>\n",
       "      <th>total_sqft</th>\n",
       "      <th>price</th>\n",
       "      <th>Predicted Price</th>\n",
       "    </tr>\n",
       "  </thead>\n",
       "  <tbody>\n",
       "    <tr>\n",
       "      <th>0</th>\n",
       "      <td>Electronic City Phase II</td>\n",
       "      <td>2</td>\n",
       "      <td>1056.0</td>\n",
       "      <td>39.07</td>\n",
       "      <td>47.857830</td>\n",
       "    </tr>\n",
       "    <tr>\n",
       "      <th>2</th>\n",
       "      <td>Uttarahalli</td>\n",
       "      <td>3</td>\n",
       "      <td>1440.0</td>\n",
       "      <td>62.00</td>\n",
       "      <td>68.490778</td>\n",
       "    </tr>\n",
       "    <tr>\n",
       "      <th>3</th>\n",
       "      <td>Lingadheeranahalli</td>\n",
       "      <td>3</td>\n",
       "      <td>1521.0</td>\n",
       "      <td>95.00</td>\n",
       "      <td>81.809036</td>\n",
       "    </tr>\n",
       "    <tr>\n",
       "      <th>4</th>\n",
       "      <td>Kothanur</td>\n",
       "      <td>2</td>\n",
       "      <td>1200.0</td>\n",
       "      <td>51.00</td>\n",
       "      <td>66.389048</td>\n",
       "    </tr>\n",
       "    <tr>\n",
       "      <th>5</th>\n",
       "      <td>Whitefield</td>\n",
       "      <td>2</td>\n",
       "      <td>1170.0</td>\n",
       "      <td>38.00</td>\n",
       "      <td>55.041975</td>\n",
       "    </tr>\n",
       "    <tr>\n",
       "      <th>...</th>\n",
       "      <td>...</td>\n",
       "      <td>...</td>\n",
       "      <td>...</td>\n",
       "      <td>...</td>\n",
       "      <td>...</td>\n",
       "    </tr>\n",
       "    <tr>\n",
       "      <th>13309</th>\n",
       "      <td>Yeshwanthpur</td>\n",
       "      <td>3</td>\n",
       "      <td>1675.0</td>\n",
       "      <td>92.13</td>\n",
       "      <td>98.230096</td>\n",
       "    </tr>\n",
       "    <tr>\n",
       "      <th>13310</th>\n",
       "      <td>Rachenahalli</td>\n",
       "      <td>2</td>\n",
       "      <td>1050.0</td>\n",
       "      <td>52.71</td>\n",
       "      <td>48.529029</td>\n",
       "    </tr>\n",
       "    <tr>\n",
       "      <th>13312</th>\n",
       "      <td>Bellandur</td>\n",
       "      <td>2</td>\n",
       "      <td>1262.0</td>\n",
       "      <td>47.00</td>\n",
       "      <td>66.739922</td>\n",
       "    </tr>\n",
       "    <tr>\n",
       "      <th>13314</th>\n",
       "      <td>Green Glen Layout</td>\n",
       "      <td>3</td>\n",
       "      <td>1715.0</td>\n",
       "      <td>112.00</td>\n",
       "      <td>106.416404</td>\n",
       "    </tr>\n",
       "    <tr>\n",
       "      <th>13317</th>\n",
       "      <td>Raja Rajeshwari Nagar</td>\n",
       "      <td>2</td>\n",
       "      <td>1141.0</td>\n",
       "      <td>60.00</td>\n",
       "      <td>53.400434</td>\n",
       "    </tr>\n",
       "  </tbody>\n",
       "</table>\n",
       "<p>10143 rows × 5 columns</p>\n",
       "</div>\n",
       "      <button class=\"colab-df-convert\" onclick=\"convertToInteractive('df-7745ab8b-96f5-48da-a01a-a54dd56def56')\"\n",
       "              title=\"Convert this dataframe to an interactive table.\"\n",
       "              style=\"display:none;\">\n",
       "        \n",
       "  <svg xmlns=\"http://www.w3.org/2000/svg\" height=\"24px\"viewBox=\"0 0 24 24\"\n",
       "       width=\"24px\">\n",
       "    <path d=\"M0 0h24v24H0V0z\" fill=\"none\"/>\n",
       "    <path d=\"M18.56 5.44l.94 2.06.94-2.06 2.06-.94-2.06-.94-.94-2.06-.94 2.06-2.06.94zm-11 1L8.5 8.5l.94-2.06 2.06-.94-2.06-.94L8.5 2.5l-.94 2.06-2.06.94zm10 10l.94 2.06.94-2.06 2.06-.94-2.06-.94-.94-2.06-.94 2.06-2.06.94z\"/><path d=\"M17.41 7.96l-1.37-1.37c-.4-.4-.92-.59-1.43-.59-.52 0-1.04.2-1.43.59L10.3 9.45l-7.72 7.72c-.78.78-.78 2.05 0 2.83L4 21.41c.39.39.9.59 1.41.59.51 0 1.02-.2 1.41-.59l7.78-7.78 2.81-2.81c.8-.78.8-2.07 0-2.86zM5.41 20L4 18.59l7.72-7.72 1.47 1.35L5.41 20z\"/>\n",
       "  </svg>\n",
       "      </button>\n",
       "      \n",
       "  <style>\n",
       "    .colab-df-container {\n",
       "      display:flex;\n",
       "      flex-wrap:wrap;\n",
       "      gap: 12px;\n",
       "    }\n",
       "\n",
       "    .colab-df-convert {\n",
       "      background-color: #E8F0FE;\n",
       "      border: none;\n",
       "      border-radius: 50%;\n",
       "      cursor: pointer;\n",
       "      display: none;\n",
       "      fill: #1967D2;\n",
       "      height: 32px;\n",
       "      padding: 0 0 0 0;\n",
       "      width: 32px;\n",
       "    }\n",
       "\n",
       "    .colab-df-convert:hover {\n",
       "      background-color: #E2EBFA;\n",
       "      box-shadow: 0px 1px 2px rgba(60, 64, 67, 0.3), 0px 1px 3px 1px rgba(60, 64, 67, 0.15);\n",
       "      fill: #174EA6;\n",
       "    }\n",
       "\n",
       "    [theme=dark] .colab-df-convert {\n",
       "      background-color: #3B4455;\n",
       "      fill: #D2E3FC;\n",
       "    }\n",
       "\n",
       "    [theme=dark] .colab-df-convert:hover {\n",
       "      background-color: #434B5C;\n",
       "      box-shadow: 0px 1px 3px 1px rgba(0, 0, 0, 0.15);\n",
       "      filter: drop-shadow(0px 1px 2px rgba(0, 0, 0, 0.3));\n",
       "      fill: #FFFFFF;\n",
       "    }\n",
       "  </style>\n",
       "\n",
       "      <script>\n",
       "        const buttonEl =\n",
       "          document.querySelector('#df-7745ab8b-96f5-48da-a01a-a54dd56def56 button.colab-df-convert');\n",
       "        buttonEl.style.display =\n",
       "          google.colab.kernel.accessAllowed ? 'block' : 'none';\n",
       "\n",
       "        async function convertToInteractive(key) {\n",
       "          const element = document.querySelector('#df-7745ab8b-96f5-48da-a01a-a54dd56def56');\n",
       "          const dataTable =\n",
       "            await google.colab.kernel.invokeFunction('convertToInteractive',\n",
       "                                                     [key], {});\n",
       "          if (!dataTable) return;\n",
       "\n",
       "          const docLinkHtml = 'Like what you see? Visit the ' +\n",
       "            '<a target=\"_blank\" href=https://colab.research.google.com/notebooks/data_table.ipynb>data table notebook</a>'\n",
       "            + ' to learn more about interactive tables.';\n",
       "          element.innerHTML = '';\n",
       "          dataTable['output_type'] = 'display_data';\n",
       "          await google.colab.output.renderOutput(dataTable, element);\n",
       "          const docLink = document.createElement('div');\n",
       "          docLink.innerHTML = docLinkHtml;\n",
       "          element.appendChild(docLink);\n",
       "        }\n",
       "      </script>\n",
       "    </div>\n",
       "  </div>\n",
       "  "
      ],
      "text/plain": [
       "                       location  size  total_sqft   price  Predicted Price\n",
       "0      Electronic City Phase II     2      1056.0   39.07        47.857830\n",
       "2                   Uttarahalli     3      1440.0   62.00        68.490778\n",
       "3            Lingadheeranahalli     3      1521.0   95.00        81.809036\n",
       "4                      Kothanur     2      1200.0   51.00        66.389048\n",
       "5                    Whitefield     2      1170.0   38.00        55.041975\n",
       "...                         ...   ...         ...     ...              ...\n",
       "13309              Yeshwanthpur     3      1675.0   92.13        98.230096\n",
       "13310              Rachenahalli     2      1050.0   52.71        48.529029\n",
       "13312                 Bellandur     2      1262.0   47.00        66.739922\n",
       "13314         Green Glen Layout     3      1715.0  112.00       106.416404\n",
       "13317     Raja Rajeshwari Nagar     2      1141.0   60.00        53.400434\n",
       "\n",
       "[10143 rows x 5 columns]"
      ]
     },
     "execution_count": 383,
     "metadata": {},
     "output_type": "execute_result"
    }
   ],
   "source": [
    "df['Predicted Price'] = np.array(predicted)\n",
    "df"
   ]
  },
  {
   "cell_type": "code",
   "execution_count": 384,
   "id": "fc3e5de2",
   "metadata": {
    "colab": {
     "base_uri": "https://localhost:8080/",
     "height": 469
    },
    "id": "fc3e5de2",
    "outputId": "e4307c05-ccec-44af-9fbf-efae61c37a07"
   },
   "outputs": [
    {
     "data": {
      "image/png": "[encoded data removed]",
      "text/plain": [
       "<Figure size 1800x700 with 1 Axes>"
      ]
     },
     "metadata": {},
     "output_type": "display_data"
    }
   ],
   "source": [
    "plt1 = plt.figure(figsize = (18,7))\n",
    "sn.distplot(df['price'],hist=False,color='orange',label='Actual')\n",
    "sn.distplot(df['Predicted Price'],hist=False,color='blue',label='Predicted')\n",
    "plt.legend()\n",
    "plt.show()"
   ]
  }
 ],
 "metadata": {
  "accelerator": "GPU",
  "colab": {
   "gpuType": "T4",
   "provenance": []
  },
  "kernelspec": {
   "display_name": "Python 3 (ipykernel)",
   "language": "python",
   "name": "python3"
  },
  "language_info": {
   "codemirror_mode": {
    "name": "ipython",
    "version": 3
   },
   "file_extension": ".py",
   "mimetype": "text/x-python",
   "name": "python",
   "nbconvert_exporter": "python",
   "pygments_lexer": "ipython3",
   "version": "3.9.12"
  }
 },
 "nbformat": 4,
 "nbformat_minor": 5
}
